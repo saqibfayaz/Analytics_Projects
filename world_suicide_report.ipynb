{
 "cells": [
  {
   "cell_type": "markdown",
   "id": "e73fe835-75f9-480f-b3dc-4eed48ad7de8",
   "metadata": {},
   "source": [
    "In my  **Suicide data analysis project**, i I showcased my skill set in data processing, cleaning, and advanced analysis techniques. "
   ]
  },
  {
   "cell_type": "code",
   "execution_count": 157,
   "id": "0146f39a-faa7-4a54-b8bf-6f5a735ef4f4",
   "metadata": {
    "tags": []
   },
   "outputs": [],
   "source": [
    "import pandas as pd\n",
    "import matplotlib.pyplot as plt\n",
    "import seaborn as sns\n",
    "import plotly.express as px"
   ]
  },
  {
   "cell_type": "code",
   "execution_count": 26,
   "id": "04be3d06-0357-4d84-9b35-31eeb8889197",
   "metadata": {
    "tags": []
   },
   "outputs": [],
   "source": [
    "suicide_df = pd.read_csv(\"/Users/saqib/Downloads/suicide-rate-by-country-2024.csv\")"
   ]
  },
  {
   "cell_type": "code",
   "execution_count": 28,
   "id": "c0740a42-be7c-4125-9e7b-84be91d1465a",
   "metadata": {
    "tags": []
   },
   "outputs": [
    {
     "data": {
      "text/html": [
       "<div>\n",
       "<style scoped>\n",
       "    .dataframe tbody tr th:only-of-type {\n",
       "        vertical-align: middle;\n",
       "    }\n",
       "\n",
       "    .dataframe tbody tr th {\n",
       "        vertical-align: top;\n",
       "    }\n",
       "\n",
       "    .dataframe thead th {\n",
       "        text-align: right;\n",
       "    }\n",
       "</style>\n",
       "<table border=\"1\" class=\"dataframe\">\n",
       "  <thead>\n",
       "    <tr style=\"text-align: right;\">\n",
       "      <th></th>\n",
       "      <th>country</th>\n",
       "      <th>SuicideRate_BothSexes_RatePer100k_2021</th>\n",
       "      <th>SuicideRate_Male_RatePer100k_2021</th>\n",
       "      <th>SuicideRate_Female_RatePer100k_2021</th>\n",
       "      <th>SuicideRate_BothSexes_RatePer100k_2020</th>\n",
       "      <th>SuicideRate_Male_RatePer100k_2020</th>\n",
       "      <th>SuicideRate_Female_RatePer100k_2020</th>\n",
       "      <th>SuicideRate_BothSexes_RatePer100k_2019</th>\n",
       "      <th>SuicideRate_Male_RatePer100k_2019</th>\n",
       "      <th>SuicideRate_Female_RatePer100k_2019</th>\n",
       "    </tr>\n",
       "  </thead>\n",
       "  <tbody>\n",
       "    <tr>\n",
       "      <th>0</th>\n",
       "      <td>India</td>\n",
       "      <td>13.33</td>\n",
       "      <td>15.70</td>\n",
       "      <td>10.85</td>\n",
       "      <td>13.28</td>\n",
       "      <td>15.70</td>\n",
       "      <td>10.73</td>\n",
       "      <td>12.7</td>\n",
       "      <td>14.1</td>\n",
       "      <td>11.1</td>\n",
       "    </tr>\n",
       "    <tr>\n",
       "      <th>1</th>\n",
       "      <td>China</td>\n",
       "      <td>9.17</td>\n",
       "      <td>10.64</td>\n",
       "      <td>7.63</td>\n",
       "      <td>9.04</td>\n",
       "      <td>10.52</td>\n",
       "      <td>7.50</td>\n",
       "      <td>8.1</td>\n",
       "      <td>9.8</td>\n",
       "      <td>6.2</td>\n",
       "    </tr>\n",
       "    <tr>\n",
       "      <th>2</th>\n",
       "      <td>United States</td>\n",
       "      <td>15.25</td>\n",
       "      <td>24.13</td>\n",
       "      <td>6.66</td>\n",
       "      <td>15.38</td>\n",
       "      <td>24.33</td>\n",
       "      <td>6.73</td>\n",
       "      <td>16.1</td>\n",
       "      <td>25.0</td>\n",
       "      <td>7.5</td>\n",
       "    </tr>\n",
       "    <tr>\n",
       "      <th>3</th>\n",
       "      <td>Indonesia</td>\n",
       "      <td>1.64</td>\n",
       "      <td>2.21</td>\n",
       "      <td>1.05</td>\n",
       "      <td>1.66</td>\n",
       "      <td>2.23</td>\n",
       "      <td>1.07</td>\n",
       "      <td>2.4</td>\n",
       "      <td>3.7</td>\n",
       "      <td>1.1</td>\n",
       "    </tr>\n",
       "    <tr>\n",
       "      <th>4</th>\n",
       "      <td>Pakistan</td>\n",
       "      <td>5.82</td>\n",
       "      <td>8.46</td>\n",
       "      <td>3.05</td>\n",
       "      <td>5.89</td>\n",
       "      <td>8.54</td>\n",
       "      <td>3.10</td>\n",
       "      <td>8.9</td>\n",
       "      <td>13.3</td>\n",
       "      <td>4.3</td>\n",
       "    </tr>\n",
       "  </tbody>\n",
       "</table>\n",
       "</div>"
      ],
      "text/plain": [
       "         country  SuicideRate_BothSexes_RatePer100k_2021  \\\n",
       "0          India                                   13.33   \n",
       "1          China                                    9.17   \n",
       "2  United States                                   15.25   \n",
       "3      Indonesia                                    1.64   \n",
       "4       Pakistan                                    5.82   \n",
       "\n",
       "   SuicideRate_Male_RatePer100k_2021  SuicideRate_Female_RatePer100k_2021  \\\n",
       "0                              15.70                                10.85   \n",
       "1                              10.64                                 7.63   \n",
       "2                              24.13                                 6.66   \n",
       "3                               2.21                                 1.05   \n",
       "4                               8.46                                 3.05   \n",
       "\n",
       "   SuicideRate_BothSexes_RatePer100k_2020  SuicideRate_Male_RatePer100k_2020  \\\n",
       "0                                   13.28                              15.70   \n",
       "1                                    9.04                              10.52   \n",
       "2                                   15.38                              24.33   \n",
       "3                                    1.66                               2.23   \n",
       "4                                    5.89                               8.54   \n",
       "\n",
       "   SuicideRate_Female_RatePer100k_2020  \\\n",
       "0                                10.73   \n",
       "1                                 7.50   \n",
       "2                                 6.73   \n",
       "3                                 1.07   \n",
       "4                                 3.10   \n",
       "\n",
       "   SuicideRate_BothSexes_RatePer100k_2019  SuicideRate_Male_RatePer100k_2019  \\\n",
       "0                                    12.7                               14.1   \n",
       "1                                     8.1                                9.8   \n",
       "2                                    16.1                               25.0   \n",
       "3                                     2.4                                3.7   \n",
       "4                                     8.9                               13.3   \n",
       "\n",
       "   SuicideRate_Female_RatePer100k_2019  \n",
       "0                                 11.1  \n",
       "1                                  6.2  \n",
       "2                                  7.5  \n",
       "3                                  1.1  \n",
       "4                                  4.3  "
      ]
     },
     "execution_count": 28,
     "metadata": {},
     "output_type": "execute_result"
    }
   ],
   "source": [
    "suicide_df.head()"
   ]
  },
  {
   "cell_type": "code",
   "execution_count": 30,
   "id": "9aaba0d8-b4d7-420d-b2e9-96fca693edcf",
   "metadata": {
    "tags": []
   },
   "outputs": [],
   "source": [
    "suicide_df[\"country\"] = suicide_df[\"country\"].str.lower()"
   ]
  },
  {
   "cell_type": "code",
   "execution_count": 32,
   "id": "6615c96c-fc9a-4470-8cf5-e6840750edb0",
   "metadata": {
    "tags": []
   },
   "outputs": [
    {
     "data": {
      "text/html": [
       "<div>\n",
       "<style scoped>\n",
       "    .dataframe tbody tr th:only-of-type {\n",
       "        vertical-align: middle;\n",
       "    }\n",
       "\n",
       "    .dataframe tbody tr th {\n",
       "        vertical-align: top;\n",
       "    }\n",
       "\n",
       "    .dataframe thead th {\n",
       "        text-align: right;\n",
       "    }\n",
       "</style>\n",
       "<table border=\"1\" class=\"dataframe\">\n",
       "  <thead>\n",
       "    <tr style=\"text-align: right;\">\n",
       "      <th></th>\n",
       "      <th>country</th>\n",
       "      <th>SuicideRate_BothSexes_RatePer100k_2021</th>\n",
       "      <th>SuicideRate_Male_RatePer100k_2021</th>\n",
       "      <th>SuicideRate_Female_RatePer100k_2021</th>\n",
       "      <th>SuicideRate_BothSexes_RatePer100k_2020</th>\n",
       "      <th>SuicideRate_Male_RatePer100k_2020</th>\n",
       "      <th>SuicideRate_Female_RatePer100k_2020</th>\n",
       "      <th>SuicideRate_BothSexes_RatePer100k_2019</th>\n",
       "      <th>SuicideRate_Male_RatePer100k_2019</th>\n",
       "      <th>SuicideRate_Female_RatePer100k_2019</th>\n",
       "    </tr>\n",
       "  </thead>\n",
       "  <tbody>\n",
       "    <tr>\n",
       "      <th>0</th>\n",
       "      <td>india</td>\n",
       "      <td>13.33</td>\n",
       "      <td>15.70</td>\n",
       "      <td>10.85</td>\n",
       "      <td>13.28</td>\n",
       "      <td>15.70</td>\n",
       "      <td>10.73</td>\n",
       "      <td>12.7</td>\n",
       "      <td>14.1</td>\n",
       "      <td>11.1</td>\n",
       "    </tr>\n",
       "    <tr>\n",
       "      <th>1</th>\n",
       "      <td>china</td>\n",
       "      <td>9.17</td>\n",
       "      <td>10.64</td>\n",
       "      <td>7.63</td>\n",
       "      <td>9.04</td>\n",
       "      <td>10.52</td>\n",
       "      <td>7.50</td>\n",
       "      <td>8.1</td>\n",
       "      <td>9.8</td>\n",
       "      <td>6.2</td>\n",
       "    </tr>\n",
       "    <tr>\n",
       "      <th>2</th>\n",
       "      <td>united states</td>\n",
       "      <td>15.25</td>\n",
       "      <td>24.13</td>\n",
       "      <td>6.66</td>\n",
       "      <td>15.38</td>\n",
       "      <td>24.33</td>\n",
       "      <td>6.73</td>\n",
       "      <td>16.1</td>\n",
       "      <td>25.0</td>\n",
       "      <td>7.5</td>\n",
       "    </tr>\n",
       "    <tr>\n",
       "      <th>3</th>\n",
       "      <td>indonesia</td>\n",
       "      <td>1.64</td>\n",
       "      <td>2.21</td>\n",
       "      <td>1.05</td>\n",
       "      <td>1.66</td>\n",
       "      <td>2.23</td>\n",
       "      <td>1.07</td>\n",
       "      <td>2.4</td>\n",
       "      <td>3.7</td>\n",
       "      <td>1.1</td>\n",
       "    </tr>\n",
       "    <tr>\n",
       "      <th>4</th>\n",
       "      <td>pakistan</td>\n",
       "      <td>5.82</td>\n",
       "      <td>8.46</td>\n",
       "      <td>3.05</td>\n",
       "      <td>5.89</td>\n",
       "      <td>8.54</td>\n",
       "      <td>3.10</td>\n",
       "      <td>8.9</td>\n",
       "      <td>13.3</td>\n",
       "      <td>4.3</td>\n",
       "    </tr>\n",
       "  </tbody>\n",
       "</table>\n",
       "</div>"
      ],
      "text/plain": [
       "         country  SuicideRate_BothSexes_RatePer100k_2021  \\\n",
       "0          india                                   13.33   \n",
       "1          china                                    9.17   \n",
       "2  united states                                   15.25   \n",
       "3      indonesia                                    1.64   \n",
       "4       pakistan                                    5.82   \n",
       "\n",
       "   SuicideRate_Male_RatePer100k_2021  SuicideRate_Female_RatePer100k_2021  \\\n",
       "0                              15.70                                10.85   \n",
       "1                              10.64                                 7.63   \n",
       "2                              24.13                                 6.66   \n",
       "3                               2.21                                 1.05   \n",
       "4                               8.46                                 3.05   \n",
       "\n",
       "   SuicideRate_BothSexes_RatePer100k_2020  SuicideRate_Male_RatePer100k_2020  \\\n",
       "0                                   13.28                              15.70   \n",
       "1                                    9.04                              10.52   \n",
       "2                                   15.38                              24.33   \n",
       "3                                    1.66                               2.23   \n",
       "4                                    5.89                               8.54   \n",
       "\n",
       "   SuicideRate_Female_RatePer100k_2020  \\\n",
       "0                                10.73   \n",
       "1                                 7.50   \n",
       "2                                 6.73   \n",
       "3                                 1.07   \n",
       "4                                 3.10   \n",
       "\n",
       "   SuicideRate_BothSexes_RatePer100k_2019  SuicideRate_Male_RatePer100k_2019  \\\n",
       "0                                    12.7                               14.1   \n",
       "1                                     8.1                                9.8   \n",
       "2                                    16.1                               25.0   \n",
       "3                                     2.4                                3.7   \n",
       "4                                     8.9                               13.3   \n",
       "\n",
       "   SuicideRate_Female_RatePer100k_2019  \n",
       "0                                 11.1  \n",
       "1                                  6.2  \n",
       "2                                  7.5  \n",
       "3                                  1.1  \n",
       "4                                  4.3  "
      ]
     },
     "execution_count": 32,
     "metadata": {},
     "output_type": "execute_result"
    }
   ],
   "source": [
    "suicide_df.head()"
   ]
  },
  {
   "cell_type": "code",
   "execution_count": 37,
   "id": "f0fe14c6-5fef-4206-90d3-2d38f34890ad",
   "metadata": {
    "tags": []
   },
   "outputs": [
    {
     "data": {
      "text/plain": [
       "country                                    0\n",
       "SuicideRate_BothSexes_RatePer100k_2021     0\n",
       "SuicideRate_Male_RatePer100k_2021          0\n",
       "SuicideRate_Female_RatePer100k_2021        0\n",
       "SuicideRate_BothSexes_RatePer100k_2020     0\n",
       "SuicideRate_Male_RatePer100k_2020          0\n",
       "SuicideRate_Female_RatePer100k_2020        0\n",
       "SuicideRate_BothSexes_RatePer100k_2019    21\n",
       "SuicideRate_Male_RatePer100k_2019         22\n",
       "SuicideRate_Female_RatePer100k_2019       21\n",
       "dtype: int64"
      ]
     },
     "execution_count": 37,
     "metadata": {},
     "output_type": "execute_result"
    }
   ],
   "source": [
    "suicide_df.isnull().sum()"
   ]
  },
  {
   "cell_type": "code",
   "execution_count": 39,
   "id": "f81a4e03-2a58-484c-a484-7b5b0856650f",
   "metadata": {
    "tags": []
   },
   "outputs": [],
   "source": [
    "suicide_df = suicide_df.fillna(0)"
   ]
  },
  {
   "cell_type": "code",
   "execution_count": 41,
   "id": "75035429-03a9-4734-8d56-c384cf4f48ea",
   "metadata": {
    "tags": []
   },
   "outputs": [
    {
     "data": {
      "text/plain": [
       "country                                   0\n",
       "SuicideRate_BothSexes_RatePer100k_2021    0\n",
       "SuicideRate_Male_RatePer100k_2021         0\n",
       "SuicideRate_Female_RatePer100k_2021       0\n",
       "SuicideRate_BothSexes_RatePer100k_2020    0\n",
       "SuicideRate_Male_RatePer100k_2020         0\n",
       "SuicideRate_Female_RatePer100k_2020       0\n",
       "SuicideRate_BothSexes_RatePer100k_2019    0\n",
       "SuicideRate_Male_RatePer100k_2019         0\n",
       "SuicideRate_Female_RatePer100k_2019       0\n",
       "dtype: int64"
      ]
     },
     "execution_count": 41,
     "metadata": {},
     "output_type": "execute_result"
    }
   ],
   "source": [
    "suicide_df.isnull().sum()"
   ]
  },
  {
   "cell_type": "code",
   "execution_count": 45,
   "id": "7bf6b5bc-c0a0-40f8-bc57-069b22279b59",
   "metadata": {
    "tags": []
   },
   "outputs": [
    {
     "data": {
      "text/plain": [
       "0"
      ]
     },
     "execution_count": 45,
     "metadata": {},
     "output_type": "execute_result"
    }
   ],
   "source": [
    "suicide_df.duplicated().sum()"
   ]
  },
  {
   "cell_type": "code",
   "execution_count": 49,
   "id": "e2047689-9293-425a-b6e3-f8616cd6e16f",
   "metadata": {
    "tags": []
   },
   "outputs": [
    {
     "name": "stdout",
     "output_type": "stream",
     "text": [
      "<class 'pandas.core.frame.DataFrame'>\n",
      "RangeIndex: 204 entries, 0 to 203\n",
      "Data columns (total 10 columns):\n",
      " #   Column                                  Non-Null Count  Dtype  \n",
      "---  ------                                  --------------  -----  \n",
      " 0   country                                 204 non-null    object \n",
      " 1   SuicideRate_BothSexes_RatePer100k_2021  204 non-null    float64\n",
      " 2   SuicideRate_Male_RatePer100k_2021       204 non-null    float64\n",
      " 3   SuicideRate_Female_RatePer100k_2021     204 non-null    float64\n",
      " 4   SuicideRate_BothSexes_RatePer100k_2020  204 non-null    float64\n",
      " 5   SuicideRate_Male_RatePer100k_2020       204 non-null    float64\n",
      " 6   SuicideRate_Female_RatePer100k_2020     204 non-null    float64\n",
      " 7   SuicideRate_BothSexes_RatePer100k_2019  204 non-null    float64\n",
      " 8   SuicideRate_Male_RatePer100k_2019       204 non-null    float64\n",
      " 9   SuicideRate_Female_RatePer100k_2019     204 non-null    float64\n",
      "dtypes: float64(9), object(1)\n",
      "memory usage: 16.1+ KB\n"
     ]
    }
   ],
   "source": [
    "suicide_df.info()"
   ]
  },
  {
   "cell_type": "code",
   "execution_count": 51,
   "id": "9139925e-229a-449e-969b-c23ca9ac260c",
   "metadata": {
    "tags": []
   },
   "outputs": [
    {
     "data": {
      "text/html": [
       "<div>\n",
       "<style scoped>\n",
       "    .dataframe tbody tr th:only-of-type {\n",
       "        vertical-align: middle;\n",
       "    }\n",
       "\n",
       "    .dataframe tbody tr th {\n",
       "        vertical-align: top;\n",
       "    }\n",
       "\n",
       "    .dataframe thead th {\n",
       "        text-align: right;\n",
       "    }\n",
       "</style>\n",
       "<table border=\"1\" class=\"dataframe\">\n",
       "  <thead>\n",
       "    <tr style=\"text-align: right;\">\n",
       "      <th></th>\n",
       "      <th>SuicideRate_BothSexes_RatePer100k_2021</th>\n",
       "      <th>SuicideRate_Male_RatePer100k_2021</th>\n",
       "      <th>SuicideRate_Female_RatePer100k_2021</th>\n",
       "      <th>SuicideRate_BothSexes_RatePer100k_2020</th>\n",
       "      <th>SuicideRate_Male_RatePer100k_2020</th>\n",
       "      <th>SuicideRate_Female_RatePer100k_2020</th>\n",
       "      <th>SuicideRate_BothSexes_RatePer100k_2019</th>\n",
       "      <th>SuicideRate_Male_RatePer100k_2019</th>\n",
       "      <th>SuicideRate_Female_RatePer100k_2019</th>\n",
       "    </tr>\n",
       "  </thead>\n",
       "  <tbody>\n",
       "    <tr>\n",
       "      <th>count</th>\n",
       "      <td>204.000000</td>\n",
       "      <td>204.000000</td>\n",
       "      <td>204.000000</td>\n",
       "      <td>204.000000</td>\n",
       "      <td>204.000000</td>\n",
       "      <td>204.000000</td>\n",
       "      <td>204.000000</td>\n",
       "      <td>204.000000</td>\n",
       "      <td>204.000000</td>\n",
       "    </tr>\n",
       "    <tr>\n",
       "      <th>mean</th>\n",
       "      <td>9.525931</td>\n",
       "      <td>14.802304</td>\n",
       "      <td>4.358284</td>\n",
       "      <td>13.669951</td>\n",
       "      <td>14.922108</td>\n",
       "      <td>4.400539</td>\n",
       "      <td>8.481863</td>\n",
       "      <td>13.143627</td>\n",
       "      <td>3.902941</td>\n",
       "    </tr>\n",
       "    <tr>\n",
       "      <th>std</th>\n",
       "      <td>6.802563</td>\n",
       "      <td>10.840661</td>\n",
       "      <td>3.311081</td>\n",
       "      <td>58.351062</td>\n",
       "      <td>11.127588</td>\n",
       "      <td>3.402186</td>\n",
       "      <td>8.094863</td>\n",
       "      <td>13.198728</td>\n",
       "      <td>3.597179</td>\n",
       "    </tr>\n",
       "    <tr>\n",
       "      <th>min</th>\n",
       "      <td>0.780000</td>\n",
       "      <td>1.180000</td>\n",
       "      <td>0.300000</td>\n",
       "      <td>0.770000</td>\n",
       "      <td>1.180000</td>\n",
       "      <td>0.290000</td>\n",
       "      <td>0.000000</td>\n",
       "      <td>0.000000</td>\n",
       "      <td>0.000000</td>\n",
       "    </tr>\n",
       "    <tr>\n",
       "      <th>25%</th>\n",
       "      <td>5.090000</td>\n",
       "      <td>7.577500</td>\n",
       "      <td>2.262500</td>\n",
       "      <td>5.075000</td>\n",
       "      <td>7.500000</td>\n",
       "      <td>2.282500</td>\n",
       "      <td>3.675000</td>\n",
       "      <td>5.275000</td>\n",
       "      <td>1.700000</td>\n",
       "    </tr>\n",
       "    <tr>\n",
       "      <th>50%</th>\n",
       "      <td>7.885000</td>\n",
       "      <td>12.205000</td>\n",
       "      <td>3.540000</td>\n",
       "      <td>8.015000</td>\n",
       "      <td>12.410000</td>\n",
       "      <td>3.520000</td>\n",
       "      <td>6.700000</td>\n",
       "      <td>9.800000</td>\n",
       "      <td>3.050000</td>\n",
       "    </tr>\n",
       "    <tr>\n",
       "      <th>75%</th>\n",
       "      <td>12.912500</td>\n",
       "      <td>19.857500</td>\n",
       "      <td>5.785000</td>\n",
       "      <td>13.037500</td>\n",
       "      <td>19.897500</td>\n",
       "      <td>5.900000</td>\n",
       "      <td>11.325000</td>\n",
       "      <td>16.600000</td>\n",
       "      <td>5.700000</td>\n",
       "    </tr>\n",
       "    <tr>\n",
       "      <th>max</th>\n",
       "      <td>59.620000</td>\n",
       "      <td>86.960000</td>\n",
       "      <td>29.400000</td>\n",
       "      <td>837.000000</td>\n",
       "      <td>94.390000</td>\n",
       "      <td>31.590000</td>\n",
       "      <td>72.400000</td>\n",
       "      <td>116.000000</td>\n",
       "      <td>30.100000</td>\n",
       "    </tr>\n",
       "  </tbody>\n",
       "</table>\n",
       "</div>"
      ],
      "text/plain": [
       "       SuicideRate_BothSexes_RatePer100k_2021  \\\n",
       "count                              204.000000   \n",
       "mean                                 9.525931   \n",
       "std                                  6.802563   \n",
       "min                                  0.780000   \n",
       "25%                                  5.090000   \n",
       "50%                                  7.885000   \n",
       "75%                                 12.912500   \n",
       "max                                 59.620000   \n",
       "\n",
       "       SuicideRate_Male_RatePer100k_2021  SuicideRate_Female_RatePer100k_2021  \\\n",
       "count                         204.000000                           204.000000   \n",
       "mean                           14.802304                             4.358284   \n",
       "std                            10.840661                             3.311081   \n",
       "min                             1.180000                             0.300000   \n",
       "25%                             7.577500                             2.262500   \n",
       "50%                            12.205000                             3.540000   \n",
       "75%                            19.857500                             5.785000   \n",
       "max                            86.960000                            29.400000   \n",
       "\n",
       "       SuicideRate_BothSexes_RatePer100k_2020  \\\n",
       "count                              204.000000   \n",
       "mean                                13.669951   \n",
       "std                                 58.351062   \n",
       "min                                  0.770000   \n",
       "25%                                  5.075000   \n",
       "50%                                  8.015000   \n",
       "75%                                 13.037500   \n",
       "max                                837.000000   \n",
       "\n",
       "       SuicideRate_Male_RatePer100k_2020  SuicideRate_Female_RatePer100k_2020  \\\n",
       "count                         204.000000                           204.000000   \n",
       "mean                           14.922108                             4.400539   \n",
       "std                            11.127588                             3.402186   \n",
       "min                             1.180000                             0.290000   \n",
       "25%                             7.500000                             2.282500   \n",
       "50%                            12.410000                             3.520000   \n",
       "75%                            19.897500                             5.900000   \n",
       "max                            94.390000                            31.590000   \n",
       "\n",
       "       SuicideRate_BothSexes_RatePer100k_2019  \\\n",
       "count                              204.000000   \n",
       "mean                                 8.481863   \n",
       "std                                  8.094863   \n",
       "min                                  0.000000   \n",
       "25%                                  3.675000   \n",
       "50%                                  6.700000   \n",
       "75%                                 11.325000   \n",
       "max                                 72.400000   \n",
       "\n",
       "       SuicideRate_Male_RatePer100k_2019  SuicideRate_Female_RatePer100k_2019  \n",
       "count                         204.000000                           204.000000  \n",
       "mean                           13.143627                             3.902941  \n",
       "std                            13.198728                             3.597179  \n",
       "min                             0.000000                             0.000000  \n",
       "25%                             5.275000                             1.700000  \n",
       "50%                             9.800000                             3.050000  \n",
       "75%                            16.600000                             5.700000  \n",
       "max                           116.000000                            30.100000  "
      ]
     },
     "execution_count": 51,
     "metadata": {},
     "output_type": "execute_result"
    }
   ],
   "source": [
    "suicide_df.describe()"
   ]
  },
  {
   "cell_type": "code",
   "execution_count": 53,
   "id": "7952dfb8-7145-4d5c-99de-b679f8dcb9a8",
   "metadata": {
    "tags": []
   },
   "outputs": [
    {
     "data": {
      "text/html": [
       "<div>\n",
       "<style scoped>\n",
       "    .dataframe tbody tr th:only-of-type {\n",
       "        vertical-align: middle;\n",
       "    }\n",
       "\n",
       "    .dataframe tbody tr th {\n",
       "        vertical-align: top;\n",
       "    }\n",
       "\n",
       "    .dataframe thead th {\n",
       "        text-align: right;\n",
       "    }\n",
       "</style>\n",
       "<table border=\"1\" class=\"dataframe\">\n",
       "  <thead>\n",
       "    <tr style=\"text-align: right;\">\n",
       "      <th></th>\n",
       "      <th>country</th>\n",
       "      <th>SuicideRate_BothSexes_RatePer100k_2021</th>\n",
       "      <th>SuicideRate_Male_RatePer100k_2021</th>\n",
       "      <th>SuicideRate_Female_RatePer100k_2021</th>\n",
       "      <th>SuicideRate_BothSexes_RatePer100k_2020</th>\n",
       "      <th>SuicideRate_Male_RatePer100k_2020</th>\n",
       "      <th>SuicideRate_Female_RatePer100k_2020</th>\n",
       "      <th>SuicideRate_BothSexes_RatePer100k_2019</th>\n",
       "      <th>SuicideRate_Male_RatePer100k_2019</th>\n",
       "      <th>SuicideRate_Female_RatePer100k_2019</th>\n",
       "    </tr>\n",
       "  </thead>\n",
       "  <tbody>\n",
       "    <tr>\n",
       "      <th>0</th>\n",
       "      <td>india</td>\n",
       "      <td>13.33</td>\n",
       "      <td>15.70</td>\n",
       "      <td>10.85</td>\n",
       "      <td>13.28</td>\n",
       "      <td>15.70</td>\n",
       "      <td>10.73</td>\n",
       "      <td>12.7</td>\n",
       "      <td>14.1</td>\n",
       "      <td>11.1</td>\n",
       "    </tr>\n",
       "    <tr>\n",
       "      <th>1</th>\n",
       "      <td>china</td>\n",
       "      <td>9.17</td>\n",
       "      <td>10.64</td>\n",
       "      <td>7.63</td>\n",
       "      <td>9.04</td>\n",
       "      <td>10.52</td>\n",
       "      <td>7.50</td>\n",
       "      <td>8.1</td>\n",
       "      <td>9.8</td>\n",
       "      <td>6.2</td>\n",
       "    </tr>\n",
       "    <tr>\n",
       "      <th>2</th>\n",
       "      <td>united states</td>\n",
       "      <td>15.25</td>\n",
       "      <td>24.13</td>\n",
       "      <td>6.66</td>\n",
       "      <td>15.38</td>\n",
       "      <td>24.33</td>\n",
       "      <td>6.73</td>\n",
       "      <td>16.1</td>\n",
       "      <td>25.0</td>\n",
       "      <td>7.5</td>\n",
       "    </tr>\n",
       "    <tr>\n",
       "      <th>3</th>\n",
       "      <td>indonesia</td>\n",
       "      <td>1.64</td>\n",
       "      <td>2.21</td>\n",
       "      <td>1.05</td>\n",
       "      <td>1.66</td>\n",
       "      <td>2.23</td>\n",
       "      <td>1.07</td>\n",
       "      <td>2.4</td>\n",
       "      <td>3.7</td>\n",
       "      <td>1.1</td>\n",
       "    </tr>\n",
       "    <tr>\n",
       "      <th>4</th>\n",
       "      <td>pakistan</td>\n",
       "      <td>5.82</td>\n",
       "      <td>8.46</td>\n",
       "      <td>3.05</td>\n",
       "      <td>5.89</td>\n",
       "      <td>8.54</td>\n",
       "      <td>3.10</td>\n",
       "      <td>8.9</td>\n",
       "      <td>13.3</td>\n",
       "      <td>4.3</td>\n",
       "    </tr>\n",
       "  </tbody>\n",
       "</table>\n",
       "</div>"
      ],
      "text/plain": [
       "         country  SuicideRate_BothSexes_RatePer100k_2021  \\\n",
       "0          india                                   13.33   \n",
       "1          china                                    9.17   \n",
       "2  united states                                   15.25   \n",
       "3      indonesia                                    1.64   \n",
       "4       pakistan                                    5.82   \n",
       "\n",
       "   SuicideRate_Male_RatePer100k_2021  SuicideRate_Female_RatePer100k_2021  \\\n",
       "0                              15.70                                10.85   \n",
       "1                              10.64                                 7.63   \n",
       "2                              24.13                                 6.66   \n",
       "3                               2.21                                 1.05   \n",
       "4                               8.46                                 3.05   \n",
       "\n",
       "   SuicideRate_BothSexes_RatePer100k_2020  SuicideRate_Male_RatePer100k_2020  \\\n",
       "0                                   13.28                              15.70   \n",
       "1                                    9.04                              10.52   \n",
       "2                                   15.38                              24.33   \n",
       "3                                    1.66                               2.23   \n",
       "4                                    5.89                               8.54   \n",
       "\n",
       "   SuicideRate_Female_RatePer100k_2020  \\\n",
       "0                                10.73   \n",
       "1                                 7.50   \n",
       "2                                 6.73   \n",
       "3                                 1.07   \n",
       "4                                 3.10   \n",
       "\n",
       "   SuicideRate_BothSexes_RatePer100k_2019  SuicideRate_Male_RatePer100k_2019  \\\n",
       "0                                    12.7                               14.1   \n",
       "1                                     8.1                                9.8   \n",
       "2                                    16.1                               25.0   \n",
       "3                                     2.4                                3.7   \n",
       "4                                     8.9                               13.3   \n",
       "\n",
       "   SuicideRate_Female_RatePer100k_2019  \n",
       "0                                 11.1  \n",
       "1                                  6.2  \n",
       "2                                  7.5  \n",
       "3                                  1.1  \n",
       "4                                  4.3  "
      ]
     },
     "execution_count": 53,
     "metadata": {},
     "output_type": "execute_result"
    }
   ],
   "source": [
    "suicide_df.head()"
   ]
  },
  {
   "cell_type": "code",
   "execution_count": 57,
   "id": "7ee747ce-b6b0-4fce-bb4f-c9b6b1024163",
   "metadata": {
    "tags": []
   },
   "outputs": [],
   "source": [
    "suicide_df_both_2021= suicide_df.sort_values(by=\"SuicideRate_BothSexes_RatePer100k_2021\", ascending=False)"
   ]
  },
  {
   "cell_type": "code",
   "execution_count": 79,
   "id": "c63c183f-929c-4c2b-b0dc-bd4c4ed7f450",
   "metadata": {
    "tags": []
   },
   "outputs": [],
   "source": [
    "suicide_df_both_genders= suicide_df_both_2021[[\"country\",\"SuicideRate_BothSexes_RatePer100k_2021\", \"SuicideRate_BothSexes_RatePer100k_2020\", \"SuicideRate_BothSexes_RatePer100k_2019\"]]"
   ]
  },
  {
   "cell_type": "code",
   "execution_count": 83,
   "id": "508d9522-6652-4f14-a22f-ab863dfa1b3c",
   "metadata": {
    "tags": []
   },
   "outputs": [
    {
     "data": {
      "text/html": [
       "<div>\n",
       "<style scoped>\n",
       "    .dataframe tbody tr th:only-of-type {\n",
       "        vertical-align: middle;\n",
       "    }\n",
       "\n",
       "    .dataframe tbody tr th {\n",
       "        vertical-align: top;\n",
       "    }\n",
       "\n",
       "    .dataframe thead th {\n",
       "        text-align: right;\n",
       "    }\n",
       "</style>\n",
       "<table border=\"1\" class=\"dataframe\">\n",
       "  <thead>\n",
       "    <tr style=\"text-align: right;\">\n",
       "      <th></th>\n",
       "      <th>country</th>\n",
       "      <th>SuicideRate_BothSexes_RatePer100k_2021</th>\n",
       "      <th>SuicideRate_BothSexes_RatePer100k_2020</th>\n",
       "      <th>SuicideRate_BothSexes_RatePer100k_2019</th>\n",
       "    </tr>\n",
       "  </thead>\n",
       "  <tbody>\n",
       "    <tr>\n",
       "      <th>191</th>\n",
       "      <td>greenland</td>\n",
       "      <td>59.62</td>\n",
       "      <td>64.60</td>\n",
       "      <td>0.0</td>\n",
       "    </tr>\n",
       "    <tr>\n",
       "      <th>161</th>\n",
       "      <td>guyana</td>\n",
       "      <td>31.26</td>\n",
       "      <td>31.71</td>\n",
       "      <td>40.3</td>\n",
       "    </tr>\n",
       "    <tr>\n",
       "      <th>139</th>\n",
       "      <td>lithuania</td>\n",
       "      <td>27.91</td>\n",
       "      <td>28.07</td>\n",
       "      <td>26.1</td>\n",
       "    </tr>\n",
       "    <tr>\n",
       "      <th>28</th>\n",
       "      <td>south korea</td>\n",
       "      <td>25.81</td>\n",
       "      <td>25.63</td>\n",
       "      <td>28.6</td>\n",
       "    </tr>\n",
       "    <tr>\n",
       "      <th>8</th>\n",
       "      <td>russia</td>\n",
       "      <td>24.10</td>\n",
       "      <td>24.25</td>\n",
       "      <td>25.1</td>\n",
       "    </tr>\n",
       "    <tr>\n",
       "      <th>166</th>\n",
       "      <td>suriname</td>\n",
       "      <td>23.60</td>\n",
       "      <td>25.17</td>\n",
       "      <td>25.4</td>\n",
       "    </tr>\n",
       "    <tr>\n",
       "      <th>200</th>\n",
       "      <td>nauru</td>\n",
       "      <td>23.55</td>\n",
       "      <td>23.66</td>\n",
       "      <td>0.0</td>\n",
       "    </tr>\n",
       "    <tr>\n",
       "      <th>41</th>\n",
       "      <td>ukraine</td>\n",
       "      <td>23.17</td>\n",
       "      <td>22.90</td>\n",
       "      <td>21.6</td>\n",
       "    </tr>\n",
       "    <tr>\n",
       "      <th>132</th>\n",
       "      <td>uruguay</td>\n",
       "      <td>21.31</td>\n",
       "      <td>20.05</td>\n",
       "      <td>21.2</td>\n",
       "    </tr>\n",
       "    <tr>\n",
       "      <th>145</th>\n",
       "      <td>lesotho</td>\n",
       "      <td>20.57</td>\n",
       "      <td>20.77</td>\n",
       "      <td>72.4</td>\n",
       "    </tr>\n",
       "  </tbody>\n",
       "</table>\n",
       "</div>"
      ],
      "text/plain": [
       "         country  SuicideRate_BothSexes_RatePer100k_2021  \\\n",
       "191    greenland                                   59.62   \n",
       "161       guyana                                   31.26   \n",
       "139    lithuania                                   27.91   \n",
       "28   south korea                                   25.81   \n",
       "8         russia                                   24.10   \n",
       "166     suriname                                   23.60   \n",
       "200        nauru                                   23.55   \n",
       "41       ukraine                                   23.17   \n",
       "132      uruguay                                   21.31   \n",
       "145      lesotho                                   20.57   \n",
       "\n",
       "     SuicideRate_BothSexes_RatePer100k_2020  \\\n",
       "191                                   64.60   \n",
       "161                                   31.71   \n",
       "139                                   28.07   \n",
       "28                                    25.63   \n",
       "8                                     24.25   \n",
       "166                                   25.17   \n",
       "200                                   23.66   \n",
       "41                                    22.90   \n",
       "132                                   20.05   \n",
       "145                                   20.77   \n",
       "\n",
       "     SuicideRate_BothSexes_RatePer100k_2019  \n",
       "191                                     0.0  \n",
       "161                                    40.3  \n",
       "139                                    26.1  \n",
       "28                                     28.6  \n",
       "8                                      25.1  \n",
       "166                                    25.4  \n",
       "200                                     0.0  \n",
       "41                                     21.6  \n",
       "132                                    21.2  \n",
       "145                                    72.4  "
      ]
     },
     "execution_count": 83,
     "metadata": {},
     "output_type": "execute_result"
    }
   ],
   "source": [
    "suicide_df_both_genders.head(10)"
   ]
  },
  {
   "cell_type": "code",
   "execution_count": 85,
   "id": "30259fd7-e072-431e-8344-c55c32a58585",
   "metadata": {
    "tags": []
   },
   "outputs": [],
   "source": [
    "suicide_df_both_genders= suicide_df_both_genders.set_index(\"country\")"
   ]
  },
  {
   "cell_type": "code",
   "execution_count": 89,
   "id": "a1cdb2a9-e124-4c55-a3ef-b2594435655c",
   "metadata": {
    "tags": []
   },
   "outputs": [],
   "source": [
    "top_10_suicidal_countries_genderneutral_21_20_19 = suicide_df_both_genders.head(10)"
   ]
  },
  {
   "cell_type": "code",
   "execution_count": 91,
   "id": "8a172742-d9a0-4d78-9c9f-26ae5838f2ed",
   "metadata": {
    "tags": []
   },
   "outputs": [],
   "source": [
    "bottom_10_suicidal_countries_genderneutral_21_20_19 = suicide_df_both_genders.tail(10)"
   ]
  },
  {
   "cell_type": "code",
   "execution_count": 259,
   "id": "fbdbcccf-8b7d-461d-9d6e-512cf0d39f9b",
   "metadata": {
    "tags": []
   },
   "outputs": [
    {
     "data": {
      "text/html": [
       "<div>\n",
       "<style scoped>\n",
       "    .dataframe tbody tr th:only-of-type {\n",
       "        vertical-align: middle;\n",
       "    }\n",
       "\n",
       "    .dataframe tbody tr th {\n",
       "        vertical-align: top;\n",
       "    }\n",
       "\n",
       "    .dataframe thead th {\n",
       "        text-align: right;\n",
       "    }\n",
       "</style>\n",
       "<table border=\"1\" class=\"dataframe\">\n",
       "  <thead>\n",
       "    <tr style=\"text-align: right;\">\n",
       "      <th></th>\n",
       "      <th>SuicideRate_BothSexes_RatePer100k_2021</th>\n",
       "      <th>SuicideRate_BothSexes_RatePer100k_2020</th>\n",
       "      <th>SuicideRate_BothSexes_RatePer100k_2019</th>\n",
       "    </tr>\n",
       "    <tr>\n",
       "      <th>country</th>\n",
       "      <th></th>\n",
       "      <th></th>\n",
       "      <th></th>\n",
       "    </tr>\n",
       "  </thead>\n",
       "  <tbody>\n",
       "    <tr>\n",
       "      <th>greenland</th>\n",
       "      <td>59.62</td>\n",
       "      <td>64.60</td>\n",
       "      <td>0.0</td>\n",
       "    </tr>\n",
       "    <tr>\n",
       "      <th>guyana</th>\n",
       "      <td>31.26</td>\n",
       "      <td>31.71</td>\n",
       "      <td>40.3</td>\n",
       "    </tr>\n",
       "    <tr>\n",
       "      <th>lithuania</th>\n",
       "      <td>27.91</td>\n",
       "      <td>28.07</td>\n",
       "      <td>26.1</td>\n",
       "    </tr>\n",
       "    <tr>\n",
       "      <th>south korea</th>\n",
       "      <td>25.81</td>\n",
       "      <td>25.63</td>\n",
       "      <td>28.6</td>\n",
       "    </tr>\n",
       "    <tr>\n",
       "      <th>russia</th>\n",
       "      <td>24.10</td>\n",
       "      <td>24.25</td>\n",
       "      <td>25.1</td>\n",
       "    </tr>\n",
       "    <tr>\n",
       "      <th>suriname</th>\n",
       "      <td>23.60</td>\n",
       "      <td>25.17</td>\n",
       "      <td>25.4</td>\n",
       "    </tr>\n",
       "    <tr>\n",
       "      <th>nauru</th>\n",
       "      <td>23.55</td>\n",
       "      <td>23.66</td>\n",
       "      <td>0.0</td>\n",
       "    </tr>\n",
       "    <tr>\n",
       "      <th>ukraine</th>\n",
       "      <td>23.17</td>\n",
       "      <td>22.90</td>\n",
       "      <td>21.6</td>\n",
       "    </tr>\n",
       "    <tr>\n",
       "      <th>uruguay</th>\n",
       "      <td>21.31</td>\n",
       "      <td>20.05</td>\n",
       "      <td>21.2</td>\n",
       "    </tr>\n",
       "    <tr>\n",
       "      <th>lesotho</th>\n",
       "      <td>20.57</td>\n",
       "      <td>20.77</td>\n",
       "      <td>72.4</td>\n",
       "    </tr>\n",
       "  </tbody>\n",
       "</table>\n",
       "</div>"
      ],
      "text/plain": [
       "             SuicideRate_BothSexes_RatePer100k_2021  \\\n",
       "country                                               \n",
       "greenland                                     59.62   \n",
       "guyana                                        31.26   \n",
       "lithuania                                     27.91   \n",
       "south korea                                   25.81   \n",
       "russia                                        24.10   \n",
       "suriname                                      23.60   \n",
       "nauru                                         23.55   \n",
       "ukraine                                       23.17   \n",
       "uruguay                                       21.31   \n",
       "lesotho                                       20.57   \n",
       "\n",
       "             SuicideRate_BothSexes_RatePer100k_2020  \\\n",
       "country                                               \n",
       "greenland                                     64.60   \n",
       "guyana                                        31.71   \n",
       "lithuania                                     28.07   \n",
       "south korea                                   25.63   \n",
       "russia                                        24.25   \n",
       "suriname                                      25.17   \n",
       "nauru                                         23.66   \n",
       "ukraine                                       22.90   \n",
       "uruguay                                       20.05   \n",
       "lesotho                                       20.77   \n",
       "\n",
       "             SuicideRate_BothSexes_RatePer100k_2019  \n",
       "country                                              \n",
       "greenland                                       0.0  \n",
       "guyana                                         40.3  \n",
       "lithuania                                      26.1  \n",
       "south korea                                    28.6  \n",
       "russia                                         25.1  \n",
       "suriname                                       25.4  \n",
       "nauru                                           0.0  \n",
       "ukraine                                        21.6  \n",
       "uruguay                                        21.2  \n",
       "lesotho                                        72.4  "
      ]
     },
     "execution_count": 259,
     "metadata": {},
     "output_type": "execute_result"
    }
   ],
   "source": [
    "top_10_suicidal_countries_genderneutral_21_20_19.head(10)"
   ]
  },
  {
   "cell_type": "code",
   "execution_count": 261,
   "id": "7f51381c-098a-4d10-8ff4-a34b82ef0ae7",
   "metadata": {
    "tags": []
   },
   "outputs": [
    {
     "data": {
      "text/html": [
       "<div>\n",
       "<style scoped>\n",
       "    .dataframe tbody tr th:only-of-type {\n",
       "        vertical-align: middle;\n",
       "    }\n",
       "\n",
       "    .dataframe tbody tr th {\n",
       "        vertical-align: top;\n",
       "    }\n",
       "\n",
       "    .dataframe thead th {\n",
       "        text-align: right;\n",
       "    }\n",
       "</style>\n",
       "<table border=\"1\" class=\"dataframe\">\n",
       "  <thead>\n",
       "    <tr style=\"text-align: right;\">\n",
       "      <th></th>\n",
       "      <th>SuicideRate_BothSexes_RatePer100k_2021</th>\n",
       "      <th>SuicideRate_BothSexes_RatePer100k_2020</th>\n",
       "      <th>SuicideRate_BothSexes_RatePer100k_2019</th>\n",
       "    </tr>\n",
       "    <tr>\n",
       "      <th>country</th>\n",
       "      <th></th>\n",
       "      <th></th>\n",
       "      <th></th>\n",
       "    </tr>\n",
       "  </thead>\n",
       "  <tbody>\n",
       "    <tr>\n",
       "      <th>indonesia</th>\n",
       "      <td>1.64</td>\n",
       "      <td>1.66</td>\n",
       "      <td>2.4</td>\n",
       "    </tr>\n",
       "    <tr>\n",
       "      <th>jamaica</th>\n",
       "      <td>1.43</td>\n",
       "      <td>1.37</td>\n",
       "      <td>2.4</td>\n",
       "    </tr>\n",
       "    <tr>\n",
       "      <th>antigua and barbuda</th>\n",
       "      <td>1.38</td>\n",
       "      <td>1.49</td>\n",
       "      <td>0.4</td>\n",
       "    </tr>\n",
       "    <tr>\n",
       "      <th>sao tome and principe</th>\n",
       "      <td>1.15</td>\n",
       "      <td>1.13</td>\n",
       "      <td>1.5</td>\n",
       "    </tr>\n",
       "    <tr>\n",
       "      <th>jordan</th>\n",
       "      <td>1.07</td>\n",
       "      <td>1.06</td>\n",
       "      <td>1.6</td>\n",
       "    </tr>\n",
       "    <tr>\n",
       "      <th>oman</th>\n",
       "      <td>1.04</td>\n",
       "      <td>1.05</td>\n",
       "      <td>4.9</td>\n",
       "    </tr>\n",
       "    <tr>\n",
       "      <th>egypt</th>\n",
       "      <td>1.01</td>\n",
       "      <td>1.02</td>\n",
       "      <td>3.0</td>\n",
       "    </tr>\n",
       "    <tr>\n",
       "      <th>lebanon</th>\n",
       "      <td>0.94</td>\n",
       "      <td>0.93</td>\n",
       "      <td>2.8</td>\n",
       "    </tr>\n",
       "    <tr>\n",
       "      <th>syria</th>\n",
       "      <td>0.89</td>\n",
       "      <td>0.89</td>\n",
       "      <td>2.0</td>\n",
       "    </tr>\n",
       "    <tr>\n",
       "      <th>palestine</th>\n",
       "      <td>0.78</td>\n",
       "      <td>0.77</td>\n",
       "      <td>0.0</td>\n",
       "    </tr>\n",
       "  </tbody>\n",
       "</table>\n",
       "</div>"
      ],
      "text/plain": [
       "                       SuicideRate_BothSexes_RatePer100k_2021  \\\n",
       "country                                                         \n",
       "indonesia                                                1.64   \n",
       "jamaica                                                  1.43   \n",
       "antigua and barbuda                                      1.38   \n",
       "sao tome and principe                                    1.15   \n",
       "jordan                                                   1.07   \n",
       "oman                                                     1.04   \n",
       "egypt                                                    1.01   \n",
       "lebanon                                                  0.94   \n",
       "syria                                                    0.89   \n",
       "palestine                                                0.78   \n",
       "\n",
       "                       SuicideRate_BothSexes_RatePer100k_2020  \\\n",
       "country                                                         \n",
       "indonesia                                                1.66   \n",
       "jamaica                                                  1.37   \n",
       "antigua and barbuda                                      1.49   \n",
       "sao tome and principe                                    1.13   \n",
       "jordan                                                   1.06   \n",
       "oman                                                     1.05   \n",
       "egypt                                                    1.02   \n",
       "lebanon                                                  0.93   \n",
       "syria                                                    0.89   \n",
       "palestine                                                0.77   \n",
       "\n",
       "                       SuicideRate_BothSexes_RatePer100k_2019  \n",
       "country                                                        \n",
       "indonesia                                                 2.4  \n",
       "jamaica                                                   2.4  \n",
       "antigua and barbuda                                       0.4  \n",
       "sao tome and principe                                     1.5  \n",
       "jordan                                                    1.6  \n",
       "oman                                                      4.9  \n",
       "egypt                                                     3.0  \n",
       "lebanon                                                   2.8  \n",
       "syria                                                     2.0  \n",
       "palestine                                                 0.0  "
      ]
     },
     "execution_count": 261,
     "metadata": {},
     "output_type": "execute_result"
    }
   ],
   "source": [
    "bottom_10_suicidal_countries_genderneutral_21_20_19.head(10)"
   ]
  },
  {
   "cell_type": "code",
   "execution_count": 108,
   "id": "089bdc50-c623-474d-a325-c1b11d7172e3",
   "metadata": {
    "tags": []
   },
   "outputs": [
    {
     "data": {
      "text/html": [
       "<div>\n",
       "<style scoped>\n",
       "    .dataframe tbody tr th:only-of-type {\n",
       "        vertical-align: middle;\n",
       "    }\n",
       "\n",
       "    .dataframe tbody tr th {\n",
       "        vertical-align: top;\n",
       "    }\n",
       "\n",
       "    .dataframe thead th {\n",
       "        text-align: right;\n",
       "    }\n",
       "</style>\n",
       "<table border=\"1\" class=\"dataframe\">\n",
       "  <thead>\n",
       "    <tr style=\"text-align: right;\">\n",
       "      <th></th>\n",
       "      <th>country</th>\n",
       "      <th>SuicideRate_BothSexes_RatePer100k_2021</th>\n",
       "      <th>SuicideRate_Male_RatePer100k_2021</th>\n",
       "      <th>SuicideRate_Female_RatePer100k_2021</th>\n",
       "      <th>SuicideRate_BothSexes_RatePer100k_2020</th>\n",
       "      <th>SuicideRate_Male_RatePer100k_2020</th>\n",
       "      <th>SuicideRate_Female_RatePer100k_2020</th>\n",
       "      <th>SuicideRate_BothSexes_RatePer100k_2019</th>\n",
       "      <th>SuicideRate_Male_RatePer100k_2019</th>\n",
       "      <th>SuicideRate_Female_RatePer100k_2019</th>\n",
       "    </tr>\n",
       "  </thead>\n",
       "  <tbody>\n",
       "    <tr>\n",
       "      <th>0</th>\n",
       "      <td>india</td>\n",
       "      <td>13.33</td>\n",
       "      <td>15.70</td>\n",
       "      <td>10.85</td>\n",
       "      <td>13.28</td>\n",
       "      <td>15.70</td>\n",
       "      <td>10.73</td>\n",
       "      <td>12.7</td>\n",
       "      <td>14.1</td>\n",
       "      <td>11.1</td>\n",
       "    </tr>\n",
       "    <tr>\n",
       "      <th>1</th>\n",
       "      <td>china</td>\n",
       "      <td>9.17</td>\n",
       "      <td>10.64</td>\n",
       "      <td>7.63</td>\n",
       "      <td>9.04</td>\n",
       "      <td>10.52</td>\n",
       "      <td>7.50</td>\n",
       "      <td>8.1</td>\n",
       "      <td>9.8</td>\n",
       "      <td>6.2</td>\n",
       "    </tr>\n",
       "    <tr>\n",
       "      <th>2</th>\n",
       "      <td>united states</td>\n",
       "      <td>15.25</td>\n",
       "      <td>24.13</td>\n",
       "      <td>6.66</td>\n",
       "      <td>15.38</td>\n",
       "      <td>24.33</td>\n",
       "      <td>6.73</td>\n",
       "      <td>16.1</td>\n",
       "      <td>25.0</td>\n",
       "      <td>7.5</td>\n",
       "    </tr>\n",
       "    <tr>\n",
       "      <th>3</th>\n",
       "      <td>indonesia</td>\n",
       "      <td>1.64</td>\n",
       "      <td>2.21</td>\n",
       "      <td>1.05</td>\n",
       "      <td>1.66</td>\n",
       "      <td>2.23</td>\n",
       "      <td>1.07</td>\n",
       "      <td>2.4</td>\n",
       "      <td>3.7</td>\n",
       "      <td>1.1</td>\n",
       "    </tr>\n",
       "    <tr>\n",
       "      <th>4</th>\n",
       "      <td>pakistan</td>\n",
       "      <td>5.82</td>\n",
       "      <td>8.46</td>\n",
       "      <td>3.05</td>\n",
       "      <td>5.89</td>\n",
       "      <td>8.54</td>\n",
       "      <td>3.10</td>\n",
       "      <td>8.9</td>\n",
       "      <td>13.3</td>\n",
       "      <td>4.3</td>\n",
       "    </tr>\n",
       "  </tbody>\n",
       "</table>\n",
       "</div>"
      ],
      "text/plain": [
       "         country  SuicideRate_BothSexes_RatePer100k_2021  \\\n",
       "0          india                                   13.33   \n",
       "1          china                                    9.17   \n",
       "2  united states                                   15.25   \n",
       "3      indonesia                                    1.64   \n",
       "4       pakistan                                    5.82   \n",
       "\n",
       "   SuicideRate_Male_RatePer100k_2021  SuicideRate_Female_RatePer100k_2021  \\\n",
       "0                              15.70                                10.85   \n",
       "1                              10.64                                 7.63   \n",
       "2                              24.13                                 6.66   \n",
       "3                               2.21                                 1.05   \n",
       "4                               8.46                                 3.05   \n",
       "\n",
       "   SuicideRate_BothSexes_RatePer100k_2020  SuicideRate_Male_RatePer100k_2020  \\\n",
       "0                                   13.28                              15.70   \n",
       "1                                    9.04                              10.52   \n",
       "2                                   15.38                              24.33   \n",
       "3                                    1.66                               2.23   \n",
       "4                                    5.89                               8.54   \n",
       "\n",
       "   SuicideRate_Female_RatePer100k_2020  \\\n",
       "0                                10.73   \n",
       "1                                 7.50   \n",
       "2                                 6.73   \n",
       "3                                 1.07   \n",
       "4                                 3.10   \n",
       "\n",
       "   SuicideRate_BothSexes_RatePer100k_2019  SuicideRate_Male_RatePer100k_2019  \\\n",
       "0                                    12.7                               14.1   \n",
       "1                                     8.1                                9.8   \n",
       "2                                    16.1                               25.0   \n",
       "3                                     2.4                                3.7   \n",
       "4                                     8.9                               13.3   \n",
       "\n",
       "   SuicideRate_Female_RatePer100k_2019  \n",
       "0                                 11.1  \n",
       "1                                  6.2  \n",
       "2                                  7.5  \n",
       "3                                  1.1  \n",
       "4                                  4.3  "
      ]
     },
     "execution_count": 108,
     "metadata": {},
     "output_type": "execute_result"
    }
   ],
   "source": [
    "suicide_df.head()"
   ]
  },
  {
   "cell_type": "code",
   "execution_count": 112,
   "id": "a0b711f1-7c7b-42d7-a195-2bb8653aefe4",
   "metadata": {
    "tags": []
   },
   "outputs": [],
   "source": [
    "suicide_df= suicide_df.rename(columns={\"SuicideRate_BothSexes_RatePer100k_2021\":\"overall_2021\", \"SuicideRate_Male_RatePer100k_2021\": \"male_2021\", \"SuicideRate_Female_RatePer100k_2021\":\"female_2021\", \"SuicideRate_BothSexes_RatePer100k_2020\":\"overall_2020\",\"SuicideRate_Male_RatePer100k_2020\":\"male_2020\", \"SuicideRate_Female_RatePer100k_2020\":\"female_2020\", \"SuicideRate_BothSexes_RatePer100k_2019\":\"overall_2019\", \"SuicideRate_Male_RatePer100k_2019\":\"male_2019\", \"SuicideRate_Female_RatePer100k_2019\":\"female_2019\" })"
   ]
  },
  {
   "cell_type": "code",
   "execution_count": 116,
   "id": "4221f5a6-ab9a-433e-a4a4-7c2043c32a51",
   "metadata": {
    "tags": []
   },
   "outputs": [
    {
     "data": {
      "text/html": [
       "<div>\n",
       "<style scoped>\n",
       "    .dataframe tbody tr th:only-of-type {\n",
       "        vertical-align: middle;\n",
       "    }\n",
       "\n",
       "    .dataframe tbody tr th {\n",
       "        vertical-align: top;\n",
       "    }\n",
       "\n",
       "    .dataframe thead th {\n",
       "        text-align: right;\n",
       "    }\n",
       "</style>\n",
       "<table border=\"1\" class=\"dataframe\">\n",
       "  <thead>\n",
       "    <tr style=\"text-align: right;\">\n",
       "      <th></th>\n",
       "      <th>country</th>\n",
       "      <th>overall_2021</th>\n",
       "      <th>male_2021</th>\n",
       "      <th>female_2021</th>\n",
       "      <th>overall_2020</th>\n",
       "      <th>male_2020</th>\n",
       "      <th>female_2020</th>\n",
       "      <th>overall_2019</th>\n",
       "      <th>male_2019</th>\n",
       "      <th>female_2019</th>\n",
       "    </tr>\n",
       "  </thead>\n",
       "  <tbody>\n",
       "    <tr>\n",
       "      <th>0</th>\n",
       "      <td>india</td>\n",
       "      <td>13.33</td>\n",
       "      <td>15.70</td>\n",
       "      <td>10.85</td>\n",
       "      <td>13.28</td>\n",
       "      <td>15.70</td>\n",
       "      <td>10.73</td>\n",
       "      <td>12.7</td>\n",
       "      <td>14.1</td>\n",
       "      <td>11.1</td>\n",
       "    </tr>\n",
       "    <tr>\n",
       "      <th>1</th>\n",
       "      <td>china</td>\n",
       "      <td>9.17</td>\n",
       "      <td>10.64</td>\n",
       "      <td>7.63</td>\n",
       "      <td>9.04</td>\n",
       "      <td>10.52</td>\n",
       "      <td>7.50</td>\n",
       "      <td>8.1</td>\n",
       "      <td>9.8</td>\n",
       "      <td>6.2</td>\n",
       "    </tr>\n",
       "    <tr>\n",
       "      <th>2</th>\n",
       "      <td>united states</td>\n",
       "      <td>15.25</td>\n",
       "      <td>24.13</td>\n",
       "      <td>6.66</td>\n",
       "      <td>15.38</td>\n",
       "      <td>24.33</td>\n",
       "      <td>6.73</td>\n",
       "      <td>16.1</td>\n",
       "      <td>25.0</td>\n",
       "      <td>7.5</td>\n",
       "    </tr>\n",
       "    <tr>\n",
       "      <th>3</th>\n",
       "      <td>indonesia</td>\n",
       "      <td>1.64</td>\n",
       "      <td>2.21</td>\n",
       "      <td>1.05</td>\n",
       "      <td>1.66</td>\n",
       "      <td>2.23</td>\n",
       "      <td>1.07</td>\n",
       "      <td>2.4</td>\n",
       "      <td>3.7</td>\n",
       "      <td>1.1</td>\n",
       "    </tr>\n",
       "    <tr>\n",
       "      <th>4</th>\n",
       "      <td>pakistan</td>\n",
       "      <td>5.82</td>\n",
       "      <td>8.46</td>\n",
       "      <td>3.05</td>\n",
       "      <td>5.89</td>\n",
       "      <td>8.54</td>\n",
       "      <td>3.10</td>\n",
       "      <td>8.9</td>\n",
       "      <td>13.3</td>\n",
       "      <td>4.3</td>\n",
       "    </tr>\n",
       "  </tbody>\n",
       "</table>\n",
       "</div>"
      ],
      "text/plain": [
       "         country  overall_2021  male_2021  female_2021  overall_2020  \\\n",
       "0          india         13.33      15.70        10.85         13.28   \n",
       "1          china          9.17      10.64         7.63          9.04   \n",
       "2  united states         15.25      24.13         6.66         15.38   \n",
       "3      indonesia          1.64       2.21         1.05          1.66   \n",
       "4       pakistan          5.82       8.46         3.05          5.89   \n",
       "\n",
       "   male_2020  female_2020  overall_2019  male_2019  female_2019  \n",
       "0      15.70        10.73          12.7       14.1         11.1  \n",
       "1      10.52         7.50           8.1        9.8          6.2  \n",
       "2      24.33         6.73          16.1       25.0          7.5  \n",
       "3       2.23         1.07           2.4        3.7          1.1  \n",
       "4       8.54         3.10           8.9       13.3          4.3  "
      ]
     },
     "execution_count": 116,
     "metadata": {},
     "output_type": "execute_result"
    }
   ],
   "source": [
    "suicide_df.head()"
   ]
  },
  {
   "cell_type": "code",
   "execution_count": 130,
   "id": "28b4cb3c-daa2-44bb-a586-fa7070824c40",
   "metadata": {
    "tags": []
   },
   "outputs": [
    {
     "name": "stdout",
     "output_type": "stream",
     "text": [
      "Country with the highest overall suicide rate:\n",
      "country                 malawi\n",
      "average_suicide_rate    283.57\n",
      "Name: 61, dtype: object\n"
     ]
    }
   ],
   "source": [
    "#average suicide rate over the years\n",
    "suicide_df[\"average_suicide_rate\"] = suicide_df[[\"overall_2021\", \"overall_2020\", \"overall_2019\"]].mean(axis=1)\n",
    "\n",
    "#identify the country with the highest average suicide rate \n",
    "highest_suicide_rate_country = suicide_df.loc[suicide_df[\"average_suicide_rate\"].idxmax()]\n",
    "\n",
    "print(\"Country with the highest overall suicide rate:\")\n",
    "print(highest_suicide_rate_country[['country', 'average_suicide_rate']])"
   ]
  },
  {
   "cell_type": "code",
   "execution_count": 141,
   "id": "4737fa06-cc72-4662-bcb1-512df82e60af",
   "metadata": {
    "tags": []
   },
   "outputs": [],
   "source": [
    "suicide_df[\"average_suicide_rate_male\"] = suicide_df[[\"male_2021\", \"male_2020\", \"male_2019\"]].mean(axis=1)\n"
   ]
  },
  {
   "cell_type": "code",
   "execution_count": 143,
   "id": "ceb7ceb8-8d77-4f3d-bf7c-36baa9618923",
   "metadata": {
    "tags": []
   },
   "outputs": [],
   "source": [
    "suicide_df[\"average_suicide_rate_female\"] = suicide_df[[\"female_2021\", \"female_2020\", \"female_2019\"]].mean(axis=1)\n"
   ]
  },
  {
   "cell_type": "code",
   "execution_count": 145,
   "id": "bf6e5862-28ca-4325-91db-6be807ffe27b",
   "metadata": {
    "tags": []
   },
   "outputs": [
    {
     "data": {
      "text/html": [
       "<div>\n",
       "<style scoped>\n",
       "    .dataframe tbody tr th:only-of-type {\n",
       "        vertical-align: middle;\n",
       "    }\n",
       "\n",
       "    .dataframe tbody tr th {\n",
       "        vertical-align: top;\n",
       "    }\n",
       "\n",
       "    .dataframe thead th {\n",
       "        text-align: right;\n",
       "    }\n",
       "</style>\n",
       "<table border=\"1\" class=\"dataframe\">\n",
       "  <thead>\n",
       "    <tr style=\"text-align: right;\">\n",
       "      <th></th>\n",
       "      <th>country</th>\n",
       "      <th>overall_2021</th>\n",
       "      <th>male_2021</th>\n",
       "      <th>female_2021</th>\n",
       "      <th>overall_2020</th>\n",
       "      <th>male_2020</th>\n",
       "      <th>female_2020</th>\n",
       "      <th>overall_2019</th>\n",
       "      <th>male_2019</th>\n",
       "      <th>female_2019</th>\n",
       "      <th>average_suicide_rate</th>\n",
       "      <th>average_suicide_rate_male</th>\n",
       "      <th>average_suicide_rate_female</th>\n",
       "    </tr>\n",
       "  </thead>\n",
       "  <tbody>\n",
       "    <tr>\n",
       "      <th>0</th>\n",
       "      <td>india</td>\n",
       "      <td>13.33</td>\n",
       "      <td>15.70</td>\n",
       "      <td>10.85</td>\n",
       "      <td>13.28</td>\n",
       "      <td>15.70</td>\n",
       "      <td>10.73</td>\n",
       "      <td>12.7</td>\n",
       "      <td>14.1</td>\n",
       "      <td>11.1</td>\n",
       "      <td>13.103333</td>\n",
       "      <td>15.166667</td>\n",
       "      <td>10.893333</td>\n",
       "    </tr>\n",
       "    <tr>\n",
       "      <th>1</th>\n",
       "      <td>china</td>\n",
       "      <td>9.17</td>\n",
       "      <td>10.64</td>\n",
       "      <td>7.63</td>\n",
       "      <td>9.04</td>\n",
       "      <td>10.52</td>\n",
       "      <td>7.50</td>\n",
       "      <td>8.1</td>\n",
       "      <td>9.8</td>\n",
       "      <td>6.2</td>\n",
       "      <td>8.770000</td>\n",
       "      <td>10.320000</td>\n",
       "      <td>7.110000</td>\n",
       "    </tr>\n",
       "    <tr>\n",
       "      <th>2</th>\n",
       "      <td>united states</td>\n",
       "      <td>15.25</td>\n",
       "      <td>24.13</td>\n",
       "      <td>6.66</td>\n",
       "      <td>15.38</td>\n",
       "      <td>24.33</td>\n",
       "      <td>6.73</td>\n",
       "      <td>16.1</td>\n",
       "      <td>25.0</td>\n",
       "      <td>7.5</td>\n",
       "      <td>15.576667</td>\n",
       "      <td>24.486667</td>\n",
       "      <td>6.963333</td>\n",
       "    </tr>\n",
       "    <tr>\n",
       "      <th>3</th>\n",
       "      <td>indonesia</td>\n",
       "      <td>1.64</td>\n",
       "      <td>2.21</td>\n",
       "      <td>1.05</td>\n",
       "      <td>1.66</td>\n",
       "      <td>2.23</td>\n",
       "      <td>1.07</td>\n",
       "      <td>2.4</td>\n",
       "      <td>3.7</td>\n",
       "      <td>1.1</td>\n",
       "      <td>1.900000</td>\n",
       "      <td>2.713333</td>\n",
       "      <td>1.073333</td>\n",
       "    </tr>\n",
       "    <tr>\n",
       "      <th>4</th>\n",
       "      <td>pakistan</td>\n",
       "      <td>5.82</td>\n",
       "      <td>8.46</td>\n",
       "      <td>3.05</td>\n",
       "      <td>5.89</td>\n",
       "      <td>8.54</td>\n",
       "      <td>3.10</td>\n",
       "      <td>8.9</td>\n",
       "      <td>13.3</td>\n",
       "      <td>4.3</td>\n",
       "      <td>6.870000</td>\n",
       "      <td>10.100000</td>\n",
       "      <td>3.483333</td>\n",
       "    </tr>\n",
       "  </tbody>\n",
       "</table>\n",
       "</div>"
      ],
      "text/plain": [
       "         country  overall_2021  male_2021  female_2021  overall_2020  \\\n",
       "0          india         13.33      15.70        10.85         13.28   \n",
       "1          china          9.17      10.64         7.63          9.04   \n",
       "2  united states         15.25      24.13         6.66         15.38   \n",
       "3      indonesia          1.64       2.21         1.05          1.66   \n",
       "4       pakistan          5.82       8.46         3.05          5.89   \n",
       "\n",
       "   male_2020  female_2020  overall_2019  male_2019  female_2019  \\\n",
       "0      15.70        10.73          12.7       14.1         11.1   \n",
       "1      10.52         7.50           8.1        9.8          6.2   \n",
       "2      24.33         6.73          16.1       25.0          7.5   \n",
       "3       2.23         1.07           2.4        3.7          1.1   \n",
       "4       8.54         3.10           8.9       13.3          4.3   \n",
       "\n",
       "   average_suicide_rate  average_suicide_rate_male  \\\n",
       "0             13.103333                  15.166667   \n",
       "1              8.770000                  10.320000   \n",
       "2             15.576667                  24.486667   \n",
       "3              1.900000                   2.713333   \n",
       "4              6.870000                  10.100000   \n",
       "\n",
       "   average_suicide_rate_female  \n",
       "0                    10.893333  \n",
       "1                     7.110000  \n",
       "2                     6.963333  \n",
       "3                     1.073333  \n",
       "4                     3.483333  "
      ]
     },
     "execution_count": 145,
     "metadata": {},
     "output_type": "execute_result"
    }
   ],
   "source": [
    "suicide_df.head()"
   ]
  },
  {
   "cell_type": "code",
   "execution_count": 149,
   "id": "217527d9-1487-4c28-a6b4-0c2890f1643b",
   "metadata": {
    "tags": []
   },
   "outputs": [],
   "source": [
    "top_10_both = suicide_df.nlargest(10, 'average_suicide_rate')"
   ]
  },
  {
   "cell_type": "code",
   "execution_count": 151,
   "id": "7cc6859b-3c4c-4bbb-af55-0346d6c3d6c4",
   "metadata": {
    "tags": []
   },
   "outputs": [
    {
     "data": {
      "text/html": [
       "<div>\n",
       "<style scoped>\n",
       "    .dataframe tbody tr th:only-of-type {\n",
       "        vertical-align: middle;\n",
       "    }\n",
       "\n",
       "    .dataframe tbody tr th {\n",
       "        vertical-align: top;\n",
       "    }\n",
       "\n",
       "    .dataframe thead th {\n",
       "        text-align: right;\n",
       "    }\n",
       "</style>\n",
       "<table border=\"1\" class=\"dataframe\">\n",
       "  <thead>\n",
       "    <tr style=\"text-align: right;\">\n",
       "      <th></th>\n",
       "      <th>country</th>\n",
       "      <th>overall_2021</th>\n",
       "      <th>male_2021</th>\n",
       "      <th>female_2021</th>\n",
       "      <th>overall_2020</th>\n",
       "      <th>male_2020</th>\n",
       "      <th>female_2020</th>\n",
       "      <th>overall_2019</th>\n",
       "      <th>male_2019</th>\n",
       "      <th>female_2019</th>\n",
       "      <th>average_suicide_rate</th>\n",
       "      <th>average_suicide_rate_male</th>\n",
       "      <th>average_suicide_rate_female</th>\n",
       "    </tr>\n",
       "  </thead>\n",
       "  <tbody>\n",
       "    <tr>\n",
       "      <th>61</th>\n",
       "      <td>malawi</td>\n",
       "      <td>8.31</td>\n",
       "      <td>13.84</td>\n",
       "      <td>3.05</td>\n",
       "      <td>837.00</td>\n",
       "      <td>13.96</td>\n",
       "      <td>3.06</td>\n",
       "      <td>5.4</td>\n",
       "      <td>9.2</td>\n",
       "      <td>1.7</td>\n",
       "      <td>283.570000</td>\n",
       "      <td>12.333333</td>\n",
       "      <td>2.603333</td>\n",
       "    </tr>\n",
       "    <tr>\n",
       "      <th>191</th>\n",
       "      <td>greenland</td>\n",
       "      <td>59.62</td>\n",
       "      <td>86.96</td>\n",
       "      <td>29.40</td>\n",
       "      <td>64.60</td>\n",
       "      <td>94.39</td>\n",
       "      <td>31.59</td>\n",
       "      <td>0.0</td>\n",
       "      <td>0.0</td>\n",
       "      <td>0.0</td>\n",
       "      <td>41.406667</td>\n",
       "      <td>60.450000</td>\n",
       "      <td>20.330000</td>\n",
       "    </tr>\n",
       "    <tr>\n",
       "      <th>145</th>\n",
       "      <td>lesotho</td>\n",
       "      <td>20.57</td>\n",
       "      <td>32.55</td>\n",
       "      <td>9.27</td>\n",
       "      <td>20.77</td>\n",
       "      <td>32.80</td>\n",
       "      <td>9.44</td>\n",
       "      <td>72.4</td>\n",
       "      <td>116.0</td>\n",
       "      <td>30.1</td>\n",
       "      <td>37.913333</td>\n",
       "      <td>60.450000</td>\n",
       "      <td>16.270000</td>\n",
       "    </tr>\n",
       "    <tr>\n",
       "      <th>161</th>\n",
       "      <td>guyana</td>\n",
       "      <td>31.26</td>\n",
       "      <td>52.79</td>\n",
       "      <td>10.31</td>\n",
       "      <td>31.71</td>\n",
       "      <td>53.32</td>\n",
       "      <td>10.59</td>\n",
       "      <td>40.3</td>\n",
       "      <td>63.0</td>\n",
       "      <td>17.4</td>\n",
       "      <td>34.423333</td>\n",
       "      <td>56.370000</td>\n",
       "      <td>12.766667</td>\n",
       "    </tr>\n",
       "    <tr>\n",
       "      <th>139</th>\n",
       "      <td>lithuania</td>\n",
       "      <td>27.91</td>\n",
       "      <td>49.96</td>\n",
       "      <td>9.07</td>\n",
       "      <td>28.07</td>\n",
       "      <td>50.46</td>\n",
       "      <td>8.93</td>\n",
       "      <td>26.1</td>\n",
       "      <td>45.4</td>\n",
       "      <td>9.6</td>\n",
       "      <td>27.360000</td>\n",
       "      <td>48.606667</td>\n",
       "      <td>9.200000</td>\n",
       "    </tr>\n",
       "    <tr>\n",
       "      <th>28</th>\n",
       "      <td>south korea</td>\n",
       "      <td>25.81</td>\n",
       "      <td>36.96</td>\n",
       "      <td>14.58</td>\n",
       "      <td>25.63</td>\n",
       "      <td>36.61</td>\n",
       "      <td>14.56</td>\n",
       "      <td>28.6</td>\n",
       "      <td>40.2</td>\n",
       "      <td>16.9</td>\n",
       "      <td>26.680000</td>\n",
       "      <td>37.923333</td>\n",
       "      <td>15.346667</td>\n",
       "    </tr>\n",
       "    <tr>\n",
       "      <th>166</th>\n",
       "      <td>suriname</td>\n",
       "      <td>23.60</td>\n",
       "      <td>37.42</td>\n",
       "      <td>10.13</td>\n",
       "      <td>25.17</td>\n",
       "      <td>40.11</td>\n",
       "      <td>10.58</td>\n",
       "      <td>25.4</td>\n",
       "      <td>38.8</td>\n",
       "      <td>11.8</td>\n",
       "      <td>24.723333</td>\n",
       "      <td>38.776667</td>\n",
       "      <td>10.836667</td>\n",
       "    </tr>\n",
       "    <tr>\n",
       "      <th>8</th>\n",
       "      <td>russia</td>\n",
       "      <td>24.10</td>\n",
       "      <td>41.82</td>\n",
       "      <td>8.66</td>\n",
       "      <td>24.25</td>\n",
       "      <td>42.42</td>\n",
       "      <td>8.44</td>\n",
       "      <td>25.1</td>\n",
       "      <td>43.6</td>\n",
       "      <td>9.1</td>\n",
       "      <td>24.483333</td>\n",
       "      <td>42.613333</td>\n",
       "      <td>8.733333</td>\n",
       "    </tr>\n",
       "    <tr>\n",
       "      <th>183</th>\n",
       "      <td>micronesia</td>\n",
       "      <td>20.17</td>\n",
       "      <td>30.72</td>\n",
       "      <td>9.20</td>\n",
       "      <td>20.16</td>\n",
       "      <td>30.65</td>\n",
       "      <td>9.26</td>\n",
       "      <td>28.2</td>\n",
       "      <td>43.2</td>\n",
       "      <td>12.7</td>\n",
       "      <td>22.843333</td>\n",
       "      <td>34.856667</td>\n",
       "      <td>10.386667</td>\n",
       "    </tr>\n",
       "    <tr>\n",
       "      <th>41</th>\n",
       "      <td>ukraine</td>\n",
       "      <td>23.17</td>\n",
       "      <td>41.40</td>\n",
       "      <td>7.43</td>\n",
       "      <td>22.90</td>\n",
       "      <td>40.96</td>\n",
       "      <td>7.32</td>\n",
       "      <td>21.6</td>\n",
       "      <td>39.2</td>\n",
       "      <td>6.5</td>\n",
       "      <td>22.556667</td>\n",
       "      <td>40.520000</td>\n",
       "      <td>7.083333</td>\n",
       "    </tr>\n",
       "  </tbody>\n",
       "</table>\n",
       "</div>"
      ],
      "text/plain": [
       "         country  overall_2021  male_2021  female_2021  overall_2020  \\\n",
       "61        malawi          8.31      13.84         3.05        837.00   \n",
       "191    greenland         59.62      86.96        29.40         64.60   \n",
       "145      lesotho         20.57      32.55         9.27         20.77   \n",
       "161       guyana         31.26      52.79        10.31         31.71   \n",
       "139    lithuania         27.91      49.96         9.07         28.07   \n",
       "28   south korea         25.81      36.96        14.58         25.63   \n",
       "166     suriname         23.60      37.42        10.13         25.17   \n",
       "8         russia         24.10      41.82         8.66         24.25   \n",
       "183   micronesia         20.17      30.72         9.20         20.16   \n",
       "41       ukraine         23.17      41.40         7.43         22.90   \n",
       "\n",
       "     male_2020  female_2020  overall_2019  male_2019  female_2019  \\\n",
       "61       13.96         3.06           5.4        9.2          1.7   \n",
       "191      94.39        31.59           0.0        0.0          0.0   \n",
       "145      32.80         9.44          72.4      116.0         30.1   \n",
       "161      53.32        10.59          40.3       63.0         17.4   \n",
       "139      50.46         8.93          26.1       45.4          9.6   \n",
       "28       36.61        14.56          28.6       40.2         16.9   \n",
       "166      40.11        10.58          25.4       38.8         11.8   \n",
       "8        42.42         8.44          25.1       43.6          9.1   \n",
       "183      30.65         9.26          28.2       43.2         12.7   \n",
       "41       40.96         7.32          21.6       39.2          6.5   \n",
       "\n",
       "     average_suicide_rate  average_suicide_rate_male  \\\n",
       "61             283.570000                  12.333333   \n",
       "191             41.406667                  60.450000   \n",
       "145             37.913333                  60.450000   \n",
       "161             34.423333                  56.370000   \n",
       "139             27.360000                  48.606667   \n",
       "28              26.680000                  37.923333   \n",
       "166             24.723333                  38.776667   \n",
       "8               24.483333                  42.613333   \n",
       "183             22.843333                  34.856667   \n",
       "41              22.556667                  40.520000   \n",
       "\n",
       "     average_suicide_rate_female  \n",
       "61                      2.603333  \n",
       "191                    20.330000  \n",
       "145                    16.270000  \n",
       "161                    12.766667  \n",
       "139                     9.200000  \n",
       "28                     15.346667  \n",
       "166                    10.836667  \n",
       "8                       8.733333  \n",
       "183                    10.386667  \n",
       "41                      7.083333  "
      ]
     },
     "execution_count": 151,
     "metadata": {},
     "output_type": "execute_result"
    }
   ],
   "source": [
    "top_10_both"
   ]
  },
  {
   "cell_type": "code",
   "execution_count": 159,
   "id": "6e8c4e11-d749-4495-9de4-1f12cff56d71",
   "metadata": {
    "tags": []
   },
   "outputs": [],
   "source": [
    "top_10_male = suicide_df.nlargest(10, \"average_suicide_rate_male\")"
   ]
  },
  {
   "cell_type": "code",
   "execution_count": 155,
   "id": "8d433244-1570-4806-9ecc-ff2ffe52f5a8",
   "metadata": {
    "tags": []
   },
   "outputs": [],
   "source": [
    "top_10_female = suicide_df.nlargest(10, \"average_suicide_rate_female\")"
   ]
  },
  {
   "cell_type": "code",
   "execution_count": 265,
   "id": "114e74f2-2315-4da2-9ba9-d4f027a509cc",
   "metadata": {},
   "outputs": [
    {
     "data": {
      "application/vnd.plotly.v1+json": {
       "config": {
        "plotlyServerURL": "https://plot.ly"
       },
       "data": [
        {
         "alignmentgroup": "True",
         "hovertemplate": "Year=male_2019<br>country=%{x}<br>Suicide Rate per 100k=%{y}<extra></extra>",
         "legendgroup": "male_2019",
         "marker": {
          "color": "#636efa",
          "pattern": {
           "shape": ""
          }
         },
         "name": "male_2019",
         "offsetgroup": "male_2019",
         "orientation": "v",
         "showlegend": true,
         "textposition": "auto",
         "type": "bar",
         "x": [
          "lesotho",
          "greenland",
          "guyana",
          "lithuania",
          "russia",
          "ukraine",
          "eswatini",
          "suriname",
          "south korea",
          "kiribati"
         ],
         "xaxis": "x",
         "y": [
          116,
          0,
          63,
          45.4,
          43.6,
          39.2,
          55.1,
          38.8,
          40.2,
          48.6
         ],
         "yaxis": "y"
        },
        {
         "alignmentgroup": "True",
         "hovertemplate": "Year=male_2020<br>country=%{x}<br>Suicide Rate per 100k=%{y}<extra></extra>",
         "legendgroup": "male_2020",
         "marker": {
          "color": "#EF553B",
          "pattern": {
           "shape": ""
          }
         },
         "name": "male_2020",
         "offsetgroup": "male_2020",
         "orientation": "v",
         "showlegend": true,
         "textposition": "auto",
         "type": "bar",
         "x": [
          "lesotho",
          "greenland",
          "guyana",
          "lithuania",
          "russia",
          "ukraine",
          "eswatini",
          "suriname",
          "south korea",
          "kiribati"
         ],
         "xaxis": "x",
         "y": [
          32.8,
          94.39,
          53.32,
          50.46,
          42.42,
          40.96,
          32.09,
          40.11,
          36.61,
          30.26
         ],
         "yaxis": "y"
        },
        {
         "alignmentgroup": "True",
         "hovertemplate": "Year=male_2021<br>country=%{x}<br>Suicide Rate per 100k=%{y}<extra></extra>",
         "legendgroup": "male_2021",
         "marker": {
          "color": "#00cc96",
          "pattern": {
           "shape": ""
          }
         },
         "name": "male_2021",
         "offsetgroup": "male_2021",
         "orientation": "v",
         "showlegend": true,
         "textposition": "auto",
         "type": "bar",
         "x": [
          "lesotho",
          "greenland",
          "guyana",
          "lithuania",
          "russia",
          "ukraine",
          "eswatini",
          "suriname",
          "south korea",
          "kiribati"
         ],
         "xaxis": "x",
         "y": [
          32.55,
          86.96,
          52.79,
          49.96,
          41.82,
          41.4,
          31.17,
          37.42,
          36.96,
          30.08
         ],
         "yaxis": "y"
        }
       ],
       "layout": {
        "autosize": true,
        "barmode": "group",
        "legend": {
         "title": {
          "text": "Year"
         },
         "tracegroupgap": 0
        },
        "template": {
         "data": {
          "bar": [
           {
            "error_x": {
             "color": "#2a3f5f"
            },
            "error_y": {
             "color": "#2a3f5f"
            },
            "marker": {
             "line": {
              "color": "#E5ECF6",
              "width": 0.5
             },
             "pattern": {
              "fillmode": "overlay",
              "size": 10,
              "solidity": 0.2
             }
            },
            "type": "bar"
           }
          ],
          "barpolar": [
           {
            "marker": {
             "line": {
              "color": "#E5ECF6",
              "width": 0.5
             },
             "pattern": {
              "fillmode": "overlay",
              "size": 10,
              "solidity": 0.2
             }
            },
            "type": "barpolar"
           }
          ],
          "carpet": [
           {
            "aaxis": {
             "endlinecolor": "#2a3f5f",
             "gridcolor": "white",
             "linecolor": "white",
             "minorgridcolor": "white",
             "startlinecolor": "#2a3f5f"
            },
            "baxis": {
             "endlinecolor": "#2a3f5f",
             "gridcolor": "white",
             "linecolor": "white",
             "minorgridcolor": "white",
             "startlinecolor": "#2a3f5f"
            },
            "type": "carpet"
           }
          ],
          "choropleth": [
           {
            "colorbar": {
             "outlinewidth": 0,
             "ticks": ""
            },
            "type": "choropleth"
           }
          ],
          "contour": [
           {
            "colorbar": {
             "outlinewidth": 0,
             "ticks": ""
            },
            "colorscale": [
             [
              0,
              "#0d0887"
             ],
             [
              0.1111111111111111,
              "#46039f"
             ],
             [
              0.2222222222222222,
              "#7201a8"
             ],
             [
              0.3333333333333333,
              "#9c179e"
             ],
             [
              0.4444444444444444,
              "#bd3786"
             ],
             [
              0.5555555555555556,
              "#d8576b"
             ],
             [
              0.6666666666666666,
              "#ed7953"
             ],
             [
              0.7777777777777778,
              "#fb9f3a"
             ],
             [
              0.8888888888888888,
              "#fdca26"
             ],
             [
              1,
              "#f0f921"
             ]
            ],
            "type": "contour"
           }
          ],
          "contourcarpet": [
           {
            "colorbar": {
             "outlinewidth": 0,
             "ticks": ""
            },
            "type": "contourcarpet"
           }
          ],
          "heatmap": [
           {
            "colorbar": {
             "outlinewidth": 0,
             "ticks": ""
            },
            "colorscale": [
             [
              0,
              "#0d0887"
             ],
             [
              0.1111111111111111,
              "#46039f"
             ],
             [
              0.2222222222222222,
              "#7201a8"
             ],
             [
              0.3333333333333333,
              "#9c179e"
             ],
             [
              0.4444444444444444,
              "#bd3786"
             ],
             [
              0.5555555555555556,
              "#d8576b"
             ],
             [
              0.6666666666666666,
              "#ed7953"
             ],
             [
              0.7777777777777778,
              "#fb9f3a"
             ],
             [
              0.8888888888888888,
              "#fdca26"
             ],
             [
              1,
              "#f0f921"
             ]
            ],
            "type": "heatmap"
           }
          ],
          "heatmapgl": [
           {
            "colorbar": {
             "outlinewidth": 0,
             "ticks": ""
            },
            "colorscale": [
             [
              0,
              "#0d0887"
             ],
             [
              0.1111111111111111,
              "#46039f"
             ],
             [
              0.2222222222222222,
              "#7201a8"
             ],
             [
              0.3333333333333333,
              "#9c179e"
             ],
             [
              0.4444444444444444,
              "#bd3786"
             ],
             [
              0.5555555555555556,
              "#d8576b"
             ],
             [
              0.6666666666666666,
              "#ed7953"
             ],
             [
              0.7777777777777778,
              "#fb9f3a"
             ],
             [
              0.8888888888888888,
              "#fdca26"
             ],
             [
              1,
              "#f0f921"
             ]
            ],
            "type": "heatmapgl"
           }
          ],
          "histogram": [
           {
            "marker": {
             "pattern": {
              "fillmode": "overlay",
              "size": 10,
              "solidity": 0.2
             }
            },
            "type": "histogram"
           }
          ],
          "histogram2d": [
           {
            "colorbar": {
             "outlinewidth": 0,
             "ticks": ""
            },
            "colorscale": [
             [
              0,
              "#0d0887"
             ],
             [
              0.1111111111111111,
              "#46039f"
             ],
             [
              0.2222222222222222,
              "#7201a8"
             ],
             [
              0.3333333333333333,
              "#9c179e"
             ],
             [
              0.4444444444444444,
              "#bd3786"
             ],
             [
              0.5555555555555556,
              "#d8576b"
             ],
             [
              0.6666666666666666,
              "#ed7953"
             ],
             [
              0.7777777777777778,
              "#fb9f3a"
             ],
             [
              0.8888888888888888,
              "#fdca26"
             ],
             [
              1,
              "#f0f921"
             ]
            ],
            "type": "histogram2d"
           }
          ],
          "histogram2dcontour": [
           {
            "colorbar": {
             "outlinewidth": 0,
             "ticks": ""
            },
            "colorscale": [
             [
              0,
              "#0d0887"
             ],
             [
              0.1111111111111111,
              "#46039f"
             ],
             [
              0.2222222222222222,
              "#7201a8"
             ],
             [
              0.3333333333333333,
              "#9c179e"
             ],
             [
              0.4444444444444444,
              "#bd3786"
             ],
             [
              0.5555555555555556,
              "#d8576b"
             ],
             [
              0.6666666666666666,
              "#ed7953"
             ],
             [
              0.7777777777777778,
              "#fb9f3a"
             ],
             [
              0.8888888888888888,
              "#fdca26"
             ],
             [
              1,
              "#f0f921"
             ]
            ],
            "type": "histogram2dcontour"
           }
          ],
          "mesh3d": [
           {
            "colorbar": {
             "outlinewidth": 0,
             "ticks": ""
            },
            "type": "mesh3d"
           }
          ],
          "parcoords": [
           {
            "line": {
             "colorbar": {
              "outlinewidth": 0,
              "ticks": ""
             }
            },
            "type": "parcoords"
           }
          ],
          "pie": [
           {
            "automargin": true,
            "type": "pie"
           }
          ],
          "scatter": [
           {
            "fillpattern": {
             "fillmode": "overlay",
             "size": 10,
             "solidity": 0.2
            },
            "type": "scatter"
           }
          ],
          "scatter3d": [
           {
            "line": {
             "colorbar": {
              "outlinewidth": 0,
              "ticks": ""
             }
            },
            "marker": {
             "colorbar": {
              "outlinewidth": 0,
              "ticks": ""
             }
            },
            "type": "scatter3d"
           }
          ],
          "scattercarpet": [
           {
            "marker": {
             "colorbar": {
              "outlinewidth": 0,
              "ticks": ""
             }
            },
            "type": "scattercarpet"
           }
          ],
          "scattergeo": [
           {
            "marker": {
             "colorbar": {
              "outlinewidth": 0,
              "ticks": ""
             }
            },
            "type": "scattergeo"
           }
          ],
          "scattergl": [
           {
            "marker": {
             "colorbar": {
              "outlinewidth": 0,
              "ticks": ""
             }
            },
            "type": "scattergl"
           }
          ],
          "scattermapbox": [
           {
            "marker": {
             "colorbar": {
              "outlinewidth": 0,
              "ticks": ""
             }
            },
            "type": "scattermapbox"
           }
          ],
          "scatterpolar": [
           {
            "marker": {
             "colorbar": {
              "outlinewidth": 0,
              "ticks": ""
             }
            },
            "type": "scatterpolar"
           }
          ],
          "scatterpolargl": [
           {
            "marker": {
             "colorbar": {
              "outlinewidth": 0,
              "ticks": ""
             }
            },
            "type": "scatterpolargl"
           }
          ],
          "scatterternary": [
           {
            "marker": {
             "colorbar": {
              "outlinewidth": 0,
              "ticks": ""
             }
            },
            "type": "scatterternary"
           }
          ],
          "surface": [
           {
            "colorbar": {
             "outlinewidth": 0,
             "ticks": ""
            },
            "colorscale": [
             [
              0,
              "#0d0887"
             ],
             [
              0.1111111111111111,
              "#46039f"
             ],
             [
              0.2222222222222222,
              "#7201a8"
             ],
             [
              0.3333333333333333,
              "#9c179e"
             ],
             [
              0.4444444444444444,
              "#bd3786"
             ],
             [
              0.5555555555555556,
              "#d8576b"
             ],
             [
              0.6666666666666666,
              "#ed7953"
             ],
             [
              0.7777777777777778,
              "#fb9f3a"
             ],
             [
              0.8888888888888888,
              "#fdca26"
             ],
             [
              1,
              "#f0f921"
             ]
            ],
            "type": "surface"
           }
          ],
          "table": [
           {
            "cells": {
             "fill": {
              "color": "#EBF0F8"
             },
             "line": {
              "color": "white"
             }
            },
            "header": {
             "fill": {
              "color": "#C8D4E3"
             },
             "line": {
              "color": "white"
             }
            },
            "type": "table"
           }
          ]
         },
         "layout": {
          "annotationdefaults": {
           "arrowcolor": "#2a3f5f",
           "arrowhead": 0,
           "arrowwidth": 1
          },
          "autotypenumbers": "strict",
          "coloraxis": {
           "colorbar": {
            "outlinewidth": 0,
            "ticks": ""
           }
          },
          "colorscale": {
           "diverging": [
            [
             0,
             "#8e0152"
            ],
            [
             0.1,
             "#c51b7d"
            ],
            [
             0.2,
             "#de77ae"
            ],
            [
             0.3,
             "#f1b6da"
            ],
            [
             0.4,
             "#fde0ef"
            ],
            [
             0.5,
             "#f7f7f7"
            ],
            [
             0.6,
             "#e6f5d0"
            ],
            [
             0.7,
             "#b8e186"
            ],
            [
             0.8,
             "#7fbc41"
            ],
            [
             0.9,
             "#4d9221"
            ],
            [
             1,
             "#276419"
            ]
           ],
           "sequential": [
            [
             0,
             "#0d0887"
            ],
            [
             0.1111111111111111,
             "#46039f"
            ],
            [
             0.2222222222222222,
             "#7201a8"
            ],
            [
             0.3333333333333333,
             "#9c179e"
            ],
            [
             0.4444444444444444,
             "#bd3786"
            ],
            [
             0.5555555555555556,
             "#d8576b"
            ],
            [
             0.6666666666666666,
             "#ed7953"
            ],
            [
             0.7777777777777778,
             "#fb9f3a"
            ],
            [
             0.8888888888888888,
             "#fdca26"
            ],
            [
             1,
             "#f0f921"
            ]
           ],
           "sequentialminus": [
            [
             0,
             "#0d0887"
            ],
            [
             0.1111111111111111,
             "#46039f"
            ],
            [
             0.2222222222222222,
             "#7201a8"
            ],
            [
             0.3333333333333333,
             "#9c179e"
            ],
            [
             0.4444444444444444,
             "#bd3786"
            ],
            [
             0.5555555555555556,
             "#d8576b"
            ],
            [
             0.6666666666666666,
             "#ed7953"
            ],
            [
             0.7777777777777778,
             "#fb9f3a"
            ],
            [
             0.8888888888888888,
             "#fdca26"
            ],
            [
             1,
             "#f0f921"
            ]
           ]
          },
          "colorway": [
           "#636efa",
           "#EF553B",
           "#00cc96",
           "#ab63fa",
           "#FFA15A",
           "#19d3f3",
           "#FF6692",
           "#B6E880",
           "#FF97FF",
           "#FECB52"
          ],
          "font": {
           "color": "#2a3f5f"
          },
          "geo": {
           "bgcolor": "white",
           "lakecolor": "white",
           "landcolor": "#E5ECF6",
           "showlakes": true,
           "showland": true,
           "subunitcolor": "white"
          },
          "hoverlabel": {
           "align": "left"
          },
          "hovermode": "closest",
          "mapbox": {
           "style": "light"
          },
          "paper_bgcolor": "white",
          "plot_bgcolor": "#E5ECF6",
          "polar": {
           "angularaxis": {
            "gridcolor": "white",
            "linecolor": "white",
            "ticks": ""
           },
           "bgcolor": "#E5ECF6",
           "radialaxis": {
            "gridcolor": "white",
            "linecolor": "white",
            "ticks": ""
           }
          },
          "scene": {
           "xaxis": {
            "backgroundcolor": "#E5ECF6",
            "gridcolor": "white",
            "gridwidth": 2,
            "linecolor": "white",
            "showbackground": true,
            "ticks": "",
            "zerolinecolor": "white"
           },
           "yaxis": {
            "backgroundcolor": "#E5ECF6",
            "gridcolor": "white",
            "gridwidth": 2,
            "linecolor": "white",
            "showbackground": true,
            "ticks": "",
            "zerolinecolor": "white"
           },
           "zaxis": {
            "backgroundcolor": "#E5ECF6",
            "gridcolor": "white",
            "gridwidth": 2,
            "linecolor": "white",
            "showbackground": true,
            "ticks": "",
            "zerolinecolor": "white"
           }
          },
          "shapedefaults": {
           "line": {
            "color": "#2a3f5f"
           }
          },
          "ternary": {
           "aaxis": {
            "gridcolor": "white",
            "linecolor": "white",
            "ticks": ""
           },
           "baxis": {
            "gridcolor": "white",
            "linecolor": "white",
            "ticks": ""
           },
           "bgcolor": "#E5ECF6",
           "caxis": {
            "gridcolor": "white",
            "linecolor": "white",
            "ticks": ""
           }
          },
          "title": {
           "x": 0.05
          },
          "xaxis": {
           "automargin": true,
           "gridcolor": "white",
           "linecolor": "white",
           "ticks": "",
           "title": {
            "standoff": 15
           },
           "zerolinecolor": "white",
           "zerolinewidth": 2
          },
          "yaxis": {
           "automargin": true,
           "gridcolor": "white",
           "linecolor": "white",
           "ticks": "",
           "title": {
            "standoff": 15
           },
           "zerolinecolor": "white",
           "zerolinewidth": 2
          }
         }
        },
        "title": {
         "text": "Top 10 Countries by Average Suicide Rate (Males) per 100k (2019-2021)"
        },
        "xaxis": {
         "anchor": "y",
         "autorange": true,
         "domain": [
          0,
          1
         ],
         "range": [
          -0.5,
          9.5
         ],
         "title": {
          "text": "country"
         },
         "type": "category"
        },
        "yaxis": {
         "anchor": "x",
         "autorange": true,
         "domain": [
          0,
          1
         ],
         "range": [
          0,
          122.10526315789474
         ],
         "title": {
          "text": "Suicide Rate per 100k"
         },
         "type": "linear"
        }
       }
      },
      "image/png": "[encoded data removed]",
      "text/html": [
       "<div>                            <div id=\"4b0ba266-e9cd-4a2d-bddd-ec10c9941a6f\" class=\"plotly-graph-div\" style=\"height:525px; width:100%;\"></div>            <script type=\"text/javascript\">                require([\"plotly\"], function(Plotly) {                    window.PLOTLYENV=window.PLOTLYENV || {};                                    if (document.getElementById(\"4b0ba266-e9cd-4a2d-bddd-ec10c9941a6f\")) {                    Plotly.newPlot(                        \"4b0ba266-e9cd-4a2d-bddd-ec10c9941a6f\",                        [{\"alignmentgroup\":\"True\",\"hovertemplate\":\"Year=male_2019\\u003cbr\\u003ecountry=%{x}\\u003cbr\\u003eSuicide Rate per 100k=%{y}\\u003cextra\\u003e\\u003c\\u002fextra\\u003e\",\"legendgroup\":\"male_2019\",\"marker\":{\"color\":\"#636efa\",\"pattern\":{\"shape\":\"\"}},\"name\":\"male_2019\",\"offsetgroup\":\"male_2019\",\"orientation\":\"v\",\"showlegend\":true,\"textposition\":\"auto\",\"x\":[\"lesotho\",\"greenland\",\"guyana\",\"lithuania\",\"russia\",\"ukraine\",\"eswatini\",\"suriname\",\"south korea\",\"kiribati\"],\"xaxis\":\"x\",\"y\":[116.0,0.0,63.0,45.4,43.6,39.2,55.1,38.8,40.2,48.6],\"yaxis\":\"y\",\"type\":\"bar\"},{\"alignmentgroup\":\"True\",\"hovertemplate\":\"Year=male_2020\\u003cbr\\u003ecountry=%{x}\\u003cbr\\u003eSuicide Rate per 100k=%{y}\\u003cextra\\u003e\\u003c\\u002fextra\\u003e\",\"legendgroup\":\"male_2020\",\"marker\":{\"color\":\"#EF553B\",\"pattern\":{\"shape\":\"\"}},\"name\":\"male_2020\",\"offsetgroup\":\"male_2020\",\"orientation\":\"v\",\"showlegend\":true,\"textposition\":\"auto\",\"x\":[\"lesotho\",\"greenland\",\"guyana\",\"lithuania\",\"russia\",\"ukraine\",\"eswatini\",\"suriname\",\"south korea\",\"kiribati\"],\"xaxis\":\"x\",\"y\":[32.8,94.39,53.32,50.46,42.42,40.96,32.09,40.11,36.61,30.26],\"yaxis\":\"y\",\"type\":\"bar\"},{\"alignmentgroup\":\"True\",\"hovertemplate\":\"Year=male_2021\\u003cbr\\u003ecountry=%{x}\\u003cbr\\u003eSuicide Rate per 100k=%{y}\\u003cextra\\u003e\\u003c\\u002fextra\\u003e\",\"legendgroup\":\"male_2021\",\"marker\":{\"color\":\"#00cc96\",\"pattern\":{\"shape\":\"\"}},\"name\":\"male_2021\",\"offsetgroup\":\"male_2021\",\"orientation\":\"v\",\"showlegend\":true,\"textposition\":\"auto\",\"x\":[\"lesotho\",\"greenland\",\"guyana\",\"lithuania\",\"russia\",\"ukraine\",\"eswatini\",\"suriname\",\"south korea\",\"kiribati\"],\"xaxis\":\"x\",\"y\":[32.55,86.96,52.79,49.96,41.82,41.4,31.17,37.42,36.96,30.08],\"yaxis\":\"y\",\"type\":\"bar\"}],                        {\"template\":{\"data\":{\"histogram2dcontour\":[{\"type\":\"histogram2dcontour\",\"colorbar\":{\"outlinewidth\":0,\"ticks\":\"\"},\"colorscale\":[[0.0,\"#0d0887\"],[0.1111111111111111,\"#46039f\"],[0.2222222222222222,\"#7201a8\"],[0.3333333333333333,\"#9c179e\"],[0.4444444444444444,\"#bd3786\"],[0.5555555555555556,\"#d8576b\"],[0.6666666666666666,\"#ed7953\"],[0.7777777777777778,\"#fb9f3a\"],[0.8888888888888888,\"#fdca26\"],[1.0,\"#f0f921\"]]}],\"choropleth\":[{\"type\":\"choropleth\",\"colorbar\":{\"outlinewidth\":0,\"ticks\":\"\"}}],\"histogram2d\":[{\"type\":\"histogram2d\",\"colorbar\":{\"outlinewidth\":0,\"ticks\":\"\"},\"colorscale\":[[0.0,\"#0d0887\"],[0.1111111111111111,\"#46039f\"],[0.2222222222222222,\"#7201a8\"],[0.3333333333333333,\"#9c179e\"],[0.4444444444444444,\"#bd3786\"],[0.5555555555555556,\"#d8576b\"],[0.6666666666666666,\"#ed7953\"],[0.7777777777777778,\"#fb9f3a\"],[0.8888888888888888,\"#fdca26\"],[1.0,\"#f0f921\"]]}],\"heatmap\":[{\"type\":\"heatmap\",\"colorbar\":{\"outlinewidth\":0,\"ticks\":\"\"},\"colorscale\":[[0.0,\"#0d0887\"],[0.1111111111111111,\"#46039f\"],[0.2222222222222222,\"#7201a8\"],[0.3333333333333333,\"#9c179e\"],[0.4444444444444444,\"#bd3786\"],[0.5555555555555556,\"#d8576b\"],[0.6666666666666666,\"#ed7953\"],[0.7777777777777778,\"#fb9f3a\"],[0.8888888888888888,\"#fdca26\"],[1.0,\"#f0f921\"]]}],\"heatmapgl\":[{\"type\":\"heatmapgl\",\"colorbar\":{\"outlinewidth\":0,\"ticks\":\"\"},\"colorscale\":[[0.0,\"#0d0887\"],[0.1111111111111111,\"#46039f\"],[0.2222222222222222,\"#7201a8\"],[0.3333333333333333,\"#9c179e\"],[0.4444444444444444,\"#bd3786\"],[0.5555555555555556,\"#d8576b\"],[0.6666666666666666,\"#ed7953\"],[0.7777777777777778,\"#fb9f3a\"],[0.8888888888888888,\"#fdca26\"],[1.0,\"#f0f921\"]]}],\"contourcarpet\":[{\"type\":\"contourcarpet\",\"colorbar\":{\"outlinewidth\":0,\"ticks\":\"\"}}],\"contour\":[{\"type\":\"contour\",\"colorbar\":{\"outlinewidth\":0,\"ticks\":\"\"},\"colorscale\":[[0.0,\"#0d0887\"],[0.1111111111111111,\"#46039f\"],[0.2222222222222222,\"#7201a8\"],[0.3333333333333333,\"#9c179e\"],[0.4444444444444444,\"#bd3786\"],[0.5555555555555556,\"#d8576b\"],[0.6666666666666666,\"#ed7953\"],[0.7777777777777778,\"#fb9f3a\"],[0.8888888888888888,\"#fdca26\"],[1.0,\"#f0f921\"]]}],\"surface\":[{\"type\":\"surface\",\"colorbar\":{\"outlinewidth\":0,\"ticks\":\"\"},\"colorscale\":[[0.0,\"#0d0887\"],[0.1111111111111111,\"#46039f\"],[0.2222222222222222,\"#7201a8\"],[0.3333333333333333,\"#9c179e\"],[0.4444444444444444,\"#bd3786\"],[0.5555555555555556,\"#d8576b\"],[0.6666666666666666,\"#ed7953\"],[0.7777777777777778,\"#fb9f3a\"],[0.8888888888888888,\"#fdca26\"],[1.0,\"#f0f921\"]]}],\"mesh3d\":[{\"type\":\"mesh3d\",\"colorbar\":{\"outlinewidth\":0,\"ticks\":\"\"}}],\"scatter\":[{\"fillpattern\":{\"fillmode\":\"overlay\",\"size\":10,\"solidity\":0.2},\"type\":\"scatter\"}],\"parcoords\":[{\"type\":\"parcoords\",\"line\":{\"colorbar\":{\"outlinewidth\":0,\"ticks\":\"\"}}}],\"scatterpolargl\":[{\"type\":\"scatterpolargl\",\"marker\":{\"colorbar\":{\"outlinewidth\":0,\"ticks\":\"\"}}}],\"bar\":[{\"error_x\":{\"color\":\"#2a3f5f\"},\"error_y\":{\"color\":\"#2a3f5f\"},\"marker\":{\"line\":{\"color\":\"#E5ECF6\",\"width\":0.5},\"pattern\":{\"fillmode\":\"overlay\",\"size\":10,\"solidity\":0.2}},\"type\":\"bar\"}],\"scattergeo\":[{\"type\":\"scattergeo\",\"marker\":{\"colorbar\":{\"outlinewidth\":0,\"ticks\":\"\"}}}],\"scatterpolar\":[{\"type\":\"scatterpolar\",\"marker\":{\"colorbar\":{\"outlinewidth\":0,\"ticks\":\"\"}}}],\"histogram\":[{\"marker\":{\"pattern\":{\"fillmode\":\"overlay\",\"size\":10,\"solidity\":0.2}},\"type\":\"histogram\"}],\"scattergl\":[{\"type\":\"scattergl\",\"marker\":{\"colorbar\":{\"outlinewidth\":0,\"ticks\":\"\"}}}],\"scatter3d\":[{\"type\":\"scatter3d\",\"line\":{\"colorbar\":{\"outlinewidth\":0,\"ticks\":\"\"}},\"marker\":{\"colorbar\":{\"outlinewidth\":0,\"ticks\":\"\"}}}],\"scattermapbox\":[{\"type\":\"scattermapbox\",\"marker\":{\"colorbar\":{\"outlinewidth\":0,\"ticks\":\"\"}}}],\"scatterternary\":[{\"type\":\"scatterternary\",\"marker\":{\"colorbar\":{\"outlinewidth\":0,\"ticks\":\"\"}}}],\"scattercarpet\":[{\"type\":\"scattercarpet\",\"marker\":{\"colorbar\":{\"outlinewidth\":0,\"ticks\":\"\"}}}],\"carpet\":[{\"aaxis\":{\"endlinecolor\":\"#2a3f5f\",\"gridcolor\":\"white\",\"linecolor\":\"white\",\"minorgridcolor\":\"white\",\"startlinecolor\":\"#2a3f5f\"},\"baxis\":{\"endlinecolor\":\"#2a3f5f\",\"gridcolor\":\"white\",\"linecolor\":\"white\",\"minorgridcolor\":\"white\",\"startlinecolor\":\"#2a3f5f\"},\"type\":\"carpet\"}],\"table\":[{\"cells\":{\"fill\":{\"color\":\"#EBF0F8\"},\"line\":{\"color\":\"white\"}},\"header\":{\"fill\":{\"color\":\"#C8D4E3\"},\"line\":{\"color\":\"white\"}},\"type\":\"table\"}],\"barpolar\":[{\"marker\":{\"line\":{\"color\":\"#E5ECF6\",\"width\":0.5},\"pattern\":{\"fillmode\":\"overlay\",\"size\":10,\"solidity\":0.2}},\"type\":\"barpolar\"}],\"pie\":[{\"automargin\":true,\"type\":\"pie\"}]},\"layout\":{\"autotypenumbers\":\"strict\",\"colorway\":[\"#636efa\",\"#EF553B\",\"#00cc96\",\"#ab63fa\",\"#FFA15A\",\"#19d3f3\",\"#FF6692\",\"#B6E880\",\"#FF97FF\",\"#FECB52\"],\"font\":{\"color\":\"#2a3f5f\"},\"hovermode\":\"closest\",\"hoverlabel\":{\"align\":\"left\"},\"paper_bgcolor\":\"white\",\"plot_bgcolor\":\"#E5ECF6\",\"polar\":{\"bgcolor\":\"#E5ECF6\",\"angularaxis\":{\"gridcolor\":\"white\",\"linecolor\":\"white\",\"ticks\":\"\"},\"radialaxis\":{\"gridcolor\":\"white\",\"linecolor\":\"white\",\"ticks\":\"\"}},\"ternary\":{\"bgcolor\":\"#E5ECF6\",\"aaxis\":{\"gridcolor\":\"white\",\"linecolor\":\"white\",\"ticks\":\"\"},\"baxis\":{\"gridcolor\":\"white\",\"linecolor\":\"white\",\"ticks\":\"\"},\"caxis\":{\"gridcolor\":\"white\",\"linecolor\":\"white\",\"ticks\":\"\"}},\"coloraxis\":{\"colorbar\":{\"outlinewidth\":0,\"ticks\":\"\"}},\"colorscale\":{\"sequential\":[[0.0,\"#0d0887\"],[0.1111111111111111,\"#46039f\"],[0.2222222222222222,\"#7201a8\"],[0.3333333333333333,\"#9c179e\"],[0.4444444444444444,\"#bd3786\"],[0.5555555555555556,\"#d8576b\"],[0.6666666666666666,\"#ed7953\"],[0.7777777777777778,\"#fb9f3a\"],[0.8888888888888888,\"#fdca26\"],[1.0,\"#f0f921\"]],\"sequentialminus\":[[0.0,\"#0d0887\"],[0.1111111111111111,\"#46039f\"],[0.2222222222222222,\"#7201a8\"],[0.3333333333333333,\"#9c179e\"],[0.4444444444444444,\"#bd3786\"],[0.5555555555555556,\"#d8576b\"],[0.6666666666666666,\"#ed7953\"],[0.7777777777777778,\"#fb9f3a\"],[0.8888888888888888,\"#fdca26\"],[1.0,\"#f0f921\"]],\"diverging\":[[0,\"#8e0152\"],[0.1,\"#c51b7d\"],[0.2,\"#de77ae\"],[0.3,\"#f1b6da\"],[0.4,\"#fde0ef\"],[0.5,\"#f7f7f7\"],[0.6,\"#e6f5d0\"],[0.7,\"#b8e186\"],[0.8,\"#7fbc41\"],[0.9,\"#4d9221\"],[1,\"#276419\"]]},\"xaxis\":{\"gridcolor\":\"white\",\"linecolor\":\"white\",\"ticks\":\"\",\"title\":{\"standoff\":15},\"zerolinecolor\":\"white\",\"automargin\":true,\"zerolinewidth\":2},\"yaxis\":{\"gridcolor\":\"white\",\"linecolor\":\"white\",\"ticks\":\"\",\"title\":{\"standoff\":15},\"zerolinecolor\":\"white\",\"automargin\":true,\"zerolinewidth\":2},\"scene\":{\"xaxis\":{\"backgroundcolor\":\"#E5ECF6\",\"gridcolor\":\"white\",\"linecolor\":\"white\",\"showbackground\":true,\"ticks\":\"\",\"zerolinecolor\":\"white\",\"gridwidth\":2},\"yaxis\":{\"backgroundcolor\":\"#E5ECF6\",\"gridcolor\":\"white\",\"linecolor\":\"white\",\"showbackground\":true,\"ticks\":\"\",\"zerolinecolor\":\"white\",\"gridwidth\":2},\"zaxis\":{\"backgroundcolor\":\"#E5ECF6\",\"gridcolor\":\"white\",\"linecolor\":\"white\",\"showbackground\":true,\"ticks\":\"\",\"zerolinecolor\":\"white\",\"gridwidth\":2}},\"shapedefaults\":{\"line\":{\"color\":\"#2a3f5f\"}},\"annotationdefaults\":{\"arrowcolor\":\"#2a3f5f\",\"arrowhead\":0,\"arrowwidth\":1},\"geo\":{\"bgcolor\":\"white\",\"landcolor\":\"#E5ECF6\",\"subunitcolor\":\"white\",\"showland\":true,\"showlakes\":true,\"lakecolor\":\"white\"},\"title\":{\"x\":0.05},\"mapbox\":{\"style\":\"light\"}}},\"xaxis\":{\"anchor\":\"y\",\"domain\":[0.0,1.0],\"title\":{\"text\":\"country\"}},\"yaxis\":{\"anchor\":\"x\",\"domain\":[0.0,1.0],\"title\":{\"text\":\"Suicide Rate per 100k\"}},\"legend\":{\"title\":{\"text\":\"Year\"},\"tracegroupgap\":0},\"title\":{\"text\":\"Top 10 Countries by Average Suicide Rate (Males) per 100k (2019-2021)\"},\"barmode\":\"group\"},                        {\"responsive\": true}                    ).then(function(){\n",
       "                            \n",
       "var gd = document.getElementById('4b0ba266-e9cd-4a2d-bddd-ec10c9941a6f');\n",
       "var x = new MutationObserver(function (mutations, observer) {{\n",
       "        var display = window.getComputedStyle(gd).display;\n",
       "        if (!display || display === 'none') {{\n",
       "            console.log([gd, 'removed!']);\n",
       "            Plotly.purge(gd);\n",
       "            observer.disconnect();\n",
       "        }}\n",
       "}});\n",
       "\n",
       "// Listen for the removal of the full notebook cells\n",
       "var notebookContainer = gd.closest('#notebook-container');\n",
       "if (notebookContainer) {{\n",
       "    x.observe(notebookContainer, {childList: true});\n",
       "}}\n",
       "\n",
       "// Listen for the clearing of the current output cell\n",
       "var outputEl = gd.closest('.output');\n",
       "if (outputEl) {{\n",
       "    x.observe(outputEl, {childList: true});\n",
       "}}\n",
       "\n",
       "                        })                };                });            </script>        </div>"
      ]
     },
     "metadata": {},
     "output_type": "display_data"
    }
   ],
   "source": [
    "# visualisation of male suicide rate\n",
    "fig = px.bar(top_10_male, x='country', y=['male_2019','male_2020','male_2021'],\n",
    "title='Top 10 Countries by Average Suicide Rate (Males) per 100k (2019-2021)',\n",
    "labels={'value': 'Suicide Rate per 100k', 'variable': 'Year'}, \n",
    "barmode='group')\n",
    "fig.show()"
   ]
  },
  {
   "cell_type": "code",
   "execution_count": 171,
   "id": "c35898b1-46c7-4c52-aafd-98fb3bb5c73e",
   "metadata": {
    "tags": []
   },
   "outputs": [
    {
     "data": {
      "application/vnd.plotly.v1+json": {
       "config": {
        "plotlyServerURL": "https://plot.ly"
       },
       "data": [
        {
         "alignmentgroup": "True",
         "hovertemplate": "Year=female_2019<br>country=%{x}<br>Suicide Rate per 100k=%{y}<extra></extra>",
         "legendgroup": "female_2019",
         "marker": {
          "color": "#636efa",
          "pattern": {
           "shape": ""
          }
         },
         "name": "female_2019",
         "offsetgroup": "female_2019",
         "orientation": "v",
         "showlegend": true,
         "textposition": "auto",
         "type": "bar",
         "x": [
          "lesotho",
          "greenland",
          "guyana",
          "lithuania",
          "russia",
          "ukraine",
          "eswatini",
          "suriname",
          "south korea",
          "kiribati"
         ],
         "xaxis": "x",
         "y": [
          30.1,
          0,
          17.4,
          9.6,
          9.1,
          6.5,
          4.7,
          11.8,
          16.9,
          8.7
         ],
         "yaxis": "y"
        },
        {
         "alignmentgroup": "True",
         "hovertemplate": "Year=female_2020<br>country=%{x}<br>Suicide Rate per 100k=%{y}<extra></extra>",
         "legendgroup": "female_2020",
         "marker": {
          "color": "#EF553B",
          "pattern": {
           "shape": ""
          }
         },
         "name": "female_2020",
         "offsetgroup": "female_2020",
         "orientation": "v",
         "showlegend": true,
         "textposition": "auto",
         "type": "bar",
         "x": [
          "lesotho",
          "greenland",
          "guyana",
          "lithuania",
          "russia",
          "ukraine",
          "eswatini",
          "suriname",
          "south korea",
          "kiribati"
         ],
         "xaxis": "x",
         "y": [
          9.44,
          31.59,
          10.59,
          8.93,
          8.44,
          7.32,
          6.19,
          10.58,
          14.56,
          5.05
         ],
         "yaxis": "y"
        },
        {
         "alignmentgroup": "True",
         "hovertemplate": "Year=female_2021<br>country=%{x}<br>Suicide Rate per 100k=%{y}<extra></extra>",
         "legendgroup": "female_2021",
         "marker": {
          "color": "#00cc96",
          "pattern": {
           "shape": ""
          }
         },
         "name": "female_2021",
         "offsetgroup": "female_2021",
         "orientation": "v",
         "showlegend": true,
         "textposition": "auto",
         "type": "bar",
         "x": [
          "lesotho",
          "greenland",
          "guyana",
          "lithuania",
          "russia",
          "ukraine",
          "eswatini",
          "suriname",
          "south korea",
          "kiribati"
         ],
         "xaxis": "x",
         "y": [
          9.27,
          29.4,
          10.31,
          9.07,
          8.66,
          7.43,
          6.16,
          10.13,
          14.58,
          5.02
         ],
         "yaxis": "y"
        }
       ],
       "layout": {
        "autosize": true,
        "barmode": "group",
        "legend": {
         "title": {
          "text": "Year"
         },
         "tracegroupgap": 0
        },
        "template": {
         "data": {
          "bar": [
           {
            "error_x": {
             "color": "#2a3f5f"
            },
            "error_y": {
             "color": "#2a3f5f"
            },
            "marker": {
             "line": {
              "color": "#E5ECF6",
              "width": 0.5
             },
             "pattern": {
              "fillmode": "overlay",
              "size": 10,
              "solidity": 0.2
             }
            },
            "type": "bar"
           }
          ],
          "barpolar": [
           {
            "marker": {
             "line": {
              "color": "#E5ECF6",
              "width": 0.5
             },
             "pattern": {
              "fillmode": "overlay",
              "size": 10,
              "solidity": 0.2
             }
            },
            "type": "barpolar"
           }
          ],
          "carpet": [
           {
            "aaxis": {
             "endlinecolor": "#2a3f5f",
             "gridcolor": "white",
             "linecolor": "white",
             "minorgridcolor": "white",
             "startlinecolor": "#2a3f5f"
            },
            "baxis": {
             "endlinecolor": "#2a3f5f",
             "gridcolor": "white",
             "linecolor": "white",
             "minorgridcolor": "white",
             "startlinecolor": "#2a3f5f"
            },
            "type": "carpet"
           }
          ],
          "choropleth": [
           {
            "colorbar": {
             "outlinewidth": 0,
             "ticks": ""
            },
            "type": "choropleth"
           }
          ],
          "contour": [
           {
            "colorbar": {
             "outlinewidth": 0,
             "ticks": ""
            },
            "colorscale": [
             [
              0,
              "#0d0887"
             ],
             [
              0.1111111111111111,
              "#46039f"
             ],
             [
              0.2222222222222222,
              "#7201a8"
             ],
             [
              0.3333333333333333,
              "#9c179e"
             ],
             [
              0.4444444444444444,
              "#bd3786"
             ],
             [
              0.5555555555555556,
              "#d8576b"
             ],
             [
              0.6666666666666666,
              "#ed7953"
             ],
             [
              0.7777777777777778,
              "#fb9f3a"
             ],
             [
              0.8888888888888888,
              "#fdca26"
             ],
             [
              1,
              "#f0f921"
             ]
            ],
            "type": "contour"
           }
          ],
          "contourcarpet": [
           {
            "colorbar": {
             "outlinewidth": 0,
             "ticks": ""
            },
            "type": "contourcarpet"
           }
          ],
          "heatmap": [
           {
            "colorbar": {
             "outlinewidth": 0,
             "ticks": ""
            },
            "colorscale": [
             [
              0,
              "#0d0887"
             ],
             [
              0.1111111111111111,
              "#46039f"
             ],
             [
              0.2222222222222222,
              "#7201a8"
             ],
             [
              0.3333333333333333,
              "#9c179e"
             ],
             [
              0.4444444444444444,
              "#bd3786"
             ],
             [
              0.5555555555555556,
              "#d8576b"
             ],
             [
              0.6666666666666666,
              "#ed7953"
             ],
             [
              0.7777777777777778,
              "#fb9f3a"
             ],
             [
              0.8888888888888888,
              "#fdca26"
             ],
             [
              1,
              "#f0f921"
             ]
            ],
            "type": "heatmap"
           }
          ],
          "heatmapgl": [
           {
            "colorbar": {
             "outlinewidth": 0,
             "ticks": ""
            },
            "colorscale": [
             [
              0,
              "#0d0887"
             ],
             [
              0.1111111111111111,
              "#46039f"
             ],
             [
              0.2222222222222222,
              "#7201a8"
             ],
             [
              0.3333333333333333,
              "#9c179e"
             ],
             [
              0.4444444444444444,
              "#bd3786"
             ],
             [
              0.5555555555555556,
              "#d8576b"
             ],
             [
              0.6666666666666666,
              "#ed7953"
             ],
             [
              0.7777777777777778,
              "#fb9f3a"
             ],
             [
              0.8888888888888888,
              "#fdca26"
             ],
             [
              1,
              "#f0f921"
             ]
            ],
            "type": "heatmapgl"
           }
          ],
          "histogram": [
           {
            "marker": {
             "pattern": {
              "fillmode": "overlay",
              "size": 10,
              "solidity": 0.2
             }
            },
            "type": "histogram"
           }
          ],
          "histogram2d": [
           {
            "colorbar": {
             "outlinewidth": 0,
             "ticks": ""
            },
            "colorscale": [
             [
              0,
              "#0d0887"
             ],
             [
              0.1111111111111111,
              "#46039f"
             ],
             [
              0.2222222222222222,
              "#7201a8"
             ],
             [
              0.3333333333333333,
              "#9c179e"
             ],
             [
              0.4444444444444444,
              "#bd3786"
             ],
             [
              0.5555555555555556,
              "#d8576b"
             ],
             [
              0.6666666666666666,
              "#ed7953"
             ],
             [
              0.7777777777777778,
              "#fb9f3a"
             ],
             [
              0.8888888888888888,
              "#fdca26"
             ],
             [
              1,
              "#f0f921"
             ]
            ],
            "type": "histogram2d"
           }
          ],
          "histogram2dcontour": [
           {
            "colorbar": {
             "outlinewidth": 0,
             "ticks": ""
            },
            "colorscale": [
             [
              0,
              "#0d0887"
             ],
             [
              0.1111111111111111,
              "#46039f"
             ],
             [
              0.2222222222222222,
              "#7201a8"
             ],
             [
              0.3333333333333333,
              "#9c179e"
             ],
             [
              0.4444444444444444,
              "#bd3786"
             ],
             [
              0.5555555555555556,
              "#d8576b"
             ],
             [
              0.6666666666666666,
              "#ed7953"
             ],
             [
              0.7777777777777778,
              "#fb9f3a"
             ],
             [
              0.8888888888888888,
              "#fdca26"
             ],
             [
              1,
              "#f0f921"
             ]
            ],
            "type": "histogram2dcontour"
           }
          ],
          "mesh3d": [
           {
            "colorbar": {
             "outlinewidth": 0,
             "ticks": ""
            },
            "type": "mesh3d"
           }
          ],
          "parcoords": [
           {
            "line": {
             "colorbar": {
              "outlinewidth": 0,
              "ticks": ""
             }
            },
            "type": "parcoords"
           }
          ],
          "pie": [
           {
            "automargin": true,
            "type": "pie"
           }
          ],
          "scatter": [
           {
            "fillpattern": {
             "fillmode": "overlay",
             "size": 10,
             "solidity": 0.2
            },
            "type": "scatter"
           }
          ],
          "scatter3d": [
           {
            "line": {
             "colorbar": {
              "outlinewidth": 0,
              "ticks": ""
             }
            },
            "marker": {
             "colorbar": {
              "outlinewidth": 0,
              "ticks": ""
             }
            },
            "type": "scatter3d"
           }
          ],
          "scattercarpet": [
           {
            "marker": {
             "colorbar": {
              "outlinewidth": 0,
              "ticks": ""
             }
            },
            "type": "scattercarpet"
           }
          ],
          "scattergeo": [
           {
            "marker": {
             "colorbar": {
              "outlinewidth": 0,
              "ticks": ""
             }
            },
            "type": "scattergeo"
           }
          ],
          "scattergl": [
           {
            "marker": {
             "colorbar": {
              "outlinewidth": 0,
              "ticks": ""
             }
            },
            "type": "scattergl"
           }
          ],
          "scattermapbox": [
           {
            "marker": {
             "colorbar": {
              "outlinewidth": 0,
              "ticks": ""
             }
            },
            "type": "scattermapbox"
           }
          ],
          "scatterpolar": [
           {
            "marker": {
             "colorbar": {
              "outlinewidth": 0,
              "ticks": ""
             }
            },
            "type": "scatterpolar"
           }
          ],
          "scatterpolargl": [
           {
            "marker": {
             "colorbar": {
              "outlinewidth": 0,
              "ticks": ""
             }
            },
            "type": "scatterpolargl"
           }
          ],
          "scatterternary": [
           {
            "marker": {
             "colorbar": {
              "outlinewidth": 0,
              "ticks": ""
             }
            },
            "type": "scatterternary"
           }
          ],
          "surface": [
           {
            "colorbar": {
             "outlinewidth": 0,
             "ticks": ""
            },
            "colorscale": [
             [
              0,
              "#0d0887"
             ],
             [
              0.1111111111111111,
              "#46039f"
             ],
             [
              0.2222222222222222,
              "#7201a8"
             ],
             [
              0.3333333333333333,
              "#9c179e"
             ],
             [
              0.4444444444444444,
              "#bd3786"
             ],
             [
              0.5555555555555556,
              "#d8576b"
             ],
             [
              0.6666666666666666,
              "#ed7953"
             ],
             [
              0.7777777777777778,
              "#fb9f3a"
             ],
             [
              0.8888888888888888,
              "#fdca26"
             ],
             [
              1,
              "#f0f921"
             ]
            ],
            "type": "surface"
           }
          ],
          "table": [
           {
            "cells": {
             "fill": {
              "color": "#EBF0F8"
             },
             "line": {
              "color": "white"
             }
            },
            "header": {
             "fill": {
              "color": "#C8D4E3"
             },
             "line": {
              "color": "white"
             }
            },
            "type": "table"
           }
          ]
         },
         "layout": {
          "annotationdefaults": {
           "arrowcolor": "#2a3f5f",
           "arrowhead": 0,
           "arrowwidth": 1
          },
          "autotypenumbers": "strict",
          "coloraxis": {
           "colorbar": {
            "outlinewidth": 0,
            "ticks": ""
           }
          },
          "colorscale": {
           "diverging": [
            [
             0,
             "#8e0152"
            ],
            [
             0.1,
             "#c51b7d"
            ],
            [
             0.2,
             "#de77ae"
            ],
            [
             0.3,
             "#f1b6da"
            ],
            [
             0.4,
             "#fde0ef"
            ],
            [
             0.5,
             "#f7f7f7"
            ],
            [
             0.6,
             "#e6f5d0"
            ],
            [
             0.7,
             "#b8e186"
            ],
            [
             0.8,
             "#7fbc41"
            ],
            [
             0.9,
             "#4d9221"
            ],
            [
             1,
             "#276419"
            ]
           ],
           "sequential": [
            [
             0,
             "#0d0887"
            ],
            [
             0.1111111111111111,
             "#46039f"
            ],
            [
             0.2222222222222222,
             "#7201a8"
            ],
            [
             0.3333333333333333,
             "#9c179e"
            ],
            [
             0.4444444444444444,
             "#bd3786"
            ],
            [
             0.5555555555555556,
             "#d8576b"
            ],
            [
             0.6666666666666666,
             "#ed7953"
            ],
            [
             0.7777777777777778,
             "#fb9f3a"
            ],
            [
             0.8888888888888888,
             "#fdca26"
            ],
            [
             1,
             "#f0f921"
            ]
           ],
           "sequentialminus": [
            [
             0,
             "#0d0887"
            ],
            [
             0.1111111111111111,
             "#46039f"
            ],
            [
             0.2222222222222222,
             "#7201a8"
            ],
            [
             0.3333333333333333,
             "#9c179e"
            ],
            [
             0.4444444444444444,
             "#bd3786"
            ],
            [
             0.5555555555555556,
             "#d8576b"
            ],
            [
             0.6666666666666666,
             "#ed7953"
            ],
            [
             0.7777777777777778,
             "#fb9f3a"
            ],
            [
             0.8888888888888888,
             "#fdca26"
            ],
            [
             1,
             "#f0f921"
            ]
           ]
          },
          "colorway": [
           "#636efa",
           "#EF553B",
           "#00cc96",
           "#ab63fa",
           "#FFA15A",
           "#19d3f3",
           "#FF6692",
           "#B6E880",
           "#FF97FF",
           "#FECB52"
          ],
          "font": {
           "color": "#2a3f5f"
          },
          "geo": {
           "bgcolor": "white",
           "lakecolor": "white",
           "landcolor": "#E5ECF6",
           "showlakes": true,
           "showland": true,
           "subunitcolor": "white"
          },
          "hoverlabel": {
           "align": "left"
          },
          "hovermode": "closest",
          "mapbox": {
           "style": "light"
          },
          "paper_bgcolor": "white",
          "plot_bgcolor": "#E5ECF6",
          "polar": {
           "angularaxis": {
            "gridcolor": "white",
            "linecolor": "white",
            "ticks": ""
           },
           "bgcolor": "#E5ECF6",
           "radialaxis": {
            "gridcolor": "white",
            "linecolor": "white",
            "ticks": ""
           }
          },
          "scene": {
           "xaxis": {
            "backgroundcolor": "#E5ECF6",
            "gridcolor": "white",
            "gridwidth": 2,
            "linecolor": "white",
            "showbackground": true,
            "ticks": "",
            "zerolinecolor": "white"
           },
           "yaxis": {
            "backgroundcolor": "#E5ECF6",
            "gridcolor": "white",
            "gridwidth": 2,
            "linecolor": "white",
            "showbackground": true,
            "ticks": "",
            "zerolinecolor": "white"
           },
           "zaxis": {
            "backgroundcolor": "#E5ECF6",
            "gridcolor": "white",
            "gridwidth": 2,
            "linecolor": "white",
            "showbackground": true,
            "ticks": "",
            "zerolinecolor": "white"
           }
          },
          "shapedefaults": {
           "line": {
            "color": "#2a3f5f"
           }
          },
          "ternary": {
           "aaxis": {
            "gridcolor": "white",
            "linecolor": "white",
            "ticks": ""
           },
           "baxis": {
            "gridcolor": "white",
            "linecolor": "white",
            "ticks": ""
           },
           "bgcolor": "#E5ECF6",
           "caxis": {
            "gridcolor": "white",
            "linecolor": "white",
            "ticks": ""
           }
          },
          "title": {
           "x": 0.05
          },
          "xaxis": {
           "automargin": true,
           "gridcolor": "white",
           "linecolor": "white",
           "ticks": "",
           "title": {
            "standoff": 15
           },
           "zerolinecolor": "white",
           "zerolinewidth": 2
          },
          "yaxis": {
           "automargin": true,
           "gridcolor": "white",
           "linecolor": "white",
           "ticks": "",
           "title": {
            "standoff": 15
           },
           "zerolinecolor": "white",
           "zerolinewidth": 2
          }
         }
        },
        "title": {
         "text": "Top 10 Countries by Average Suicide Rate (Females) per 100k (2019-2021)"
        },
        "xaxis": {
         "anchor": "y",
         "autorange": true,
         "domain": [
          0,
          1
         ],
         "range": [
          -0.5,
          9.5
         ],
         "title": {
          "text": "country"
         },
         "type": "category"
        },
        "yaxis": {
         "anchor": "x",
         "autorange": true,
         "domain": [
          0,
          1
         ],
         "range": [
          0,
          33.252631578947366
         ],
         "title": {
          "text": "Suicide Rate per 100k"
         },
         "type": "linear"
        }
       }
      },
      "image/png": "[encoded data removed]",
      "text/html": [
       "<div>                            <div id=\"b1907780-8f92-4c3c-acae-5e384402e6ae\" class=\"plotly-graph-div\" style=\"height:525px; width:100%;\"></div>            <script type=\"text/javascript\">                require([\"plotly\"], function(Plotly) {                    window.PLOTLYENV=window.PLOTLYENV || {};                                    if (document.getElementById(\"b1907780-8f92-4c3c-acae-5e384402e6ae\")) {                    Plotly.newPlot(                        \"b1907780-8f92-4c3c-acae-5e384402e6ae\",                        [{\"alignmentgroup\":\"True\",\"hovertemplate\":\"Year=female_2019\\u003cbr\\u003ecountry=%{x}\\u003cbr\\u003eSuicide Rate per 100k=%{y}\\u003cextra\\u003e\\u003c\\u002fextra\\u003e\",\"legendgroup\":\"female_2019\",\"marker\":{\"color\":\"#636efa\",\"pattern\":{\"shape\":\"\"}},\"name\":\"female_2019\",\"offsetgroup\":\"female_2019\",\"orientation\":\"v\",\"showlegend\":true,\"textposition\":\"auto\",\"x\":[\"lesotho\",\"greenland\",\"guyana\",\"lithuania\",\"russia\",\"ukraine\",\"eswatini\",\"suriname\",\"south korea\",\"kiribati\"],\"xaxis\":\"x\",\"y\":[30.1,0.0,17.4,9.6,9.1,6.5,4.7,11.8,16.9,8.7],\"yaxis\":\"y\",\"type\":\"bar\"},{\"alignmentgroup\":\"True\",\"hovertemplate\":\"Year=female_2020\\u003cbr\\u003ecountry=%{x}\\u003cbr\\u003eSuicide Rate per 100k=%{y}\\u003cextra\\u003e\\u003c\\u002fextra\\u003e\",\"legendgroup\":\"female_2020\",\"marker\":{\"color\":\"#EF553B\",\"pattern\":{\"shape\":\"\"}},\"name\":\"female_2020\",\"offsetgroup\":\"female_2020\",\"orientation\":\"v\",\"showlegend\":true,\"textposition\":\"auto\",\"x\":[\"lesotho\",\"greenland\",\"guyana\",\"lithuania\",\"russia\",\"ukraine\",\"eswatini\",\"suriname\",\"south korea\",\"kiribati\"],\"xaxis\":\"x\",\"y\":[9.44,31.59,10.59,8.93,8.44,7.32,6.19,10.58,14.56,5.05],\"yaxis\":\"y\",\"type\":\"bar\"},{\"alignmentgroup\":\"True\",\"hovertemplate\":\"Year=female_2021\\u003cbr\\u003ecountry=%{x}\\u003cbr\\u003eSuicide Rate per 100k=%{y}\\u003cextra\\u003e\\u003c\\u002fextra\\u003e\",\"legendgroup\":\"female_2021\",\"marker\":{\"color\":\"#00cc96\",\"pattern\":{\"shape\":\"\"}},\"name\":\"female_2021\",\"offsetgroup\":\"female_2021\",\"orientation\":\"v\",\"showlegend\":true,\"textposition\":\"auto\",\"x\":[\"lesotho\",\"greenland\",\"guyana\",\"lithuania\",\"russia\",\"ukraine\",\"eswatini\",\"suriname\",\"south korea\",\"kiribati\"],\"xaxis\":\"x\",\"y\":[9.27,29.4,10.31,9.07,8.66,7.43,6.16,10.13,14.58,5.02],\"yaxis\":\"y\",\"type\":\"bar\"}],                        {\"template\":{\"data\":{\"histogram2dcontour\":[{\"type\":\"histogram2dcontour\",\"colorbar\":{\"outlinewidth\":0,\"ticks\":\"\"},\"colorscale\":[[0.0,\"#0d0887\"],[0.1111111111111111,\"#46039f\"],[0.2222222222222222,\"#7201a8\"],[0.3333333333333333,\"#9c179e\"],[0.4444444444444444,\"#bd3786\"],[0.5555555555555556,\"#d8576b\"],[0.6666666666666666,\"#ed7953\"],[0.7777777777777778,\"#fb9f3a\"],[0.8888888888888888,\"#fdca26\"],[1.0,\"#f0f921\"]]}],\"choropleth\":[{\"type\":\"choropleth\",\"colorbar\":{\"outlinewidth\":0,\"ticks\":\"\"}}],\"histogram2d\":[{\"type\":\"histogram2d\",\"colorbar\":{\"outlinewidth\":0,\"ticks\":\"\"},\"colorscale\":[[0.0,\"#0d0887\"],[0.1111111111111111,\"#46039f\"],[0.2222222222222222,\"#7201a8\"],[0.3333333333333333,\"#9c179e\"],[0.4444444444444444,\"#bd3786\"],[0.5555555555555556,\"#d8576b\"],[0.6666666666666666,\"#ed7953\"],[0.7777777777777778,\"#fb9f3a\"],[0.8888888888888888,\"#fdca26\"],[1.0,\"#f0f921\"]]}],\"heatmap\":[{\"type\":\"heatmap\",\"colorbar\":{\"outlinewidth\":0,\"ticks\":\"\"},\"colorscale\":[[0.0,\"#0d0887\"],[0.1111111111111111,\"#46039f\"],[0.2222222222222222,\"#7201a8\"],[0.3333333333333333,\"#9c179e\"],[0.4444444444444444,\"#bd3786\"],[0.5555555555555556,\"#d8576b\"],[0.6666666666666666,\"#ed7953\"],[0.7777777777777778,\"#fb9f3a\"],[0.8888888888888888,\"#fdca26\"],[1.0,\"#f0f921\"]]}],\"heatmapgl\":[{\"type\":\"heatmapgl\",\"colorbar\":{\"outlinewidth\":0,\"ticks\":\"\"},\"colorscale\":[[0.0,\"#0d0887\"],[0.1111111111111111,\"#46039f\"],[0.2222222222222222,\"#7201a8\"],[0.3333333333333333,\"#9c179e\"],[0.4444444444444444,\"#bd3786\"],[0.5555555555555556,\"#d8576b\"],[0.6666666666666666,\"#ed7953\"],[0.7777777777777778,\"#fb9f3a\"],[0.8888888888888888,\"#fdca26\"],[1.0,\"#f0f921\"]]}],\"contourcarpet\":[{\"type\":\"contourcarpet\",\"colorbar\":{\"outlinewidth\":0,\"ticks\":\"\"}}],\"contour\":[{\"type\":\"contour\",\"colorbar\":{\"outlinewidth\":0,\"ticks\":\"\"},\"colorscale\":[[0.0,\"#0d0887\"],[0.1111111111111111,\"#46039f\"],[0.2222222222222222,\"#7201a8\"],[0.3333333333333333,\"#9c179e\"],[0.4444444444444444,\"#bd3786\"],[0.5555555555555556,\"#d8576b\"],[0.6666666666666666,\"#ed7953\"],[0.7777777777777778,\"#fb9f3a\"],[0.8888888888888888,\"#fdca26\"],[1.0,\"#f0f921\"]]}],\"surface\":[{\"type\":\"surface\",\"colorbar\":{\"outlinewidth\":0,\"ticks\":\"\"},\"colorscale\":[[0.0,\"#0d0887\"],[0.1111111111111111,\"#46039f\"],[0.2222222222222222,\"#7201a8\"],[0.3333333333333333,\"#9c179e\"],[0.4444444444444444,\"#bd3786\"],[0.5555555555555556,\"#d8576b\"],[0.6666666666666666,\"#ed7953\"],[0.7777777777777778,\"#fb9f3a\"],[0.8888888888888888,\"#fdca26\"],[1.0,\"#f0f921\"]]}],\"mesh3d\":[{\"type\":\"mesh3d\",\"colorbar\":{\"outlinewidth\":0,\"ticks\":\"\"}}],\"scatter\":[{\"fillpattern\":{\"fillmode\":\"overlay\",\"size\":10,\"solidity\":0.2},\"type\":\"scatter\"}],\"parcoords\":[{\"type\":\"parcoords\",\"line\":{\"colorbar\":{\"outlinewidth\":0,\"ticks\":\"\"}}}],\"scatterpolargl\":[{\"type\":\"scatterpolargl\",\"marker\":{\"colorbar\":{\"outlinewidth\":0,\"ticks\":\"\"}}}],\"bar\":[{\"error_x\":{\"color\":\"#2a3f5f\"},\"error_y\":{\"color\":\"#2a3f5f\"},\"marker\":{\"line\":{\"color\":\"#E5ECF6\",\"width\":0.5},\"pattern\":{\"fillmode\":\"overlay\",\"size\":10,\"solidity\":0.2}},\"type\":\"bar\"}],\"scattergeo\":[{\"type\":\"scattergeo\",\"marker\":{\"colorbar\":{\"outlinewidth\":0,\"ticks\":\"\"}}}],\"scatterpolar\":[{\"type\":\"scatterpolar\",\"marker\":{\"colorbar\":{\"outlinewidth\":0,\"ticks\":\"\"}}}],\"histogram\":[{\"marker\":{\"pattern\":{\"fillmode\":\"overlay\",\"size\":10,\"solidity\":0.2}},\"type\":\"histogram\"}],\"scattergl\":[{\"type\":\"scattergl\",\"marker\":{\"colorbar\":{\"outlinewidth\":0,\"ticks\":\"\"}}}],\"scatter3d\":[{\"type\":\"scatter3d\",\"line\":{\"colorbar\":{\"outlinewidth\":0,\"ticks\":\"\"}},\"marker\":{\"colorbar\":{\"outlinewidth\":0,\"ticks\":\"\"}}}],\"scattermapbox\":[{\"type\":\"scattermapbox\",\"marker\":{\"colorbar\":{\"outlinewidth\":0,\"ticks\":\"\"}}}],\"scatterternary\":[{\"type\":\"scatterternary\",\"marker\":{\"colorbar\":{\"outlinewidth\":0,\"ticks\":\"\"}}}],\"scattercarpet\":[{\"type\":\"scattercarpet\",\"marker\":{\"colorbar\":{\"outlinewidth\":0,\"ticks\":\"\"}}}],\"carpet\":[{\"aaxis\":{\"endlinecolor\":\"#2a3f5f\",\"gridcolor\":\"white\",\"linecolor\":\"white\",\"minorgridcolor\":\"white\",\"startlinecolor\":\"#2a3f5f\"},\"baxis\":{\"endlinecolor\":\"#2a3f5f\",\"gridcolor\":\"white\",\"linecolor\":\"white\",\"minorgridcolor\":\"white\",\"startlinecolor\":\"#2a3f5f\"},\"type\":\"carpet\"}],\"table\":[{\"cells\":{\"fill\":{\"color\":\"#EBF0F8\"},\"line\":{\"color\":\"white\"}},\"header\":{\"fill\":{\"color\":\"#C8D4E3\"},\"line\":{\"color\":\"white\"}},\"type\":\"table\"}],\"barpolar\":[{\"marker\":{\"line\":{\"color\":\"#E5ECF6\",\"width\":0.5},\"pattern\":{\"fillmode\":\"overlay\",\"size\":10,\"solidity\":0.2}},\"type\":\"barpolar\"}],\"pie\":[{\"automargin\":true,\"type\":\"pie\"}]},\"layout\":{\"autotypenumbers\":\"strict\",\"colorway\":[\"#636efa\",\"#EF553B\",\"#00cc96\",\"#ab63fa\",\"#FFA15A\",\"#19d3f3\",\"#FF6692\",\"#B6E880\",\"#FF97FF\",\"#FECB52\"],\"font\":{\"color\":\"#2a3f5f\"},\"hovermode\":\"closest\",\"hoverlabel\":{\"align\":\"left\"},\"paper_bgcolor\":\"white\",\"plot_bgcolor\":\"#E5ECF6\",\"polar\":{\"bgcolor\":\"#E5ECF6\",\"angularaxis\":{\"gridcolor\":\"white\",\"linecolor\":\"white\",\"ticks\":\"\"},\"radialaxis\":{\"gridcolor\":\"white\",\"linecolor\":\"white\",\"ticks\":\"\"}},\"ternary\":{\"bgcolor\":\"#E5ECF6\",\"aaxis\":{\"gridcolor\":\"white\",\"linecolor\":\"white\",\"ticks\":\"\"},\"baxis\":{\"gridcolor\":\"white\",\"linecolor\":\"white\",\"ticks\":\"\"},\"caxis\":{\"gridcolor\":\"white\",\"linecolor\":\"white\",\"ticks\":\"\"}},\"coloraxis\":{\"colorbar\":{\"outlinewidth\":0,\"ticks\":\"\"}},\"colorscale\":{\"sequential\":[[0.0,\"#0d0887\"],[0.1111111111111111,\"#46039f\"],[0.2222222222222222,\"#7201a8\"],[0.3333333333333333,\"#9c179e\"],[0.4444444444444444,\"#bd3786\"],[0.5555555555555556,\"#d8576b\"],[0.6666666666666666,\"#ed7953\"],[0.7777777777777778,\"#fb9f3a\"],[0.8888888888888888,\"#fdca26\"],[1.0,\"#f0f921\"]],\"sequentialminus\":[[0.0,\"#0d0887\"],[0.1111111111111111,\"#46039f\"],[0.2222222222222222,\"#7201a8\"],[0.3333333333333333,\"#9c179e\"],[0.4444444444444444,\"#bd3786\"],[0.5555555555555556,\"#d8576b\"],[0.6666666666666666,\"#ed7953\"],[0.7777777777777778,\"#fb9f3a\"],[0.8888888888888888,\"#fdca26\"],[1.0,\"#f0f921\"]],\"diverging\":[[0,\"#8e0152\"],[0.1,\"#c51b7d\"],[0.2,\"#de77ae\"],[0.3,\"#f1b6da\"],[0.4,\"#fde0ef\"],[0.5,\"#f7f7f7\"],[0.6,\"#e6f5d0\"],[0.7,\"#b8e186\"],[0.8,\"#7fbc41\"],[0.9,\"#4d9221\"],[1,\"#276419\"]]},\"xaxis\":{\"gridcolor\":\"white\",\"linecolor\":\"white\",\"ticks\":\"\",\"title\":{\"standoff\":15},\"zerolinecolor\":\"white\",\"automargin\":true,\"zerolinewidth\":2},\"yaxis\":{\"gridcolor\":\"white\",\"linecolor\":\"white\",\"ticks\":\"\",\"title\":{\"standoff\":15},\"zerolinecolor\":\"white\",\"automargin\":true,\"zerolinewidth\":2},\"scene\":{\"xaxis\":{\"backgroundcolor\":\"#E5ECF6\",\"gridcolor\":\"white\",\"linecolor\":\"white\",\"showbackground\":true,\"ticks\":\"\",\"zerolinecolor\":\"white\",\"gridwidth\":2},\"yaxis\":{\"backgroundcolor\":\"#E5ECF6\",\"gridcolor\":\"white\",\"linecolor\":\"white\",\"showbackground\":true,\"ticks\":\"\",\"zerolinecolor\":\"white\",\"gridwidth\":2},\"zaxis\":{\"backgroundcolor\":\"#E5ECF6\",\"gridcolor\":\"white\",\"linecolor\":\"white\",\"showbackground\":true,\"ticks\":\"\",\"zerolinecolor\":\"white\",\"gridwidth\":2}},\"shapedefaults\":{\"line\":{\"color\":\"#2a3f5f\"}},\"annotationdefaults\":{\"arrowcolor\":\"#2a3f5f\",\"arrowhead\":0,\"arrowwidth\":1},\"geo\":{\"bgcolor\":\"white\",\"landcolor\":\"#E5ECF6\",\"subunitcolor\":\"white\",\"showland\":true,\"showlakes\":true,\"lakecolor\":\"white\"},\"title\":{\"x\":0.05},\"mapbox\":{\"style\":\"light\"}}},\"xaxis\":{\"anchor\":\"y\",\"domain\":[0.0,1.0],\"title\":{\"text\":\"country\"}},\"yaxis\":{\"anchor\":\"x\",\"domain\":[0.0,1.0],\"title\":{\"text\":\"Suicide Rate per 100k\"}},\"legend\":{\"title\":{\"text\":\"Year\"},\"tracegroupgap\":0},\"title\":{\"text\":\"Top 10 Countries by Average Suicide Rate (Females) per 100k (2019-2021)\"},\"barmode\":\"group\"},                        {\"responsive\": true}                    ).then(function(){\n",
       "                            \n",
       "var gd = document.getElementById('b1907780-8f92-4c3c-acae-5e384402e6ae');\n",
       "var x = new MutationObserver(function (mutations, observer) {{\n",
       "        var display = window.getComputedStyle(gd).display;\n",
       "        if (!display || display === 'none') {{\n",
       "            console.log([gd, 'removed!']);\n",
       "            Plotly.purge(gd);\n",
       "            observer.disconnect();\n",
       "        }}\n",
       "}});\n",
       "\n",
       "// Listen for the removal of the full notebook cells\n",
       "var notebookContainer = gd.closest('#notebook-container');\n",
       "if (notebookContainer) {{\n",
       "    x.observe(notebookContainer, {childList: true});\n",
       "}}\n",
       "\n",
       "// Listen for the clearing of the current output cell\n",
       "var outputEl = gd.closest('.output');\n",
       "if (outputEl) {{\n",
       "    x.observe(outputEl, {childList: true});\n",
       "}}\n",
       "\n",
       "                        })                };                });            </script>        </div>"
      ]
     },
     "metadata": {},
     "output_type": "display_data"
    }
   ],
   "source": [
    "fig = px.bar(top_10_male, x='country', y=['female_2019', 'female_2020', 'female_2021'],\n",
    "             title='Top 10 Countries by Average Suicide Rate (Females) per 100k (2019-2021)',\n",
    "             labels={'value': 'Suicide Rate per 100k', 'variable': 'Year'},\n",
    "             barmode='group')\n",
    "fig.show()"
   ]
  },
  {
   "cell_type": "code",
   "execution_count": 175,
   "id": "341e30f2-37aa-4bdd-8615-61f648389390",
   "metadata": {
    "tags": []
   },
   "outputs": [],
   "source": [
    "# top 10 countries with the lasrgest gender gap in suicide\n",
    "suicide_df[\"gender_gap\"] = (suicide_df[\"average_suicide_rate_male\"] - suicide_df[\"average_suicide_rate_female\"])"
   ]
  },
  {
   "cell_type": "code",
   "execution_count": 177,
   "id": "b949ac82-2b30-4760-b258-2c5b534b87b1",
   "metadata": {
    "tags": []
   },
   "outputs": [],
   "source": [
    "top_10_gender_gap = suicide_df.nlargest(10, \"gender_gap\")"
   ]
  },
  {
   "cell_type": "code",
   "execution_count": 183,
   "id": "ec8b7e01-4c92-4b38-960c-d01f9ad3e173",
   "metadata": {
    "tags": []
   },
   "outputs": [
    {
     "data": {
      "image/png": "[encoded data removed]",
      "text/plain": [
       "<Figure size 1500x1000 with 1 Axes>"
      ]
     },
     "metadata": {},
     "output_type": "display_data"
    }
   ],
   "source": [
    "# Plotting\n",
    "plt.figure(figsize=(15, 10))\n",
    "sns.barplot(data=top_10_gender_gap, x='gender_gap', y='country',hue=\"country\", palette='coolwarm')\n",
    "plt.title('Top 10 Countries with Highest Gender Gap in Suicide Rates (2019-2021)')\n",
    "plt.xlabel('Average Gender Gap in Suicide Rate per 100k')\n",
    "plt.ylabel('Country')\n",
    "plt.show()"
   ]
  },
  {
   "cell_type": "code",
   "execution_count": 195,
   "id": "396d0ebd-fe6f-4892-87ca-6ea840988013",
   "metadata": {
    "tags": []
   },
   "outputs": [],
   "source": []
  },
  {
   "cell_type": "code",
   "execution_count": 185,
   "id": "0785f405-40cf-4085-b6e7-f2fdce18d92a",
   "metadata": {
    "tags": []
   },
   "outputs": [
    {
     "name": "stdout",
     "output_type": "stream",
     "text": [
      "Country with the highest growth in suicide rate from 2019 to 2021:\n",
      "country         greenland\n",
      "total_growth        59.62\n",
      "Name: 191, dtype: object\n"
     ]
    }
   ],
   "source": [
    "suicide_df[\"overall_growth_2019_2020\"] = suicide_df[\"overall_2020\"] - suicide_df[\"overall_2019\"]\n",
    "suicide_df[\"overall_growth_2020_2021\"] = suicide_df[\"overall_2021\"] - suicide_df[\"overall_2020\"]\n",
    "suicide_df[\"total_growth\"] = suicide_df[\"overall_2021\"] - suicide_df[\"overall_2019\"]\n",
    "highest_growth_country = suicide_df.loc[suicide_df[\"total_growth\"].idxmax()]\n",
    "print(\"Country with the highest growth in suicide rate from 2019 to 2021:\")\n",
    "print(highest_growth_country[['country', 'total_growth']])"
   ]
  },
  {
   "cell_type": "code",
   "execution_count": null,
   "id": "9917888f-a9ad-4c91-88b7-d290be176c64",
   "metadata": {},
   "outputs": [],
   "source": [
    "# top 10 countries with largest gender gap"
   ]
  },
  {
   "cell_type": "code",
   "execution_count": null,
   "id": "b624e30a-542d-49ae-9931-a6c9bcbf484d",
   "metadata": {},
   "outputs": [],
   "source": [
    "top_10_growth_rate_both = suicide_df.nlargest(10, \"total_growth\")"
   ]
  },
  {
   "cell_type": "code",
   "execution_count": 199,
   "id": "bece2761-473f-459b-9c10-576bf37ae719",
   "metadata": {
    "tags": []
   },
   "outputs": [
    {
     "data": {
      "image/png": "[encoded data removed]",
      "text/plain": [
       "<Figure size 1500x1000 with 1 Axes>"
      ]
     },
     "metadata": {},
     "output_type": "display_data"
    }
   ],
   "source": [
    "# Bar plot\n",
    "plt.figure(figsize=(15, 10))\n",
    "sns.barplot(x='total_growth', y='country',hue=\"country\", data=top_10_growth_rate_both, palette='viridis')\n",
    "plt.title('Top 10 Countries with Highest Growth in Suicide Rate (Both Sexes) 2019-2021')\n",
    "plt.xlabel('Growth Rate (%)')\n",
    "plt.ylabel('Country')\n",
    "plt.show()"
   ]
  },
  {
   "cell_type": "code",
   "execution_count": 205,
   "id": "f9aaf9b2-4991-4add-998a-e638f2f4f063",
   "metadata": {
    "tags": []
   },
   "outputs": [
    {
     "data": {
      "image/png": "[encoded data removed]",
      "text/plain": [
       "<Figure size 1500x1000 with 1 Axes>"
      ]
     },
     "metadata": {},
     "output_type": "display_data"
    }
   ],
   "source": [
    "# top 10 countries with smallest gender gap\n",
    "top_10_decline_rate_both = suicide_df.nsmallest(10, \"total_growth\")\n",
    "# Bar plot\n",
    "plt.figure(figsize=(15, 10))\n",
    "sns.barplot(x='total_growth', y='country',hue=\"country\", data=top_10_decline_rate_both, palette='viridis')\n",
    "plt.title('Top 10 Countries with Largest Decline in Suicide Rate (Both Sexes) 2019-2021')\n",
    "plt.xlabel('Decline Rate (%)')\n",
    "plt.ylabel('Country')\n",
    "plt.show()"
   ]
  },
  {
   "cell_type": "code",
   "execution_count": 227,
   "id": "e73bc4ff-899c-43eb-8179-0d8ed51ec651",
   "metadata": {
    "tags": []
   },
   "outputs": [
    {
     "data": {
      "image/png": "[encoded data removed]",
      "text/plain": [
       "<Figure size 1000x600 with 1 Axes>"
      ]
     },
     "metadata": {},
     "output_type": "display_data"
    }
   ],
   "source": [
    "# calculating countries with consistently highest suicide rate\n",
    "threshold = suicide_df[\"total_growth\"].quantile(0.9) #top 10% threshold\n",
    "consistently_high = suicide_df[suicide_df[\"total_growth\"] > threshold]\n",
    "\n",
    "# Bar plot\n",
    "plt.figure(figsize=(10, 6))\n",
    "sns.barplot(x='total_growth', y='country', data=consistently_high,hue=\"country\", palette='magma')\n",
    "plt.title('Countries with Consistently High Suicide Rates (Both Sexes) 2019-2021')\n",
    "plt.xlabel('Average Suicide Rate per 100k')\n",
    "plt.ylabel('Country')\n",
    "plt.show()\n"
   ]
  },
  {
   "cell_type": "code",
   "execution_count": null,
   "id": "dd3785a4-84c9-4865-b81b-1f90b4e45bc9",
   "metadata": {},
   "outputs": [],
   "source": []
  },
  {
   "cell_type": "code",
   "execution_count": 219,
   "id": "c17168eb-7dee-4a2d-922c-9acd23f37984",
   "metadata": {
    "tags": []
   },
   "outputs": [
    {
     "data": {
      "text/html": [
       "<div>\n",
       "<style scoped>\n",
       "    .dataframe tbody tr th:only-of-type {\n",
       "        vertical-align: middle;\n",
       "    }\n",
       "\n",
       "    .dataframe tbody tr th {\n",
       "        vertical-align: top;\n",
       "    }\n",
       "\n",
       "    .dataframe thead th {\n",
       "        text-align: right;\n",
       "    }\n",
       "</style>\n",
       "<table border=\"1\" class=\"dataframe\">\n",
       "  <thead>\n",
       "    <tr style=\"text-align: right;\">\n",
       "      <th></th>\n",
       "      <th>country</th>\n",
       "      <th>overall_2021</th>\n",
       "      <th>male_2021</th>\n",
       "      <th>female_2021</th>\n",
       "      <th>overall_2020</th>\n",
       "      <th>male_2020</th>\n",
       "      <th>female_2020</th>\n",
       "      <th>overall_2019</th>\n",
       "      <th>male_2019</th>\n",
       "      <th>female_2019</th>\n",
       "      <th>average_suicide_rate</th>\n",
       "      <th>average_suicide_rate_male</th>\n",
       "      <th>average_suicide_rate_female</th>\n",
       "      <th>gender_gap</th>\n",
       "      <th>overall_growth_2019_2020</th>\n",
       "      <th>overall_growth_2020_2021</th>\n",
       "      <th>total_growth</th>\n",
       "    </tr>\n",
       "  </thead>\n",
       "  <tbody>\n",
       "    <tr>\n",
       "      <th>0</th>\n",
       "      <td>india</td>\n",
       "      <td>13.33</td>\n",
       "      <td>15.70</td>\n",
       "      <td>10.85</td>\n",
       "      <td>13.28</td>\n",
       "      <td>15.70</td>\n",
       "      <td>10.73</td>\n",
       "      <td>12.7</td>\n",
       "      <td>14.1</td>\n",
       "      <td>11.1</td>\n",
       "      <td>13.103333</td>\n",
       "      <td>15.166667</td>\n",
       "      <td>10.893333</td>\n",
       "      <td>4.273333</td>\n",
       "      <td>0.58</td>\n",
       "      <td>0.05</td>\n",
       "      <td>0.63</td>\n",
       "    </tr>\n",
       "    <tr>\n",
       "      <th>1</th>\n",
       "      <td>china</td>\n",
       "      <td>9.17</td>\n",
       "      <td>10.64</td>\n",
       "      <td>7.63</td>\n",
       "      <td>9.04</td>\n",
       "      <td>10.52</td>\n",
       "      <td>7.50</td>\n",
       "      <td>8.1</td>\n",
       "      <td>9.8</td>\n",
       "      <td>6.2</td>\n",
       "      <td>8.770000</td>\n",
       "      <td>10.320000</td>\n",
       "      <td>7.110000</td>\n",
       "      <td>3.210000</td>\n",
       "      <td>0.94</td>\n",
       "      <td>0.13</td>\n",
       "      <td>1.07</td>\n",
       "    </tr>\n",
       "    <tr>\n",
       "      <th>2</th>\n",
       "      <td>united states</td>\n",
       "      <td>15.25</td>\n",
       "      <td>24.13</td>\n",
       "      <td>6.66</td>\n",
       "      <td>15.38</td>\n",
       "      <td>24.33</td>\n",
       "      <td>6.73</td>\n",
       "      <td>16.1</td>\n",
       "      <td>25.0</td>\n",
       "      <td>7.5</td>\n",
       "      <td>15.576667</td>\n",
       "      <td>24.486667</td>\n",
       "      <td>6.963333</td>\n",
       "      <td>17.523333</td>\n",
       "      <td>-0.72</td>\n",
       "      <td>-0.13</td>\n",
       "      <td>-0.85</td>\n",
       "    </tr>\n",
       "    <tr>\n",
       "      <th>3</th>\n",
       "      <td>indonesia</td>\n",
       "      <td>1.64</td>\n",
       "      <td>2.21</td>\n",
       "      <td>1.05</td>\n",
       "      <td>1.66</td>\n",
       "      <td>2.23</td>\n",
       "      <td>1.07</td>\n",
       "      <td>2.4</td>\n",
       "      <td>3.7</td>\n",
       "      <td>1.1</td>\n",
       "      <td>1.900000</td>\n",
       "      <td>2.713333</td>\n",
       "      <td>1.073333</td>\n",
       "      <td>1.640000</td>\n",
       "      <td>-0.74</td>\n",
       "      <td>-0.02</td>\n",
       "      <td>-0.76</td>\n",
       "    </tr>\n",
       "    <tr>\n",
       "      <th>4</th>\n",
       "      <td>pakistan</td>\n",
       "      <td>5.82</td>\n",
       "      <td>8.46</td>\n",
       "      <td>3.05</td>\n",
       "      <td>5.89</td>\n",
       "      <td>8.54</td>\n",
       "      <td>3.10</td>\n",
       "      <td>8.9</td>\n",
       "      <td>13.3</td>\n",
       "      <td>4.3</td>\n",
       "      <td>6.870000</td>\n",
       "      <td>10.100000</td>\n",
       "      <td>3.483333</td>\n",
       "      <td>6.616667</td>\n",
       "      <td>-3.01</td>\n",
       "      <td>-0.07</td>\n",
       "      <td>-3.08</td>\n",
       "    </tr>\n",
       "    <tr>\n",
       "      <th>...</th>\n",
       "      <td>...</td>\n",
       "      <td>...</td>\n",
       "      <td>...</td>\n",
       "      <td>...</td>\n",
       "      <td>...</td>\n",
       "      <td>...</td>\n",
       "      <td>...</td>\n",
       "      <td>...</td>\n",
       "      <td>...</td>\n",
       "      <td>...</td>\n",
       "      <td>...</td>\n",
       "      <td>...</td>\n",
       "      <td>...</td>\n",
       "      <td>...</td>\n",
       "      <td>...</td>\n",
       "      <td>...</td>\n",
       "      <td>...</td>\n",
       "    </tr>\n",
       "    <tr>\n",
       "      <th>199</th>\n",
       "      <td>cook islands</td>\n",
       "      <td>9.17</td>\n",
       "      <td>14.39</td>\n",
       "      <td>3.95</td>\n",
       "      <td>11.63</td>\n",
       "      <td>18.30</td>\n",
       "      <td>5.32</td>\n",
       "      <td>0.0</td>\n",
       "      <td>0.0</td>\n",
       "      <td>0.0</td>\n",
       "      <td>6.933333</td>\n",
       "      <td>10.896667</td>\n",
       "      <td>3.090000</td>\n",
       "      <td>7.806667</td>\n",
       "      <td>11.63</td>\n",
       "      <td>-2.46</td>\n",
       "      <td>9.17</td>\n",
       "    </tr>\n",
       "    <tr>\n",
       "      <th>200</th>\n",
       "      <td>nauru</td>\n",
       "      <td>23.55</td>\n",
       "      <td>35.11</td>\n",
       "      <td>11.79</td>\n",
       "      <td>23.66</td>\n",
       "      <td>35.25</td>\n",
       "      <td>11.86</td>\n",
       "      <td>0.0</td>\n",
       "      <td>0.0</td>\n",
       "      <td>0.0</td>\n",
       "      <td>15.736667</td>\n",
       "      <td>23.453333</td>\n",
       "      <td>7.883333</td>\n",
       "      <td>15.570000</td>\n",
       "      <td>23.66</td>\n",
       "      <td>-0.11</td>\n",
       "      <td>23.55</td>\n",
       "    </tr>\n",
       "    <tr>\n",
       "      <th>201</th>\n",
       "      <td>tuvalu</td>\n",
       "      <td>16.49</td>\n",
       "      <td>23.79</td>\n",
       "      <td>8.56</td>\n",
       "      <td>16.61</td>\n",
       "      <td>23.92</td>\n",
       "      <td>8.68</td>\n",
       "      <td>0.0</td>\n",
       "      <td>0.0</td>\n",
       "      <td>0.0</td>\n",
       "      <td>11.033333</td>\n",
       "      <td>15.903333</td>\n",
       "      <td>5.746667</td>\n",
       "      <td>10.156667</td>\n",
       "      <td>16.61</td>\n",
       "      <td>-0.12</td>\n",
       "      <td>16.49</td>\n",
       "    </tr>\n",
       "    <tr>\n",
       "      <th>202</th>\n",
       "      <td>tokelau</td>\n",
       "      <td>15.83</td>\n",
       "      <td>19.54</td>\n",
       "      <td>11.97</td>\n",
       "      <td>15.95</td>\n",
       "      <td>19.71</td>\n",
       "      <td>12.05</td>\n",
       "      <td>0.0</td>\n",
       "      <td>0.0</td>\n",
       "      <td>0.0</td>\n",
       "      <td>10.593333</td>\n",
       "      <td>13.083333</td>\n",
       "      <td>8.006667</td>\n",
       "      <td>5.076667</td>\n",
       "      <td>15.95</td>\n",
       "      <td>-0.12</td>\n",
       "      <td>15.83</td>\n",
       "    </tr>\n",
       "    <tr>\n",
       "      <th>203</th>\n",
       "      <td>niue</td>\n",
       "      <td>15.59</td>\n",
       "      <td>20.62</td>\n",
       "      <td>10.51</td>\n",
       "      <td>15.63</td>\n",
       "      <td>20.66</td>\n",
       "      <td>10.54</td>\n",
       "      <td>0.0</td>\n",
       "      <td>0.0</td>\n",
       "      <td>0.0</td>\n",
       "      <td>10.406667</td>\n",
       "      <td>13.760000</td>\n",
       "      <td>7.016667</td>\n",
       "      <td>6.743333</td>\n",
       "      <td>15.63</td>\n",
       "      <td>-0.04</td>\n",
       "      <td>15.59</td>\n",
       "    </tr>\n",
       "  </tbody>\n",
       "</table>\n",
       "<p>204 rows × 17 columns</p>\n",
       "</div>"
      ],
      "text/plain": [
       "           country  overall_2021  male_2021  female_2021  overall_2020  \\\n",
       "0            india         13.33      15.70        10.85         13.28   \n",
       "1            china          9.17      10.64         7.63          9.04   \n",
       "2    united states         15.25      24.13         6.66         15.38   \n",
       "3        indonesia          1.64       2.21         1.05          1.66   \n",
       "4         pakistan          5.82       8.46         3.05          5.89   \n",
       "..             ...           ...        ...          ...           ...   \n",
       "199   cook islands          9.17      14.39         3.95         11.63   \n",
       "200          nauru         23.55      35.11        11.79         23.66   \n",
       "201         tuvalu         16.49      23.79         8.56         16.61   \n",
       "202        tokelau         15.83      19.54        11.97         15.95   \n",
       "203           niue         15.59      20.62        10.51         15.63   \n",
       "\n",
       "     male_2020  female_2020  overall_2019  male_2019  female_2019  \\\n",
       "0        15.70        10.73          12.7       14.1         11.1   \n",
       "1        10.52         7.50           8.1        9.8          6.2   \n",
       "2        24.33         6.73          16.1       25.0          7.5   \n",
       "3         2.23         1.07           2.4        3.7          1.1   \n",
       "4         8.54         3.10           8.9       13.3          4.3   \n",
       "..         ...          ...           ...        ...          ...   \n",
       "199      18.30         5.32           0.0        0.0          0.0   \n",
       "200      35.25        11.86           0.0        0.0          0.0   \n",
       "201      23.92         8.68           0.0        0.0          0.0   \n",
       "202      19.71        12.05           0.0        0.0          0.0   \n",
       "203      20.66        10.54           0.0        0.0          0.0   \n",
       "\n",
       "     average_suicide_rate  average_suicide_rate_male  \\\n",
       "0               13.103333                  15.166667   \n",
       "1                8.770000                  10.320000   \n",
       "2               15.576667                  24.486667   \n",
       "3                1.900000                   2.713333   \n",
       "4                6.870000                  10.100000   \n",
       "..                    ...                        ...   \n",
       "199              6.933333                  10.896667   \n",
       "200             15.736667                  23.453333   \n",
       "201             11.033333                  15.903333   \n",
       "202             10.593333                  13.083333   \n",
       "203             10.406667                  13.760000   \n",
       "\n",
       "     average_suicide_rate_female  gender_gap  overall_growth_2019_2020  \\\n",
       "0                      10.893333    4.273333                      0.58   \n",
       "1                       7.110000    3.210000                      0.94   \n",
       "2                       6.963333   17.523333                     -0.72   \n",
       "3                       1.073333    1.640000                     -0.74   \n",
       "4                       3.483333    6.616667                     -3.01   \n",
       "..                           ...         ...                       ...   \n",
       "199                     3.090000    7.806667                     11.63   \n",
       "200                     7.883333   15.570000                     23.66   \n",
       "201                     5.746667   10.156667                     16.61   \n",
       "202                     8.006667    5.076667                     15.95   \n",
       "203                     7.016667    6.743333                     15.63   \n",
       "\n",
       "     overall_growth_2020_2021  total_growth  \n",
       "0                        0.05          0.63  \n",
       "1                        0.13          1.07  \n",
       "2                       -0.13         -0.85  \n",
       "3                       -0.02         -0.76  \n",
       "4                       -0.07         -3.08  \n",
       "..                        ...           ...  \n",
       "199                     -2.46          9.17  \n",
       "200                     -0.11         23.55  \n",
       "201                     -0.12         16.49  \n",
       "202                     -0.12         15.83  \n",
       "203                     -0.04         15.59  \n",
       "\n",
       "[204 rows x 17 columns]"
      ]
     },
     "execution_count": 219,
     "metadata": {},
     "output_type": "execute_result"
    }
   ],
   "source": [
    "suicide_df"
   ]
  },
  {
   "cell_type": "code",
   "execution_count": 229,
   "id": "2369f4db-806b-4357-89f9-f051f0505fd1",
   "metadata": {
    "tags": []
   },
   "outputs": [],
   "source": [
    "suicide_df[\"female_rate_change\"] = suicide_df[\"female_2021\"] - suicide_df[\"female_2019\"]\n",
    "suicide_df[\"male_rate_change\"] = suicide_df[\"male_2021\"] - suicide_df[\"male_2019\"]"
   ]
  },
  {
   "cell_type": "code",
   "execution_count": 231,
   "id": "9706f4ac-64e5-4fab-bf43-105d0920921b",
   "metadata": {
    "tags": []
   },
   "outputs": [
    {
     "data": {
      "text/html": [
       "<div>\n",
       "<style scoped>\n",
       "    .dataframe tbody tr th:only-of-type {\n",
       "        vertical-align: middle;\n",
       "    }\n",
       "\n",
       "    .dataframe tbody tr th {\n",
       "        vertical-align: top;\n",
       "    }\n",
       "\n",
       "    .dataframe thead th {\n",
       "        text-align: right;\n",
       "    }\n",
       "</style>\n",
       "<table border=\"1\" class=\"dataframe\">\n",
       "  <thead>\n",
       "    <tr style=\"text-align: right;\">\n",
       "      <th></th>\n",
       "      <th>country</th>\n",
       "      <th>overall_2021</th>\n",
       "      <th>male_2021</th>\n",
       "      <th>female_2021</th>\n",
       "      <th>overall_2020</th>\n",
       "      <th>male_2020</th>\n",
       "      <th>female_2020</th>\n",
       "      <th>overall_2019</th>\n",
       "      <th>male_2019</th>\n",
       "      <th>female_2019</th>\n",
       "      <th>average_suicide_rate</th>\n",
       "      <th>average_suicide_rate_male</th>\n",
       "      <th>average_suicide_rate_female</th>\n",
       "      <th>gender_gap</th>\n",
       "      <th>overall_growth_2019_2020</th>\n",
       "      <th>overall_growth_2020_2021</th>\n",
       "      <th>total_growth</th>\n",
       "      <th>female_rate_change</th>\n",
       "      <th>male_rate_change</th>\n",
       "    </tr>\n",
       "  </thead>\n",
       "  <tbody>\n",
       "    <tr>\n",
       "      <th>0</th>\n",
       "      <td>india</td>\n",
       "      <td>13.33</td>\n",
       "      <td>15.70</td>\n",
       "      <td>10.85</td>\n",
       "      <td>13.28</td>\n",
       "      <td>15.70</td>\n",
       "      <td>10.73</td>\n",
       "      <td>12.7</td>\n",
       "      <td>14.1</td>\n",
       "      <td>11.1</td>\n",
       "      <td>13.103333</td>\n",
       "      <td>15.166667</td>\n",
       "      <td>10.893333</td>\n",
       "      <td>4.273333</td>\n",
       "      <td>0.58</td>\n",
       "      <td>0.05</td>\n",
       "      <td>0.63</td>\n",
       "      <td>-0.25</td>\n",
       "      <td>1.60</td>\n",
       "    </tr>\n",
       "    <tr>\n",
       "      <th>1</th>\n",
       "      <td>china</td>\n",
       "      <td>9.17</td>\n",
       "      <td>10.64</td>\n",
       "      <td>7.63</td>\n",
       "      <td>9.04</td>\n",
       "      <td>10.52</td>\n",
       "      <td>7.50</td>\n",
       "      <td>8.1</td>\n",
       "      <td>9.8</td>\n",
       "      <td>6.2</td>\n",
       "      <td>8.770000</td>\n",
       "      <td>10.320000</td>\n",
       "      <td>7.110000</td>\n",
       "      <td>3.210000</td>\n",
       "      <td>0.94</td>\n",
       "      <td>0.13</td>\n",
       "      <td>1.07</td>\n",
       "      <td>1.43</td>\n",
       "      <td>0.84</td>\n",
       "    </tr>\n",
       "    <tr>\n",
       "      <th>2</th>\n",
       "      <td>united states</td>\n",
       "      <td>15.25</td>\n",
       "      <td>24.13</td>\n",
       "      <td>6.66</td>\n",
       "      <td>15.38</td>\n",
       "      <td>24.33</td>\n",
       "      <td>6.73</td>\n",
       "      <td>16.1</td>\n",
       "      <td>25.0</td>\n",
       "      <td>7.5</td>\n",
       "      <td>15.576667</td>\n",
       "      <td>24.486667</td>\n",
       "      <td>6.963333</td>\n",
       "      <td>17.523333</td>\n",
       "      <td>-0.72</td>\n",
       "      <td>-0.13</td>\n",
       "      <td>-0.85</td>\n",
       "      <td>-0.84</td>\n",
       "      <td>-0.87</td>\n",
       "    </tr>\n",
       "    <tr>\n",
       "      <th>3</th>\n",
       "      <td>indonesia</td>\n",
       "      <td>1.64</td>\n",
       "      <td>2.21</td>\n",
       "      <td>1.05</td>\n",
       "      <td>1.66</td>\n",
       "      <td>2.23</td>\n",
       "      <td>1.07</td>\n",
       "      <td>2.4</td>\n",
       "      <td>3.7</td>\n",
       "      <td>1.1</td>\n",
       "      <td>1.900000</td>\n",
       "      <td>2.713333</td>\n",
       "      <td>1.073333</td>\n",
       "      <td>1.640000</td>\n",
       "      <td>-0.74</td>\n",
       "      <td>-0.02</td>\n",
       "      <td>-0.76</td>\n",
       "      <td>-0.05</td>\n",
       "      <td>-1.49</td>\n",
       "    </tr>\n",
       "    <tr>\n",
       "      <th>4</th>\n",
       "      <td>pakistan</td>\n",
       "      <td>5.82</td>\n",
       "      <td>8.46</td>\n",
       "      <td>3.05</td>\n",
       "      <td>5.89</td>\n",
       "      <td>8.54</td>\n",
       "      <td>3.10</td>\n",
       "      <td>8.9</td>\n",
       "      <td>13.3</td>\n",
       "      <td>4.3</td>\n",
       "      <td>6.870000</td>\n",
       "      <td>10.100000</td>\n",
       "      <td>3.483333</td>\n",
       "      <td>6.616667</td>\n",
       "      <td>-3.01</td>\n",
       "      <td>-0.07</td>\n",
       "      <td>-3.08</td>\n",
       "      <td>-1.25</td>\n",
       "      <td>-4.84</td>\n",
       "    </tr>\n",
       "    <tr>\n",
       "      <th>...</th>\n",
       "      <td>...</td>\n",
       "      <td>...</td>\n",
       "      <td>...</td>\n",
       "      <td>...</td>\n",
       "      <td>...</td>\n",
       "      <td>...</td>\n",
       "      <td>...</td>\n",
       "      <td>...</td>\n",
       "      <td>...</td>\n",
       "      <td>...</td>\n",
       "      <td>...</td>\n",
       "      <td>...</td>\n",
       "      <td>...</td>\n",
       "      <td>...</td>\n",
       "      <td>...</td>\n",
       "      <td>...</td>\n",
       "      <td>...</td>\n",
       "      <td>...</td>\n",
       "      <td>...</td>\n",
       "    </tr>\n",
       "    <tr>\n",
       "      <th>199</th>\n",
       "      <td>cook islands</td>\n",
       "      <td>9.17</td>\n",
       "      <td>14.39</td>\n",
       "      <td>3.95</td>\n",
       "      <td>11.63</td>\n",
       "      <td>18.30</td>\n",
       "      <td>5.32</td>\n",
       "      <td>0.0</td>\n",
       "      <td>0.0</td>\n",
       "      <td>0.0</td>\n",
       "      <td>6.933333</td>\n",
       "      <td>10.896667</td>\n",
       "      <td>3.090000</td>\n",
       "      <td>7.806667</td>\n",
       "      <td>11.63</td>\n",
       "      <td>-2.46</td>\n",
       "      <td>9.17</td>\n",
       "      <td>3.95</td>\n",
       "      <td>14.39</td>\n",
       "    </tr>\n",
       "    <tr>\n",
       "      <th>200</th>\n",
       "      <td>nauru</td>\n",
       "      <td>23.55</td>\n",
       "      <td>35.11</td>\n",
       "      <td>11.79</td>\n",
       "      <td>23.66</td>\n",
       "      <td>35.25</td>\n",
       "      <td>11.86</td>\n",
       "      <td>0.0</td>\n",
       "      <td>0.0</td>\n",
       "      <td>0.0</td>\n",
       "      <td>15.736667</td>\n",
       "      <td>23.453333</td>\n",
       "      <td>7.883333</td>\n",
       "      <td>15.570000</td>\n",
       "      <td>23.66</td>\n",
       "      <td>-0.11</td>\n",
       "      <td>23.55</td>\n",
       "      <td>11.79</td>\n",
       "      <td>35.11</td>\n",
       "    </tr>\n",
       "    <tr>\n",
       "      <th>201</th>\n",
       "      <td>tuvalu</td>\n",
       "      <td>16.49</td>\n",
       "      <td>23.79</td>\n",
       "      <td>8.56</td>\n",
       "      <td>16.61</td>\n",
       "      <td>23.92</td>\n",
       "      <td>8.68</td>\n",
       "      <td>0.0</td>\n",
       "      <td>0.0</td>\n",
       "      <td>0.0</td>\n",
       "      <td>11.033333</td>\n",
       "      <td>15.903333</td>\n",
       "      <td>5.746667</td>\n",
       "      <td>10.156667</td>\n",
       "      <td>16.61</td>\n",
       "      <td>-0.12</td>\n",
       "      <td>16.49</td>\n",
       "      <td>8.56</td>\n",
       "      <td>23.79</td>\n",
       "    </tr>\n",
       "    <tr>\n",
       "      <th>202</th>\n",
       "      <td>tokelau</td>\n",
       "      <td>15.83</td>\n",
       "      <td>19.54</td>\n",
       "      <td>11.97</td>\n",
       "      <td>15.95</td>\n",
       "      <td>19.71</td>\n",
       "      <td>12.05</td>\n",
       "      <td>0.0</td>\n",
       "      <td>0.0</td>\n",
       "      <td>0.0</td>\n",
       "      <td>10.593333</td>\n",
       "      <td>13.083333</td>\n",
       "      <td>8.006667</td>\n",
       "      <td>5.076667</td>\n",
       "      <td>15.95</td>\n",
       "      <td>-0.12</td>\n",
       "      <td>15.83</td>\n",
       "      <td>11.97</td>\n",
       "      <td>19.54</td>\n",
       "    </tr>\n",
       "    <tr>\n",
       "      <th>203</th>\n",
       "      <td>niue</td>\n",
       "      <td>15.59</td>\n",
       "      <td>20.62</td>\n",
       "      <td>10.51</td>\n",
       "      <td>15.63</td>\n",
       "      <td>20.66</td>\n",
       "      <td>10.54</td>\n",
       "      <td>0.0</td>\n",
       "      <td>0.0</td>\n",
       "      <td>0.0</td>\n",
       "      <td>10.406667</td>\n",
       "      <td>13.760000</td>\n",
       "      <td>7.016667</td>\n",
       "      <td>6.743333</td>\n",
       "      <td>15.63</td>\n",
       "      <td>-0.04</td>\n",
       "      <td>15.59</td>\n",
       "      <td>10.51</td>\n",
       "      <td>20.62</td>\n",
       "    </tr>\n",
       "  </tbody>\n",
       "</table>\n",
       "<p>204 rows × 19 columns</p>\n",
       "</div>"
      ],
      "text/plain": [
       "           country  overall_2021  male_2021  female_2021  overall_2020  \\\n",
       "0            india         13.33      15.70        10.85         13.28   \n",
       "1            china          9.17      10.64         7.63          9.04   \n",
       "2    united states         15.25      24.13         6.66         15.38   \n",
       "3        indonesia          1.64       2.21         1.05          1.66   \n",
       "4         pakistan          5.82       8.46         3.05          5.89   \n",
       "..             ...           ...        ...          ...           ...   \n",
       "199   cook islands          9.17      14.39         3.95         11.63   \n",
       "200          nauru         23.55      35.11        11.79         23.66   \n",
       "201         tuvalu         16.49      23.79         8.56         16.61   \n",
       "202        tokelau         15.83      19.54        11.97         15.95   \n",
       "203           niue         15.59      20.62        10.51         15.63   \n",
       "\n",
       "     male_2020  female_2020  overall_2019  male_2019  female_2019  \\\n",
       "0        15.70        10.73          12.7       14.1         11.1   \n",
       "1        10.52         7.50           8.1        9.8          6.2   \n",
       "2        24.33         6.73          16.1       25.0          7.5   \n",
       "3         2.23         1.07           2.4        3.7          1.1   \n",
       "4         8.54         3.10           8.9       13.3          4.3   \n",
       "..         ...          ...           ...        ...          ...   \n",
       "199      18.30         5.32           0.0        0.0          0.0   \n",
       "200      35.25        11.86           0.0        0.0          0.0   \n",
       "201      23.92         8.68           0.0        0.0          0.0   \n",
       "202      19.71        12.05           0.0        0.0          0.0   \n",
       "203      20.66        10.54           0.0        0.0          0.0   \n",
       "\n",
       "     average_suicide_rate  average_suicide_rate_male  \\\n",
       "0               13.103333                  15.166667   \n",
       "1                8.770000                  10.320000   \n",
       "2               15.576667                  24.486667   \n",
       "3                1.900000                   2.713333   \n",
       "4                6.870000                  10.100000   \n",
       "..                    ...                        ...   \n",
       "199              6.933333                  10.896667   \n",
       "200             15.736667                  23.453333   \n",
       "201             11.033333                  15.903333   \n",
       "202             10.593333                  13.083333   \n",
       "203             10.406667                  13.760000   \n",
       "\n",
       "     average_suicide_rate_female  gender_gap  overall_growth_2019_2020  \\\n",
       "0                      10.893333    4.273333                      0.58   \n",
       "1                       7.110000    3.210000                      0.94   \n",
       "2                       6.963333   17.523333                     -0.72   \n",
       "3                       1.073333    1.640000                     -0.74   \n",
       "4                       3.483333    6.616667                     -3.01   \n",
       "..                           ...         ...                       ...   \n",
       "199                     3.090000    7.806667                     11.63   \n",
       "200                     7.883333   15.570000                     23.66   \n",
       "201                     5.746667   10.156667                     16.61   \n",
       "202                     8.006667    5.076667                     15.95   \n",
       "203                     7.016667    6.743333                     15.63   \n",
       "\n",
       "     overall_growth_2020_2021  total_growth  female_rate_change  \\\n",
       "0                        0.05          0.63               -0.25   \n",
       "1                        0.13          1.07                1.43   \n",
       "2                       -0.13         -0.85               -0.84   \n",
       "3                       -0.02         -0.76               -0.05   \n",
       "4                       -0.07         -3.08               -1.25   \n",
       "..                        ...           ...                 ...   \n",
       "199                     -2.46          9.17                3.95   \n",
       "200                     -0.11         23.55               11.79   \n",
       "201                     -0.12         16.49                8.56   \n",
       "202                     -0.12         15.83               11.97   \n",
       "203                     -0.04         15.59               10.51   \n",
       "\n",
       "     male_rate_change  \n",
       "0                1.60  \n",
       "1                0.84  \n",
       "2               -0.87  \n",
       "3               -1.49  \n",
       "4               -4.84  \n",
       "..                ...  \n",
       "199             14.39  \n",
       "200             35.11  \n",
       "201             23.79  \n",
       "202             19.54  \n",
       "203             20.62  \n",
       "\n",
       "[204 rows x 19 columns]"
      ]
     },
     "execution_count": 231,
     "metadata": {},
     "output_type": "execute_result"
    }
   ],
   "source": [
    "suicide_df"
   ]
  },
  {
   "cell_type": "code",
   "execution_count": 235,
   "id": "2b081eb0-042f-48b9-9a32-ec1fb0a0c1bd",
   "metadata": {
    "tags": []
   },
   "outputs": [],
   "source": [
    "suicide_df= suicide_df.rename(columns={\"total_growth\": \"total_rate_change\"})"
   ]
  },
  {
   "cell_type": "code",
   "execution_count": 237,
   "id": "c6c15ded-9170-4062-8f33-f53aa9d0dc49",
   "metadata": {
    "tags": []
   },
   "outputs": [
    {
     "data": {
      "text/html": [
       "<div>\n",
       "<style scoped>\n",
       "    .dataframe tbody tr th:only-of-type {\n",
       "        vertical-align: middle;\n",
       "    }\n",
       "\n",
       "    .dataframe tbody tr th {\n",
       "        vertical-align: top;\n",
       "    }\n",
       "\n",
       "    .dataframe thead th {\n",
       "        text-align: right;\n",
       "    }\n",
       "</style>\n",
       "<table border=\"1\" class=\"dataframe\">\n",
       "  <thead>\n",
       "    <tr style=\"text-align: right;\">\n",
       "      <th></th>\n",
       "      <th>country</th>\n",
       "      <th>overall_2021</th>\n",
       "      <th>male_2021</th>\n",
       "      <th>female_2021</th>\n",
       "      <th>overall_2020</th>\n",
       "      <th>male_2020</th>\n",
       "      <th>female_2020</th>\n",
       "      <th>overall_2019</th>\n",
       "      <th>male_2019</th>\n",
       "      <th>female_2019</th>\n",
       "      <th>average_suicide_rate</th>\n",
       "      <th>average_suicide_rate_male</th>\n",
       "      <th>average_suicide_rate_female</th>\n",
       "      <th>gender_gap</th>\n",
       "      <th>overall_growth_2019_2020</th>\n",
       "      <th>overall_growth_2020_2021</th>\n",
       "      <th>total_rate_change</th>\n",
       "      <th>female_rate_change</th>\n",
       "      <th>male_rate_change</th>\n",
       "    </tr>\n",
       "  </thead>\n",
       "  <tbody>\n",
       "    <tr>\n",
       "      <th>0</th>\n",
       "      <td>india</td>\n",
       "      <td>13.33</td>\n",
       "      <td>15.70</td>\n",
       "      <td>10.85</td>\n",
       "      <td>13.28</td>\n",
       "      <td>15.70</td>\n",
       "      <td>10.73</td>\n",
       "      <td>12.7</td>\n",
       "      <td>14.1</td>\n",
       "      <td>11.1</td>\n",
       "      <td>13.103333</td>\n",
       "      <td>15.166667</td>\n",
       "      <td>10.893333</td>\n",
       "      <td>4.273333</td>\n",
       "      <td>0.58</td>\n",
       "      <td>0.05</td>\n",
       "      <td>0.63</td>\n",
       "      <td>-0.25</td>\n",
       "      <td>1.60</td>\n",
       "    </tr>\n",
       "    <tr>\n",
       "      <th>1</th>\n",
       "      <td>china</td>\n",
       "      <td>9.17</td>\n",
       "      <td>10.64</td>\n",
       "      <td>7.63</td>\n",
       "      <td>9.04</td>\n",
       "      <td>10.52</td>\n",
       "      <td>7.50</td>\n",
       "      <td>8.1</td>\n",
       "      <td>9.8</td>\n",
       "      <td>6.2</td>\n",
       "      <td>8.770000</td>\n",
       "      <td>10.320000</td>\n",
       "      <td>7.110000</td>\n",
       "      <td>3.210000</td>\n",
       "      <td>0.94</td>\n",
       "      <td>0.13</td>\n",
       "      <td>1.07</td>\n",
       "      <td>1.43</td>\n",
       "      <td>0.84</td>\n",
       "    </tr>\n",
       "    <tr>\n",
       "      <th>2</th>\n",
       "      <td>united states</td>\n",
       "      <td>15.25</td>\n",
       "      <td>24.13</td>\n",
       "      <td>6.66</td>\n",
       "      <td>15.38</td>\n",
       "      <td>24.33</td>\n",
       "      <td>6.73</td>\n",
       "      <td>16.1</td>\n",
       "      <td>25.0</td>\n",
       "      <td>7.5</td>\n",
       "      <td>15.576667</td>\n",
       "      <td>24.486667</td>\n",
       "      <td>6.963333</td>\n",
       "      <td>17.523333</td>\n",
       "      <td>-0.72</td>\n",
       "      <td>-0.13</td>\n",
       "      <td>-0.85</td>\n",
       "      <td>-0.84</td>\n",
       "      <td>-0.87</td>\n",
       "    </tr>\n",
       "    <tr>\n",
       "      <th>3</th>\n",
       "      <td>indonesia</td>\n",
       "      <td>1.64</td>\n",
       "      <td>2.21</td>\n",
       "      <td>1.05</td>\n",
       "      <td>1.66</td>\n",
       "      <td>2.23</td>\n",
       "      <td>1.07</td>\n",
       "      <td>2.4</td>\n",
       "      <td>3.7</td>\n",
       "      <td>1.1</td>\n",
       "      <td>1.900000</td>\n",
       "      <td>2.713333</td>\n",
       "      <td>1.073333</td>\n",
       "      <td>1.640000</td>\n",
       "      <td>-0.74</td>\n",
       "      <td>-0.02</td>\n",
       "      <td>-0.76</td>\n",
       "      <td>-0.05</td>\n",
       "      <td>-1.49</td>\n",
       "    </tr>\n",
       "    <tr>\n",
       "      <th>4</th>\n",
       "      <td>pakistan</td>\n",
       "      <td>5.82</td>\n",
       "      <td>8.46</td>\n",
       "      <td>3.05</td>\n",
       "      <td>5.89</td>\n",
       "      <td>8.54</td>\n",
       "      <td>3.10</td>\n",
       "      <td>8.9</td>\n",
       "      <td>13.3</td>\n",
       "      <td>4.3</td>\n",
       "      <td>6.870000</td>\n",
       "      <td>10.100000</td>\n",
       "      <td>3.483333</td>\n",
       "      <td>6.616667</td>\n",
       "      <td>-3.01</td>\n",
       "      <td>-0.07</td>\n",
       "      <td>-3.08</td>\n",
       "      <td>-1.25</td>\n",
       "      <td>-4.84</td>\n",
       "    </tr>\n",
       "    <tr>\n",
       "      <th>...</th>\n",
       "      <td>...</td>\n",
       "      <td>...</td>\n",
       "      <td>...</td>\n",
       "      <td>...</td>\n",
       "      <td>...</td>\n",
       "      <td>...</td>\n",
       "      <td>...</td>\n",
       "      <td>...</td>\n",
       "      <td>...</td>\n",
       "      <td>...</td>\n",
       "      <td>...</td>\n",
       "      <td>...</td>\n",
       "      <td>...</td>\n",
       "      <td>...</td>\n",
       "      <td>...</td>\n",
       "      <td>...</td>\n",
       "      <td>...</td>\n",
       "      <td>...</td>\n",
       "      <td>...</td>\n",
       "    </tr>\n",
       "    <tr>\n",
       "      <th>199</th>\n",
       "      <td>cook islands</td>\n",
       "      <td>9.17</td>\n",
       "      <td>14.39</td>\n",
       "      <td>3.95</td>\n",
       "      <td>11.63</td>\n",
       "      <td>18.30</td>\n",
       "      <td>5.32</td>\n",
       "      <td>0.0</td>\n",
       "      <td>0.0</td>\n",
       "      <td>0.0</td>\n",
       "      <td>6.933333</td>\n",
       "      <td>10.896667</td>\n",
       "      <td>3.090000</td>\n",
       "      <td>7.806667</td>\n",
       "      <td>11.63</td>\n",
       "      <td>-2.46</td>\n",
       "      <td>9.17</td>\n",
       "      <td>3.95</td>\n",
       "      <td>14.39</td>\n",
       "    </tr>\n",
       "    <tr>\n",
       "      <th>200</th>\n",
       "      <td>nauru</td>\n",
       "      <td>23.55</td>\n",
       "      <td>35.11</td>\n",
       "      <td>11.79</td>\n",
       "      <td>23.66</td>\n",
       "      <td>35.25</td>\n",
       "      <td>11.86</td>\n",
       "      <td>0.0</td>\n",
       "      <td>0.0</td>\n",
       "      <td>0.0</td>\n",
       "      <td>15.736667</td>\n",
       "      <td>23.453333</td>\n",
       "      <td>7.883333</td>\n",
       "      <td>15.570000</td>\n",
       "      <td>23.66</td>\n",
       "      <td>-0.11</td>\n",
       "      <td>23.55</td>\n",
       "      <td>11.79</td>\n",
       "      <td>35.11</td>\n",
       "    </tr>\n",
       "    <tr>\n",
       "      <th>201</th>\n",
       "      <td>tuvalu</td>\n",
       "      <td>16.49</td>\n",
       "      <td>23.79</td>\n",
       "      <td>8.56</td>\n",
       "      <td>16.61</td>\n",
       "      <td>23.92</td>\n",
       "      <td>8.68</td>\n",
       "      <td>0.0</td>\n",
       "      <td>0.0</td>\n",
       "      <td>0.0</td>\n",
       "      <td>11.033333</td>\n",
       "      <td>15.903333</td>\n",
       "      <td>5.746667</td>\n",
       "      <td>10.156667</td>\n",
       "      <td>16.61</td>\n",
       "      <td>-0.12</td>\n",
       "      <td>16.49</td>\n",
       "      <td>8.56</td>\n",
       "      <td>23.79</td>\n",
       "    </tr>\n",
       "    <tr>\n",
       "      <th>202</th>\n",
       "      <td>tokelau</td>\n",
       "      <td>15.83</td>\n",
       "      <td>19.54</td>\n",
       "      <td>11.97</td>\n",
       "      <td>15.95</td>\n",
       "      <td>19.71</td>\n",
       "      <td>12.05</td>\n",
       "      <td>0.0</td>\n",
       "      <td>0.0</td>\n",
       "      <td>0.0</td>\n",
       "      <td>10.593333</td>\n",
       "      <td>13.083333</td>\n",
       "      <td>8.006667</td>\n",
       "      <td>5.076667</td>\n",
       "      <td>15.95</td>\n",
       "      <td>-0.12</td>\n",
       "      <td>15.83</td>\n",
       "      <td>11.97</td>\n",
       "      <td>19.54</td>\n",
       "    </tr>\n",
       "    <tr>\n",
       "      <th>203</th>\n",
       "      <td>niue</td>\n",
       "      <td>15.59</td>\n",
       "      <td>20.62</td>\n",
       "      <td>10.51</td>\n",
       "      <td>15.63</td>\n",
       "      <td>20.66</td>\n",
       "      <td>10.54</td>\n",
       "      <td>0.0</td>\n",
       "      <td>0.0</td>\n",
       "      <td>0.0</td>\n",
       "      <td>10.406667</td>\n",
       "      <td>13.760000</td>\n",
       "      <td>7.016667</td>\n",
       "      <td>6.743333</td>\n",
       "      <td>15.63</td>\n",
       "      <td>-0.04</td>\n",
       "      <td>15.59</td>\n",
       "      <td>10.51</td>\n",
       "      <td>20.62</td>\n",
       "    </tr>\n",
       "  </tbody>\n",
       "</table>\n",
       "<p>204 rows × 19 columns</p>\n",
       "</div>"
      ],
      "text/plain": [
       "           country  overall_2021  male_2021  female_2021  overall_2020  \\\n",
       "0            india         13.33      15.70        10.85         13.28   \n",
       "1            china          9.17      10.64         7.63          9.04   \n",
       "2    united states         15.25      24.13         6.66         15.38   \n",
       "3        indonesia          1.64       2.21         1.05          1.66   \n",
       "4         pakistan          5.82       8.46         3.05          5.89   \n",
       "..             ...           ...        ...          ...           ...   \n",
       "199   cook islands          9.17      14.39         3.95         11.63   \n",
       "200          nauru         23.55      35.11        11.79         23.66   \n",
       "201         tuvalu         16.49      23.79         8.56         16.61   \n",
       "202        tokelau         15.83      19.54        11.97         15.95   \n",
       "203           niue         15.59      20.62        10.51         15.63   \n",
       "\n",
       "     male_2020  female_2020  overall_2019  male_2019  female_2019  \\\n",
       "0        15.70        10.73          12.7       14.1         11.1   \n",
       "1        10.52         7.50           8.1        9.8          6.2   \n",
       "2        24.33         6.73          16.1       25.0          7.5   \n",
       "3         2.23         1.07           2.4        3.7          1.1   \n",
       "4         8.54         3.10           8.9       13.3          4.3   \n",
       "..         ...          ...           ...        ...          ...   \n",
       "199      18.30         5.32           0.0        0.0          0.0   \n",
       "200      35.25        11.86           0.0        0.0          0.0   \n",
       "201      23.92         8.68           0.0        0.0          0.0   \n",
       "202      19.71        12.05           0.0        0.0          0.0   \n",
       "203      20.66        10.54           0.0        0.0          0.0   \n",
       "\n",
       "     average_suicide_rate  average_suicide_rate_male  \\\n",
       "0               13.103333                  15.166667   \n",
       "1                8.770000                  10.320000   \n",
       "2               15.576667                  24.486667   \n",
       "3                1.900000                   2.713333   \n",
       "4                6.870000                  10.100000   \n",
       "..                    ...                        ...   \n",
       "199              6.933333                  10.896667   \n",
       "200             15.736667                  23.453333   \n",
       "201             11.033333                  15.903333   \n",
       "202             10.593333                  13.083333   \n",
       "203             10.406667                  13.760000   \n",
       "\n",
       "     average_suicide_rate_female  gender_gap  overall_growth_2019_2020  \\\n",
       "0                      10.893333    4.273333                      0.58   \n",
       "1                       7.110000    3.210000                      0.94   \n",
       "2                       6.963333   17.523333                     -0.72   \n",
       "3                       1.073333    1.640000                     -0.74   \n",
       "4                       3.483333    6.616667                     -3.01   \n",
       "..                           ...         ...                       ...   \n",
       "199                     3.090000    7.806667                     11.63   \n",
       "200                     7.883333   15.570000                     23.66   \n",
       "201                     5.746667   10.156667                     16.61   \n",
       "202                     8.006667    5.076667                     15.95   \n",
       "203                     7.016667    6.743333                     15.63   \n",
       "\n",
       "     overall_growth_2020_2021  total_rate_change  female_rate_change  \\\n",
       "0                        0.05               0.63               -0.25   \n",
       "1                        0.13               1.07                1.43   \n",
       "2                       -0.13              -0.85               -0.84   \n",
       "3                       -0.02              -0.76               -0.05   \n",
       "4                       -0.07              -3.08               -1.25   \n",
       "..                        ...                ...                 ...   \n",
       "199                     -2.46               9.17                3.95   \n",
       "200                     -0.11              23.55               11.79   \n",
       "201                     -0.12              16.49                8.56   \n",
       "202                     -0.12              15.83               11.97   \n",
       "203                     -0.04              15.59               10.51   \n",
       "\n",
       "     male_rate_change  \n",
       "0                1.60  \n",
       "1                0.84  \n",
       "2               -0.87  \n",
       "3               -1.49  \n",
       "4               -4.84  \n",
       "..                ...  \n",
       "199             14.39  \n",
       "200             35.11  \n",
       "201             23.79  \n",
       "202             19.54  \n",
       "203             20.62  \n",
       "\n",
       "[204 rows x 19 columns]"
      ]
     },
     "execution_count": 237,
     "metadata": {},
     "output_type": "execute_result"
    }
   ],
   "source": [
    "suicide_df"
   ]
  },
  {
   "cell_type": "code",
   "execution_count": 239,
   "id": "f20b4695-c242-471b-967f-e5972d2a30eb",
   "metadata": {
    "tags": []
   },
   "outputs": [],
   "source": [
    "#sort to find top 10 in each category\n",
    "top_10_both_increase = suicide_df.nlargest(10, \"total_rate_change\")[[\"country\", \"total_rate_change\"]]\n",
    "top_10_male_increase = suicide_df.nlargest(10, \"male_rate_change\")[[\"country\", \"male_rate_change\"]]\n",
    "top_10_female_increase = suicide_df.nlargest(10, \"female_rate_change\")[[\"country\", \"female_rate_change\"]]"
   ]
  },
  {
   "cell_type": "code",
   "execution_count": 253,
   "id": "041d1972-02ad-4e34-8ccf-42fc8bb8f0dc",
   "metadata": {
    "tags": []
   },
   "outputs": [
    {
     "data": {
      "image/png": "[encoded data removed]",
      "text/plain": [
       "<Figure size 1200x1800 with 3 Axes>"
      ]
     },
     "metadata": {},
     "output_type": "display_data"
    }
   ],
   "source": [
    "#plot\n",
    "\n",
    "# Set up the vertical layout for plots\n",
    "fig, axes = plt.subplots(3, 1, figsize=(12, 18), sharex=False)\n",
    "# Both sexes rate increase plot\n",
    "sns.barplot(y='total_rate_change', x='country', data=top_10_both_increase, ax=axes[0],hue=\"country\", palette='Reds_r')\n",
    "axes[0].set_title('Top 10 Countries with Largest Increase in Both Sexes Suicide Rate (2019-2021)')\n",
    "axes[0].set_ylabel('Rate Increase')\n",
    "axes[0].set_xlabel('Country')\n",
    "\n",
    "# Male rate increase plot\n",
    "sns.barplot(y='male_rate_change', x='country', data=top_10_male_increase, ax=axes[1],hue=\"country\", palette='Greens_r')\n",
    "axes[1].set_title('Top 10 Countries with Largest Increase in Male Suicide Rate (2019-2021)')\n",
    "axes[1].set_ylabel('Rate Increase')\n",
    "axes[1].set_xlabel('')\n",
    "\n",
    "# Female rate increase plot\n",
    "sns.barplot(y= \"female_rate_change\", x= \"country\", data= top_10_female_increase, ax=axes[2], hue=\"country\",palette=\"Blues_r\")\n",
    "axes[2].set_title(\"Top 10 Countries with Largest Increase in Female Suicide Rate (2019-2021)\")\n",
    "axes[2].set_ylabel(\"Rate Increase\")\n",
    "axes[2].set_xlabel(\"\")\n",
    "\n",
    "for ax in axes:\n",
    "    # Get current tick locations\n",
    "    ticks = ax.get_xticks()\n",
    "    \n",
    "    # Set the ticks explicitly to fix them\n",
    "    ax.set_xticks(ticks)\n",
    "    \n",
    "    # Now set tick labels with rotation\n",
    "    ax.set_xticklabels(ax.get_xticklabels(), rotation=45, ha='right')\n",
    "    \n",
    "plt.tight_layout()\n",
    "plt.show()"
   ]
  },
  {
   "cell_type": "code",
   "execution_count": 257,
   "id": "0b0e6d41-17c0-4f74-bb95-82a7bfeba5f2",
   "metadata": {
    "tags": []
   },
   "outputs": [
    {
     "data": {
      "image/png": "[encoded data removed]",
      "text/plain": [
       "<Figure size 1500x1000 with 1 Axes>"
      ]
     },
     "metadata": {},
     "output_type": "display_data"
    }
   ],
   "source": [
    "# calculate absolute chnage from 2019 - 2021\n",
    "\n",
    "suicide_df[\"total_absolute_rate_change\"] = abs(suicide_df[\"overall_2021\"]) - abs(suicide_df[\"overall_2019\"])\n",
    "top_10_absolute_changes = suicide_df.nlargest(10, \"total_absolute_rate_change\")\n",
    "\n",
    "#plot \n",
    "\n",
    "plt.figure(figsize= (15,10))\n",
    "sns.barplot(y= \"total_absolute_rate_change\", x= \"country\", data= top_10_absolute_changes, hue=\"country\", palette=\"mako\")\n",
    "plt.title('Top 10 Countries with Largest Suicide Rate Change (Both Sexes, 2019-2021)')\n",
    "plt.xlabel('Change in Suicide Rate per 100k')\n",
    "plt.ylabel('Country')\n",
    "plt.show()\n"
   ]
  },
  {
   "cell_type": "markdown",
   "id": "aebe8c34-e72e-477e-b502-fb52b2350c6e",
   "metadata": {},
   "source": [
    "In my suicide data analysis project, i showcased a strong skill set in data processing, cleaning, and advanced analysis techniques. Here’s a summary:"
   ]
  },
  {
   "cell_type": "markdown",
   "id": "84f80381-9e3e-4758-a2d8-3adafa614cab",
   "metadata": {},
   "source": [
    "\t1.\tData Preparation: I loaded the dataset with Pandas, cleaned string columns for uniformity, handled nulls and duplicates, and used describe to inspect statistical summaries."
   ]
  },
  {
   "cell_type": "markdown",
   "id": "f7ce3bf2-ceac-47fa-8eb8-50379cee24e1",
   "metadata": {},
   "source": [
    "2.\tGender-Based Analysis: I created a separate DataFrame to analyze suicide rates by gender, identifying countries with the highest and lowest rates globally. I renamed columns for readability, calculated average suicide rates for both genders, and isolated top 10 countries for both male and female suicide rates using nlargest."
   ]
  },
  {
   "cell_type": "markdown",
   "id": "5cf85a66-cd3f-4ea1-bca4-bba8936ccb52",
   "metadata": {},
   "source": [
    "3.\tVisualization Expertise: Leveraging Plotly Express and Seaborn, i visualized findings, including top gender gaps, using interactive and informative plots to highlight disparities and trends across countries."
   ]
  },
  {
   "cell_type": "markdown",
   "id": "96334874-ebd3-42a4-ab6c-06ed5dcfcd24",
   "metadata": {},
   "source": [
    "4.\tTrend Analysis: I calculated countries with consistently high suicide rates by creating a threshold-based variable for the top 10% in growth. Additionally, i analyzed absolute changes from 2019-2021, providing a clear picture of trends over time."
   ]
  },
  {
   "cell_type": "markdown",
   "id": "7fe85440-9c38-4b73-a5cc-f7fa223882b8",
   "metadata": {},
   "source": [
    "Through this comprehensive project, i demonstrated my skills in data cleaning, statistical analysis, data transformation, and creating insights through advanced visualizations."
   ]
  },
  {
   "cell_type": "code",
   "execution_count": null,
   "id": "4000a541-5b3e-416e-a87b-5cfed18af055",
   "metadata": {},
   "outputs": [],
   "source": []
  }
 ],
 "metadata": {
  "kernelspec": {
   "display_name": "Python 3 (ipykernel)",
   "language": "python",
   "name": "python3"
  },
  "language_info": {
   "codemirror_mode": {
    "name": "ipython",
    "version": 3
   },
   "file_extension": ".py",
   "mimetype": "text/x-python",
   "name": "python",
   "nbconvert_exporter": "python",
   "pygments_lexer": "ipython3",
   "version": "3.11.5"
  }
 },
 "nbformat": 4,
 "nbformat_minor": 5
}
