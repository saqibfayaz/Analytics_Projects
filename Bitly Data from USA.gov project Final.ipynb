{
 "cells": [
  {
   "cell_type": "markdown",
   "id": "019dbc67",
   "metadata": {},
   "source": [
    "### Bitly Data from 1.USA.gov\n",
    "In 2011, the URL shortening service Bitly partnered with the US government website\n",
    "USA.gov to provide a feed of anonymous data gathered from users who shorten links\n",
    "ending with .gov or .mil. In 2011, a live feed as well as hourly snapshots were available\n",
    "as downloadable text files. \n"
   ]
  },
  {
   "cell_type": "markdown",
   "id": "e5863e49",
   "metadata": {},
   "source": [
    "In the case of the hourly snapshots, each line in each file contains a common form of\n",
    "web data known as JSON."
   ]
  },
  {
   "cell_type": "code",
   "execution_count": 10,
   "id": "23b92211",
   "metadata": {},
   "outputs": [],
   "source": [
    "path = '/Users/saqib/Downloads/pybook_data/example.txt'"
   ]
  },
  {
   "cell_type": "code",
   "execution_count": 12,
   "id": "b3dafa80",
   "metadata": {},
   "outputs": [
    {
     "name": "stdout",
     "output_type": "stream",
     "text": [
      "{ \"a\": \"Mozilla\\/5.0 (Windows NT 6.1; WOW64) AppleWebKit\\/535.11 (KHTML, like Gecko) Chrome\\/17.0.963.78 Safari\\/535.11\", \"c\": \"US\", \"nk\": 1, \"tz\": \"America\\/New_York\", \"gr\": \"MA\", \"g\": \"A6qOVH\", \"h\": \"wfLQtf\", \"l\": \"orofrog\", \"al\": \"en-US,en;q=0.8\", \"hh\": \"1.usa.gov\", \"r\": \"http:\\/\\/www.facebook.com\\/l\\/7AQEFzjSi\\/1.usa.gov\\/wfLQtf\", \"u\": \"http:\\/\\/www.ncbi.nlm.nih.gov\\/pubmed\\/22415991\", \"t\": 1331923247, \"hc\": 1331822918, \"cy\": \"Danvers\", \"ll\": [ 42.576698, -70.954903 ] }\n",
      "\n"
     ]
    }
   ],
   "source": [
    "with open(path) as f:\n",
    "    print(f.readline())\n"
   ]
  },
  {
   "cell_type": "markdown",
   "id": "a381ee12",
   "metadata": {},
   "source": [
    "Python has both built-in and third-party libraries for converting a JSON string into a\n",
    "Python dictionary. Here we’ll use the json module and its loads function invoked on\n",
    "each line in the sample file we downloaded:"
   ]
  },
  {
   "cell_type": "code",
   "execution_count": 15,
   "id": "dedeedd8",
   "metadata": {},
   "outputs": [],
   "source": [
    "import json"
   ]
  },
  {
   "cell_type": "code",
   "execution_count": 17,
   "id": "49ad3de1",
   "metadata": {},
   "outputs": [],
   "source": [
    "with open(path) as f:\n",
    "    records = [json.loads(line) for line in f]\n",
    "    \n"
   ]
  },
  {
   "cell_type": "markdown",
   "id": "241a1360",
   "metadata": {},
   "source": [
    "The resulting object records is now a list of Python dictionaries:"
   ]
  },
  {
   "cell_type": "code",
   "execution_count": 20,
   "id": "98aeb9b4",
   "metadata": {},
   "outputs": [
    {
     "data": {
      "text/plain": [
       "{'a': 'Mozilla/5.0 (Windows NT 6.1; WOW64) AppleWebKit/535.11 (KHTML, like Gecko) Chrome/17.0.963.78 Safari/535.11',\n",
       " 'c': 'US',\n",
       " 'nk': 1,\n",
       " 'tz': 'America/New_York',\n",
       " 'gr': 'MA',\n",
       " 'g': 'A6qOVH',\n",
       " 'h': 'wfLQtf',\n",
       " 'l': 'orofrog',\n",
       " 'al': 'en-US,en;q=0.8',\n",
       " 'hh': '1.usa.gov',\n",
       " 'r': 'http://www.facebook.com/l/7AQEFzjSi/1.usa.gov/wfLQtf',\n",
       " 'u': 'http://www.ncbi.nlm.nih.gov/pubmed/22415991',\n",
       " 't': 1331923247,\n",
       " 'hc': 1331822918,\n",
       " 'cy': 'Danvers',\n",
       " 'll': [42.576698, -70.954903]}"
      ]
     },
     "execution_count": 20,
     "metadata": {},
     "output_type": "execute_result"
    }
   ],
   "source": [
    "records[0]"
   ]
  },
  {
   "cell_type": "markdown",
   "id": "8c339d8b",
   "metadata": {},
   "source": [
    "### Counting Time Zones in Pure Python\n",
    "Suppose we were interested in finding the time zones that occur most often in the\n",
    "dataset (the tz field). There are many ways we could do this. First, let’s extract a list of\n",
    "time zones again using a list comprehension:"
   ]
  },
  {
   "cell_type": "code",
   "execution_count": 23,
   "id": "78064aab",
   "metadata": {},
   "outputs": [
    {
     "ename": "KeyError",
     "evalue": "'tz'",
     "output_type": "error",
     "traceback": [
      "\u001b[0;31m---------------------------------------------------------------------------\u001b[0m",
      "\u001b[0;31mKeyError\u001b[0m                                  Traceback (most recent call last)",
      "Cell \u001b[0;32mIn[23], line 1\u001b[0m\n\u001b[0;32m----> 1\u001b[0m time_zones \u001b[38;5;241m=\u001b[39m [rec[\u001b[38;5;124m\"\u001b[39m\u001b[38;5;124mtz\u001b[39m\u001b[38;5;124m\"\u001b[39m] \u001b[38;5;28;01mfor\u001b[39;00m rec \u001b[38;5;129;01min\u001b[39;00m records]\n",
      "\u001b[0;31mKeyError\u001b[0m: 'tz'"
     ]
    }
   ],
   "source": [
    "time_zones = [rec[\"tz\"] for rec in records]\n"
   ]
  },
  {
   "cell_type": "markdown",
   "id": "dff45784",
   "metadata": {},
   "source": [
    "Oops! Turns out that not all of the records have a time zone field. We can handle this\n",
    "by adding the check if \"tz\" in rec at the end of the list comprehension:"
   ]
  },
  {
   "cell_type": "code",
   "execution_count": 26,
   "id": "790fe50f",
   "metadata": {},
   "outputs": [],
   "source": [
    "time_zones = [rec[\"tz\"] for rec in records if \"tz\" in rec]"
   ]
  },
  {
   "cell_type": "code",
   "execution_count": 28,
   "id": "4f3ae1ab",
   "metadata": {},
   "outputs": [
    {
     "data": {
      "text/plain": [
       "['America/New_York',\n",
       " 'America/Denver',\n",
       " 'America/New_York',\n",
       " 'America/Sao_Paulo',\n",
       " 'America/New_York',\n",
       " 'America/New_York',\n",
       " 'Europe/Warsaw',\n",
       " '',\n",
       " '',\n",
       " '']"
      ]
     },
     "execution_count": 28,
     "metadata": {},
     "output_type": "execute_result"
    }
   ],
   "source": [
    "time_zones[:10]"
   ]
  },
  {
   "cell_type": "markdown",
   "id": "f351ea16",
   "metadata": {},
   "source": [
    "Just looking at the first 10 time zones, we see that some of them are unknown (empty\n",
    "string). You can filter these out also, but I’ll leave them in for now. Next, to produce\n",
    "counts by time zone, I’ll show two approaches: a harder way (using just the Python\n",
    "standard library) and a simpler way (using pandas). One way to do the counting is to\n",
    "use a dictionary to store counts while we iterate through the time zones:"
   ]
  },
  {
   "cell_type": "code",
   "execution_count": 31,
   "id": "eb06c0d2",
   "metadata": {},
   "outputs": [],
   "source": [
    "def get_counts(sequence):\n",
    "    counts = {}\n",
    "    for x in sequence:\n",
    "        if x in counts:\n",
    "            counts[x] += 1\n",
    "        else:\n",
    "            counts[x] = 1\n",
    "    return counts\n",
    "\n"
   ]
  },
  {
   "cell_type": "markdown",
   "id": "0e648e97",
   "metadata": {},
   "source": [
    " Using more advanced tools in the Python standard library, you can write the same\n",
    "thing more briefly:"
   ]
  },
  {
   "cell_type": "code",
   "execution_count": 34,
   "id": "e788efd5",
   "metadata": {},
   "outputs": [],
   "source": [
    "from collections import defaultdict\n"
   ]
  },
  {
   "cell_type": "code",
   "execution_count": 36,
   "id": "a54a3194",
   "metadata": {},
   "outputs": [],
   "source": [
    "def get_counts2(sequence):\n",
    "    counts = defaultdict(int) # values will initialize to 0\n",
    "    for x in sequence:\n",
    "        counts[x] += 1\n",
    "    return counts\n",
    "\n"
   ]
  },
  {
   "cell_type": "markdown",
   "id": "c79c56d3",
   "metadata": {},
   "source": [
    "I put this logic in a function just to make it more reusable. To use it on the time\n",
    "zones, just pass the time_zones list:"
   ]
  },
  {
   "cell_type": "code",
   "execution_count": 49,
   "id": "074bdac1",
   "metadata": {},
   "outputs": [],
   "source": [
    "counts = get_counts2(time_zones)"
   ]
  },
  {
   "cell_type": "code",
   "execution_count": 51,
   "id": "7897d358",
   "metadata": {},
   "outputs": [
    {
     "data": {
      "text/plain": [
       "1251"
      ]
     },
     "execution_count": 51,
     "metadata": {},
     "output_type": "execute_result"
    }
   ],
   "source": [
    "counts[\"America/New_York\"]"
   ]
  },
  {
   "cell_type": "code",
   "execution_count": 53,
   "id": "35b15d3e",
   "metadata": {},
   "outputs": [
    {
     "data": {
      "text/plain": [
       "3440"
      ]
     },
     "execution_count": 53,
     "metadata": {},
     "output_type": "execute_result"
    }
   ],
   "source": [
    "len(time_zones)"
   ]
  },
  {
   "cell_type": "code",
   "execution_count": 63,
   "id": "c1719d2d",
   "metadata": {},
   "outputs": [
    {
     "data": {
      "text/plain": [
       "defaultdict(int,\n",
       "            {'America/New_York': 1251,\n",
       "             'America/Denver': 191,\n",
       "             'America/Sao_Paulo': 33,\n",
       "             'Europe/Warsaw': 16,\n",
       "             '': 521,\n",
       "             'America/Los_Angeles': 382,\n",
       "             'Asia/Hong_Kong': 10,\n",
       "             'Europe/Rome': 27,\n",
       "             'Africa/Ceuta': 2,\n",
       "             'Europe/Madrid': 35,\n",
       "             'Asia/Kuala_Lumpur': 3,\n",
       "             'Asia/Nicosia': 1,\n",
       "             'Europe/London': 74,\n",
       "             'Pacific/Honolulu': 36,\n",
       "             'America/Chicago': 400,\n",
       "             'Europe/Malta': 2,\n",
       "             'Europe/Lisbon': 8,\n",
       "             'Europe/Paris': 14,\n",
       "             'Europe/Copenhagen': 5,\n",
       "             'America/Mazatlan': 1,\n",
       "             'Europe/Dublin': 3,\n",
       "             'Europe/Brussels': 4,\n",
       "             'America/Vancouver': 12,\n",
       "             'Europe/Amsterdam': 22,\n",
       "             'Europe/Prague': 10,\n",
       "             'Europe/Stockholm': 14,\n",
       "             'America/Anchorage': 5,\n",
       "             'Asia/Bangkok': 6,\n",
       "             'Europe/Berlin': 28,\n",
       "             'America/Rainy_River': 25,\n",
       "             'Europe/Budapest': 5,\n",
       "             'Asia/Tokyo': 37,\n",
       "             'Europe/Vienna': 6,\n",
       "             'America/Phoenix': 20,\n",
       "             'Asia/Jerusalem': 3,\n",
       "             'Asia/Karachi': 3,\n",
       "             'America/Bogota': 3,\n",
       "             'America/Indianapolis': 20,\n",
       "             'America/Montreal': 9,\n",
       "             'Asia/Calcutta': 9,\n",
       "             'Europe/Skopje': 1,\n",
       "             'Asia/Beirut': 4,\n",
       "             'Australia/NSW': 6,\n",
       "             'Chile/Continental': 6,\n",
       "             'America/Halifax': 4,\n",
       "             'America/Edmonton': 6,\n",
       "             'Europe/Bratislava': 3,\n",
       "             'America/Recife': 2,\n",
       "             'Africa/Cairo': 3,\n",
       "             'Asia/Istanbul': 9,\n",
       "             'Asia/Novosibirsk': 1,\n",
       "             'Europe/Moscow': 10,\n",
       "             'Europe/Sofia': 1,\n",
       "             'Europe/Ljubljana': 1,\n",
       "             'America/Mexico_City': 15,\n",
       "             'Europe/Helsinki': 10,\n",
       "             'Europe/Bucharest': 4,\n",
       "             'Europe/Zurich': 4,\n",
       "             'America/Puerto_Rico': 10,\n",
       "             'America/Monterrey': 1,\n",
       "             'Europe/Athens': 6,\n",
       "             'America/Winnipeg': 4,\n",
       "             'Europe/Riga': 2,\n",
       "             'America/Argentina/Buenos_Aires': 1,\n",
       "             'Asia/Dubai': 4,\n",
       "             'Europe/Oslo': 10,\n",
       "             'Asia/Yekaterinburg': 1,\n",
       "             'Asia/Manila': 1,\n",
       "             'America/Caracas': 1,\n",
       "             'Asia/Riyadh': 1,\n",
       "             'America/Montevideo': 1,\n",
       "             'America/Argentina/Mendoza': 1,\n",
       "             'Asia/Seoul': 5,\n",
       "             'Europe/Uzhgorod': 1,\n",
       "             'Australia/Queensland': 1,\n",
       "             'Europe/Belgrade': 2,\n",
       "             'America/Costa_Rica': 1,\n",
       "             'America/Lima': 1,\n",
       "             'Asia/Pontianak': 1,\n",
       "             'America/Chihuahua': 2,\n",
       "             'Europe/Vilnius': 2,\n",
       "             'America/Managua': 3,\n",
       "             'Africa/Lusaka': 1,\n",
       "             'America/Guayaquil': 2,\n",
       "             'Asia/Harbin': 3,\n",
       "             'Asia/Amman': 2,\n",
       "             'Africa/Johannesburg': 1,\n",
       "             'America/St_Kitts': 1,\n",
       "             'Pacific/Auckland': 11,\n",
       "             'America/Santo_Domingo': 1,\n",
       "             'America/Argentina/Cordoba': 1,\n",
       "             'Asia/Kuching': 1,\n",
       "             'Europe/Volgograd': 1,\n",
       "             'America/La_Paz': 1,\n",
       "             'Africa/Casablanca': 1,\n",
       "             'Asia/Jakarta': 3,\n",
       "             'America/Tegucigalpa': 1,\n",
       "             0: 0,\n",
       "             1: 0})"
      ]
     },
     "execution_count": 63,
     "metadata": {},
     "output_type": "execute_result"
    }
   ],
   "source": [
    "counts"
   ]
  },
  {
   "cell_type": "markdown",
   "id": "d40f40b2",
   "metadata": {},
   "source": [
    "If we wanted the top 10 time zones and their counts, we can make a list of tuples by\n",
    "(count, timezone) and sort it:"
   ]
  },
  {
   "cell_type": "code",
   "execution_count": 65,
   "id": "2d374648",
   "metadata": {},
   "outputs": [],
   "source": [
    "def top_counts(count_dict, n= 10):\n",
    "    value_key_pairs = [(count, tz) for  tz, count in count_dict.items()]\n",
    "    value_key_pairs.sort()\n",
    "    return value_key_pairs[-n:]\n",
    "    \n"
   ]
  },
  {
   "cell_type": "markdown",
   "id": "ddc66d7c-5c77-4b54-8146-e3af33699cc2",
   "metadata": {},
   "source": [
    "or we could have written it like this:"
   ]
  },
  {
   "cell_type": "code",
   "execution_count": 111,
   "id": "ef947fb8-ca97-4924-b880-a6bfd4f192c1",
   "metadata": {
    "tags": []
   },
   "outputs": [],
   "source": [
    "import heapq\n",
    "def top_counts(count_dict, n= 10):\n",
    "    return heapq.nlargest(n, [(count, tz) for tz, count in count_dict.items()])\n",
    "\n"
   ]
  },
  {
   "cell_type": "code",
   "execution_count": 113,
   "id": "9bdadf6d",
   "metadata": {},
   "outputs": [
    {
     "data": {
      "text/plain": [
       "[(1251, 'America/New_York'),\n",
       " (521, ''),\n",
       " (400, 'America/Chicago'),\n",
       " (382, 'America/Los_Angeles'),\n",
       " (191, 'America/Denver'),\n",
       " (74, 'Europe/London'),\n",
       " (37, 'Asia/Tokyo'),\n",
       " (36, 'Pacific/Honolulu'),\n",
       " (35, 'Europe/Madrid'),\n",
       " (33, 'America/Sao_Paulo')]"
      ]
     },
     "execution_count": 113,
     "metadata": {},
     "output_type": "execute_result"
    }
   ],
   "source": [
    "top_counts(counts)"
   ]
  },
  {
   "cell_type": "markdown",
   "id": "abb8d107",
   "metadata": {},
   "source": [
    "If you search the Python standard library, you may find the collections.Counter\n",
    "class, which makes this task even simpler:"
   ]
  },
  {
   "cell_type": "code",
   "execution_count": 31,
   "id": "c3a1a585",
   "metadata": {},
   "outputs": [],
   "source": [
    "from collections import Counter\n",
    "counts = Counter(time_zones)\n",
    "counts.most_common(10)\n"
   ]
  },
  {
   "cell_type": "code",
   "execution_count": 115,
   "id": "f3f76a6a",
   "metadata": {},
   "outputs": [
    {
     "data": {
      "text/plain": [
       "[('America/New_York', 1251),\n",
       " ('', 521),\n",
       " ('America/Chicago', 400),\n",
       " ('America/Los_Angeles', 382),\n",
       " ('America/Denver', 191),\n",
       " ('Europe/London', 74),\n",
       " ('Asia/Tokyo', 37),\n",
       " ('Pacific/Honolulu', 36),\n",
       " ('Europe/Madrid', 35),\n",
       " ('America/Sao_Paulo', 33)]"
      ]
     },
     "execution_count": 115,
     "metadata": {},
     "output_type": "execute_result"
    }
   ],
   "source": [
    "from collections import Counter\n",
    "counts = Counter(time_zones)\n",
    "counts.most_common(10)"
   ]
  },
  {
   "cell_type": "markdown",
   "id": "cfb63c9e",
   "metadata": {},
   "source": [
    "### Counting Time Zones with pandas\n",
    "You can create a DataFrame from the original set of records by passing the list of\n",
    "records to pandas.DataFrame:"
   ]
  },
  {
   "cell_type": "code",
   "execution_count": 117,
   "id": "3d6f55ac",
   "metadata": {},
   "outputs": [],
   "source": [
    "import pandas as pd\n",
    "frame= pd.DataFrame(records)"
   ]
  },
  {
   "cell_type": "markdown",
   "id": "22ab1f7e",
   "metadata": {},
   "source": [
    "We can look at some basic information about this new DataFrame, such as column\n",
    "names, inferred column types, or number of missing values, using frame.info():"
   ]
  },
  {
   "cell_type": "code",
   "execution_count": 36,
   "id": "03217f08",
   "metadata": {},
   "outputs": [
    {
     "name": "stdout",
     "output_type": "stream",
     "text": [
      "<class 'pandas.core.frame.DataFrame'>\n",
      "RangeIndex: 3560 entries, 0 to 3559\n",
      "Data columns (total 18 columns):\n",
      " #   Column       Non-Null Count  Dtype  \n",
      "---  ------       --------------  -----  \n",
      " 0   a            3440 non-null   object \n",
      " 1   c            2919 non-null   object \n",
      " 2   nk           3440 non-null   float64\n",
      " 3   tz           3440 non-null   object \n",
      " 4   gr           2919 non-null   object \n",
      " 5   g            3440 non-null   object \n",
      " 6   h            3440 non-null   object \n",
      " 7   l            3440 non-null   object \n",
      " 8   al           3094 non-null   object \n",
      " 9   hh           3440 non-null   object \n",
      " 10  r            3440 non-null   object \n",
      " 11  u            3440 non-null   object \n",
      " 12  t            3440 non-null   float64\n",
      " 13  hc           3440 non-null   float64\n",
      " 14  cy           2919 non-null   object \n",
      " 15  ll           2919 non-null   object \n",
      " 16  _heartbeat_  120 non-null    float64\n",
      " 17  kw           93 non-null     object \n",
      "dtypes: float64(4), object(14)\n",
      "memory usage: 500.8+ KB\n"
     ]
    }
   ],
   "source": [
    "frame.info()"
   ]
  },
  {
   "cell_type": "code",
   "execution_count": 37,
   "id": "a0ff9b39",
   "metadata": {},
   "outputs": [
    {
     "data": {
      "text/plain": [
       "0     America/New_York\n",
       "1       America/Denver\n",
       "2     America/New_York\n",
       "3    America/Sao_Paulo\n",
       "4     America/New_York\n",
       "Name: tz, dtype: object"
      ]
     },
     "execution_count": 37,
     "metadata": {},
     "output_type": "execute_result"
    }
   ],
   "source": [
    "frame[\"tz\"].head()"
   ]
  },
  {
   "cell_type": "markdown",
   "id": "456f2d94",
   "metadata": {},
   "source": [
    "The output shown for the frame is the summary view, shown for large DataFrame\n",
    "objects. We can then use the value_counts method for the Series:"
   ]
  },
  {
   "cell_type": "code",
   "execution_count": 38,
   "id": "2f9e4b87",
   "metadata": {},
   "outputs": [],
   "source": [
    "tz_counts = frame[\"tz\"].value_counts()"
   ]
  },
  {
   "cell_type": "code",
   "execution_count": 122,
   "id": "edb455ed-8e03-4103-be96-ed952a414f4b",
   "metadata": {
    "tags": []
   },
   "outputs": [],
   "source": [
    "tz_counts = frame[\"tz\"].value_counts()"
   ]
  },
  {
   "cell_type": "code",
   "execution_count": 124,
   "id": "3bb2f2b5",
   "metadata": {},
   "outputs": [
    {
     "data": {
      "text/plain": [
       "America/New_York       1251\n",
       "                        521\n",
       "America/Chicago         400\n",
       "America/Los_Angeles     382\n",
       "America/Denver          191\n",
       "Name: tz, dtype: int64"
      ]
     },
     "execution_count": 124,
     "metadata": {},
     "output_type": "execute_result"
    }
   ],
   "source": [
    "tz_counts.head()"
   ]
  },
  {
   "cell_type": "markdown",
   "id": "0c17ae35",
   "metadata": {},
   "source": [
    "We can visualize this data using matplotlib. We can make the plots a bit nicer by\n",
    "filling in a substitute value for unknown or missing time zone data in the records. We\n",
    "replace the missing values with the fillna method and use Boolean array indexing\n",
    "for the empty strings:"
   ]
  },
  {
   "cell_type": "code",
   "execution_count": 126,
   "id": "7c00840f",
   "metadata": {},
   "outputs": [],
   "source": [
    "clean_tz = frame[\"tz\"].fillna(\"Missing\")\n",
    "clean_tz[clean_tz ==\"\"] = \"Unknown\"\n",
    "tz_counts = clean_tz.value_counts()"
   ]
  },
  {
   "cell_type": "code",
   "execution_count": null,
   "id": "2ddd70bd",
   "metadata": {},
   "outputs": [],
   "source": []
  },
  {
   "cell_type": "code",
   "execution_count": 128,
   "id": "5d8ebd0f",
   "metadata": {},
   "outputs": [
    {
     "data": {
      "text/plain": [
       "America/New_York       1251\n",
       "Unknown                 521\n",
       "America/Chicago         400\n",
       "America/Los_Angeles     382\n",
       "America/Denver          191\n",
       "Name: tz, dtype: int64"
      ]
     },
     "execution_count": 128,
     "metadata": {},
     "output_type": "execute_result"
    }
   ],
   "source": [
    "tz_counts.head()"
   ]
  },
  {
   "cell_type": "markdown",
   "id": "8a06d468",
   "metadata": {},
   "source": [
    "At this point, we can use the seaborn package to make a horizontal bar plot (see\n",
    "Figure 13-1 for the resulting visualization):"
   ]
  },
  {
   "cell_type": "code",
   "execution_count": 44,
   "id": "0a220c8b",
   "metadata": {},
   "outputs": [],
   "source": []
  },
  {
   "cell_type": "code",
   "execution_count": 154,
   "id": "0046f745",
   "metadata": {},
   "outputs": [
    {
     "data": {
      "text/plain": [
       "<Axes: ylabel='None'>"
      ]
     },
     "execution_count": 154,
     "metadata": {},
     "output_type": "execute_result"
    },
    {
     "data": {
      "image/png": "[encoded data removed]",
      "text/plain": [
       "<Figure size 640x480 with 1 Axes>"
      ]
     },
     "metadata": {},
     "output_type": "display_data"
    }
   ],
   "source": [
    "import seaborn as sns\n",
    "subset = tz_counts.head()\n",
    "sns.barplot(y=subset.index, x= subset.to_numpy())\n",
    "\n"
   ]
  },
  {
   "cell_type": "code",
   "execution_count": 160,
   "id": "5c63e8c2",
   "metadata": {},
   "outputs": [
    {
     "data": {
      "text/plain": [
       "<Axes: ylabel='None'>"
      ]
     },
     "execution_count": 160,
     "metadata": {},
     "output_type": "execute_result"
    },
    {
     "data": {
      "image/png": "[encoded data removed]",
      "text/plain": [
       "<Figure size 640x480 with 1 Axes>"
      ]
     },
     "metadata": {},
     "output_type": "display_data"
    }
   ],
   "source": [
    "import seaborn as sns\n",
    "subset = tz_counts.head()\n",
    "sns.barplot(x=subset.to_numpy(), y= subset.index)"
   ]
  },
  {
   "cell_type": "markdown",
   "id": "a1ff4179",
   "metadata": {},
   "source": [
    "The **a** field contains information about the browser, device, or application used to\n",
    "perform the URL shortening:"
   ]
  },
  {
   "cell_type": "code",
   "execution_count": 162,
   "id": "0280e224-42f3-4f46-b130-51d4d5269975",
   "metadata": {
    "tags": []
   },
   "outputs": [
    {
     "data": {
      "text/html": [
       "<div>\n",
       "<style scoped>\n",
       "    .dataframe tbody tr th:only-of-type {\n",
       "        vertical-align: middle;\n",
       "    }\n",
       "\n",
       "    .dataframe tbody tr th {\n",
       "        vertical-align: top;\n",
       "    }\n",
       "\n",
       "    .dataframe thead th {\n",
       "        text-align: right;\n",
       "    }\n",
       "</style>\n",
       "<table border=\"1\" class=\"dataframe\">\n",
       "  <thead>\n",
       "    <tr style=\"text-align: right;\">\n",
       "      <th></th>\n",
       "      <th>a</th>\n",
       "      <th>c</th>\n",
       "      <th>nk</th>\n",
       "      <th>tz</th>\n",
       "      <th>gr</th>\n",
       "      <th>g</th>\n",
       "      <th>h</th>\n",
       "      <th>l</th>\n",
       "      <th>al</th>\n",
       "      <th>hh</th>\n",
       "      <th>r</th>\n",
       "      <th>u</th>\n",
       "      <th>t</th>\n",
       "      <th>hc</th>\n",
       "      <th>cy</th>\n",
       "      <th>ll</th>\n",
       "      <th>_heartbeat_</th>\n",
       "      <th>kw</th>\n",
       "    </tr>\n",
       "  </thead>\n",
       "  <tbody>\n",
       "    <tr>\n",
       "      <th>0</th>\n",
       "      <td>Mozilla/5.0 (Windows NT 6.1; WOW64) AppleWebKi...</td>\n",
       "      <td>US</td>\n",
       "      <td>1.0</td>\n",
       "      <td>America/New_York</td>\n",
       "      <td>MA</td>\n",
       "      <td>A6qOVH</td>\n",
       "      <td>wfLQtf</td>\n",
       "      <td>orofrog</td>\n",
       "      <td>en-US,en;q=0.8</td>\n",
       "      <td>1.usa.gov</td>\n",
       "      <td>http://www.facebook.com/l/7AQEFzjSi/1.usa.gov/...</td>\n",
       "      <td>http://www.ncbi.nlm.nih.gov/pubmed/22415991</td>\n",
       "      <td>1.331923e+09</td>\n",
       "      <td>1.331823e+09</td>\n",
       "      <td>Danvers</td>\n",
       "      <td>[42.576698, -70.954903]</td>\n",
       "      <td>NaN</td>\n",
       "      <td>NaN</td>\n",
       "    </tr>\n",
       "    <tr>\n",
       "      <th>1</th>\n",
       "      <td>GoogleMaps/RochesterNY</td>\n",
       "      <td>US</td>\n",
       "      <td>0.0</td>\n",
       "      <td>America/Denver</td>\n",
       "      <td>UT</td>\n",
       "      <td>mwszkS</td>\n",
       "      <td>mwszkS</td>\n",
       "      <td>bitly</td>\n",
       "      <td>NaN</td>\n",
       "      <td>j.mp</td>\n",
       "      <td>http://www.AwareMap.com/</td>\n",
       "      <td>http://www.monroecounty.gov/etc/911/rss.php</td>\n",
       "      <td>1.331923e+09</td>\n",
       "      <td>1.308262e+09</td>\n",
       "      <td>Provo</td>\n",
       "      <td>[40.218102, -111.613297]</td>\n",
       "      <td>NaN</td>\n",
       "      <td>NaN</td>\n",
       "    </tr>\n",
       "    <tr>\n",
       "      <th>2</th>\n",
       "      <td>Mozilla/4.0 (compatible; MSIE 8.0; Windows NT ...</td>\n",
       "      <td>US</td>\n",
       "      <td>1.0</td>\n",
       "      <td>America/New_York</td>\n",
       "      <td>DC</td>\n",
       "      <td>xxr3Qb</td>\n",
       "      <td>xxr3Qb</td>\n",
       "      <td>bitly</td>\n",
       "      <td>en-US</td>\n",
       "      <td>1.usa.gov</td>\n",
       "      <td>http://t.co/03elZC4Q</td>\n",
       "      <td>http://boxer.senate.gov/en/press/releases/0316...</td>\n",
       "      <td>1.331923e+09</td>\n",
       "      <td>1.331920e+09</td>\n",
       "      <td>Washington</td>\n",
       "      <td>[38.9007, -77.043098]</td>\n",
       "      <td>NaN</td>\n",
       "      <td>NaN</td>\n",
       "    </tr>\n",
       "    <tr>\n",
       "      <th>3</th>\n",
       "      <td>Mozilla/5.0 (Macintosh; Intel Mac OS X 10_6_8)...</td>\n",
       "      <td>BR</td>\n",
       "      <td>0.0</td>\n",
       "      <td>America/Sao_Paulo</td>\n",
       "      <td>27</td>\n",
       "      <td>zCaLwp</td>\n",
       "      <td>zUtuOu</td>\n",
       "      <td>alelex88</td>\n",
       "      <td>pt-br</td>\n",
       "      <td>1.usa.gov</td>\n",
       "      <td>direct</td>\n",
       "      <td>http://apod.nasa.gov/apod/ap120312.html</td>\n",
       "      <td>1.331923e+09</td>\n",
       "      <td>1.331923e+09</td>\n",
       "      <td>Braz</td>\n",
       "      <td>[-23.549999, -46.616699]</td>\n",
       "      <td>NaN</td>\n",
       "      <td>NaN</td>\n",
       "    </tr>\n",
       "    <tr>\n",
       "      <th>4</th>\n",
       "      <td>Mozilla/5.0 (Windows NT 6.1; WOW64) AppleWebKi...</td>\n",
       "      <td>US</td>\n",
       "      <td>0.0</td>\n",
       "      <td>America/New_York</td>\n",
       "      <td>MA</td>\n",
       "      <td>9b6kNl</td>\n",
       "      <td>9b6kNl</td>\n",
       "      <td>bitly</td>\n",
       "      <td>en-US,en;q=0.8</td>\n",
       "      <td>bit.ly</td>\n",
       "      <td>http://www.shrewsbury-ma.gov/selco/</td>\n",
       "      <td>http://www.shrewsbury-ma.gov/egov/gallery/1341...</td>\n",
       "      <td>1.331923e+09</td>\n",
       "      <td>1.273672e+09</td>\n",
       "      <td>Shrewsbury</td>\n",
       "      <td>[42.286499, -71.714699]</td>\n",
       "      <td>NaN</td>\n",
       "      <td>NaN</td>\n",
       "    </tr>\n",
       "  </tbody>\n",
       "</table>\n",
       "</div>"
      ],
      "text/plain": [
       "                                                   a   c   nk  \\\n",
       "0  Mozilla/5.0 (Windows NT 6.1; WOW64) AppleWebKi...  US  1.0   \n",
       "1                             GoogleMaps/RochesterNY  US  0.0   \n",
       "2  Mozilla/4.0 (compatible; MSIE 8.0; Windows NT ...  US  1.0   \n",
       "3  Mozilla/5.0 (Macintosh; Intel Mac OS X 10_6_8)...  BR  0.0   \n",
       "4  Mozilla/5.0 (Windows NT 6.1; WOW64) AppleWebKi...  US  0.0   \n",
       "\n",
       "                  tz  gr       g       h         l              al         hh  \\\n",
       "0   America/New_York  MA  A6qOVH  wfLQtf   orofrog  en-US,en;q=0.8  1.usa.gov   \n",
       "1     America/Denver  UT  mwszkS  mwszkS     bitly             NaN       j.mp   \n",
       "2   America/New_York  DC  xxr3Qb  xxr3Qb     bitly           en-US  1.usa.gov   \n",
       "3  America/Sao_Paulo  27  zCaLwp  zUtuOu  alelex88           pt-br  1.usa.gov   \n",
       "4   America/New_York  MA  9b6kNl  9b6kNl     bitly  en-US,en;q=0.8     bit.ly   \n",
       "\n",
       "                                                   r  \\\n",
       "0  http://www.facebook.com/l/7AQEFzjSi/1.usa.gov/...   \n",
       "1                           http://www.AwareMap.com/   \n",
       "2                               http://t.co/03elZC4Q   \n",
       "3                                             direct   \n",
       "4                http://www.shrewsbury-ma.gov/selco/   \n",
       "\n",
       "                                                   u             t  \\\n",
       "0        http://www.ncbi.nlm.nih.gov/pubmed/22415991  1.331923e+09   \n",
       "1        http://www.monroecounty.gov/etc/911/rss.php  1.331923e+09   \n",
       "2  http://boxer.senate.gov/en/press/releases/0316...  1.331923e+09   \n",
       "3            http://apod.nasa.gov/apod/ap120312.html  1.331923e+09   \n",
       "4  http://www.shrewsbury-ma.gov/egov/gallery/1341...  1.331923e+09   \n",
       "\n",
       "             hc          cy                        ll  _heartbeat_   kw  \n",
       "0  1.331823e+09     Danvers   [42.576698, -70.954903]          NaN  NaN  \n",
       "1  1.308262e+09       Provo  [40.218102, -111.613297]          NaN  NaN  \n",
       "2  1.331920e+09  Washington     [38.9007, -77.043098]          NaN  NaN  \n",
       "3  1.331923e+09        Braz  [-23.549999, -46.616699]          NaN  NaN  \n",
       "4  1.273672e+09  Shrewsbury   [42.286499, -71.714699]          NaN  NaN  "
      ]
     },
     "execution_count": 162,
     "metadata": {},
     "output_type": "execute_result"
    }
   ],
   "source": [
    "frame.head()"
   ]
  },
  {
   "cell_type": "code",
   "execution_count": 170,
   "id": "b2b28f59",
   "metadata": {},
   "outputs": [
    {
     "data": {
      "text/plain": [
       "'GoogleMaps/RochesterNY'"
      ]
     },
     "execution_count": 170,
     "metadata": {},
     "output_type": "execute_result"
    }
   ],
   "source": [
    "frame[\"a\"][1]"
   ]
  },
  {
   "cell_type": "code",
   "execution_count": 172,
   "id": "f993d5a8",
   "metadata": {},
   "outputs": [
    {
     "data": {
      "text/plain": [
       "'Mozilla/5.0 (Linux; U; Android 2.2.2; en-us; LG-P925/V10e Build/FRG83G) AppleWebKit/533.1 (KHTML, like Gecko) Version/4.0 Mobile Safari/533.1'"
      ]
     },
     "execution_count": 172,
     "metadata": {},
     "output_type": "execute_result"
    }
   ],
   "source": [
    "frame[\"a\"][51]"
   ]
  },
  {
   "cell_type": "code",
   "execution_count": 174,
   "id": "6f8d6a20",
   "metadata": {},
   "outputs": [
    {
     "data": {
      "text/plain": [
       "'Mozilla/5.0 (Linux; U; Android 2.2.2; en-us; LG-P9'"
      ]
     },
     "execution_count": 174,
     "metadata": {},
     "output_type": "execute_result"
    }
   ],
   "source": [
    "frame[\"a\"][51][:50] # long line"
   ]
  },
  {
   "cell_type": "markdown",
   "id": "8e3c2c30",
   "metadata": {},
   "source": [
    "Parsing all of the interesting information in these “agent” strings may seem like\n",
    "a daunting task. One possible strategy is to split off the first token in the string\n",
    "(corresponding roughly to the browser capability) and make another summary of the\n",
    "user behavior:"
   ]
  },
  {
   "cell_type": "code",
   "execution_count": 183,
   "id": "60f3a7ba",
   "metadata": {},
   "outputs": [],
   "source": [
    "#results = pd.Series([x.split()[0] for x in frame[\"a\"].dropna()])\n",
    "results = pd.Series([x.split()[0] for x in frame[\"a\"].dropna()])\n"
   ]
  },
  {
   "cell_type": "code",
   "execution_count": 181,
   "id": "3b78c16c",
   "metadata": {},
   "outputs": [
    {
     "data": {
      "text/plain": [
       "0               Mozilla/5.0\n",
       "1    GoogleMaps/RochesterNY\n",
       "2               Mozilla/4.0\n",
       "3               Mozilla/5.0\n",
       "4               Mozilla/5.0\n",
       "dtype: object"
      ]
     },
     "execution_count": 181,
     "metadata": {},
     "output_type": "execute_result"
    }
   ],
   "source": [
    "results.head(5)"
   ]
  },
  {
   "cell_type": "markdown",
   "id": "4c2a16d2",
   "metadata": {},
   "source": [
    "Now, suppose you wanted to decompose the top time zones into Windows and\n",
    "non-Windows users. As a simplification, let’s say that a user is on Windows if the\n",
    "string \"Windows\" is in the agent string. Since some of the agents are missing, we’ll\n",
    "exclude these from the data:"
   ]
  },
  {
   "cell_type": "code",
   "execution_count": 185,
   "id": "748cf1d3",
   "metadata": {},
   "outputs": [],
   "source": [
    "cframe = frame[frame[\"a\"].notna()].copy()"
   ]
  },
  {
   "cell_type": "markdown",
   "id": "7565e44a",
   "metadata": {},
   "source": [
    "We want to then compute a value for whether or not each row is Windows:"
   ]
  },
  {
   "cell_type": "code",
   "execution_count": 214,
   "id": "abb9b029",
   "metadata": {},
   "outputs": [],
   "source": [
    "import numpy as np"
   ]
  },
  {
   "cell_type": "code",
   "execution_count": 244,
   "id": "fce0f51b-3c2e-4a63-af7b-a6e85a286797",
   "metadata": {
    "tags": []
   },
   "outputs": [
    {
     "data": {
      "text/html": [
       "<div>\n",
       "<style scoped>\n",
       "    .dataframe tbody tr th:only-of-type {\n",
       "        vertical-align: middle;\n",
       "    }\n",
       "\n",
       "    .dataframe tbody tr th {\n",
       "        vertical-align: top;\n",
       "    }\n",
       "\n",
       "    .dataframe thead th {\n",
       "        text-align: right;\n",
       "    }\n",
       "</style>\n",
       "<table border=\"1\" class=\"dataframe\">\n",
       "  <thead>\n",
       "    <tr style=\"text-align: right;\">\n",
       "      <th></th>\n",
       "      <th>a</th>\n",
       "      <th>c</th>\n",
       "      <th>nk</th>\n",
       "      <th>tz</th>\n",
       "      <th>gr</th>\n",
       "      <th>g</th>\n",
       "      <th>h</th>\n",
       "      <th>l</th>\n",
       "      <th>al</th>\n",
       "      <th>hh</th>\n",
       "      <th>r</th>\n",
       "      <th>u</th>\n",
       "      <th>t</th>\n",
       "      <th>hc</th>\n",
       "      <th>cy</th>\n",
       "      <th>ll</th>\n",
       "      <th>_heartbeat_</th>\n",
       "      <th>kw</th>\n",
       "      <th>os</th>\n",
       "    </tr>\n",
       "  </thead>\n",
       "  <tbody>\n",
       "    <tr>\n",
       "      <th>0</th>\n",
       "      <td>Mozilla/5.0 (Windows NT 6.1; WOW64) AppleWebKi...</td>\n",
       "      <td>US</td>\n",
       "      <td>1.0</td>\n",
       "      <td>America/New_York</td>\n",
       "      <td>MA</td>\n",
       "      <td>A6qOVH</td>\n",
       "      <td>wfLQtf</td>\n",
       "      <td>orofrog</td>\n",
       "      <td>en-US,en;q=0.8</td>\n",
       "      <td>1.usa.gov</td>\n",
       "      <td>http://www.facebook.com/l/7AQEFzjSi/1.usa.gov/...</td>\n",
       "      <td>http://www.ncbi.nlm.nih.gov/pubmed/22415991</td>\n",
       "      <td>1.331923e+09</td>\n",
       "      <td>1.331823e+09</td>\n",
       "      <td>Danvers</td>\n",
       "      <td>[42.576698, -70.954903]</td>\n",
       "      <td>NaN</td>\n",
       "      <td>NaN</td>\n",
       "      <td>Not Windows</td>\n",
       "    </tr>\n",
       "    <tr>\n",
       "      <th>1</th>\n",
       "      <td>GoogleMaps/RochesterNY</td>\n",
       "      <td>US</td>\n",
       "      <td>0.0</td>\n",
       "      <td>America/Denver</td>\n",
       "      <td>UT</td>\n",
       "      <td>mwszkS</td>\n",
       "      <td>mwszkS</td>\n",
       "      <td>bitly</td>\n",
       "      <td>NaN</td>\n",
       "      <td>j.mp</td>\n",
       "      <td>http://www.AwareMap.com/</td>\n",
       "      <td>http://www.monroecounty.gov/etc/911/rss.php</td>\n",
       "      <td>1.331923e+09</td>\n",
       "      <td>1.308262e+09</td>\n",
       "      <td>Provo</td>\n",
       "      <td>[40.218102, -111.613297]</td>\n",
       "      <td>NaN</td>\n",
       "      <td>NaN</td>\n",
       "      <td>Not Windows</td>\n",
       "    </tr>\n",
       "    <tr>\n",
       "      <th>2</th>\n",
       "      <td>Mozilla/4.0 (compatible; MSIE 8.0; Windows NT ...</td>\n",
       "      <td>US</td>\n",
       "      <td>1.0</td>\n",
       "      <td>America/New_York</td>\n",
       "      <td>DC</td>\n",
       "      <td>xxr3Qb</td>\n",
       "      <td>xxr3Qb</td>\n",
       "      <td>bitly</td>\n",
       "      <td>en-US</td>\n",
       "      <td>1.usa.gov</td>\n",
       "      <td>http://t.co/03elZC4Q</td>\n",
       "      <td>http://boxer.senate.gov/en/press/releases/0316...</td>\n",
       "      <td>1.331923e+09</td>\n",
       "      <td>1.331920e+09</td>\n",
       "      <td>Washington</td>\n",
       "      <td>[38.9007, -77.043098]</td>\n",
       "      <td>NaN</td>\n",
       "      <td>NaN</td>\n",
       "      <td>Not Windows</td>\n",
       "    </tr>\n",
       "    <tr>\n",
       "      <th>3</th>\n",
       "      <td>Mozilla/5.0 (Macintosh; Intel Mac OS X 10_6_8)...</td>\n",
       "      <td>BR</td>\n",
       "      <td>0.0</td>\n",
       "      <td>America/Sao_Paulo</td>\n",
       "      <td>27</td>\n",
       "      <td>zCaLwp</td>\n",
       "      <td>zUtuOu</td>\n",
       "      <td>alelex88</td>\n",
       "      <td>pt-br</td>\n",
       "      <td>1.usa.gov</td>\n",
       "      <td>direct</td>\n",
       "      <td>http://apod.nasa.gov/apod/ap120312.html</td>\n",
       "      <td>1.331923e+09</td>\n",
       "      <td>1.331923e+09</td>\n",
       "      <td>Braz</td>\n",
       "      <td>[-23.549999, -46.616699]</td>\n",
       "      <td>NaN</td>\n",
       "      <td>NaN</td>\n",
       "      <td>Not Windows</td>\n",
       "    </tr>\n",
       "    <tr>\n",
       "      <th>4</th>\n",
       "      <td>Mozilla/5.0 (Windows NT 6.1; WOW64) AppleWebKi...</td>\n",
       "      <td>US</td>\n",
       "      <td>0.0</td>\n",
       "      <td>America/New_York</td>\n",
       "      <td>MA</td>\n",
       "      <td>9b6kNl</td>\n",
       "      <td>9b6kNl</td>\n",
       "      <td>bitly</td>\n",
       "      <td>en-US,en;q=0.8</td>\n",
       "      <td>bit.ly</td>\n",
       "      <td>http://www.shrewsbury-ma.gov/selco/</td>\n",
       "      <td>http://www.shrewsbury-ma.gov/egov/gallery/1341...</td>\n",
       "      <td>1.331923e+09</td>\n",
       "      <td>1.273672e+09</td>\n",
       "      <td>Shrewsbury</td>\n",
       "      <td>[42.286499, -71.714699]</td>\n",
       "      <td>NaN</td>\n",
       "      <td>NaN</td>\n",
       "      <td>Not Windows</td>\n",
       "    </tr>\n",
       "  </tbody>\n",
       "</table>\n",
       "</div>"
      ],
      "text/plain": [
       "                                                   a   c   nk  \\\n",
       "0  Mozilla/5.0 (Windows NT 6.1; WOW64) AppleWebKi...  US  1.0   \n",
       "1                             GoogleMaps/RochesterNY  US  0.0   \n",
       "2  Mozilla/4.0 (compatible; MSIE 8.0; Windows NT ...  US  1.0   \n",
       "3  Mozilla/5.0 (Macintosh; Intel Mac OS X 10_6_8)...  BR  0.0   \n",
       "4  Mozilla/5.0 (Windows NT 6.1; WOW64) AppleWebKi...  US  0.0   \n",
       "\n",
       "                  tz  gr       g       h         l              al         hh  \\\n",
       "0   America/New_York  MA  A6qOVH  wfLQtf   orofrog  en-US,en;q=0.8  1.usa.gov   \n",
       "1     America/Denver  UT  mwszkS  mwszkS     bitly             NaN       j.mp   \n",
       "2   America/New_York  DC  xxr3Qb  xxr3Qb     bitly           en-US  1.usa.gov   \n",
       "3  America/Sao_Paulo  27  zCaLwp  zUtuOu  alelex88           pt-br  1.usa.gov   \n",
       "4   America/New_York  MA  9b6kNl  9b6kNl     bitly  en-US,en;q=0.8     bit.ly   \n",
       "\n",
       "                                                   r  \\\n",
       "0  http://www.facebook.com/l/7AQEFzjSi/1.usa.gov/...   \n",
       "1                           http://www.AwareMap.com/   \n",
       "2                               http://t.co/03elZC4Q   \n",
       "3                                             direct   \n",
       "4                http://www.shrewsbury-ma.gov/selco/   \n",
       "\n",
       "                                                   u             t  \\\n",
       "0        http://www.ncbi.nlm.nih.gov/pubmed/22415991  1.331923e+09   \n",
       "1        http://www.monroecounty.gov/etc/911/rss.php  1.331923e+09   \n",
       "2  http://boxer.senate.gov/en/press/releases/0316...  1.331923e+09   \n",
       "3            http://apod.nasa.gov/apod/ap120312.html  1.331923e+09   \n",
       "4  http://www.shrewsbury-ma.gov/egov/gallery/1341...  1.331923e+09   \n",
       "\n",
       "             hc          cy                        ll  _heartbeat_   kw  \\\n",
       "0  1.331823e+09     Danvers   [42.576698, -70.954903]          NaN  NaN   \n",
       "1  1.308262e+09       Provo  [40.218102, -111.613297]          NaN  NaN   \n",
       "2  1.331920e+09  Washington     [38.9007, -77.043098]          NaN  NaN   \n",
       "3  1.331923e+09        Braz  [-23.549999, -46.616699]          NaN  NaN   \n",
       "4  1.273672e+09  Shrewsbury   [42.286499, -71.714699]          NaN  NaN   \n",
       "\n",
       "            os  \n",
       "0  Not Windows  \n",
       "1  Not Windows  \n",
       "2  Not Windows  \n",
       "3  Not Windows  \n",
       "4  Not Windows  "
      ]
     },
     "execution_count": 244,
     "metadata": {},
     "output_type": "execute_result"
    }
   ],
   "source": [
    "cframe.head()"
   ]
  },
  {
   "cell_type": "code",
   "execution_count": 238,
   "id": "690f7734",
   "metadata": {},
   "outputs": [],
   "source": [
    "#cframe[\"os\"] = np.where(cframe[\"a\"].str.contains(\"Windows\"), \"Windows\", \"Not Windows\")"
   ]
  },
  {
   "cell_type": "code",
   "execution_count": 325,
   "id": "bef3b70e-e822-45a8-ab48-8c702bd2ca41",
   "metadata": {
    "tags": []
   },
   "outputs": [],
   "source": [
    "cframe[\"os\"] = np.where(cframe[\"a\"].str.contains(\"Windows\"), \"Windows\", \"Not Windows\")"
   ]
  },
  {
   "cell_type": "code",
   "execution_count": 327,
   "id": "bbf0b7b7",
   "metadata": {},
   "outputs": [
    {
     "data": {
      "text/plain": [
       "0        Windows\n",
       "1    Not Windows\n",
       "2        Windows\n",
       "3    Not Windows\n",
       "4        Windows\n",
       "Name: os, dtype: object"
      ]
     },
     "execution_count": 327,
     "metadata": {},
     "output_type": "execute_result"
    }
   ],
   "source": [
    "cframe[\"os\"].head(5)"
   ]
  },
  {
   "cell_type": "markdown",
   "id": "3ce4e27d",
   "metadata": {},
   "source": [
    "Then, you can group the data by its time zone column and this new list of operating\n",
    "systems:"
   ]
  },
  {
   "cell_type": "code",
   "execution_count": 330,
   "id": "744855d2",
   "metadata": {},
   "outputs": [],
   "source": [
    "by_tz_os = cframe.groupby([\"tz\", \"os\"])"
   ]
  },
  {
   "cell_type": "code",
   "execution_count": null,
   "id": "a54fd565-13dd-4e6f-9b00-0ba63d59237b",
   "metadata": {
    "tags": []
   },
   "outputs": [],
   "source": []
  },
  {
   "cell_type": "markdown",
   "id": "754f73bc",
   "metadata": {},
   "source": [
    "The group counts, analogous to the value_counts function, can be computed with\n",
    "size. This result is then reshaped into a table with unstack:"
   ]
  },
  {
   "cell_type": "code",
   "execution_count": 334,
   "id": "335ec292",
   "metadata": {},
   "outputs": [],
   "source": [
    "agg_counts = by_tz_os.size().unstack().fillna(0)"
   ]
  },
  {
   "cell_type": "code",
   "execution_count": 336,
   "id": "8b11c4dd",
   "metadata": {},
   "outputs": [
    {
     "data": {
      "text/html": [
       "<div>\n",
       "<style scoped>\n",
       "    .dataframe tbody tr th:only-of-type {\n",
       "        vertical-align: middle;\n",
       "    }\n",
       "\n",
       "    .dataframe tbody tr th {\n",
       "        vertical-align: top;\n",
       "    }\n",
       "\n",
       "    .dataframe thead th {\n",
       "        text-align: right;\n",
       "    }\n",
       "</style>\n",
       "<table border=\"1\" class=\"dataframe\">\n",
       "  <thead>\n",
       "    <tr style=\"text-align: right;\">\n",
       "      <th>os</th>\n",
       "      <th>Not Windows</th>\n",
       "      <th>Windows</th>\n",
       "    </tr>\n",
       "    <tr>\n",
       "      <th>tz</th>\n",
       "      <th></th>\n",
       "      <th></th>\n",
       "    </tr>\n",
       "  </thead>\n",
       "  <tbody>\n",
       "    <tr>\n",
       "      <th></th>\n",
       "      <td>245.0</td>\n",
       "      <td>276.0</td>\n",
       "    </tr>\n",
       "    <tr>\n",
       "      <th>Africa/Cairo</th>\n",
       "      <td>0.0</td>\n",
       "      <td>3.0</td>\n",
       "    </tr>\n",
       "    <tr>\n",
       "      <th>Africa/Casablanca</th>\n",
       "      <td>0.0</td>\n",
       "      <td>1.0</td>\n",
       "    </tr>\n",
       "    <tr>\n",
       "      <th>Africa/Ceuta</th>\n",
       "      <td>0.0</td>\n",
       "      <td>2.0</td>\n",
       "    </tr>\n",
       "    <tr>\n",
       "      <th>Africa/Johannesburg</th>\n",
       "      <td>0.0</td>\n",
       "      <td>1.0</td>\n",
       "    </tr>\n",
       "  </tbody>\n",
       "</table>\n",
       "</div>"
      ],
      "text/plain": [
       "os                   Not Windows  Windows\n",
       "tz                                       \n",
       "                           245.0    276.0\n",
       "Africa/Cairo                 0.0      3.0\n",
       "Africa/Casablanca            0.0      1.0\n",
       "Africa/Ceuta                 0.0      2.0\n",
       "Africa/Johannesburg          0.0      1.0"
      ]
     },
     "execution_count": 336,
     "metadata": {},
     "output_type": "execute_result"
    }
   ],
   "source": [
    "agg_counts.head()"
   ]
  },
  {
   "cell_type": "markdown",
   "id": "fd3007ff",
   "metadata": {},
   "source": [
    "Finally, let’s select the top overall time zones. To do so, I construct an indirect index\n",
    "array from the row counts in agg_counts. After computing the row counts with\n",
    "agg_counts.sum(\"columns\"), I can call argsort() to obtain an index array that can\n",
    "be used to sort in ascending order:"
   ]
  },
  {
   "cell_type": "code",
   "execution_count": 303,
   "id": "9baf2bcd",
   "metadata": {},
   "outputs": [],
   "source": [
    "indexer = agg_counts.sum(\"columns\").argsort()"
   ]
  },
  {
   "cell_type": "code",
   "execution_count": 310,
   "id": "c00dfd0c",
   "metadata": {},
   "outputs": [
    {
     "data": {
      "text/plain": [
       "array([24, 20, 21, 92, 87, 53, 54, 57, 26, 55])"
      ]
     },
     "execution_count": 310,
     "metadata": {},
     "output_type": "execute_result"
    }
   ],
   "source": [
    "indexer.values[:10]"
   ]
  },
  {
   "cell_type": "code",
   "execution_count": null,
   "id": "549b4f8b-644c-43dc-b257-ef1edba9730e",
   "metadata": {
    "tags": []
   },
   "outputs": [],
   "source": []
  },
  {
   "cell_type": "markdown",
   "id": "85dd3a77",
   "metadata": {},
   "source": [
    "I use **take** to select the rows in that order, then slice off the last 10 rows (largest\n",
    "values):"
   ]
  },
  {
   "cell_type": "code",
   "execution_count": 289,
   "id": "cc03b682",
   "metadata": {},
   "outputs": [],
   "source": [
    "count_subset = agg_counts.take(indexer[-10:])"
   ]
  },
  {
   "cell_type": "code",
   "execution_count": 293,
   "id": "706cad87",
   "metadata": {},
   "outputs": [
    {
     "data": {
      "text/html": [
       "<div>\n",
       "<style scoped>\n",
       "    .dataframe tbody tr th:only-of-type {\n",
       "        vertical-align: middle;\n",
       "    }\n",
       "\n",
       "    .dataframe tbody tr th {\n",
       "        vertical-align: top;\n",
       "    }\n",
       "\n",
       "    .dataframe thead th {\n",
       "        text-align: right;\n",
       "    }\n",
       "</style>\n",
       "<table border=\"1\" class=\"dataframe\">\n",
       "  <thead>\n",
       "    <tr style=\"text-align: right;\">\n",
       "      <th>os</th>\n",
       "      <th>Not Windows</th>\n",
       "      <th>Windows</th>\n",
       "    </tr>\n",
       "    <tr>\n",
       "      <th>tz</th>\n",
       "      <th></th>\n",
       "      <th></th>\n",
       "    </tr>\n",
       "  </thead>\n",
       "  <tbody>\n",
       "    <tr>\n",
       "      <th>America/Sao_Paulo</th>\n",
       "      <td>13.0</td>\n",
       "      <td>20.0</td>\n",
       "    </tr>\n",
       "    <tr>\n",
       "      <th>Europe/Madrid</th>\n",
       "      <td>16.0</td>\n",
       "      <td>19.0</td>\n",
       "    </tr>\n",
       "    <tr>\n",
       "      <th>Pacific/Honolulu</th>\n",
       "      <td>0.0</td>\n",
       "      <td>36.0</td>\n",
       "    </tr>\n",
       "    <tr>\n",
       "      <th>Asia/Tokyo</th>\n",
       "      <td>2.0</td>\n",
       "      <td>35.0</td>\n",
       "    </tr>\n",
       "    <tr>\n",
       "      <th>Europe/London</th>\n",
       "      <td>43.0</td>\n",
       "      <td>31.0</td>\n",
       "    </tr>\n",
       "    <tr>\n",
       "      <th>America/Denver</th>\n",
       "      <td>132.0</td>\n",
       "      <td>59.0</td>\n",
       "    </tr>\n",
       "    <tr>\n",
       "      <th>America/Los_Angeles</th>\n",
       "      <td>130.0</td>\n",
       "      <td>252.0</td>\n",
       "    </tr>\n",
       "    <tr>\n",
       "      <th>America/Chicago</th>\n",
       "      <td>115.0</td>\n",
       "      <td>285.0</td>\n",
       "    </tr>\n",
       "    <tr>\n",
       "      <th></th>\n",
       "      <td>245.0</td>\n",
       "      <td>276.0</td>\n",
       "    </tr>\n",
       "    <tr>\n",
       "      <th>America/New_York</th>\n",
       "      <td>339.0</td>\n",
       "      <td>912.0</td>\n",
       "    </tr>\n",
       "  </tbody>\n",
       "</table>\n",
       "</div>"
      ],
      "text/plain": [
       "os                   Not Windows  Windows\n",
       "tz                                       \n",
       "America/Sao_Paulo           13.0     20.0\n",
       "Europe/Madrid               16.0     19.0\n",
       "Pacific/Honolulu             0.0     36.0\n",
       "Asia/Tokyo                   2.0     35.0\n",
       "Europe/London               43.0     31.0\n",
       "America/Denver             132.0     59.0\n",
       "America/Los_Angeles        130.0    252.0\n",
       "America/Chicago            115.0    285.0\n",
       "                           245.0    276.0\n",
       "America/New_York           339.0    912.0"
      ]
     },
     "execution_count": 293,
     "metadata": {},
     "output_type": "execute_result"
    }
   ],
   "source": [
    "count_subset"
   ]
  },
  {
   "cell_type": "code",
   "execution_count": null,
   "id": "0c4dfe8a-039f-4373-b049-2fa6f5869494",
   "metadata": {},
   "outputs": [],
   "source": []
  },
  {
   "cell_type": "code",
   "execution_count": 315,
   "id": "9d5af85a-eeda-4f8a-9ead-1ad5d37d3ea8",
   "metadata": {
    "tags": []
   },
   "outputs": [
    {
     "data": {
      "text/html": [
       "<div>\n",
       "<style scoped>\n",
       "    .dataframe tbody tr th:only-of-type {\n",
       "        vertical-align: middle;\n",
       "    }\n",
       "\n",
       "    .dataframe tbody tr th {\n",
       "        vertical-align: top;\n",
       "    }\n",
       "\n",
       "    .dataframe thead th {\n",
       "        text-align: right;\n",
       "    }\n",
       "</style>\n",
       "<table border=\"1\" class=\"dataframe\">\n",
       "  <thead>\n",
       "    <tr style=\"text-align: right;\">\n",
       "      <th>os</th>\n",
       "      <th>Not Windows</th>\n",
       "      <th>Windows</th>\n",
       "    </tr>\n",
       "    <tr>\n",
       "      <th>tz</th>\n",
       "      <th></th>\n",
       "      <th></th>\n",
       "    </tr>\n",
       "  </thead>\n",
       "  <tbody>\n",
       "    <tr>\n",
       "      <th></th>\n",
       "      <td>245.0</td>\n",
       "      <td>276.0</td>\n",
       "    </tr>\n",
       "    <tr>\n",
       "      <th>Africa/Cairo</th>\n",
       "      <td>0.0</td>\n",
       "      <td>3.0</td>\n",
       "    </tr>\n",
       "    <tr>\n",
       "      <th>Africa/Casablanca</th>\n",
       "      <td>0.0</td>\n",
       "      <td>1.0</td>\n",
       "    </tr>\n",
       "    <tr>\n",
       "      <th>Africa/Ceuta</th>\n",
       "      <td>0.0</td>\n",
       "      <td>2.0</td>\n",
       "    </tr>\n",
       "    <tr>\n",
       "      <th>Africa/Johannesburg</th>\n",
       "      <td>0.0</td>\n",
       "      <td>1.0</td>\n",
       "    </tr>\n",
       "  </tbody>\n",
       "</table>\n",
       "</div>"
      ],
      "text/plain": [
       "os                   Not Windows  Windows\n",
       "tz                                       \n",
       "                           245.0    276.0\n",
       "Africa/Cairo                 0.0      3.0\n",
       "Africa/Casablanca            0.0      1.0\n",
       "Africa/Ceuta                 0.0      2.0\n",
       "Africa/Johannesburg          0.0      1.0"
      ]
     },
     "execution_count": 315,
     "metadata": {},
     "output_type": "execute_result"
    }
   ],
   "source": [
    "agg_counts.head()"
   ]
  },
  {
   "cell_type": "markdown",
   "id": "41d23bf3",
   "metadata": {},
   "source": [
    "pandas has a convenience method called nlargest that does the same thing:"
   ]
  },
  {
   "cell_type": "code",
   "execution_count": 347,
   "id": "6f6831c0",
   "metadata": {},
   "outputs": [
    {
     "data": {
      "text/plain": [
       "tz\n",
       "America/New_York       1251.0\n",
       "                        521.0\n",
       "America/Chicago         400.0\n",
       "America/Los_Angeles     382.0\n",
       "America/Denver          191.0\n",
       "Europe/London            74.0\n",
       "Asia/Tokyo               37.0\n",
       "Pacific/Honolulu         36.0\n",
       "Europe/Madrid            35.0\n",
       "America/Sao_Paulo        33.0\n",
       "dtype: float64"
      ]
     },
     "execution_count": 347,
     "metadata": {},
     "output_type": "execute_result"
    }
   ],
   "source": [
    "#agg_counts.sum(axis=\"columns\").nlargest(10)\n",
    "agg_counts.sum(axis=\"columns\").nlargest(10)"
   ]
  },
  {
   "cell_type": "code",
   "execution_count": 349,
   "id": "40daf2a9-0612-4a00-9b08-46d26ea0d162",
   "metadata": {
    "tags": []
   },
   "outputs": [],
   "source": [
    "count_subset = agg_counts.take(indexer[-10:])"
   ]
  },
  {
   "cell_type": "code",
   "execution_count": 351,
   "id": "750535a7-cf9d-4df8-8f78-efb2f69a0f6d",
   "metadata": {
    "tags": []
   },
   "outputs": [
    {
     "data": {
      "text/html": [
       "<div>\n",
       "<style scoped>\n",
       "    .dataframe tbody tr th:only-of-type {\n",
       "        vertical-align: middle;\n",
       "    }\n",
       "\n",
       "    .dataframe tbody tr th {\n",
       "        vertical-align: top;\n",
       "    }\n",
       "\n",
       "    .dataframe thead th {\n",
       "        text-align: right;\n",
       "    }\n",
       "</style>\n",
       "<table border=\"1\" class=\"dataframe\">\n",
       "  <thead>\n",
       "    <tr style=\"text-align: right;\">\n",
       "      <th>os</th>\n",
       "      <th>Not Windows</th>\n",
       "      <th>Windows</th>\n",
       "    </tr>\n",
       "    <tr>\n",
       "      <th>tz</th>\n",
       "      <th></th>\n",
       "      <th></th>\n",
       "    </tr>\n",
       "  </thead>\n",
       "  <tbody>\n",
       "    <tr>\n",
       "      <th>America/Sao_Paulo</th>\n",
       "      <td>13.0</td>\n",
       "      <td>20.0</td>\n",
       "    </tr>\n",
       "    <tr>\n",
       "      <th>Europe/Madrid</th>\n",
       "      <td>16.0</td>\n",
       "      <td>19.0</td>\n",
       "    </tr>\n",
       "    <tr>\n",
       "      <th>Pacific/Honolulu</th>\n",
       "      <td>0.0</td>\n",
       "      <td>36.0</td>\n",
       "    </tr>\n",
       "    <tr>\n",
       "      <th>Asia/Tokyo</th>\n",
       "      <td>2.0</td>\n",
       "      <td>35.0</td>\n",
       "    </tr>\n",
       "    <tr>\n",
       "      <th>Europe/London</th>\n",
       "      <td>43.0</td>\n",
       "      <td>31.0</td>\n",
       "    </tr>\n",
       "    <tr>\n",
       "      <th>America/Denver</th>\n",
       "      <td>132.0</td>\n",
       "      <td>59.0</td>\n",
       "    </tr>\n",
       "    <tr>\n",
       "      <th>America/Los_Angeles</th>\n",
       "      <td>130.0</td>\n",
       "      <td>252.0</td>\n",
       "    </tr>\n",
       "    <tr>\n",
       "      <th>America/Chicago</th>\n",
       "      <td>115.0</td>\n",
       "      <td>285.0</td>\n",
       "    </tr>\n",
       "    <tr>\n",
       "      <th></th>\n",
       "      <td>245.0</td>\n",
       "      <td>276.0</td>\n",
       "    </tr>\n",
       "    <tr>\n",
       "      <th>America/New_York</th>\n",
       "      <td>339.0</td>\n",
       "      <td>912.0</td>\n",
       "    </tr>\n",
       "  </tbody>\n",
       "</table>\n",
       "</div>"
      ],
      "text/plain": [
       "os                   Not Windows  Windows\n",
       "tz                                       \n",
       "America/Sao_Paulo           13.0     20.0\n",
       "Europe/Madrid               16.0     19.0\n",
       "Pacific/Honolulu             0.0     36.0\n",
       "Asia/Tokyo                   2.0     35.0\n",
       "Europe/London               43.0     31.0\n",
       "America/Denver             132.0     59.0\n",
       "America/Los_Angeles        130.0    252.0\n",
       "America/Chicago            115.0    285.0\n",
       "                           245.0    276.0\n",
       "America/New_York           339.0    912.0"
      ]
     },
     "execution_count": 351,
     "metadata": {},
     "output_type": "execute_result"
    }
   ],
   "source": [
    "count_subset"
   ]
  },
  {
   "cell_type": "markdown",
   "id": "b7eecb51",
   "metadata": {},
   "source": [
    "Then, this can be plotted in a grouped bar plot comparing the number of Windows\n",
    "and non-Windows users, using seaborn’s barplot function (see Figure 13-2). I first\n",
    "call count_subset.stack() and reset the index to rearrange the data for better\n",
    "compatibility with seaborn:"
   ]
  },
  {
   "cell_type": "code",
   "execution_count": 354,
   "id": "75f46f2f",
   "metadata": {},
   "outputs": [],
   "source": [
    "count_subset = count_subset.stack()"
   ]
  },
  {
   "cell_type": "code",
   "execution_count": null,
   "id": "8139c241-45b4-43df-ada1-3ed645a14c5a",
   "metadata": {
    "tags": []
   },
   "outputs": [],
   "source": []
  },
  {
   "cell_type": "code",
   "execution_count": 356,
   "id": "68877556",
   "metadata": {},
   "outputs": [],
   "source": [
    "count_subset.name = \"total\""
   ]
  },
  {
   "cell_type": "code",
   "execution_count": null,
   "id": "62d8c17e",
   "metadata": {},
   "outputs": [],
   "source": []
  },
  {
   "cell_type": "code",
   "execution_count": 359,
   "id": "3a8f60e3",
   "metadata": {},
   "outputs": [],
   "source": [
    "count_subset = count_subset.reset_index()"
   ]
  },
  {
   "cell_type": "code",
   "execution_count": 361,
   "id": "430debfd",
   "metadata": {},
   "outputs": [
    {
     "data": {
      "text/html": [
       "<div>\n",
       "<style scoped>\n",
       "    .dataframe tbody tr th:only-of-type {\n",
       "        vertical-align: middle;\n",
       "    }\n",
       "\n",
       "    .dataframe tbody tr th {\n",
       "        vertical-align: top;\n",
       "    }\n",
       "\n",
       "    .dataframe thead th {\n",
       "        text-align: right;\n",
       "    }\n",
       "</style>\n",
       "<table border=\"1\" class=\"dataframe\">\n",
       "  <thead>\n",
       "    <tr style=\"text-align: right;\">\n",
       "      <th></th>\n",
       "      <th>tz</th>\n",
       "      <th>os</th>\n",
       "      <th>total</th>\n",
       "    </tr>\n",
       "  </thead>\n",
       "  <tbody>\n",
       "    <tr>\n",
       "      <th>0</th>\n",
       "      <td>America/Sao_Paulo</td>\n",
       "      <td>Not Windows</td>\n",
       "      <td>13.0</td>\n",
       "    </tr>\n",
       "    <tr>\n",
       "      <th>1</th>\n",
       "      <td>America/Sao_Paulo</td>\n",
       "      <td>Windows</td>\n",
       "      <td>20.0</td>\n",
       "    </tr>\n",
       "    <tr>\n",
       "      <th>2</th>\n",
       "      <td>Europe/Madrid</td>\n",
       "      <td>Not Windows</td>\n",
       "      <td>16.0</td>\n",
       "    </tr>\n",
       "    <tr>\n",
       "      <th>3</th>\n",
       "      <td>Europe/Madrid</td>\n",
       "      <td>Windows</td>\n",
       "      <td>19.0</td>\n",
       "    </tr>\n",
       "    <tr>\n",
       "      <th>4</th>\n",
       "      <td>Pacific/Honolulu</td>\n",
       "      <td>Not Windows</td>\n",
       "      <td>0.0</td>\n",
       "    </tr>\n",
       "    <tr>\n",
       "      <th>5</th>\n",
       "      <td>Pacific/Honolulu</td>\n",
       "      <td>Windows</td>\n",
       "      <td>36.0</td>\n",
       "    </tr>\n",
       "    <tr>\n",
       "      <th>6</th>\n",
       "      <td>Asia/Tokyo</td>\n",
       "      <td>Not Windows</td>\n",
       "      <td>2.0</td>\n",
       "    </tr>\n",
       "    <tr>\n",
       "      <th>7</th>\n",
       "      <td>Asia/Tokyo</td>\n",
       "      <td>Windows</td>\n",
       "      <td>35.0</td>\n",
       "    </tr>\n",
       "    <tr>\n",
       "      <th>8</th>\n",
       "      <td>Europe/London</td>\n",
       "      <td>Not Windows</td>\n",
       "      <td>43.0</td>\n",
       "    </tr>\n",
       "    <tr>\n",
       "      <th>9</th>\n",
       "      <td>Europe/London</td>\n",
       "      <td>Windows</td>\n",
       "      <td>31.0</td>\n",
       "    </tr>\n",
       "  </tbody>\n",
       "</table>\n",
       "</div>"
      ],
      "text/plain": [
       "                  tz           os  total\n",
       "0  America/Sao_Paulo  Not Windows   13.0\n",
       "1  America/Sao_Paulo      Windows   20.0\n",
       "2      Europe/Madrid  Not Windows   16.0\n",
       "3      Europe/Madrid      Windows   19.0\n",
       "4   Pacific/Honolulu  Not Windows    0.0\n",
       "5   Pacific/Honolulu      Windows   36.0\n",
       "6         Asia/Tokyo  Not Windows    2.0\n",
       "7         Asia/Tokyo      Windows   35.0\n",
       "8      Europe/London  Not Windows   43.0\n",
       "9      Europe/London      Windows   31.0"
      ]
     },
     "execution_count": 361,
     "metadata": {},
     "output_type": "execute_result"
    }
   ],
   "source": [
    "count_subset.head(10)"
   ]
  },
  {
   "cell_type": "code",
   "execution_count": 363,
   "id": "0dc99841",
   "metadata": {},
   "outputs": [
    {
     "data": {
      "text/plain": [
       "<Axes: xlabel='total', ylabel='tz'>"
      ]
     },
     "execution_count": 363,
     "metadata": {},
     "output_type": "execute_result"
    },
    {
     "data": {
      "image/png": "[encoded data removed]",
      "text/plain": [
       "<Figure size 640x480 with 1 Axes>"
      ]
     },
     "metadata": {},
     "output_type": "display_data"
    }
   ],
   "source": [
    "sns.barplot(x=\"total\", y = \"tz\", hue=\"os\", data=count_subset)"
   ]
  },
  {
   "cell_type": "markdown",
   "id": "c2384891",
   "metadata": {},
   "source": [
    "It is a bit difficult to see the relative percentage of Windows users in the smaller\n",
    "groups, so let’s normalize the group percentages to sum to 1:"
   ]
  },
  {
   "cell_type": "code",
   "execution_count": 366,
   "id": "6486e2bb",
   "metadata": {},
   "outputs": [
    {
     "name": "stderr",
     "output_type": "stream",
     "text": [
      "/var/folders/2c/hpk9j8md6h71406dzkc5_w1m0000gn/T/ipykernel_94341/2692722749.py:4: FutureWarning: Not prepending group keys to the result index of transform-like apply. In the future, the group keys will be included in the index, regardless of whether the applied function returns a like-indexed object.\n",
      "To preserve the previous behavior, use\n",
      "\n",
      "\t>>> .groupby(..., group_keys=False)\n",
      "\n",
      "To adopt the future behavior and silence this warning, use \n",
      "\n",
      "\t>>> .groupby(..., group_keys=True)\n",
      "  results = count_subset.groupby(\"tz\").apply(norm_total)\n"
     ]
    }
   ],
   "source": [
    "def norm_total(group):\n",
    "    group[\"normed_total\"] = group[\"total\"] / group[\"total\"].sum()\n",
    "    return group\n",
    "results = count_subset.groupby(\"tz\").apply(norm_total)"
   ]
  },
  {
   "cell_type": "code",
   "execution_count": 368,
   "id": "99b00321",
   "metadata": {},
   "outputs": [
    {
     "data": {
      "text/html": [
       "<div>\n",
       "<style scoped>\n",
       "    .dataframe tbody tr th:only-of-type {\n",
       "        vertical-align: middle;\n",
       "    }\n",
       "\n",
       "    .dataframe tbody tr th {\n",
       "        vertical-align: top;\n",
       "    }\n",
       "\n",
       "    .dataframe thead th {\n",
       "        text-align: right;\n",
       "    }\n",
       "</style>\n",
       "<table border=\"1\" class=\"dataframe\">\n",
       "  <thead>\n",
       "    <tr style=\"text-align: right;\">\n",
       "      <th></th>\n",
       "      <th>tz</th>\n",
       "      <th>os</th>\n",
       "      <th>total</th>\n",
       "      <th>normed_total</th>\n",
       "    </tr>\n",
       "  </thead>\n",
       "  <tbody>\n",
       "    <tr>\n",
       "      <th>0</th>\n",
       "      <td>America/Sao_Paulo</td>\n",
       "      <td>Not Windows</td>\n",
       "      <td>13.0</td>\n",
       "      <td>0.393939</td>\n",
       "    </tr>\n",
       "    <tr>\n",
       "      <th>1</th>\n",
       "      <td>America/Sao_Paulo</td>\n",
       "      <td>Windows</td>\n",
       "      <td>20.0</td>\n",
       "      <td>0.606061</td>\n",
       "    </tr>\n",
       "    <tr>\n",
       "      <th>2</th>\n",
       "      <td>Europe/Madrid</td>\n",
       "      <td>Not Windows</td>\n",
       "      <td>16.0</td>\n",
       "      <td>0.457143</td>\n",
       "    </tr>\n",
       "    <tr>\n",
       "      <th>3</th>\n",
       "      <td>Europe/Madrid</td>\n",
       "      <td>Windows</td>\n",
       "      <td>19.0</td>\n",
       "      <td>0.542857</td>\n",
       "    </tr>\n",
       "    <tr>\n",
       "      <th>4</th>\n",
       "      <td>Pacific/Honolulu</td>\n",
       "      <td>Not Windows</td>\n",
       "      <td>0.0</td>\n",
       "      <td>0.000000</td>\n",
       "    </tr>\n",
       "  </tbody>\n",
       "</table>\n",
       "</div>"
      ],
      "text/plain": [
       "                  tz           os  total  normed_total\n",
       "0  America/Sao_Paulo  Not Windows   13.0      0.393939\n",
       "1  America/Sao_Paulo      Windows   20.0      0.606061\n",
       "2      Europe/Madrid  Not Windows   16.0      0.457143\n",
       "3      Europe/Madrid      Windows   19.0      0.542857\n",
       "4   Pacific/Honolulu  Not Windows    0.0      0.000000"
      ]
     },
     "execution_count": 368,
     "metadata": {},
     "output_type": "execute_result"
    }
   ],
   "source": [
    "results.head()"
   ]
  },
  {
   "cell_type": "code",
   "execution_count": 86,
   "id": "19834377",
   "metadata": {},
   "outputs": [
    {
     "name": "stderr",
     "output_type": "stream",
     "text": [
      "/var/folders/2c/hpk9j8md6h71406dzkc5_w1m0000gn/T/ipykernel_39887/1839985488.py:1: FutureWarning: Not prepending group keys to the result index of transform-like apply. In the future, the group keys will be included in the index, regardless of whether the applied function returns a like-indexed object.\n",
      "To preserve the previous behavior, use\n",
      "\n",
      "\t>>> .groupby(..., group_keys=False)\n",
      "\n",
      "To adopt the future behavior and silence this warning, use \n",
      "\n",
      "\t>>> .groupby(..., group_keys=True)\n",
      "  results = count_subset.groupby(\"tz\").apply(norm_total)\n"
     ]
    }
   ],
   "source": [
    "results = count_subset.groupby(\"tz\").apply(norm_total)"
   ]
  },
  {
   "cell_type": "code",
   "execution_count": 87,
   "id": "db2efb3e",
   "metadata": {},
   "outputs": [
    {
     "data": {
      "text/plain": [
       "<Axes: xlabel='normed_total', ylabel='tz'>"
      ]
     },
     "execution_count": 87,
     "metadata": {},
     "output_type": "execute_result"
    },
    {
     "data": {
      "image/png": "[encoded data removed]",
      "text/plain": [
       "<Figure size 640x480 with 1 Axes>"
      ]
     },
     "metadata": {},
     "output_type": "display_data"
    }
   ],
   "source": [
    "sns.barplot(x=\"normed_total\", y=\"tz\", hue=\"os\", data=results)"
   ]
  },
  {
   "cell_type": "markdown",
   "id": "094ac7f2",
   "metadata": {},
   "source": [
    "We could have computed the normalized sum more efficiently by using the transform method with groupby:"
   ]
  },
  {
   "cell_type": "code",
   "execution_count": 88,
   "id": "fc4d8b3f",
   "metadata": {},
   "outputs": [],
   "source": [
    "g = count_subset.groupby(\"tz\")"
   ]
  },
  {
   "cell_type": "code",
   "execution_count": 90,
   "id": "1efe1109",
   "metadata": {},
   "outputs": [],
   "source": [
    "results2 = count_subset[\"total\"] / g[\"total\"].transform(\"sum\")"
   ]
  },
  {
   "cell_type": "code",
   "execution_count": 91,
   "id": "8a9f03e0",
   "metadata": {},
   "outputs": [
    {
     "data": {
      "text/plain": [
       "0     0.393939\n",
       "1     0.606061\n",
       "2     0.457143\n",
       "3     0.542857\n",
       "4     0.000000\n",
       "5     1.000000\n",
       "6     0.054054\n",
       "7     0.945946\n",
       "8     0.581081\n",
       "9     0.418919\n",
       "10    0.691099\n",
       "11    0.308901\n",
       "12    0.340314\n",
       "13    0.659686\n",
       "14    0.287500\n",
       "15    0.712500\n",
       "16    0.470250\n",
       "17    0.529750\n",
       "18    0.270983\n",
       "19    0.729017\n",
       "Name: total, dtype: float64"
      ]
     },
     "execution_count": 91,
     "metadata": {},
     "output_type": "execute_result"
    }
   ],
   "source": [
    "results2"
   ]
  },
  {
   "cell_type": "markdown",
   "id": "b9e0dc36",
   "metadata": {},
   "source": []
  },
  {
   "cell_type": "markdown",
   "id": "729f9b15",
   "metadata": {},
   "source": []
  },
  {
   "cell_type": "code",
   "execution_count": null,
   "id": "22293672",
   "metadata": {},
   "outputs": [],
   "source": []
  }
 ],
 "metadata": {
  "kernelspec": {
   "display_name": "Python 3 (ipykernel)",
   "language": "python",
   "name": "python3"
  },
  "language_info": {
   "codemirror_mode": {
    "name": "ipython",
    "version": 3
   },
   "file_extension": ".py",
   "mimetype": "text/x-python",
   "name": "python",
   "nbconvert_exporter": "python",
   "pygments_lexer": "ipython3",
   "version": "3.12.4"
  }
 },
 "nbformat": 4,
 "nbformat_minor": 5
}
