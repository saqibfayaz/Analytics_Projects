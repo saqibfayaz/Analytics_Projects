{
 "cells": [
  {
   "cell_type": "code",
   "execution_count": 45,
   "id": "f402ef50-02c8-491b-9643-29aa8df6b5ba",
   "metadata": {},
   "outputs": [],
   "source": [
    "import pandas as pd\n",
    "import matplotlib.pyplot as plt\n",
    "%matplotlib inline\n",
    "import numpy as np\n",
    "import scipy.stats as sts"
   ]
  },
  {
   "cell_type": "code",
   "execution_count": 4,
   "id": "f443d527-4e95-4317-aa8d-e73abb148f26",
   "metadata": {},
   "outputs": [
    {
     "data": {
      "text/html": [
       "<div>\n",
       "<style scoped>\n",
       "    .dataframe tbody tr th:only-of-type {\n",
       "        vertical-align: middle;\n",
       "    }\n",
       "\n",
       "    .dataframe tbody tr th {\n",
       "        vertical-align: top;\n",
       "    }\n",
       "\n",
       "    .dataframe thead th {\n",
       "        text-align: right;\n",
       "    }\n",
       "</style>\n",
       "<table border=\"1\" class=\"dataframe\">\n",
       "  <thead>\n",
       "    <tr style=\"text-align: right;\">\n",
       "      <th></th>\n",
       "      <th>FILM</th>\n",
       "      <th>RottenTomatoes</th>\n",
       "      <th>RottenTomatoes_User</th>\n",
       "      <th>Metacritic</th>\n",
       "      <th>Metacritic_User</th>\n",
       "      <th>IMDB</th>\n",
       "      <th>Fandango_Stars</th>\n",
       "      <th>Fandango_Ratingvalue</th>\n",
       "      <th>RT_norm</th>\n",
       "      <th>RT_user_norm</th>\n",
       "      <th>...</th>\n",
       "      <th>IMDB_norm</th>\n",
       "      <th>RT_norm_round</th>\n",
       "      <th>RT_user_norm_round</th>\n",
       "      <th>Metacritic_norm_round</th>\n",
       "      <th>Metacritic_user_norm_round</th>\n",
       "      <th>IMDB_norm_round</th>\n",
       "      <th>Metacritic_user_vote_count</th>\n",
       "      <th>IMDB_user_vote_count</th>\n",
       "      <th>Fandango_votes</th>\n",
       "      <th>Fandango_Difference</th>\n",
       "    </tr>\n",
       "  </thead>\n",
       "  <tbody>\n",
       "    <tr>\n",
       "      <th>0</th>\n",
       "      <td>Avengers: Age of Ultron (2015)</td>\n",
       "      <td>74</td>\n",
       "      <td>86</td>\n",
       "      <td>66</td>\n",
       "      <td>7.1</td>\n",
       "      <td>7.8</td>\n",
       "      <td>5.0</td>\n",
       "      <td>4.5</td>\n",
       "      <td>3.70</td>\n",
       "      <td>4.3</td>\n",
       "      <td>...</td>\n",
       "      <td>3.90</td>\n",
       "      <td>3.5</td>\n",
       "      <td>4.5</td>\n",
       "      <td>3.5</td>\n",
       "      <td>3.5</td>\n",
       "      <td>4.0</td>\n",
       "      <td>1330</td>\n",
       "      <td>271107</td>\n",
       "      <td>14846</td>\n",
       "      <td>0.5</td>\n",
       "    </tr>\n",
       "    <tr>\n",
       "      <th>1</th>\n",
       "      <td>Cinderella (2015)</td>\n",
       "      <td>85</td>\n",
       "      <td>80</td>\n",
       "      <td>67</td>\n",
       "      <td>7.5</td>\n",
       "      <td>7.1</td>\n",
       "      <td>5.0</td>\n",
       "      <td>4.5</td>\n",
       "      <td>4.25</td>\n",
       "      <td>4.0</td>\n",
       "      <td>...</td>\n",
       "      <td>3.55</td>\n",
       "      <td>4.5</td>\n",
       "      <td>4.0</td>\n",
       "      <td>3.5</td>\n",
       "      <td>4.0</td>\n",
       "      <td>3.5</td>\n",
       "      <td>249</td>\n",
       "      <td>65709</td>\n",
       "      <td>12640</td>\n",
       "      <td>0.5</td>\n",
       "    </tr>\n",
       "    <tr>\n",
       "      <th>2</th>\n",
       "      <td>Ant-Man (2015)</td>\n",
       "      <td>80</td>\n",
       "      <td>90</td>\n",
       "      <td>64</td>\n",
       "      <td>8.1</td>\n",
       "      <td>7.8</td>\n",
       "      <td>5.0</td>\n",
       "      <td>4.5</td>\n",
       "      <td>4.00</td>\n",
       "      <td>4.5</td>\n",
       "      <td>...</td>\n",
       "      <td>3.90</td>\n",
       "      <td>4.0</td>\n",
       "      <td>4.5</td>\n",
       "      <td>3.0</td>\n",
       "      <td>4.0</td>\n",
       "      <td>4.0</td>\n",
       "      <td>627</td>\n",
       "      <td>103660</td>\n",
       "      <td>12055</td>\n",
       "      <td>0.5</td>\n",
       "    </tr>\n",
       "    <tr>\n",
       "      <th>3</th>\n",
       "      <td>Do You Believe? (2015)</td>\n",
       "      <td>18</td>\n",
       "      <td>84</td>\n",
       "      <td>22</td>\n",
       "      <td>4.7</td>\n",
       "      <td>5.4</td>\n",
       "      <td>5.0</td>\n",
       "      <td>4.5</td>\n",
       "      <td>0.90</td>\n",
       "      <td>4.2</td>\n",
       "      <td>...</td>\n",
       "      <td>2.70</td>\n",
       "      <td>1.0</td>\n",
       "      <td>4.0</td>\n",
       "      <td>1.0</td>\n",
       "      <td>2.5</td>\n",
       "      <td>2.5</td>\n",
       "      <td>31</td>\n",
       "      <td>3136</td>\n",
       "      <td>1793</td>\n",
       "      <td>0.5</td>\n",
       "    </tr>\n",
       "    <tr>\n",
       "      <th>4</th>\n",
       "      <td>Hot Tub Time Machine 2 (2015)</td>\n",
       "      <td>14</td>\n",
       "      <td>28</td>\n",
       "      <td>29</td>\n",
       "      <td>3.4</td>\n",
       "      <td>5.1</td>\n",
       "      <td>3.5</td>\n",
       "      <td>3.0</td>\n",
       "      <td>0.70</td>\n",
       "      <td>1.4</td>\n",
       "      <td>...</td>\n",
       "      <td>2.55</td>\n",
       "      <td>0.5</td>\n",
       "      <td>1.5</td>\n",
       "      <td>1.5</td>\n",
       "      <td>1.5</td>\n",
       "      <td>2.5</td>\n",
       "      <td>88</td>\n",
       "      <td>19560</td>\n",
       "      <td>1021</td>\n",
       "      <td>0.5</td>\n",
       "    </tr>\n",
       "  </tbody>\n",
       "</table>\n",
       "<p>5 rows × 22 columns</p>\n",
       "</div>"
      ],
      "text/plain": [
       "                             FILM  RottenTomatoes  RottenTomatoes_User  \\\n",
       "0  Avengers: Age of Ultron (2015)              74                   86   \n",
       "1               Cinderella (2015)              85                   80   \n",
       "2                  Ant-Man (2015)              80                   90   \n",
       "3          Do You Believe? (2015)              18                   84   \n",
       "4   Hot Tub Time Machine 2 (2015)              14                   28   \n",
       "\n",
       "   Metacritic  Metacritic_User  IMDB  Fandango_Stars  Fandango_Ratingvalue  \\\n",
       "0          66              7.1   7.8             5.0                   4.5   \n",
       "1          67              7.5   7.1             5.0                   4.5   \n",
       "2          64              8.1   7.8             5.0                   4.5   \n",
       "3          22              4.7   5.4             5.0                   4.5   \n",
       "4          29              3.4   5.1             3.5                   3.0   \n",
       "\n",
       "   RT_norm  RT_user_norm  ...  IMDB_norm  RT_norm_round  RT_user_norm_round  \\\n",
       "0     3.70           4.3  ...       3.90            3.5                 4.5   \n",
       "1     4.25           4.0  ...       3.55            4.5                 4.0   \n",
       "2     4.00           4.5  ...       3.90            4.0                 4.5   \n",
       "3     0.90           4.2  ...       2.70            1.0                 4.0   \n",
       "4     0.70           1.4  ...       2.55            0.5                 1.5   \n",
       "\n",
       "   Metacritic_norm_round  Metacritic_user_norm_round  IMDB_norm_round  \\\n",
       "0                    3.5                         3.5              4.0   \n",
       "1                    3.5                         4.0              3.5   \n",
       "2                    3.0                         4.0              4.0   \n",
       "3                    1.0                         2.5              2.5   \n",
       "4                    1.5                         1.5              2.5   \n",
       "\n",
       "   Metacritic_user_vote_count  IMDB_user_vote_count  Fandango_votes  \\\n",
       "0                        1330                271107           14846   \n",
       "1                         249                 65709           12640   \n",
       "2                         627                103660           12055   \n",
       "3                          31                  3136            1793   \n",
       "4                          88                 19560            1021   \n",
       "\n",
       "   Fandango_Difference  \n",
       "0                  0.5  \n",
       "1                  0.5  \n",
       "2                  0.5  \n",
       "3                  0.5  \n",
       "4                  0.5  \n",
       "\n",
       "[5 rows x 22 columns]"
      ]
     },
     "execution_count": 4,
     "metadata": {},
     "output_type": "execute_result"
    }
   ],
   "source": [
    "movies = pd.read_csv(\"/Users/saqib/Downloads/stat_book_data/fandango_score_comparison.csv\")\n",
    "movies.head()"
   ]
  },
  {
   "cell_type": "code",
   "execution_count": 6,
   "id": "e1dcd32b-e90f-475b-ac38-aa8bbdd19f77",
   "metadata": {
    "scrolled": true
   },
   "outputs": [
    {
     "data": {
      "text/plain": [
       "0"
      ]
     },
     "execution_count": 6,
     "metadata": {},
     "output_type": "execute_result"
    }
   ],
   "source": [
    "(movies[\"Fandango_Stars\"] < 3).sum()"
   ]
  },
  {
   "cell_type": "code",
   "execution_count": 20,
   "id": "c4b8b4dc-bdcf-4345-b944-ec849351d64b",
   "metadata": {},
   "outputs": [
    {
     "data": {
      "text/plain": [
       "(array([12.,  0., 27.,  0.,  0., 41.,  0., 55.,  0., 11.]),\n",
       " array([3. , 3.2, 3.4, 3.6, 3.8, 4. , 4.2, 4.4, 4.6, 4.8, 5. ]),\n",
       " <BarContainer object of 10 artists>)"
      ]
     },
     "execution_count": 20,
     "metadata": {},
     "output_type": "execute_result"
    },
    {
     "data": {
      "image/png": "[encoded data removed]",
      "text/plain": [
       "<Figure size 640x480 with 1 Axes>"
      ]
     },
     "metadata": {},
     "output_type": "display_data"
    }
   ],
   "source": [
    "plt.hist(x= (movies[\"Fandango_Stars\"]))"
   ]
  },
  {
   "cell_type": "code",
   "execution_count": 16,
   "id": "13ec3cfa-b6ad-486a-930e-6c7751755454",
   "metadata": {},
   "outputs": [
    {
     "data": {
      "text/plain": [
       "(array([ 1.,  2., 20., 14.,  0., 22., 27., 20., 25., 15.]),\n",
       " array([0.5, 0.9, 1.3, 1.7, 2.1, 2.5, 2.9, 3.3, 3.7, 4.1, 4.5]),\n",
       " <BarContainer object of 10 artists>)"
      ]
     },
     "execution_count": 16,
     "metadata": {},
     "output_type": "execute_result"
    },
    {
     "data": {
      "image/png": "[encoded data removed]",
      "text/plain": [
       "<Figure size 640x480 with 1 Axes>"
      ]
     },
     "metadata": {},
     "output_type": "display_data"
    }
   ],
   "source": [
    "plt.hist(x= (movies[\"Metacritic_norm_round\"]))"
   ]
  },
  {
   "cell_type": "code",
   "execution_count": 29,
   "id": "63e7109b-5c97-4a8f-8170-6e604be3ff32",
   "metadata": {},
   "outputs": [],
   "source": [
    "fandango_mean = movies[\"Fandango_Stars\"].mean().round(2)"
   ]
  },
  {
   "cell_type": "code",
   "execution_count": 31,
   "id": "6a35c105-685f-48e3-9156-0283c96de1da",
   "metadata": {},
   "outputs": [
    {
     "data": {
      "text/plain": [
       "4.09"
      ]
     },
     "execution_count": 31,
     "metadata": {},
     "output_type": "execute_result"
    }
   ],
   "source": [
    "fandango_mean"
   ]
  },
  {
   "cell_type": "code",
   "execution_count": 33,
   "id": "65bebbfe-03ea-48cb-9ed7-c9f77affd0b1",
   "metadata": {},
   "outputs": [],
   "source": [
    "fandango_median = movies[\"Fandango_Stars\"].median()"
   ]
  },
  {
   "cell_type": "code",
   "execution_count": 35,
   "id": "23a19852-6b2c-446a-b2ef-ffed477c4ecd",
   "metadata": {},
   "outputs": [
    {
     "data": {
      "text/plain": [
       "4.0"
      ]
     },
     "execution_count": 35,
     "metadata": {},
     "output_type": "execute_result"
    }
   ],
   "source": [
    "fandango_median"
   ]
  },
  {
   "cell_type": "code",
   "execution_count": 37,
   "id": "60cbadc2-e6d2-469f-b0f6-4121af3c6d13",
   "metadata": {},
   "outputs": [
    {
     "name": "stdout",
     "output_type": "stream",
     "text": [
      "Metacritic mean:2.97\n",
      "metacrictic median:3.0\n"
     ]
    }
   ],
   "source": [
    "meta_mean = movies[\"Metacritic_norm_round\"].mean().round(2)\n",
    "meta_median = movies[\"Metacritic_norm_round\"].median()\n",
    "print(\"Metacritic mean:\" + str(meta_mean))\n",
    "print(\"metacrictic median:\" + str(meta_median))"
   ]
  },
  {
   "cell_type": "markdown",
   "id": "bbe33038-7f63-4b1b-8947-9a24c696f1a5",
   "metadata": {},
   "source": [
    "lets check corr between fandango and metacritic\n"
   ]
  },
  {
   "cell_type": "code",
   "execution_count": 40,
   "id": "6ada31c0-3dfb-483e-b152-5f537373bebc",
   "metadata": {},
   "outputs": [
    {
     "data": {
      "text/plain": [
       "<matplotlib.collections.PathCollection at 0x1686d2210>"
      ]
     },
     "execution_count": 40,
     "metadata": {},
     "output_type": "execute_result"
    },
    {
     "data": {
      "image/png": "[encoded data removed]",
      "text/plain": [
       "<Figure size 640x480 with 1 Axes>"
      ]
     },
     "metadata": {},
     "output_type": "display_data"
    }
   ],
   "source": [
    "plt.scatter(movies[\"Metacritic_norm_round\"], movies[\"Fandango_Stars\"])"
   ]
  },
  {
   "cell_type": "markdown",
   "id": "a14ef145-cd5f-4e79-b843-b9ed56e0abe9",
   "metadata": {},
   "source": [
    "there is low correlation"
   ]
  },
  {
   "cell_type": "code",
   "execution_count": 43,
   "id": "3be9e987-62d4-4a0f-96c2-32dd55051da1",
   "metadata": {},
   "outputs": [
    {
     "data": {
      "text/html": [
       "<div>\n",
       "<style scoped>\n",
       "    .dataframe tbody tr th:only-of-type {\n",
       "        vertical-align: middle;\n",
       "    }\n",
       "\n",
       "    .dataframe tbody tr th {\n",
       "        vertical-align: top;\n",
       "    }\n",
       "\n",
       "    .dataframe thead th {\n",
       "        text-align: right;\n",
       "    }\n",
       "</style>\n",
       "<table border=\"1\" class=\"dataframe\">\n",
       "  <thead>\n",
       "    <tr style=\"text-align: right;\">\n",
       "      <th></th>\n",
       "      <th>FILM</th>\n",
       "      <th>RottenTomatoes</th>\n",
       "      <th>RottenTomatoes_User</th>\n",
       "      <th>Metacritic</th>\n",
       "      <th>Metacritic_User</th>\n",
       "      <th>IMDB</th>\n",
       "      <th>Fandango_Stars</th>\n",
       "      <th>Fandango_Ratingvalue</th>\n",
       "      <th>RT_norm</th>\n",
       "      <th>RT_user_norm</th>\n",
       "      <th>...</th>\n",
       "      <th>RT_norm_round</th>\n",
       "      <th>RT_user_norm_round</th>\n",
       "      <th>Metacritic_norm_round</th>\n",
       "      <th>Metacritic_user_norm_round</th>\n",
       "      <th>IMDB_norm_round</th>\n",
       "      <th>Metacritic_user_vote_count</th>\n",
       "      <th>IMDB_user_vote_count</th>\n",
       "      <th>Fandango_votes</th>\n",
       "      <th>Fandango_Difference</th>\n",
       "      <th>fm_diff</th>\n",
       "    </tr>\n",
       "  </thead>\n",
       "  <tbody>\n",
       "    <tr>\n",
       "      <th>3</th>\n",
       "      <td>Do You Believe? (2015)</td>\n",
       "      <td>18</td>\n",
       "      <td>84</td>\n",
       "      <td>22</td>\n",
       "      <td>4.7</td>\n",
       "      <td>5.4</td>\n",
       "      <td>5.0</td>\n",
       "      <td>4.5</td>\n",
       "      <td>0.90</td>\n",
       "      <td>4.20</td>\n",
       "      <td>...</td>\n",
       "      <td>1.0</td>\n",
       "      <td>4.0</td>\n",
       "      <td>1.0</td>\n",
       "      <td>2.5</td>\n",
       "      <td>2.5</td>\n",
       "      <td>31</td>\n",
       "      <td>3136</td>\n",
       "      <td>1793</td>\n",
       "      <td>0.5</td>\n",
       "      <td>4.0</td>\n",
       "    </tr>\n",
       "    <tr>\n",
       "      <th>85</th>\n",
       "      <td>Little Boy (2015)</td>\n",
       "      <td>20</td>\n",
       "      <td>81</td>\n",
       "      <td>30</td>\n",
       "      <td>5.9</td>\n",
       "      <td>7.4</td>\n",
       "      <td>4.5</td>\n",
       "      <td>4.3</td>\n",
       "      <td>1.00</td>\n",
       "      <td>4.05</td>\n",
       "      <td>...</td>\n",
       "      <td>1.0</td>\n",
       "      <td>4.0</td>\n",
       "      <td>1.5</td>\n",
       "      <td>3.0</td>\n",
       "      <td>3.5</td>\n",
       "      <td>38</td>\n",
       "      <td>5927</td>\n",
       "      <td>811</td>\n",
       "      <td>0.2</td>\n",
       "      <td>3.0</td>\n",
       "    </tr>\n",
       "    <tr>\n",
       "      <th>47</th>\n",
       "      <td>Annie (2014)</td>\n",
       "      <td>27</td>\n",
       "      <td>61</td>\n",
       "      <td>33</td>\n",
       "      <td>4.8</td>\n",
       "      <td>5.2</td>\n",
       "      <td>4.5</td>\n",
       "      <td>4.2</td>\n",
       "      <td>1.35</td>\n",
       "      <td>3.05</td>\n",
       "      <td>...</td>\n",
       "      <td>1.5</td>\n",
       "      <td>3.0</td>\n",
       "      <td>1.5</td>\n",
       "      <td>2.5</td>\n",
       "      <td>2.5</td>\n",
       "      <td>108</td>\n",
       "      <td>19222</td>\n",
       "      <td>6835</td>\n",
       "      <td>0.3</td>\n",
       "      <td>3.0</td>\n",
       "    </tr>\n",
       "    <tr>\n",
       "      <th>19</th>\n",
       "      <td>Pixels (2015)</td>\n",
       "      <td>17</td>\n",
       "      <td>54</td>\n",
       "      <td>27</td>\n",
       "      <td>5.3</td>\n",
       "      <td>5.6</td>\n",
       "      <td>4.5</td>\n",
       "      <td>4.1</td>\n",
       "      <td>0.85</td>\n",
       "      <td>2.70</td>\n",
       "      <td>...</td>\n",
       "      <td>1.0</td>\n",
       "      <td>2.5</td>\n",
       "      <td>1.5</td>\n",
       "      <td>2.5</td>\n",
       "      <td>3.0</td>\n",
       "      <td>246</td>\n",
       "      <td>19521</td>\n",
       "      <td>3886</td>\n",
       "      <td>0.4</td>\n",
       "      <td>3.0</td>\n",
       "    </tr>\n",
       "    <tr>\n",
       "      <th>134</th>\n",
       "      <td>The Longest Ride (2015)</td>\n",
       "      <td>31</td>\n",
       "      <td>73</td>\n",
       "      <td>33</td>\n",
       "      <td>4.8</td>\n",
       "      <td>7.2</td>\n",
       "      <td>4.5</td>\n",
       "      <td>4.5</td>\n",
       "      <td>1.55</td>\n",
       "      <td>3.65</td>\n",
       "      <td>...</td>\n",
       "      <td>1.5</td>\n",
       "      <td>3.5</td>\n",
       "      <td>1.5</td>\n",
       "      <td>2.5</td>\n",
       "      <td>3.5</td>\n",
       "      <td>49</td>\n",
       "      <td>25214</td>\n",
       "      <td>2603</td>\n",
       "      <td>0.0</td>\n",
       "      <td>3.0</td>\n",
       "    </tr>\n",
       "  </tbody>\n",
       "</table>\n",
       "<p>5 rows × 23 columns</p>\n",
       "</div>"
      ],
      "text/plain": [
       "                        FILM  RottenTomatoes  RottenTomatoes_User  Metacritic  \\\n",
       "3     Do You Believe? (2015)              18                   84          22   \n",
       "85         Little Boy (2015)              20                   81          30   \n",
       "47              Annie (2014)              27                   61          33   \n",
       "19             Pixels (2015)              17                   54          27   \n",
       "134  The Longest Ride (2015)              31                   73          33   \n",
       "\n",
       "     Metacritic_User  IMDB  Fandango_Stars  Fandango_Ratingvalue  RT_norm  \\\n",
       "3                4.7   5.4             5.0                   4.5     0.90   \n",
       "85               5.9   7.4             4.5                   4.3     1.00   \n",
       "47               4.8   5.2             4.5                   4.2     1.35   \n",
       "19               5.3   5.6             4.5                   4.1     0.85   \n",
       "134              4.8   7.2             4.5                   4.5     1.55   \n",
       "\n",
       "     RT_user_norm  ...  RT_norm_round  RT_user_norm_round  \\\n",
       "3            4.20  ...            1.0                 4.0   \n",
       "85           4.05  ...            1.0                 4.0   \n",
       "47           3.05  ...            1.5                 3.0   \n",
       "19           2.70  ...            1.0                 2.5   \n",
       "134          3.65  ...            1.5                 3.5   \n",
       "\n",
       "     Metacritic_norm_round  Metacritic_user_norm_round  IMDB_norm_round  \\\n",
       "3                      1.0                         2.5              2.5   \n",
       "85                     1.5                         3.0              3.5   \n",
       "47                     1.5                         2.5              2.5   \n",
       "19                     1.5                         2.5              3.0   \n",
       "134                    1.5                         2.5              3.5   \n",
       "\n",
       "     Metacritic_user_vote_count  IMDB_user_vote_count  Fandango_votes  \\\n",
       "3                            31                  3136            1793   \n",
       "85                           38                  5927             811   \n",
       "47                          108                 19222            6835   \n",
       "19                          246                 19521            3886   \n",
       "134                          49                 25214            2603   \n",
       "\n",
       "     Fandango_Difference  fm_diff  \n",
       "3                    0.5      4.0  \n",
       "85                   0.2      3.0  \n",
       "47                   0.3      3.0  \n",
       "19                   0.4      3.0  \n",
       "134                  0.0      3.0  \n",
       "\n",
       "[5 rows x 23 columns]"
      ]
     },
     "execution_count": 43,
     "metadata": {},
     "output_type": "execute_result"
    }
   ],
   "source": [
    "movies[\"fm_diff\"] = np.abs(movies[\"Metacritic_norm_round\"] - movies[\"Fandango_Stars\"])\n",
    "movies.sort_values(by= \"fm_diff\", ascending=False).head()"
   ]
  },
  {
   "cell_type": "code",
   "execution_count": 47,
   "id": "7fcbb2a0-7256-4cab-93af-ced59ad52631",
   "metadata": {},
   "outputs": [
    {
     "data": {
      "text/plain": [
       "PearsonRResult(statistic=0.17844919073895935, pvalue=0.031161516228523888)"
      ]
     },
     "execution_count": 47,
     "metadata": {},
     "output_type": "execute_result"
    }
   ],
   "source": [
    "sts.pearsonr(movies[\"Metacritic_norm_round\"], movies[\"Fandango_Stars\"])"
   ]
  },
  {
   "cell_type": "code",
   "execution_count": 57,
   "id": "c7ffdf99-d84e-4d6d-8c09-515f1ae9faaf",
   "metadata": {},
   "outputs": [
    {
     "name": "stdout",
     "output_type": "stream",
     "text": [
      "Slope:0.09731107797392835\n",
      "Intercept3.799773918899419\n",
      "r_value:0.17844919073895893\n",
      "p_value:0.0311615162285243\n",
      "stderr_slope0.044713544656798304\n"
     ]
    }
   ],
   "source": [
    "slope, intercept, r_value, p_value, stderr_slope = sts.linregress(movies[\"Metacritic_norm_round\"], movies[\"Fandango_Stars\"])\n",
    "print(\"Slope:\" + str(slope))\n",
    "print(\"Intercept\" + str(intercept))\n",
    "print(\"r_value:\" + str(r_value))\n",
    "print(\"p_value:\" + str(p_value))\n",
    "print(\"stderr_slope\" + str(stderr_slope))"
   ]
  },
  {
   "cell_type": "markdown",
   "id": "4b72a406-b4b4-4003-b79b-7c10c762146e",
   "metadata": {},
   "source": [
    "1.\tSlope:\n",
    "\t•\tThe slope of the regression line. It represents how much Fandango_Stars changes for each unit change in Metacritic_norm_round. In other words, it’s the coefficient that multiplies Metacritic_norm_round in the equation of the line:"
   ]
  },
  {
   "cell_type": "markdown",
   "id": "a4a4a119-c3bd-484a-8d23-7181baf7c315",
   "metadata": {},
   "source": [
    "2.\tIntercept:\n",
    "\t•\tThe intercept of the regression line. This is the value of Fandango_Stars when Metacritic_norm_round is zero."
   ]
  },
  {
   "cell_type": "markdown",
   "id": "e5106c14-c955-49a6-9dfd-a8bf38848b76",
   "metadata": {},
   "source": [
    "3.\tr_value (Correlation Coefficient):\n",
    "\t•\tThe Pearson correlation coefficient (same as the r_value from sts.pearsonr()). It measures the strength and direction of the linear relationship between the two variables, ranging from -1 to 1. A value close to 1 indicates a strong positive relationship, while a value close to -1 indicates a strong negative relationship."
   ]
  },
  {
   "cell_type": "markdown",
   "id": "0944baa7-0a09-48dc-993a-7e126a46a6a2",
   "metadata": {},
   "source": [
    "4.\tp_value:\n",
    "\t•\tThe p-value for the hypothesis test that the slope is zero (i.e., no relationship between the two variables). A small p-value (typically < 0.05) indicates that there is evidence to reject the null hypothesis, meaning the slope is significantly different from zero."
   ]
  },
  {
   "cell_type": "markdown",
   "id": "fbf35a1e-112d-41ba-b32d-7cab0875ff01",
   "metadata": {},
   "source": [
    "5.\tstderr_slope (Standard Error of the Slope):\n",
    "\t•\tThe standard error of the slope is a measure of the precision of the estimated slope. A smaller standard error means that the slope estimate is more reliable."
   ]
  },
  {
   "cell_type": "code",
   "execution_count": 62,
   "id": "f75d455e-81b2-427a-897e-b6995980c265",
   "metadata": {},
   "outputs": [
    {
     "data": {
      "image/png": "[encoded data removed]",
      "text/plain": [
       "<Figure size 640x480 with 1 Axes>"
      ]
     },
     "metadata": {},
     "output_type": "display_data"
    }
   ],
   "source": [
    "# Scatter plot of the data points\n",
    "plt.scatter(movies[\"Metacritic_norm_round\"], movies[\"Fandango_Stars\"], label=\"Data points\")\n",
    "\n",
    "# Define the regression line equation using slope and intercept\n",
    "x = np.linspace(min(movies[\"Metacritic_norm_round\"]), max(movies[\"Metacritic_norm_round\"]), 100)\n",
    "y = slope * x + intercept\n",
    "\n",
    "# Plot the regression line\n",
    "plt.plot(x, y, color=\"red\", label= f'regression Line: y={slope:.2f}x +{intercept:.2f}')\n",
    "\n",
    "#Adding labels and title\n",
    "plt.xlabel(\"Metacritic_norm_round\")\n",
    "plt.ylabel(\"Fandango_Stars\")\n",
    "plt.title(\"Linear Regression: Metacritic_norm_round vs Fandango_Stars\")\n",
    "plt.legend()\n",
    "plt.show()"
   ]
  },
  {
   "cell_type": "markdown",
   "id": "d0501da1-49cb-43c9-8735-267ac44d97ff",
   "metadata": {},
   "source": [
    " Interpreting Residuals\n",
    "\n",
    "Residuals are the differences between the actual values and the values predicted by the regression model. Residuals help determine whether the model fits the data well. Ideally, the residuals should be randomly distributed around zero, indicating that the model captures the relationship well without bias."
   ]
  },
  {
   "cell_type": "code",
   "execution_count": null,
   "id": "9a2fc98c-e9de-4ba9-b16a-7554578a4bcf",
   "metadata": {},
   "outputs": [],
   "source": []
  },
  {
   "cell_type": "code",
   "execution_count": 101,
   "id": "aca2a8cb-d84a-4243-b73a-8c4b4e70f007",
   "metadata": {},
   "outputs": [
    {
     "data": {
      "image/png": "[encoded data removed]",
      "text/plain": [
       "<Figure size 640x480 with 1 Axes>"
      ]
     },
     "metadata": {},
     "output_type": "display_data"
    }
   ],
   "source": [
    "# Predicted values based on the regression line\n",
    "predicted_values = slope * movies[\"Metacritic_norm_round\"] + intercept\n",
    "\n",
    "# Residuals\n",
    "residuals = movies[\"Fandango_Stars\"] - predicted_values\n",
    "\n",
    "# Plotting residuals\n",
    "plt.scatter(movies[\"Metacritic_norm_round\"], residuals)\n",
    "plt.axhline(y=0, color='red', linestyle='--')\n",
    "plt.xlabel(\"Metacritic_norm_round\")\n",
    "plt.ylabel(\"Residuals\")\n",
    "plt.title(\"Residual Plot\")\n",
    "plt.show()"
   ]
  },
  {
   "cell_type": "markdown",
   "id": "3141e361-56b7-45c0-bf90-9d006d3f98f6",
   "metadata": {},
   "source": [
    "Patterns in Residuals:\n",
    "\t•\tNon-random patterns (such as a curve or trend) in the residuals may indicate that the model is missing some important nonlinear relationships or that the model assumptions (like linearity or homoscedasticity) are not being met."
   ]
  },
  {
   "cell_type": "markdown",
   "id": "1155a610-5982-49a6-a012-5b75293ae4e3",
   "metadata": {},
   "source": [
    "Homoscedasticity:\n",
    "\t•\tThis means that the variance of the residuals should be consistent across all levels of Metacritic_norm_round. If the spread of residuals widens or narrows, it suggests heteroscedasticity, which violates the assumptions of linear regression."
   ]
  },
  {
   "cell_type": "code",
   "execution_count": 73,
   "id": "3093367a-47af-4c02-827b-6d1ba46b9bb8",
   "metadata": {},
   "outputs": [
    {
     "name": "stdout",
     "output_type": "stream",
     "text": [
      "Outliers detected:\n",
      " Empty DataFrame\n",
      "Columns: [FILM, RottenTomatoes, RottenTomatoes_User, Metacritic, Metacritic_User, IMDB, Fandango_Stars, Fandango_Ratingvalue, RT_norm, RT_user_norm, Metacritic_norm, Metacritic_user_nom, IMDB_norm, RT_norm_round, RT_user_norm_round, Metacritic_norm_round, Metacritic_user_norm_round, IMDB_norm_round, Metacritic_user_vote_count, IMDB_user_vote_count, Fandango_votes, Fandango_Difference, fm_diff]\n",
      "Index: []\n",
      "\n",
      "[0 rows x 23 columns]\n"
     ]
    }
   ],
   "source": [
    "from scipy.stats import zscore\n",
    "\n",
    "# Calculate z-scores of the residuals\n",
    "z_scores = np.abs(zscore(residuals))\n",
    "\n",
    "# Identify outliers (z-score > 3)\n",
    "outliers = movies[z_scores > 3]\n",
    "\n",
    "print(\"Outliers detected:\\n\", outliers)\n"
   ]
  },
  {
   "cell_type": "markdown",
   "id": "1345575c-a634-4a45-a37f-418f8f042926",
   "metadata": {},
   "source": [
    "Outliers and high-leverage points can disproportionately affect the regression model and can be detected by examining residuals or using influence diagnostics."
   ]
  },
  {
   "cell_type": "code",
   "execution_count": 75,
   "id": "0875cd2a-0c22-4213-8ae9-235c8126e154",
   "metadata": {},
   "outputs": [
    {
     "name": "stdout",
     "output_type": "stream",
     "text": [
      "R-squared: 0.03184411367538934\n"
     ]
    }
   ],
   "source": [
    "r_squared = r_value ** 2\n",
    "print(f\"R-squared: {r_squared}\")"
   ]
  },
  {
   "cell_type": "markdown",
   "id": "7905a5ae-7485-4653-a478-d4866583a1c8",
   "metadata": {},
   "source": [
    "R-squared (r_value**2): This represents the proportion of the variance in the dependent variable that is predictable from the independent variable. A value closer to 1 means the model explains most of the variance."
   ]
  },
  {
   "cell_type": "code",
   "execution_count": 77,
   "id": "e3c65a9e-23b6-48d2-a01b-3b2348042e2a",
   "metadata": {},
   "outputs": [
    {
     "name": "stdout",
     "output_type": "stream",
     "text": [
      "Standard Error of the Regression: 0.529888250435729\n"
     ]
    }
   ],
   "source": [
    "import numpy as np\n",
    "\n",
    "std_error_reg = np.sqrt(np.mean(residuals**2))\n",
    "print(f\"Standard Error of the Regression: {std_error_reg}\")"
   ]
  },
  {
   "cell_type": "markdown",
   "id": "3479f2e2-18bd-4608-8bb9-6bf15dd774e8",
   "metadata": {},
   "source": [
    "The Standard Error of the Regression (S) measures how far data points fall from the regression line, on average. It provides insight into the accuracy of predictions made by your model."
   ]
  },
  {
   "cell_type": "markdown",
   "id": "8010a67b-d68c-4884-ad7e-123c7a57efa5",
   "metadata": {},
   "source": [
    "Interpretation:\n",
    "\t•\tA smaller standard error indicates that the data points are closer to the regression line, implying a better fit.\n",
    "\t•\tA larger standard error means that the data points are spread out and the model may not be very accurate in predicting outcomes."
   ]
  },
  {
   "cell_type": "code",
   "execution_count": 79,
   "id": "b9c2811f-e187-484d-85b7-8da9ac5aba83",
   "metadata": {},
   "outputs": [
    {
     "name": "stdout",
     "output_type": "stream",
     "text": [
      "Mean Absolute Error (MAE): 0.43858646267750934\n"
     ]
    }
   ],
   "source": [
    "mae = np.mean(np.abs(residuals))\n",
    "print(f\"Mean Absolute Error (MAE): {mae}\")"
   ]
  },
  {
   "cell_type": "markdown",
   "id": "1d4c6e1b-5363-4e73-b0b0-871cb7fa9c79",
   "metadata": {},
   "source": [
    "Mean Absolute Error (MAE). It calculates the average absolute difference between actual and predicted values, which gives a better sense of model accuracy. A lower MAE means that your model predictions are closer to the actual values."
   ]
  },
  {
   "cell_type": "code",
   "execution_count": 81,
   "id": "e9ad29c1-d2bc-4321-b2da-fb762ad2ca02",
   "metadata": {},
   "outputs": [
    {
     "name": "stdout",
     "output_type": "stream",
     "text": [
      "Root Mean Squared Error (RMSE): 0.529888250435729\n"
     ]
    }
   ],
   "source": [
    "rmse = np.sqrt(np.mean(residuals ** 2))\n",
    "print(f\"Root Mean Squared Error (RMSE): {rmse}\")"
   ]
  },
  {
   "cell_type": "markdown",
   "id": "01d4c960-fbfe-4bca-a344-448016936243",
   "metadata": {},
   "source": [
    "RMSE is similar to the standard error but places more emphasis on larger errors. The RMSE indicates the average magnitude of prediction errors, where larger errors weigh more heavily. A smaller RMSE suggests better model performance."
   ]
  },
  {
   "cell_type": "markdown",
   "id": "e401598b-8bbd-4839-9a50-77a0db18aa81",
   "metadata": {},
   "source": [
    "### Conclusion\n",
    "R-squared : tells you how much of the variation in the dependent variable is explained by the independent variable."
   ]
  },
  {
   "cell_type": "markdown",
   "id": "86ba4961-cc3d-48e9-b17d-cdf67f1fbeec",
   "metadata": {},
   "source": [
    "Standard Error of the Regression : gives you a sense of how far the data points deviate from the regression line, on average.\n",
    "\t"
   ]
  },
  {
   "cell_type": "markdown",
   "id": "5204f233-3684-468c-ba0a-768e33fec1ae",
   "metadata": {},
   "source": [
    "Residual Analysis:  helps you detect any patterns or issues in the model’s assumptions.\n",
    "\t"
   ]
  },
  {
   "cell_type": "markdown",
   "id": "b589d909-efee-4329-8958-6ed20f65bd1e",
   "metadata": {},
   "source": [
    "MAE and RMSE: provide useful metrics to measure prediction accuracy.\n",
    "\t"
   ]
  },
  {
   "cell_type": "markdown",
   "id": "4e2b8528-d194-4c9d-9480-ebfa37ebacc5",
   "metadata": {},
   "source": [
    "Outliers and Leverage Points : are important to identify as they can distort the model.\n"
   ]
  },
  {
   "cell_type": "markdown",
   "id": "21161c9f-fc0c-48f8-a822-b99ee2ebdeaa",
   "metadata": {},
   "source": [
    "# Extras\n",
    "## Polynomial Regression\n",
    "Polynomial regression is useful when the relationship between the independent variable (Metacritic_norm_round) and the dependent variable (Fandango_Stars) is nonlinear. Instead of fitting a straight line (linear regression), you fit a curved line by adding polynomial terms "
   ]
  },
  {
   "cell_type": "code",
   "execution_count": 116,
   "id": "aa3f37fc-89c4-441d-9e42-fbcf3944052b",
   "metadata": {},
   "outputs": [
    {
     "data": {
      "image/png": "[encoded data removed]",
      "text/plain": [
       "<Figure size 640x480 with 1 Axes>"
      ]
     },
     "metadata": {},
     "output_type": "display_data"
    }
   ],
   "source": [
    "from sklearn.preprocessing import PolynomialFeatures\n",
    "from sklearn.linear_model import LinearRegression\n",
    "import numpy as np\n",
    "\n",
    "# Creating polynomial features (e.g., degree=2 for quadratic)\n",
    "poly = PolynomialFeatures(degree=2)\n",
    "X_poly = poly.fit_transform(movies[\"Metacritic_norm_round\"].values.reshape(-1, 1))\n",
    "\n",
    "# Fit polynomial regression model\n",
    "poly_reg_model = LinearRegression()\n",
    "poly_reg_model.fit(X_poly, movies[\"Fandango_Stars\"])\n",
    "\n",
    "# Predicted values using polynomial regression\n",
    "predicted_poly = poly_reg_model.predict(X_poly)\n",
    "\n",
    "# Plotting the original data and the polynomial regression curve\n",
    "plt.scatter(movies[\"Metacritic_norm_round\"], movies[\"Fandango_Stars\"], label=\"Data points\")\n",
    "\n",
    "# Plotting the polynomial curve\n",
    "sorted_X = np.sort(movies[\"Metacritic_norm_round\"])\n",
    "plt.plot(sorted_X, poly_reg_model.predict(poly.fit_transform(sorted_X.reshape(-1, 1))), color='red', label='Polynomial Regression (degree=2)')\n",
    "\n",
    "plt.xlabel(\"Metacritic_norm_round\")\n",
    "plt.ylabel(\"Fandango_Stars\")\n",
    "plt.title(\"Polynomial Regression: Metacritic_norm_round vs Fandango_Stars\")\n",
    "plt.legend()\n",
    "plt.show()"
   ]
  },
  {
   "cell_type": "code",
   "execution_count": 121,
   "id": "ce910675-b32c-4e80-8f8c-e18e4c826ce1",
   "metadata": {},
   "outputs": [
    {
     "data": {
      "text/plain": [
       "(146, 23)"
      ]
     },
     "execution_count": 121,
     "metadata": {},
     "output_type": "execute_result"
    }
   ],
   "source": [
    "movies.shape"
   ]
  },
  {
   "cell_type": "code",
   "execution_count": 123,
   "id": "fc7f4487-0c24-41e4-9561-e242eccaf7b4",
   "metadata": {},
   "outputs": [],
   "source": [
    "cleaned_movies = movies[z_scores <= 3]  # Removing outliers with z-scores > 3"
   ]
  },
  {
   "cell_type": "code",
   "execution_count": 125,
   "id": "b094da86-8c09-4861-8353-8d71ed435626",
   "metadata": {},
   "outputs": [
    {
     "data": {
      "text/plain": [
       "(146, 23)"
      ]
     },
     "execution_count": 125,
     "metadata": {},
     "output_type": "execute_result"
    }
   ],
   "source": [
    "cleaned_movies.shape"
   ]
  },
  {
   "cell_type": "markdown",
   "id": "b36b0f3b-9c64-4ea4-978f-7318cebcf65f",
   "metadata": {},
   "source": [
    "there is no outlier therefore no deletion"
   ]
  },
  {
   "cell_type": "code",
   "execution_count": null,
   "id": "dbf5f54d-90a6-475c-bbb2-989f723b287c",
   "metadata": {},
   "outputs": [],
   "source": []
  }
 ],
 "metadata": {
  "kernelspec": {
   "display_name": "Python 3 (ipykernel)",
   "language": "python",
   "name": "python3"
  },
  "language_info": {
   "codemirror_mode": {
    "name": "ipython",
    "version": 3
   },
   "file_extension": ".py",
   "mimetype": "text/x-python",
   "name": "python",
   "nbconvert_exporter": "python",
   "pygments_lexer": "ipython3",
   "version": "3.11.5"
  }
 },
 "nbformat": 4,
 "nbformat_minor": 5
}
