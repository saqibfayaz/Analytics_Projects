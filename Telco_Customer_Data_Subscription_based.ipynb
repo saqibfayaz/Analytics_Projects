{
 "cells": [
  {
   "cell_type": "markdown",
   "id": "5d7804ae-4b85-497d-ba03-758b80f817a6",
   "metadata": {},
   "source": [
    "Telco Customer Data : Subscription based\n"
   ]
  },
  {
   "cell_type": "markdown",
   "id": "a3814e13-b7f4-49c4-af2e-ea6922c93051",
   "metadata": {
    "tags": []
   },
   "source": [
    "## Title i thought it should have: \" Customer Churn Analysis and Retention Strategies \"\""
   ]
  },
  {
   "cell_type": "markdown",
   "id": "38520ee5-c24f-491c-9e6f-a7ab465dfa90",
   "metadata": {},
   "source": [
    "## Title it deserves = \" The Impact of Service Features and Contract Length on Customer Churn \""
   ]
  },
  {
   "cell_type": "code",
   "execution_count": 3,
   "id": "ec6d12cd-7847-436b-9b5e-21753c56616a",
   "metadata": {
    "tags": []
   },
   "outputs": [],
   "source": [
    "import pandas as pd\n",
    "import numpy as np\n",
    "import seaborn as sns\n",
    "import matplotlib.pyplot as plt"
   ]
  },
  {
   "cell_type": "code",
   "execution_count": 4,
   "id": "9ba82ce2-6743-47be-936f-97af198434b3",
   "metadata": {
    "tags": []
   },
   "outputs": [],
   "source": [
    "df= pd.read_csv('/Users/saqib/Downloads/WA_Fn-UseC_-Telco-Customer-Churn 2.csv')"
   ]
  },
  {
   "cell_type": "code",
   "execution_count": 5,
   "id": "81910372-2898-4567-bd16-3d4b4cda8290",
   "metadata": {
    "tags": []
   },
   "outputs": [
    {
     "data": {
      "text/html": [
       "<div>\n",
       "<style scoped>\n",
       "    .dataframe tbody tr th:only-of-type {\n",
       "        vertical-align: middle;\n",
       "    }\n",
       "\n",
       "    .dataframe tbody tr th {\n",
       "        vertical-align: top;\n",
       "    }\n",
       "\n",
       "    .dataframe thead th {\n",
       "        text-align: right;\n",
       "    }\n",
       "</style>\n",
       "<table border=\"1\" class=\"dataframe\">\n",
       "  <thead>\n",
       "    <tr style=\"text-align: right;\">\n",
       "      <th></th>\n",
       "      <th>customerID</th>\n",
       "      <th>gender</th>\n",
       "      <th>SeniorCitizen</th>\n",
       "      <th>Partner</th>\n",
       "      <th>Dependents</th>\n",
       "      <th>tenure</th>\n",
       "      <th>PhoneService</th>\n",
       "      <th>MultipleLines</th>\n",
       "      <th>InternetService</th>\n",
       "      <th>OnlineSecurity</th>\n",
       "      <th>...</th>\n",
       "      <th>DeviceProtection</th>\n",
       "      <th>TechSupport</th>\n",
       "      <th>StreamingTV</th>\n",
       "      <th>StreamingMovies</th>\n",
       "      <th>Contract</th>\n",
       "      <th>PaperlessBilling</th>\n",
       "      <th>PaymentMethod</th>\n",
       "      <th>MonthlyCharges</th>\n",
       "      <th>TotalCharges</th>\n",
       "      <th>Churn</th>\n",
       "    </tr>\n",
       "  </thead>\n",
       "  <tbody>\n",
       "    <tr>\n",
       "      <th>0</th>\n",
       "      <td>7590-VHVEG</td>\n",
       "      <td>Female</td>\n",
       "      <td>0</td>\n",
       "      <td>Yes</td>\n",
       "      <td>No</td>\n",
       "      <td>1</td>\n",
       "      <td>No</td>\n",
       "      <td>No phone service</td>\n",
       "      <td>DSL</td>\n",
       "      <td>No</td>\n",
       "      <td>...</td>\n",
       "      <td>No</td>\n",
       "      <td>No</td>\n",
       "      <td>No</td>\n",
       "      <td>No</td>\n",
       "      <td>Month-to-month</td>\n",
       "      <td>Yes</td>\n",
       "      <td>Electronic check</td>\n",
       "      <td>29.85</td>\n",
       "      <td>29.85</td>\n",
       "      <td>No</td>\n",
       "    </tr>\n",
       "    <tr>\n",
       "      <th>1</th>\n",
       "      <td>5575-GNVDE</td>\n",
       "      <td>Male</td>\n",
       "      <td>0</td>\n",
       "      <td>No</td>\n",
       "      <td>No</td>\n",
       "      <td>34</td>\n",
       "      <td>Yes</td>\n",
       "      <td>No</td>\n",
       "      <td>DSL</td>\n",
       "      <td>Yes</td>\n",
       "      <td>...</td>\n",
       "      <td>Yes</td>\n",
       "      <td>No</td>\n",
       "      <td>No</td>\n",
       "      <td>No</td>\n",
       "      <td>One year</td>\n",
       "      <td>No</td>\n",
       "      <td>Mailed check</td>\n",
       "      <td>56.95</td>\n",
       "      <td>1889.5</td>\n",
       "      <td>No</td>\n",
       "    </tr>\n",
       "    <tr>\n",
       "      <th>2</th>\n",
       "      <td>3668-QPYBK</td>\n",
       "      <td>Male</td>\n",
       "      <td>0</td>\n",
       "      <td>No</td>\n",
       "      <td>No</td>\n",
       "      <td>2</td>\n",
       "      <td>Yes</td>\n",
       "      <td>No</td>\n",
       "      <td>DSL</td>\n",
       "      <td>Yes</td>\n",
       "      <td>...</td>\n",
       "      <td>No</td>\n",
       "      <td>No</td>\n",
       "      <td>No</td>\n",
       "      <td>No</td>\n",
       "      <td>Month-to-month</td>\n",
       "      <td>Yes</td>\n",
       "      <td>Mailed check</td>\n",
       "      <td>53.85</td>\n",
       "      <td>108.15</td>\n",
       "      <td>Yes</td>\n",
       "    </tr>\n",
       "    <tr>\n",
       "      <th>3</th>\n",
       "      <td>7795-CFOCW</td>\n",
       "      <td>Male</td>\n",
       "      <td>0</td>\n",
       "      <td>No</td>\n",
       "      <td>No</td>\n",
       "      <td>45</td>\n",
       "      <td>No</td>\n",
       "      <td>No phone service</td>\n",
       "      <td>DSL</td>\n",
       "      <td>Yes</td>\n",
       "      <td>...</td>\n",
       "      <td>Yes</td>\n",
       "      <td>Yes</td>\n",
       "      <td>No</td>\n",
       "      <td>No</td>\n",
       "      <td>One year</td>\n",
       "      <td>No</td>\n",
       "      <td>Bank transfer (automatic)</td>\n",
       "      <td>42.30</td>\n",
       "      <td>1840.75</td>\n",
       "      <td>No</td>\n",
       "    </tr>\n",
       "    <tr>\n",
       "      <th>4</th>\n",
       "      <td>9237-HQITU</td>\n",
       "      <td>Female</td>\n",
       "      <td>0</td>\n",
       "      <td>No</td>\n",
       "      <td>No</td>\n",
       "      <td>2</td>\n",
       "      <td>Yes</td>\n",
       "      <td>No</td>\n",
       "      <td>Fiber optic</td>\n",
       "      <td>No</td>\n",
       "      <td>...</td>\n",
       "      <td>No</td>\n",
       "      <td>No</td>\n",
       "      <td>No</td>\n",
       "      <td>No</td>\n",
       "      <td>Month-to-month</td>\n",
       "      <td>Yes</td>\n",
       "      <td>Electronic check</td>\n",
       "      <td>70.70</td>\n",
       "      <td>151.65</td>\n",
       "      <td>Yes</td>\n",
       "    </tr>\n",
       "    <tr>\n",
       "      <th>5</th>\n",
       "      <td>9305-CDSKC</td>\n",
       "      <td>Female</td>\n",
       "      <td>0</td>\n",
       "      <td>No</td>\n",
       "      <td>No</td>\n",
       "      <td>8</td>\n",
       "      <td>Yes</td>\n",
       "      <td>Yes</td>\n",
       "      <td>Fiber optic</td>\n",
       "      <td>No</td>\n",
       "      <td>...</td>\n",
       "      <td>Yes</td>\n",
       "      <td>No</td>\n",
       "      <td>Yes</td>\n",
       "      <td>Yes</td>\n",
       "      <td>Month-to-month</td>\n",
       "      <td>Yes</td>\n",
       "      <td>Electronic check</td>\n",
       "      <td>99.65</td>\n",
       "      <td>820.5</td>\n",
       "      <td>Yes</td>\n",
       "    </tr>\n",
       "    <tr>\n",
       "      <th>6</th>\n",
       "      <td>1452-KIOVK</td>\n",
       "      <td>Male</td>\n",
       "      <td>0</td>\n",
       "      <td>No</td>\n",
       "      <td>Yes</td>\n",
       "      <td>22</td>\n",
       "      <td>Yes</td>\n",
       "      <td>Yes</td>\n",
       "      <td>Fiber optic</td>\n",
       "      <td>No</td>\n",
       "      <td>...</td>\n",
       "      <td>No</td>\n",
       "      <td>No</td>\n",
       "      <td>Yes</td>\n",
       "      <td>No</td>\n",
       "      <td>Month-to-month</td>\n",
       "      <td>Yes</td>\n",
       "      <td>Credit card (automatic)</td>\n",
       "      <td>89.10</td>\n",
       "      <td>1949.4</td>\n",
       "      <td>No</td>\n",
       "    </tr>\n",
       "    <tr>\n",
       "      <th>7</th>\n",
       "      <td>6713-OKOMC</td>\n",
       "      <td>Female</td>\n",
       "      <td>0</td>\n",
       "      <td>No</td>\n",
       "      <td>No</td>\n",
       "      <td>10</td>\n",
       "      <td>No</td>\n",
       "      <td>No phone service</td>\n",
       "      <td>DSL</td>\n",
       "      <td>Yes</td>\n",
       "      <td>...</td>\n",
       "      <td>No</td>\n",
       "      <td>No</td>\n",
       "      <td>No</td>\n",
       "      <td>No</td>\n",
       "      <td>Month-to-month</td>\n",
       "      <td>No</td>\n",
       "      <td>Mailed check</td>\n",
       "      <td>29.75</td>\n",
       "      <td>301.9</td>\n",
       "      <td>No</td>\n",
       "    </tr>\n",
       "    <tr>\n",
       "      <th>8</th>\n",
       "      <td>7892-POOKP</td>\n",
       "      <td>Female</td>\n",
       "      <td>0</td>\n",
       "      <td>Yes</td>\n",
       "      <td>No</td>\n",
       "      <td>28</td>\n",
       "      <td>Yes</td>\n",
       "      <td>Yes</td>\n",
       "      <td>Fiber optic</td>\n",
       "      <td>No</td>\n",
       "      <td>...</td>\n",
       "      <td>Yes</td>\n",
       "      <td>Yes</td>\n",
       "      <td>Yes</td>\n",
       "      <td>Yes</td>\n",
       "      <td>Month-to-month</td>\n",
       "      <td>Yes</td>\n",
       "      <td>Electronic check</td>\n",
       "      <td>104.80</td>\n",
       "      <td>3046.05</td>\n",
       "      <td>Yes</td>\n",
       "    </tr>\n",
       "    <tr>\n",
       "      <th>9</th>\n",
       "      <td>6388-TABGU</td>\n",
       "      <td>Male</td>\n",
       "      <td>0</td>\n",
       "      <td>No</td>\n",
       "      <td>Yes</td>\n",
       "      <td>62</td>\n",
       "      <td>Yes</td>\n",
       "      <td>No</td>\n",
       "      <td>DSL</td>\n",
       "      <td>Yes</td>\n",
       "      <td>...</td>\n",
       "      <td>No</td>\n",
       "      <td>No</td>\n",
       "      <td>No</td>\n",
       "      <td>No</td>\n",
       "      <td>One year</td>\n",
       "      <td>No</td>\n",
       "      <td>Bank transfer (automatic)</td>\n",
       "      <td>56.15</td>\n",
       "      <td>3487.95</td>\n",
       "      <td>No</td>\n",
       "    </tr>\n",
       "  </tbody>\n",
       "</table>\n",
       "<p>10 rows × 21 columns</p>\n",
       "</div>"
      ],
      "text/plain": [
       "   customerID  gender  SeniorCitizen Partner Dependents  tenure PhoneService  \\\n",
       "0  7590-VHVEG  Female              0     Yes         No       1           No   \n",
       "1  5575-GNVDE    Male              0      No         No      34          Yes   \n",
       "2  3668-QPYBK    Male              0      No         No       2          Yes   \n",
       "3  7795-CFOCW    Male              0      No         No      45           No   \n",
       "4  9237-HQITU  Female              0      No         No       2          Yes   \n",
       "5  9305-CDSKC  Female              0      No         No       8          Yes   \n",
       "6  1452-KIOVK    Male              0      No        Yes      22          Yes   \n",
       "7  6713-OKOMC  Female              0      No         No      10           No   \n",
       "8  7892-POOKP  Female              0     Yes         No      28          Yes   \n",
       "9  6388-TABGU    Male              0      No        Yes      62          Yes   \n",
       "\n",
       "      MultipleLines InternetService OnlineSecurity  ... DeviceProtection  \\\n",
       "0  No phone service             DSL             No  ...               No   \n",
       "1                No             DSL            Yes  ...              Yes   \n",
       "2                No             DSL            Yes  ...               No   \n",
       "3  No phone service             DSL            Yes  ...              Yes   \n",
       "4                No     Fiber optic             No  ...               No   \n",
       "5               Yes     Fiber optic             No  ...              Yes   \n",
       "6               Yes     Fiber optic             No  ...               No   \n",
       "7  No phone service             DSL            Yes  ...               No   \n",
       "8               Yes     Fiber optic             No  ...              Yes   \n",
       "9                No             DSL            Yes  ...               No   \n",
       "\n",
       "  TechSupport StreamingTV StreamingMovies        Contract PaperlessBilling  \\\n",
       "0          No          No              No  Month-to-month              Yes   \n",
       "1          No          No              No        One year               No   \n",
       "2          No          No              No  Month-to-month              Yes   \n",
       "3         Yes          No              No        One year               No   \n",
       "4          No          No              No  Month-to-month              Yes   \n",
       "5          No         Yes             Yes  Month-to-month              Yes   \n",
       "6          No         Yes              No  Month-to-month              Yes   \n",
       "7          No          No              No  Month-to-month               No   \n",
       "8         Yes         Yes             Yes  Month-to-month              Yes   \n",
       "9          No          No              No        One year               No   \n",
       "\n",
       "               PaymentMethod MonthlyCharges  TotalCharges Churn  \n",
       "0           Electronic check          29.85         29.85    No  \n",
       "1               Mailed check          56.95        1889.5    No  \n",
       "2               Mailed check          53.85        108.15   Yes  \n",
       "3  Bank transfer (automatic)          42.30       1840.75    No  \n",
       "4           Electronic check          70.70        151.65   Yes  \n",
       "5           Electronic check          99.65         820.5   Yes  \n",
       "6    Credit card (automatic)          89.10        1949.4    No  \n",
       "7               Mailed check          29.75         301.9    No  \n",
       "8           Electronic check         104.80       3046.05   Yes  \n",
       "9  Bank transfer (automatic)          56.15       3487.95    No  \n",
       "\n",
       "[10 rows x 21 columns]"
      ]
     },
     "execution_count": 5,
     "metadata": {},
     "output_type": "execute_result"
    }
   ],
   "source": [
    "df.head(10)"
   ]
  },
  {
   "cell_type": "code",
   "execution_count": 9,
   "id": "a1028d67-8fff-424b-af4a-24e799b604db",
   "metadata": {
    "tags": []
   },
   "outputs": [
    {
     "name": "stdout",
     "output_type": "stream",
     "text": [
      "        Not Subscribed  Subscribed\n",
      "gender                            \n",
      "Female       73.079128   26.920872\n",
      "Male         73.839662   26.160338\n"
     ]
    }
   ],
   "source": [
    "# Count total and subscribed\n",
    "gender_analysis = df.groupby(\"gender\")['Churn'].value_counts(normalize=True).unstack()\n",
    "\n",
    "#rename columns\n",
    "gender_analysis.columns= [\"Not Subscribed\", \"Subscribed\"]\n",
    "gender_analysis *= 100\n",
    "print(gender_analysis)"
   ]
  },
  {
   "cell_type": "code",
   "execution_count": 11,
   "id": "6e839967-3d2d-4e04-99d4-9cec468210aa",
   "metadata": {
    "tags": []
   },
   "outputs": [
    {
     "data": {
      "image/png": "[encoded data removed]",
      "text/plain": [
       "<Figure size 640x480 with 1 Axes>"
      ]
     },
     "metadata": {},
     "output_type": "display_data"
    }
   ],
   "source": [
    "#plot the data\n",
    "\n",
    "sns.countplot(data=df, x = \"gender\", hue=\"Churn\")\n",
    "plt.title(\"Subscription Status by Gender\")\n",
    "plt.show()"
   ]
  },
  {
   "cell_type": "code",
   "execution_count": 13,
   "id": "2856961b-8441-4f19-bf57-7ffccde1eb70",
   "metadata": {
    "tags": []
   },
   "outputs": [
    {
     "name": "stdout",
     "output_type": "stream",
     "text": [
      "Chi2 Statistics: 0.4840828822091383\n",
      "P-value: 0.48657873605618596\n",
      "No significant relationship between Gender and Subscription.\n"
     ]
    }
   ],
   "source": [
    "# Determine whether the relationship is statistically significant, Using a Chi-Square Test.\n",
    "from scipy.stats import chi2_contingency\n",
    "\n",
    "#table\n",
    "contingency_table = pd.crosstab(df['gender'], df['Churn'])\n",
    "\n",
    "#perform chi- test\n",
    "chi2, p, dof, expected = chi2_contingency(contingency_table)\n",
    "\n",
    "print(f\"Chi2 Statistics: {chi2}\")\n",
    "print(f\"P-value: {p}\")\n",
    "\n",
    "if p < 0.05:\n",
    "    print(\"There is a significant relationship between Gender and Subscription.\")\n",
    "else:\n",
    "    print(\"No significant relationship between Gender and Subscription.\")"
   ]
  },
  {
   "cell_type": "markdown",
   "id": "6ba9859a-83c0-43a4-a443-b725383652dc",
   "metadata": {
    "tags": []
   },
   "source": [
    "Upon analyzing the churn data, I discovered that 74% of our female customers have unsubscribed, while 26% have churned. This indicates a significant customer retention issue that needs to be addressed.\n",
    "\n",
    "To tackle this business problem, I began by cleaning the dataset, ensuring that there were no data type inconsistencies or missing values. Following this, I investigated whether there was a statistically significant relationship between gender and churn using the chi-square test. However, the analysis revealed no significant relationship between gender and churn, indicating that churn behavior is not gender-dependent.\n",
    "\n",
    "Next, I explored the relationship between gender, online security, and churn. The findings showed that:\n",
    "\n",
    "-   20% of women who did not opt for online security had churned.\n",
    "\n",
    "-   28% of women without online security had not churned.\n",
    "\n",
    "-   21% of men without online security had churned.\n",
    "\n",
    "-   30% of men without online security had not churned.\n",
    "\n",
    "These insights suggest that a lack of online security may be influencing churn behavior, and offering online security as a service could be an effective retention strategy, particularly among female customers.\n",
    "\n",
    "Given these findings, I recommend further analysis into the impact of online security and other service features on churn, with a focus on targeted retention strategies for female customers and those without online security.\n",
    "\n"
   ]
  },
  {
   "cell_type": "markdown",
   "id": "044da144-2e60-4aef-b036-35b04c5ceb12",
   "metadata": {},
   "source": [
    "## Relationship between  gender, online security subscription and churn"
   ]
  },
  {
   "cell_type": "code",
   "execution_count": null,
   "id": "87aae0bc-b380-4898-80c1-503eb72e8974",
   "metadata": {},
   "outputs": [],
   "source": []
  },
  {
   "cell_type": "code",
   "execution_count": 16,
   "id": "78aa4a6b-a266-4e6d-be30-35ad01cfd133",
   "metadata": {
    "tags": []
   },
   "outputs": [
    {
     "data": {
      "text/html": [
       "<div>\n",
       "<style scoped>\n",
       "    .dataframe tbody tr th:only-of-type {\n",
       "        vertical-align: middle;\n",
       "    }\n",
       "\n",
       "    .dataframe tbody tr th {\n",
       "        vertical-align: top;\n",
       "    }\n",
       "\n",
       "    .dataframe thead th {\n",
       "        text-align: right;\n",
       "    }\n",
       "</style>\n",
       "<table border=\"1\" class=\"dataframe\">\n",
       "  <thead>\n",
       "    <tr style=\"text-align: right;\">\n",
       "      <th></th>\n",
       "      <th>customerID</th>\n",
       "      <th>gender</th>\n",
       "      <th>SeniorCitizen</th>\n",
       "      <th>Partner</th>\n",
       "      <th>Dependents</th>\n",
       "      <th>tenure</th>\n",
       "      <th>PhoneService</th>\n",
       "      <th>MultipleLines</th>\n",
       "      <th>InternetService</th>\n",
       "      <th>OnlineSecurity</th>\n",
       "      <th>...</th>\n",
       "      <th>DeviceProtection</th>\n",
       "      <th>TechSupport</th>\n",
       "      <th>StreamingTV</th>\n",
       "      <th>StreamingMovies</th>\n",
       "      <th>Contract</th>\n",
       "      <th>PaperlessBilling</th>\n",
       "      <th>PaymentMethod</th>\n",
       "      <th>MonthlyCharges</th>\n",
       "      <th>TotalCharges</th>\n",
       "      <th>Churn</th>\n",
       "    </tr>\n",
       "  </thead>\n",
       "  <tbody>\n",
       "    <tr>\n",
       "      <th>0</th>\n",
       "      <td>7590-VHVEG</td>\n",
       "      <td>Female</td>\n",
       "      <td>0</td>\n",
       "      <td>Yes</td>\n",
       "      <td>No</td>\n",
       "      <td>1</td>\n",
       "      <td>No</td>\n",
       "      <td>No phone service</td>\n",
       "      <td>DSL</td>\n",
       "      <td>No</td>\n",
       "      <td>...</td>\n",
       "      <td>No</td>\n",
       "      <td>No</td>\n",
       "      <td>No</td>\n",
       "      <td>No</td>\n",
       "      <td>Month-to-month</td>\n",
       "      <td>Yes</td>\n",
       "      <td>Electronic check</td>\n",
       "      <td>29.85</td>\n",
       "      <td>29.85</td>\n",
       "      <td>No</td>\n",
       "    </tr>\n",
       "  </tbody>\n",
       "</table>\n",
       "<p>1 rows × 21 columns</p>\n",
       "</div>"
      ],
      "text/plain": [
       "   customerID  gender  SeniorCitizen Partner Dependents  tenure PhoneService  \\\n",
       "0  7590-VHVEG  Female              0     Yes         No       1           No   \n",
       "\n",
       "      MultipleLines InternetService OnlineSecurity  ... DeviceProtection  \\\n",
       "0  No phone service             DSL             No  ...               No   \n",
       "\n",
       "  TechSupport StreamingTV StreamingMovies        Contract PaperlessBilling  \\\n",
       "0          No          No              No  Month-to-month              Yes   \n",
       "\n",
       "      PaymentMethod MonthlyCharges  TotalCharges Churn  \n",
       "0  Electronic check          29.85         29.85    No  \n",
       "\n",
       "[1 rows x 21 columns]"
      ]
     },
     "execution_count": 16,
     "metadata": {},
     "output_type": "execute_result"
    }
   ],
   "source": [
    "df.head(1)"
   ]
  },
  {
   "cell_type": "code",
   "execution_count": 18,
   "id": "e6911d8f-da23-4480-af35-293f3fef8052",
   "metadata": {
    "tags": []
   },
   "outputs": [
    {
     "name": "stdout",
     "output_type": "stream",
     "text": [
      "    gender       OnlineSecurity Churn  Count\n",
      "0   Female                   No    No    993\n",
      "1   Female                   No   Yes    721\n",
      "2   Female  No internet service    No    691\n",
      "3   Female  No internet service   Yes     56\n",
      "4   Female                  Yes    No    865\n",
      "5   Female                  Yes   Yes    162\n",
      "6     Male                   No    No   1044\n",
      "7     Male                   No   Yes    740\n",
      "8     Male  No internet service    No    722\n",
      "9     Male  No internet service   Yes     57\n",
      "10    Male                  Yes    No    859\n",
      "11    Male                  Yes   Yes    133\n"
     ]
    }
   ],
   "source": [
    "# Group by Gender, Online Security, and Subscribed\n",
    "gender_onelineSecurity_analysis = df.groupby([\"gender\", \"OnlineSecurity\", \"Churn\"]).size().reset_index(name='Count')\n",
    "\n",
    "print(gender_onelineSecurity_analysis)"
   ]
  },
  {
   "cell_type": "code",
   "execution_count": 20,
   "id": "c7deeec9-f27a-4564-b13b-c6960d95d77e",
   "metadata": {
    "tags": []
   },
   "outputs": [
    {
     "name": "stdout",
     "output_type": "stream",
     "text": [
      "    gender       OnlineSecurity Churn  percentage\n",
      "0   Female                   No    No   28.469037\n",
      "1   Female                   No   Yes   20.670872\n",
      "2   Female  No internet service    No   19.810780\n",
      "3   Female  No internet service   Yes    1.605505\n",
      "4   Female                  Yes    No   24.799312\n",
      "5   Female                  Yes   Yes    4.644495\n",
      "6     Male                   No    No   29.367089\n",
      "7     Male                   No   Yes   20.815752\n",
      "8     Male  No internet service    No   20.309423\n",
      "9     Male  No internet service   Yes    1.603376\n",
      "10    Male                  Yes    No   24.163150\n",
      "11    Male                  Yes   Yes    3.741210\n"
     ]
    },
    {
     "name": "stderr",
     "output_type": "stream",
     "text": [
      "/var/folders/2c/hpk9j8md6h71406dzkc5_w1m0000gn/T/ipykernel_1452/687907869.py:1: FutureWarning: Not prepending group keys to the result index of transform-like apply. In the future, the group keys will be included in the index, regardless of whether the applied function returns a like-indexed object.\n",
      "To preserve the previous behavior, use\n",
      "\n",
      "\t>>> .groupby(..., group_keys=False)\n",
      "\n",
      "To adopt the future behavior and silence this warning, use \n",
      "\n",
      "\t>>> .groupby(..., group_keys=True)\n",
      "  gender_onelineSecurity_analysis_percent = df.groupby([\"gender\", \"OnlineSecurity\", \"Churn\"]).size().groupby(level=0).apply(lambda x: 100 * x / x.sum()).reset_index(name=\"percentage\")\n"
     ]
    }
   ],
   "source": [
    "gender_onelineSecurity_analysis_percent = df.groupby([\"gender\", \"OnlineSecurity\", \"Churn\"]).size().groupby(level=0).apply(lambda x: 100 * x / x.sum()).reset_index(name=\"percentage\")\n",
    "print(gender_onelineSecurity_analysis_percent)"
   ]
  },
  {
   "cell_type": "code",
   "execution_count": 22,
   "id": "8f1cfcf3-2adc-4a3d-9ded-4565b3bf9cef",
   "metadata": {
    "tags": []
   },
   "outputs": [
    {
     "name": "stdout",
     "output_type": "stream",
     "text": [
      "Churn                         No  Yes\n",
      "gender OnlineSecurity                \n",
      "Female No                    993  721\n",
      "       No internet service   691   56\n",
      "       Yes                   865  162\n",
      "Male   No                   1044  740\n",
      "       No internet service   722   57\n",
      "       Yes                   859  133\n"
     ]
    }
   ],
   "source": [
    "# pivot\n",
    "pivot = pd.pivot_table(df,\n",
    "                      index=[\"gender\", \"OnlineSecurity\"],\n",
    "                      columns=\"Churn\",\n",
    "                      aggfunc='size',\n",
    "                      fill_value=0)\n",
    "print(pivot)"
   ]
  },
  {
   "cell_type": "code",
   "execution_count": 24,
   "id": "54fbdaf5-4d11-415a-9b69-da0fe0856ba3",
   "metadata": {
    "tags": []
   },
   "outputs": [
    {
     "data": {
      "image/png": "[encoded data removed]",
      "text/plain": [
       "<Figure size 640x480 with 2 Axes>"
      ]
     },
     "metadata": {},
     "output_type": "display_data"
    }
   ],
   "source": [
    "#heatmap data\n",
    "heatmap_data = pivot\n",
    "# heatmap plot \n",
    "sns.heatmap(heatmap_data, annot=True, cmap='coolwarm', fmt='d')\n",
    "plt.title('Relationship Between Gender, Online Security, and Subscription')\n",
    "plt.show()"
   ]
  },
  {
   "cell_type": "code",
   "execution_count": 26,
   "id": "42ab52c5-d808-481c-982b-6dcd98209448",
   "metadata": {
    "tags": []
   },
   "outputs": [
    {
     "data": {
      "image/png": "[encoded data removed]",
      "text/plain": [
       "<Figure size 1000x600 with 1 Axes>"
      ]
     },
     "metadata": {},
     "output_type": "display_data"
    }
   ],
   "source": [
    "# grouping data\n",
    "plot_data = df.groupby([\"gender\",\"OnlineSecurity\", \"Churn\"]).size().unstack()\n",
    "\n",
    "#plot stacked bar plot\n",
    "plot_data.plot(kind='bar', stacked=True, figsize=(10, 6))\n",
    "plt.title('Subscription Status by Gender and Online Security')\n",
    "plt.ylabel('Count')\n",
    "plt.show()"
   ]
  },
  {
   "cell_type": "code",
   "execution_count": 28,
   "id": "35403a47-ae4e-41b7-bc75-42b277d9f90b",
   "metadata": {
    "tags": []
   },
   "outputs": [
    {
     "name": "stdout",
     "output_type": "stream",
     "text": [
      "Chi2 Statistics: 851.6089902160829\n",
      "P-Value: 7.891609296321905e-182\n",
      "There is a significant relationship between Gender, Online Security, and Subscription.\n"
     ]
    }
   ],
   "source": [
    "# statistical analysis\n",
    "\n",
    "contingency_table = pd.crosstab([df['gender'], df['OnlineSecurity']], df['Churn'])\n",
    "\n",
    "# perform chi test\n",
    "chi2, p, dof, expected = chi2_contingency(contingency_table)\n",
    "\n",
    "print(f\"Chi2 Statistics: {chi2}\")\n",
    "print(f\"P-Value: {p}\")\n",
    "\n",
    "if p < 0.05:\n",
    "    print(\"There is a significant relationship between Gender, Online Security, and Subscription.\")\n",
    "else:\n",
    "    print(\"No significant relationship between these variables.\")"
   ]
  },
  {
   "cell_type": "markdown",
   "id": "dab1ca5c-8a94-444e-953c-0fd0caacc75f",
   "metadata": {},
   "source": [
    "Gender and Online Security influence Churn:\n",
    "\n",
    "-   The significant result suggests that the combination of a person's gender and whether they have opted for Online Security influences their likelihood of Churn (Yes or No).\n",
    "\n",
    "Online Security likely reduces churn:\n",
    "\n",
    "-   Observing the raw data:\n",
    "\n",
    "-   Customers with Online Security = Yes have lower churn rates (e.g., Female: 865 No Churn vs. 162 Churn; Male: 859 No Churn vs. 133 Churn).\n",
    "\n",
    "-   Customers with Online Security = No have relatively higher churn rates (e.g., Female: 993 No Churn vs. 721 Churn; Male: 1044 No Churn vs. 740 Churn).\n",
    "\n",
    "-   This indicates that opting for Online Security might make customers less likely to churn.\n",
    "\n",
    "No Internet Service Customers:\n",
    "\n",
    "-   Both genders with \"No Internet Service\" have very low churn rates (e.g., Female: 691 No Churn vs. 56 Churn; Male: 722 No Churn vs. 57 Churn).\n",
    "\n",
    "-   This may suggest that \"No Internet Service\" customers are not heavily engaged or are less likely to churn for other reasons.\n",
    "\n",
    "Gender-Specific Behavior:\n",
    "\n",
    "-   The distribution of churn between male and female customers is different.\n",
    "\n",
    "-   Female churn is slightly lower in some cases (e.g., Female Online Security: Yes, 162 churn; Male Online Security: Yes, 133 churn).\n",
    "\n",
    "### Business Recommendations:\n",
    "\n",
    "1.  Promote Online Security Services:\n",
    "\n",
    "-   Customers with Online Security churn less. Encourage customers, especially those without it, to opt for these services.\n",
    "\n",
    "3.  Focus on Male Customers Without Security:\n",
    "\n",
    "-   Males without Online Security have relatively high churn rates. Target them with retention campaigns or offers for Online Security.\n",
    "\n",
    "5.  Retain Low-Risk Customers:\n",
    "\n",
    "-   Ensure \"No Internet Service\" customers remain satisfied, even though their churn rates are low."
   ]
  },
  {
   "cell_type": "code",
   "execution_count": null,
   "id": "41c3752a-3d1f-4f27-806e-f169508c66c5",
   "metadata": {},
   "outputs": [],
   "source": []
  },
  {
   "cell_type": "markdown",
   "id": "1c69af13-4a18-41ba-ad8f-c34c70bf2930",
   "metadata": {},
   "source": [
    "### Relationship between three categorical variables, like Gender, Device Protection (Yes/No), and Subscribed (Yes/No)"
   ]
  },
  {
   "cell_type": "code",
   "execution_count": 31,
   "id": "1e117d83-062d-4266-8c0e-85edbfe567f2",
   "metadata": {
    "tags": []
   },
   "outputs": [
    {
     "name": "stdout",
     "output_type": "stream",
     "text": [
      "    gender     DeviceProtection Churn  Count\n",
      "0   Female                   No    No    922\n",
      "1   Female                   No   Yes    616\n",
      "2   Female  No internet service    No    691\n",
      "3   Female  No internet service   Yes     56\n",
      "4   Female                  Yes    No    936\n",
      "5   Female                  Yes   Yes    267\n",
      "6     Male                   No    No    962\n",
      "7     Male                   No   Yes    595\n",
      "8     Male  No internet service    No    722\n",
      "9     Male  No internet service   Yes     57\n",
      "10    Male                  Yes    No    941\n",
      "11    Male                  Yes   Yes    278\n"
     ]
    }
   ],
   "source": [
    "grouped = df.groupby([\"gender\", \"DeviceProtection\", \"Churn\"]).size().reset_index(name='Count')\n",
    "\n",
    "print(grouped)"
   ]
  },
  {
   "cell_type": "code",
   "execution_count": 33,
   "id": "c9682183-c7f5-4e02-8991-3baa7d95db97",
   "metadata": {
    "tags": []
   },
   "outputs": [
    {
     "name": "stdout",
     "output_type": "stream",
     "text": [
      "    gender     DeviceProtection Churn  Percentage\n",
      "0   Female                   No    No   26.433486\n",
      "1   Female                   No   Yes   17.660550\n",
      "2   Female  No internet service    No   19.810780\n",
      "3   Female  No internet service   Yes    1.605505\n",
      "4   Female                  Yes    No   26.834862\n",
      "5   Female                  Yes   Yes    7.654817\n",
      "6     Male                   No    No   27.060478\n",
      "7     Male                   No   Yes   16.736990\n",
      "8     Male  No internet service    No   20.309423\n",
      "9     Male  No internet service   Yes    1.603376\n",
      "10    Male                  Yes    No   26.469761\n",
      "11    Male                  Yes   Yes    7.819972\n"
     ]
    },
    {
     "name": "stderr",
     "output_type": "stream",
     "text": [
      "/var/folders/2c/hpk9j8md6h71406dzkc5_w1m0000gn/T/ipykernel_1452/2378332618.py:2: FutureWarning: Not prepending group keys to the result index of transform-like apply. In the future, the group keys will be included in the index, regardless of whether the applied function returns a like-indexed object.\n",
      "To preserve the previous behavior, use\n",
      "\n",
      "\t>>> .groupby(..., group_keys=False)\n",
      "\n",
      "To adopt the future behavior and silence this warning, use \n",
      "\n",
      "\t>>> .groupby(..., group_keys=True)\n",
      "  grouped_percentage = df.groupby([\"gender\", \"DeviceProtection\", \"Churn\"]).size().groupby(level=0).apply(lambda x: 100 * x / x.sum()).reset_index(name='Percentage')\n"
     ]
    }
   ],
   "source": [
    "# normalise the data to get percentage\n",
    "grouped_percentage = df.groupby([\"gender\", \"DeviceProtection\", \"Churn\"]).size().groupby(level=0).apply(lambda x: 100 * x / x.sum()).reset_index(name='Percentage')\n",
    "print(grouped_percentage)"
   ]
  },
  {
   "cell_type": "code",
   "execution_count": 35,
   "id": "e2a6b0f7-f19f-4755-858c-0772cabdf57a",
   "metadata": {
    "tags": []
   },
   "outputs": [
    {
     "name": "stdout",
     "output_type": "stream",
     "text": [
      "Churn                        No  Yes\n",
      "gender DeviceProtection             \n",
      "Female No                   922  616\n",
      "       No internet service  691   56\n",
      "       Yes                  936  267\n",
      "Male   No                   962  595\n",
      "       No internet service  722   57\n",
      "       Yes                  941  278\n"
     ]
    }
   ],
   "source": [
    "# pivoting for insights \n",
    "pivot = pd.pivot_table(df,\n",
    "                      index=[\"gender\", \"DeviceProtection\"],\n",
    "                      columns='Churn',\n",
    "                      aggfunc='size',\n",
    "                      fill_value=0)\n",
    "print(pivot)"
   ]
  },
  {
   "cell_type": "code",
   "execution_count": 37,
   "id": "4d2e5b67-c519-4c9e-8dae-8fb38b8ed886",
   "metadata": {
    "tags": []
   },
   "outputs": [
    {
     "data": {
      "text/plain": [
       "array(['No', 'Yes', 'No internet service'], dtype=object)"
      ]
     },
     "execution_count": 37,
     "metadata": {},
     "output_type": "execute_result"
    }
   ],
   "source": [
    "df[\"DeviceProtection\"].unique() # just checking my column values"
   ]
  },
  {
   "cell_type": "code",
   "execution_count": 39,
   "id": "91f98951-5683-4c61-8947-9006b662449e",
   "metadata": {
    "tags": []
   },
   "outputs": [
    {
     "data": {
      "image/png": "[encoded data removed]",
      "text/plain": [
       "<Figure size 640x480 with 2 Axes>"
      ]
     },
     "metadata": {},
     "output_type": "display_data"
    }
   ],
   "source": [
    "heatmap_data = pivot\n",
    "# plotting\n",
    "sns.heatmap(heatmap_data, annot=True, cmap='Blues', fmt='d')\n",
    "plt.title('Relationship Between Gender, Device Protection, and Subscription')\n",
    "plt.show()"
   ]
  },
  {
   "cell_type": "code",
   "execution_count": 41,
   "id": "9728468c-cc65-405e-8496-c117dafda886",
   "metadata": {
    "tags": []
   },
   "outputs": [
    {
     "data": {
      "image/png": "[encoded data removed]",
      "text/plain": [
       "<Figure size 1000x600 with 1 Axes>"
      ]
     },
     "metadata": {},
     "output_type": "display_data"
    }
   ],
   "source": [
    "# stacked bar plot \n",
    "# grouping data\n",
    "plot_data = df.groupby([\"gender\", \"DeviceProtection\", \"Churn\"]).size().unstack()\n",
    "\n",
    "# plot\n",
    "plot_data.plot(kind='bar', stacked=True, figsize=(10, 6))\n",
    "plt.title('Subscription Status by Gender and Device Protection')\n",
    "plt.ylabel('Count')\n",
    "plt.show()"
   ]
  },
  {
   "cell_type": "code",
   "execution_count": 43,
   "id": "9bd7651e-a554-46ff-9bfa-f0fde63ee0e4",
   "metadata": {
    "tags": []
   },
   "outputs": [
    {
     "name": "stdout",
     "output_type": "stream",
     "text": [
      "Chi2 Statistic: 559.8816919097478\n",
      "P-value: 9.386928987520602e-119\n",
      "There is a significant relationship between Gender, Device Protection, and Subscription.\n"
     ]
    }
   ],
   "source": [
    "# stat analysis\n",
    "contingency_table = pd.crosstab([df['gender'], df['DeviceProtection']], df[\"Churn\"])\n",
    "\n",
    "# perform chi test\n",
    "chi2, p, dof, expected = chi2_contingency(contingency_table)\n",
    "\n",
    "print(f\"Chi2 Statistic: {chi2}\")\n",
    "print(f\"P-value: {p}\")\n",
    "\n",
    "if p < 0.05:\n",
    "    print(\"There is a significant relationship between Gender, Device Protection, and Subscription.\")\n",
    "else:\n",
    "    print(\"No significant relationship between these variables.\")"
   ]
  },
  {
   "cell_type": "markdown",
   "id": "e217b188-f121-4bf6-9bfa-4242c3a2e16f",
   "metadata": {},
   "source": [
    "Relationship between three categorical variables, like Gender, Device Protection (Yes/No), and Subscribed (Yes/No)\n",
    "\n",
    "### Insights:\n",
    "\n",
    "#### 1\\. Device Protection Reduces Churn:\n",
    "\n",
    "-   Customers who have opted for Device Protection = Yes have lower churn rates across both genders:\n",
    "\n",
    "-   Female: 26.83% (No Churn) vs. 7.65% (Churn).\n",
    "\n",
    "-   Male: 26.47% (No Churn) vs. 7.82% (Churn).\n",
    "\n",
    "-   This indicates that customers with Device Protection are less likely to churn, likely due to the perceived value of this service.\n",
    "\n",
    "#### 2\\. Customers Without Device Protection are More Likely to Churn:\n",
    "\n",
    "-   Customers with Device Protection = No have higher churn rates:\n",
    "\n",
    "-   Female: 26.43% (No Churn) vs. 17.66% (Churn).\n",
    "\n",
    "-   Male: 27.06% (No Churn) vs. 16.73% (Churn).\n",
    "\n",
    "-   This shows that customers without Device Protection are at a greater risk of leaving.\n",
    "\n",
    "#### 3\\. No Internet Service Customers Show Low Churn:\n",
    "\n",
    "-   Customers with No Internet Service exhibit very low churn rates:\n",
    "\n",
    "-   Female: 19.81% (No Churn) vs. 1.60% (Churn).\n",
    "\n",
    "-   Male: 20.31% (No Churn) vs. 1.60% (Churn).\n",
    "\n",
    "-   These customers might already be disengaged, and churn is less relevant for them.\n",
    "\n",
    "#### 4\\. Gender Differences are Minimal:\n",
    "\n",
    "-   The percentage distributions are similar across genders:\n",
    "\n",
    "-   Females and males have comparable churn behaviors in each Device Protection category.\n",
    "\n",
    "### Recommendations:\n",
    "\n",
    "1.  Encourage Device Protection Subscription:\n",
    "\n",
    "-   Customers with Device Protection are less likely to churn. Launch marketing campaigns emphasizing the benefits of Device Protection, especially targeting customers who haven't opted for it.\n",
    "\n",
    "3.  Retention Focus on \"No Protection\" Users:\n",
    "\n",
    "-   Focus on retaining customers who do not have Device Protection. Offer promotions, discounts, or bundled packages to incentivize adoption.\n",
    "\n",
    "5.  Monitor \"No Internet Service\" Customers:\n",
    "\n",
    "-   Although churn is low in this segment, engagement might also be low. Ensure these customers remain satisfied to prevent future churn risks.\n",
    "\n",
    "7.  Segmented Retention Strategies by Gender:\n",
    "\n",
    "-   While gender differences are minimal, targeted messaging for males and females (e.g., ads tailored to preferences) could still improve engagement."
   ]
  },
  {
   "cell_type": "code",
   "execution_count": null,
   "id": "4f667a7a-4dc6-44d5-b223-728ba44c14ce",
   "metadata": {},
   "outputs": [],
   "source": []
  },
  {
   "cell_type": "markdown",
   "id": "25490812-b715-44f9-9766-0e4144f32516",
   "metadata": {
    "tags": []
   },
   "source": [
    "### Relationship between three categorical variables, like Gender, TechSupport (Yes/No), and Subscribed (Yes/No)"
   ]
  },
  {
   "cell_type": "code",
   "execution_count": 46,
   "id": "361facf8-f10b-4897-b664-317529c5fc75",
   "metadata": {
    "tags": []
   },
   "outputs": [
    {
     "name": "stdout",
     "output_type": "stream",
     "text": [
      "    gender          TechSupport Churn  Count\n",
      "0   Female                   No    No    996\n",
      "1   Female                   No   Yes    718\n",
      "2   Female  No internet service    No    691\n",
      "3   Female  No internet service   Yes     56\n",
      "4   Female                  Yes    No    862\n",
      "5   Female                  Yes   Yes    165\n",
      "6     Male                   No    No   1031\n",
      "7     Male                   No   Yes    728\n",
      "8     Male  No internet service    No    722\n",
      "9     Male  No internet service   Yes     57\n",
      "10    Male                  Yes    No    872\n",
      "11    Male                  Yes   Yes    145\n"
     ]
    }
   ],
   "source": [
    "grouped = df.groupby([\"gender\", \"TechSupport\", \"Churn\"]).size().reset_index(name='Count')\n",
    "\n",
    "print(grouped)"
   ]
  },
  {
   "cell_type": "code",
   "execution_count": 48,
   "id": "95ffeb54-ae64-4e93-9dfa-8366ed3866c9",
   "metadata": {
    "tags": []
   },
   "outputs": [
    {
     "name": "stdout",
     "output_type": "stream",
     "text": [
      "    gender          TechSupport Churn  Percentage\n",
      "0   Female                   No    No   28.555046\n",
      "1   Female                   No   Yes   20.584862\n",
      "2   Female  No internet service    No   19.810780\n",
      "3   Female  No internet service   Yes    1.605505\n",
      "4   Female                  Yes    No   24.713303\n",
      "5   Female                  Yes   Yes    4.730505\n",
      "6     Male                   No    No   29.001406\n",
      "7     Male                   No   Yes   20.478200\n",
      "8     Male  No internet service    No   20.309423\n",
      "9     Male  No internet service   Yes    1.603376\n",
      "10    Male                  Yes    No   24.528833\n",
      "11    Male                  Yes   Yes    4.078762\n"
     ]
    },
    {
     "name": "stderr",
     "output_type": "stream",
     "text": [
      "/var/folders/2c/hpk9j8md6h71406dzkc5_w1m0000gn/T/ipykernel_1452/4004558237.py:1: FutureWarning: Not prepending group keys to the result index of transform-like apply. In the future, the group keys will be included in the index, regardless of whether the applied function returns a like-indexed object.\n",
      "To preserve the previous behavior, use\n",
      "\n",
      "\t>>> .groupby(..., group_keys=False)\n",
      "\n",
      "To adopt the future behavior and silence this warning, use \n",
      "\n",
      "\t>>> .groupby(..., group_keys=True)\n",
      "  grouped_percentage = df.groupby([\"gender\", \"TechSupport\", \"Churn\"]).size().groupby(level=0).apply(lambda x: 100 * x / x.sum()).reset_index(name='Percentage')\n"
     ]
    }
   ],
   "source": [
    "grouped_percentage = df.groupby([\"gender\", \"TechSupport\", \"Churn\"]).size().groupby(level=0).apply(lambda x: 100 * x / x.sum()).reset_index(name='Percentage')\n",
    "print(grouped_percentage)"
   ]
  },
  {
   "cell_type": "code",
   "execution_count": 50,
   "id": "4e5fff7c-6bb9-48ec-a503-53a57306fb26",
   "metadata": {
    "tags": []
   },
   "outputs": [
    {
     "name": "stdout",
     "output_type": "stream",
     "text": [
      "Churn                         No  Yes\n",
      "gender TechSupport                   \n",
      "Female No                    996  718\n",
      "       No internet service   691   56\n",
      "       Yes                   862  165\n",
      "Male   No                   1031  728\n",
      "       No internet service   722   57\n",
      "       Yes                   872  145\n"
     ]
    }
   ],
   "source": [
    "# pivoting for insights \n",
    "pivot = pd.pivot_table(df,\n",
    "                      index=[\"gender\", \"TechSupport\"],\n",
    "                      columns='Churn',\n",
    "                      aggfunc='size',\n",
    "                      fill_value=0)\n",
    "print(pivot)"
   ]
  },
  {
   "cell_type": "code",
   "execution_count": 52,
   "id": "6d995be3-552f-4989-8576-b79800bb9fbd",
   "metadata": {
    "tags": []
   },
   "outputs": [
    {
     "data": {
      "image/png": "[encoded data removed]",
      "text/plain": [
       "<Figure size 640x480 with 2 Axes>"
      ]
     },
     "metadata": {},
     "output_type": "display_data"
    }
   ],
   "source": [
    "heatmap_data = pivot\n",
    "# plotting\n",
    "sns.heatmap(heatmap_data, annot=True, cmap='Blues', fmt='d')\n",
    "plt.title('Relationship Between Gender, TechSupport, and Subscription')\n",
    "plt.show()"
   ]
  },
  {
   "cell_type": "code",
   "execution_count": 54,
   "id": "9e430ac6-f977-4103-84b2-59f3da7b97e3",
   "metadata": {
    "tags": []
   },
   "outputs": [
    {
     "name": "stdout",
     "output_type": "stream",
     "text": [
      "Chi2 Statistic: 829.1734902407562\n",
      "P-value: 5.6444495774360696e-177\n",
      "There is a significant relationship between Gender, TechSupport, and Subscription.\n"
     ]
    }
   ],
   "source": [
    "# stat analysis\n",
    "contingency_table = pd.crosstab([df['gender'], df['TechSupport']], df[\"Churn\"])\n",
    "\n",
    "# perform chi test\n",
    "chi2, p, dof, expected = chi2_contingency(contingency_table)\n",
    "\n",
    "print(f\"Chi2 Statistic: {chi2}\")\n",
    "print(f\"P-value: {p}\")\n",
    "\n",
    "if p < 0.05:\n",
    "    print(\"There is a significant relationship between Gender, TechSupport, and Subscription.\")\n",
    "else:\n",
    "    print(\"No significant relationship between these variables.\")"
   ]
  },
  {
   "cell_type": "code",
   "execution_count": null,
   "id": "8f3904c3-fa8b-4340-b803-b8051462f23b",
   "metadata": {},
   "outputs": [],
   "source": []
  },
  {
   "cell_type": "code",
   "execution_count": 57,
   "id": "57e38f5d-2277-4580-b8ed-4e3d0743c369",
   "metadata": {
    "tags": []
   },
   "outputs": [
    {
     "name": "stdout",
     "output_type": "stream",
     "text": [
      "    gender          StreamingTV Churn  Count\n",
      "0   Female                   No    No    905\n",
      "1   Female                   No   Yes    481\n",
      "2   Female  No internet service    No    691\n",
      "3   Female  No internet service   Yes     56\n",
      "4   Female                  Yes    No    953\n",
      "5   Female                  Yes   Yes    402\n",
      "6     Male                   No    No    963\n",
      "7     Male                   No   Yes    461\n",
      "8     Male  No internet service    No    722\n",
      "9     Male  No internet service   Yes     57\n",
      "10    Male                  Yes    No    940\n",
      "11    Male                  Yes   Yes    412\n"
     ]
    }
   ],
   "source": [
    "grouped = df.groupby([\"gender\", \"StreamingTV\", \"Churn\"]).size().reset_index(name='Count')\n",
    "\n",
    "print(grouped)"
   ]
  },
  {
   "cell_type": "code",
   "execution_count": 59,
   "id": "deff9943-eb2c-410b-afd8-bca6dfef0ef6",
   "metadata": {
    "tags": []
   },
   "outputs": [
    {
     "name": "stdout",
     "output_type": "stream",
     "text": [
      "Chi2 Statistic: 376.3924166555959\n",
      "P-value: 3.623783080343316e-79\n",
      "There is a significant relationship between Gender, StreamingTV, and Subscription.\n"
     ]
    }
   ],
   "source": [
    "# stat analysis\n",
    "contingency_table = pd.crosstab([df['gender'], df['StreamingTV']], df[\"Churn\"])\n",
    "\n",
    "# perform chi test\n",
    "chi2, p, dof, expected = chi2_contingency(contingency_table)\n",
    "\n",
    "print(f\"Chi2 Statistic: {chi2}\")\n",
    "print(f\"P-value: {p}\")\n",
    "\n",
    "if p < 0.05:\n",
    "    print(\"There is a significant relationship between Gender, StreamingTV, and Subscription.\")\n",
    "else:\n",
    "    print(\"No significant relationship between these variables.\")"
   ]
  },
  {
   "cell_type": "markdown",
   "id": "406061e3-fd37-4249-bbca-9cd797011914",
   "metadata": {},
   "source": [
    "Relationship between three categorical variables, like Gender, TechSupport (Yes/No), and Subscribed (Yes/No)\n",
    "\n",
    "\n",
    "Insights:\n",
    "1. Tech Support Reduces Churn:\n",
    "Customers who have opted for Tech Support = Yes have lower churn rates:\n",
    "Female: 24.71% (No Churn) vs. 4.73% (Churn).\n",
    "Male: 24.52% (No Churn) vs. 4.08% (Churn).\n",
    "This indicates that customers with active Tech Support are significantly less likely to churn, possibly due to improved service satisfaction or perceived value.\n",
    "2. Customers Without Tech Support are More Likely to Churn:\n",
    "Customers with Tech Support = No have higher churn rates:\n",
    "Female: 28.56% (No Churn) vs. 20.58% (Churn).\n",
    "Male: 29.00% (No Churn) vs. 20.48% (Churn).\n",
    "This highlights the importance of Tech Support in reducing churn rates, as customers without it show higher churn tendencies.\n",
    "3. No Internet Service Customers Exhibit Minimal Churn:\n",
    "Customers with No Internet Service show low churn rates:\n",
    "Female: 19.81% (No Churn) vs. 1.61% (Churn).\n",
    "Male: 20.31% (No Churn) vs. 1.60% (Churn).\n",
    "These customers may already have minimal engagement with the company, leading to lower churn.\n",
    "4. Gender Differences are Minimal:\n",
    "Both genders exhibit similar churn behaviors within each Tech Support category:\n",
    "For instance, the difference in churn rates between males and females for Tech Support = Yes is marginal (4.73% vs. 4.08%).\n",
    "Recommendations:\n",
    "1. Encourage Tech Support Subscriptions:\n",
    "Since customers with Tech Support are less likely to churn, focus on promoting this service to customers without it through:\n",
    "Discounts or trial periods.\n",
    "Bundled packages with other services.\n",
    "Marketing campaigns emphasizing the benefits of Tech Support.\n",
    "2. Target High-Risk Groups:\n",
    "Customers without Tech Support exhibit higher churn rates. Implement targeted retention strategies, such as personalized offers or loyalty rewards, to reduce churn in this group.\n",
    "3. Engage \"No Internet Service\" Customers:\n",
    "Although churn is low in this segment, these customers might have limited engagement with the company. Introduce tailored offerings or incentives to maintain their loyalty.\n",
    "4. Gender-Neutral Strategies:\n",
    "Gender differences are minimal, suggesting that similar strategies can be applied across both male and female customer groups.\n"
   ]
  },
  {
   "cell_type": "code",
   "execution_count": null,
   "id": "14abba80-8860-449f-ae7f-1cc2426d8cbb",
   "metadata": {},
   "outputs": [],
   "source": []
  },
  {
   "cell_type": "markdown",
   "id": "53820297-0110-486b-9002-5ee4064aa607",
   "metadata": {},
   "source": [
    "### Relationship between three categorical variables, like Gender, contract type (Month-to-month / One year / Two year), and Subscribed (Yes/No)"
   ]
  },
  {
   "cell_type": "code",
   "execution_count": 62,
   "id": "75916a48-03d8-4060-8c79-ea2b0e22d8bc",
   "metadata": {
    "tags": []
   },
   "outputs": [
    {
     "name": "stdout",
     "output_type": "stream",
     "text": [
      "    gender        Contract Churn  Count\n",
      "0   Female  Month-to-month    No   1083\n",
      "1   Female  Month-to-month   Yes    842\n",
      "2   Female        One year    No    643\n",
      "3   Female        One year   Yes     75\n",
      "4   Female        Two year    No    823\n",
      "5   Female        Two year   Yes     22\n",
      "6     Male  Month-to-month    No   1137\n",
      "7     Male  Month-to-month   Yes    813\n",
      "8     Male        One year    No    664\n",
      "9     Male        One year   Yes     91\n",
      "10    Male        Two year    No    824\n",
      "11    Male        Two year   Yes     26\n"
     ]
    }
   ],
   "source": [
    "grouped = df.groupby([\"gender\", \"Contract\", \"Churn\"]).size().reset_index(name='Count')\n",
    "\n",
    "print(grouped)"
   ]
  },
  {
   "cell_type": "code",
   "execution_count": 64,
   "id": "2df0fa6c-0d59-443d-a808-af3d9c663f89",
   "metadata": {
    "tags": []
   },
   "outputs": [
    {
     "name": "stdout",
     "output_type": "stream",
     "text": [
      "    gender        Contract Churn  Percentage\n",
      "0   Female  Month-to-month    No   31.049312\n",
      "1   Female  Month-to-month   Yes   24.139908\n",
      "2   Female        One year    No   18.434633\n",
      "3   Female        One year   Yes    2.150229\n",
      "4   Female        Two year    No   23.595183\n",
      "5   Female        Two year   Yes    0.630734\n",
      "6     Male  Month-to-month    No   31.983122\n",
      "7     Male  Month-to-month   Yes   22.869198\n",
      "8     Male        One year    No   18.677918\n",
      "9     Male        One year   Yes    2.559775\n",
      "10    Male        Two year    No   23.178622\n",
      "11    Male        Two year   Yes    0.731364\n"
     ]
    },
    {
     "name": "stderr",
     "output_type": "stream",
     "text": [
      "/var/folders/2c/hpk9j8md6h71406dzkc5_w1m0000gn/T/ipykernel_1452/3794666357.py:2: FutureWarning: Not prepending group keys to the result index of transform-like apply. In the future, the group keys will be included in the index, regardless of whether the applied function returns a like-indexed object.\n",
      "To preserve the previous behavior, use\n",
      "\n",
      "\t>>> .groupby(..., group_keys=False)\n",
      "\n",
      "To adopt the future behavior and silence this warning, use \n",
      "\n",
      "\t>>> .groupby(..., group_keys=True)\n",
      "  grouped_percentage = df.groupby([\"gender\", \"Contract\", \"Churn\"]).size().groupby(level=0).apply(lambda x: 100 * x / x.sum()).reset_index(name='Percentage')\n"
     ]
    }
   ],
   "source": [
    "# normalise the data to get percentage\n",
    "grouped_percentage = df.groupby([\"gender\", \"Contract\", \"Churn\"]).size().groupby(level=0).apply(lambda x: 100 * x / x.sum()).reset_index(name='Percentage')\n",
    "print(grouped_percentage)"
   ]
  },
  {
   "cell_type": "code",
   "execution_count": 66,
   "id": "d6bd5354-3a25-48fb-b869-f4dc580aeb99",
   "metadata": {
    "tags": []
   },
   "outputs": [
    {
     "name": "stdout",
     "output_type": "stream",
     "text": [
      "Churn                    No  Yes\n",
      "gender Contract                 \n",
      "Female Month-to-month  1083  842\n",
      "       One year         643   75\n",
      "       Two year         823   22\n",
      "Male   Month-to-month  1137  813\n",
      "       One year         664   91\n",
      "       Two year         824   26\n"
     ]
    }
   ],
   "source": [
    "# pivoting for insights \n",
    "pivot = pd.pivot_table(df,\n",
    "                      index=[\"gender\", \"Contract\"],\n",
    "                      columns='Churn',\n",
    "                      aggfunc='size',\n",
    "                      fill_value=0)\n",
    "print(pivot)"
   ]
  },
  {
   "cell_type": "code",
   "execution_count": 68,
   "id": "0103cae2-fd2d-4611-9277-2ab14d633cc6",
   "metadata": {
    "tags": []
   },
   "outputs": [
    {
     "data": {
      "image/png": "[encoded data removed]",
      "text/plain": [
       "<Figure size 640x480 with 2 Axes>"
      ]
     },
     "metadata": {},
     "output_type": "display_data"
    }
   ],
   "source": [
    "heatmap_data = pivot\n",
    "# plotting\n",
    "sns.heatmap(heatmap_data, annot=True, cmap='Blues', fmt='d')\n",
    "plt.title('Relationship Between Gender, Contract, and Subscription')\n",
    "plt.show()"
   ]
  },
  {
   "cell_type": "code",
   "execution_count": 70,
   "id": "a504f6da-f765-4ae7-a8a6-d96d9c7be194",
   "metadata": {
    "tags": []
   },
   "outputs": [
    {
     "name": "stdout",
     "output_type": "stream",
     "text": [
      "Chi2 Statistic: 1187.2133851056328\n",
      "P-value: 1.7282157299952124e-254\n",
      "There is a significant relationship between Gender, Contract, and Subscription.\n"
     ]
    }
   ],
   "source": [
    "# stat analysis\n",
    "contingency_table = pd.crosstab([df['gender'], df['Contract']], df[\"Churn\"])\n",
    "\n",
    "# perform chi test\n",
    "chi2, p, dof, expected = chi2_contingency(contingency_table)\n",
    "\n",
    "print(f\"Chi2 Statistic: {chi2}\")\n",
    "print(f\"P-value: {p}\")\n",
    "\n",
    "if p < 0.05:\n",
    "    print(\"There is a significant relationship between Gender, Contract, and Subscription.\")\n",
    "else:\n",
    "    print(\"No significant relationship between these variables.\")"
   ]
  },
  {
   "cell_type": "markdown",
   "id": "ee3d5fdb-a17d-4d15-b3c6-25bec332d479",
   "metadata": {},
   "source": [
    "Relationship between three categorical variables, like Gender, contract type (Month-to-month / One year / Two year), and Subscribed (Yes/No)\n",
    "\n",
    "### Insights:\n",
    "\n",
    "#### 1\\. Month-to-Month Contracts Have the Highest Churn:\n",
    "\n",
    "-   Customers with Month-to-Month contracts exhibit the highest churn rates:\n",
    "\n",
    "-   Female: 24.14% churn.\n",
    "\n",
    "-   Male: 22.87% churn.\n",
    "\n",
    "-   This suggests that Month-to-Month contracts are associated with higher flexibility, leading to easier cancellations and higher churn rates.\n",
    "\n",
    "#### 2\\. Longer Contracts Have Lower Churn:\n",
    "\n",
    "-   Customers with One-Year or Two-Year contracts show significantly lower churn rates:\n",
    "\n",
    "-   One Year:\n",
    "\n",
    "-   Female: 2.15% churn.\n",
    "\n",
    "-   Male: 2.56% churn.\n",
    "\n",
    "-   Two Year:\n",
    "\n",
    "-   Female: 0.63% churn.\n",
    "\n",
    "-   Male: 0.73% churn.\n",
    "\n",
    "-   Longer-term contracts provide stability and higher commitment, resulting in reduced churn.\n",
    "\n",
    "#### 3\\. Month-to-Month Contracts Dominate Active Customers:\n",
    "\n",
    "-   The largest proportion of customers who did not churn are on Month-to-Month contracts:\n",
    "\n",
    "-   Female: 31.05% (No Churn).\n",
    "\n",
    "-   Male: 31.98% (No Churn).\n",
    "\n",
    "-   This could indicate that while Month-to-Month contracts contribute to churn, they are also widely popular among active customers.\n",
    "\n",
    "#### 4\\. Gender Differences Are Minimal:\n",
    "\n",
    "-   Across all contract types, the differences between male and female churn rates are negligible:\n",
    "\n",
    "-   Month-to-Month: 24.14% (Female) vs. 22.87% (Male).\n",
    "\n",
    "-   One Year: 2.15% (Female) vs. 2.56% (Male).\n",
    "\n",
    "-   Two Year: 0.63% (Female) vs. 0.73% (Male).\n",
    "\n",
    "-   This suggests that churn behavior is influenced more by the contract type than by gender.\n",
    "\n",
    "### Recommendations:\n",
    "\n",
    "#### 1\\. Focus on Retaining Month-to-Month Customers:\n",
    "\n",
    "-   Since these customers are more likely to churn, retention strategies should target this group:\n",
    "\n",
    "-   Offer incentives for longer-term commitments (e.g., discounts for switching to annual plans).\n",
    "\n",
    "-   Highlight benefits of longer-term contracts, such as cost savings or additional services.\n",
    "\n",
    "-   Implement loyalty rewards or personalized offers to encourage Month-to-Month customers to stay.\n",
    "\n",
    "#### 2\\. Promote Long-Term Contracts:\n",
    "\n",
    "-   Long-term contracts have the lowest churn rates. Encourage customers to choose these plans:\n",
    "\n",
    "-   Offer exclusive discounts or benefits for One-Year and Two-Year contracts.\n",
    "\n",
    "-   Provide detailed cost comparisons to show savings with longer-term contracts.\n",
    "\n",
    "#### 3\\. Monitor and Improve Month-to-Month Experience:\n",
    "\n",
    "-   Since Month-to-Month contracts are popular among active customers, improving their experience can reduce churn:\n",
    "\n",
    "-   Regularly engage with these customers to assess satisfaction.\n",
    "\n",
    "-   Provide flexible add-ons or services to enhance their value perception.\n",
    "\n",
    "#### 4\\. Implement Gender-Neutral Strategies:\n",
    "\n",
    "-   As gender differences in churn behavior are minimal, focus on contract-specific strategies rather than gender-based ones."
   ]
  },
  {
   "cell_type": "code",
   "execution_count": null,
   "id": "d93e461a-833f-4ba0-9519-efab73756680",
   "metadata": {},
   "outputs": [],
   "source": []
  },
  {
   "cell_type": "code",
   "execution_count": 72,
   "id": "492a2705-0aae-4f24-bcac-e300b4197130",
   "metadata": {
    "tags": []
   },
   "outputs": [
    {
     "name": "stdout",
     "output_type": "stream",
     "text": [
      "                Not Subscribed  Subscribed\n",
      "Contract                                  \n",
      "Month-to-month       57.290323   42.709677\n",
      "One year             88.730482   11.269518\n",
      "Two year             97.168142    2.831858\n"
     ]
    }
   ],
   "source": [
    "# contract type vs subscription\n",
    "\n",
    "# Count contract and subscribed\n",
    "gender_analysis = df.groupby(\"Contract\")['Churn'].value_counts(normalize=True).unstack()\n",
    "\n",
    "#rename columns\n",
    "gender_analysis.columns= [\"Not Subscribed\", \"Subscribed\"]\n",
    "gender_analysis *= 100\n",
    "print(gender_analysis)"
   ]
  },
  {
   "cell_type": "code",
   "execution_count": 74,
   "id": "12c082f3-bdee-4922-b667-b078dec103a0",
   "metadata": {
    "tags": []
   },
   "outputs": [
    {
     "data": {
      "image/png": "[encoded data removed]",
      "text/plain": [
       "<Figure size 640x480 with 1 Axes>"
      ]
     },
     "metadata": {},
     "output_type": "display_data"
    }
   ],
   "source": [
    "#plot the data\n",
    "\n",
    "sns.countplot(data=df, x = \"Contract\", hue=\"Churn\")\n",
    "plt.title(\"Subscription Status by Contract Type\")\n",
    "plt.show()"
   ]
  },
  {
   "cell_type": "code",
   "execution_count": 76,
   "id": "c2447827-0fbc-48c9-8a9e-5df003ad26f8",
   "metadata": {
    "tags": []
   },
   "outputs": [
    {
     "name": "stdout",
     "output_type": "stream",
     "text": [
      "Chi2 Statistics: 1184.5965720837926\n",
      "P-value: 5.863038300673391e-258\n",
      "There is a significant relationship between Contract Type and Subscription.\n"
     ]
    }
   ],
   "source": [
    "# Determine whether the relationship is statistically significant, Using a Chi-Square Test.\n",
    "from scipy.stats import chi2_contingency\n",
    "\n",
    "#table\n",
    "contingency_table = pd.crosstab(df['Contract'], df['Churn'])\n",
    "\n",
    "#perform chi- test\n",
    "chi2, p, dof, expected = chi2_contingency(contingency_table)\n",
    "\n",
    "print(f\"Chi2 Statistics: {chi2}\")\n",
    "print(f\"P-value: {p}\")\n",
    "\n",
    "if p < 0.05:\n",
    "    print(\"There is a significant relationship between Contract Type and Subscription.\")\n",
    "else:\n",
    "    print(\"No significant relationship between Gender and Subscription.\")"
   ]
  },
  {
   "cell_type": "markdown",
   "id": "f8610a9d-77e1-40a3-a2be-ddd6e516a436",
   "metadata": {
    "tags": []
   },
   "source": [
    "### relationship between Gender, SeniorCitizen (1 for Yes, 0 for No), and Subscribed (Yes/No)"
   ]
  },
  {
   "cell_type": "code",
   "execution_count": 79,
   "id": "614b8ca7-6978-4b67-9298-3e5ef5ef94cd",
   "metadata": {
    "tags": []
   },
   "outputs": [
    {
     "name": "stdout",
     "output_type": "stream",
     "text": [
      "   gender  SeniorCitizen Churn  Count\n",
      "0  Female              0    No   2221\n",
      "1  Female              0   Yes    699\n",
      "2  Female              1    No    328\n",
      "3  Female              1   Yes    240\n",
      "4    Male              0    No   2287\n",
      "5    Male              0   Yes    694\n",
      "6    Male              1    No    338\n",
      "7    Male              1   Yes    236\n"
     ]
    }
   ],
   "source": [
    "grouped = df.groupby([\"gender\", \"SeniorCitizen\", \"Churn\"]).size().reset_index(name='Count')\n",
    "\n",
    "print(grouped)"
   ]
  },
  {
   "cell_type": "code",
   "execution_count": 81,
   "id": "df0d68f5-28e2-48dd-92d4-cd5b8e8746bc",
   "metadata": {
    "tags": []
   },
   "outputs": [
    {
     "name": "stderr",
     "output_type": "stream",
     "text": [
      "/var/folders/2c/hpk9j8md6h71406dzkc5_w1m0000gn/T/ipykernel_1452/2925283006.py:2: FutureWarning: Not prepending group keys to the result index of transform-like apply. In the future, the group keys will be included in the index, regardless of whether the applied function returns a like-indexed object.\n",
      "To preserve the previous behavior, use\n",
      "\n",
      "\t>>> .groupby(..., group_keys=False)\n",
      "\n",
      "To adopt the future behavior and silence this warning, use \n",
      "\n",
      "\t>>> .groupby(..., group_keys=True)\n",
      "  grouped_percentage = df.groupby([\"gender\", \"SeniorCitizen\", \"Churn\"]).size().groupby(level=0).apply(lambda x: 100 * x / x.sum()).reset_index(name=\"Percentage\")\n"
     ]
    },
    {
     "data": {
      "text/html": [
       "<div>\n",
       "<style scoped>\n",
       "    .dataframe tbody tr th:only-of-type {\n",
       "        vertical-align: middle;\n",
       "    }\n",
       "\n",
       "    .dataframe tbody tr th {\n",
       "        vertical-align: top;\n",
       "    }\n",
       "\n",
       "    .dataframe thead th {\n",
       "        text-align: right;\n",
       "    }\n",
       "</style>\n",
       "<table border=\"1\" class=\"dataframe\">\n",
       "  <thead>\n",
       "    <tr style=\"text-align: right;\">\n",
       "      <th></th>\n",
       "      <th>gender</th>\n",
       "      <th>SeniorCitizen</th>\n",
       "      <th>Churn</th>\n",
       "      <th>Percentage</th>\n",
       "    </tr>\n",
       "  </thead>\n",
       "  <tbody>\n",
       "    <tr>\n",
       "      <th>0</th>\n",
       "      <td>Female</td>\n",
       "      <td>0</td>\n",
       "      <td>No</td>\n",
       "      <td>63.675459</td>\n",
       "    </tr>\n",
       "    <tr>\n",
       "      <th>1</th>\n",
       "      <td>Female</td>\n",
       "      <td>0</td>\n",
       "      <td>Yes</td>\n",
       "      <td>20.040138</td>\n",
       "    </tr>\n",
       "    <tr>\n",
       "      <th>2</th>\n",
       "      <td>Female</td>\n",
       "      <td>1</td>\n",
       "      <td>No</td>\n",
       "      <td>9.403670</td>\n",
       "    </tr>\n",
       "    <tr>\n",
       "      <th>3</th>\n",
       "      <td>Female</td>\n",
       "      <td>1</td>\n",
       "      <td>Yes</td>\n",
       "      <td>6.880734</td>\n",
       "    </tr>\n",
       "    <tr>\n",
       "      <th>4</th>\n",
       "      <td>Male</td>\n",
       "      <td>0</td>\n",
       "      <td>No</td>\n",
       "      <td>64.331927</td>\n",
       "    </tr>\n",
       "    <tr>\n",
       "      <th>5</th>\n",
       "      <td>Male</td>\n",
       "      <td>0</td>\n",
       "      <td>Yes</td>\n",
       "      <td>19.521800</td>\n",
       "    </tr>\n",
       "    <tr>\n",
       "      <th>6</th>\n",
       "      <td>Male</td>\n",
       "      <td>1</td>\n",
       "      <td>No</td>\n",
       "      <td>9.507736</td>\n",
       "    </tr>\n",
       "    <tr>\n",
       "      <th>7</th>\n",
       "      <td>Male</td>\n",
       "      <td>1</td>\n",
       "      <td>Yes</td>\n",
       "      <td>6.638537</td>\n",
       "    </tr>\n",
       "  </tbody>\n",
       "</table>\n",
       "</div>"
      ],
      "text/plain": [
       "   gender  SeniorCitizen Churn  Percentage\n",
       "0  Female              0    No   63.675459\n",
       "1  Female              0   Yes   20.040138\n",
       "2  Female              1    No    9.403670\n",
       "3  Female              1   Yes    6.880734\n",
       "4    Male              0    No   64.331927\n",
       "5    Male              0   Yes   19.521800\n",
       "6    Male              1    No    9.507736\n",
       "7    Male              1   Yes    6.638537"
      ]
     },
     "execution_count": 81,
     "metadata": {},
     "output_type": "execute_result"
    }
   ],
   "source": [
    "# normalise count to percentage\n",
    "grouped_percentage = df.groupby([\"gender\", \"SeniorCitizen\", \"Churn\"]).size().groupby(level=0).apply(lambda x: 100 * x / x.sum()).reset_index(name=\"Percentage\")\n",
    "grouped_percentage"
   ]
  },
  {
   "cell_type": "code",
   "execution_count": 83,
   "id": "0ceaf8a5-5231-4866-b504-75667d9072fe",
   "metadata": {
    "tags": []
   },
   "outputs": [
    {
     "name": "stdout",
     "output_type": "stream",
     "text": [
      "Churn                   No  Yes\n",
      "gender SeniorCitizen           \n",
      "Female 0              2221  699\n",
      "       1               328  240\n",
      "Male   0              2287  694\n",
      "       1               338  236\n"
     ]
    }
   ],
   "source": [
    "pivot = df.pivot_table(df,\n",
    "                      index=[\"gender\", \"SeniorCitizen\"],\n",
    "                      columns= \"Churn\",\n",
    "                      aggfunc='size',\n",
    "                      fill_value=0)\n",
    "print(pivot)"
   ]
  },
  {
   "cell_type": "code",
   "execution_count": 85,
   "id": "d47bb0c4-dd83-46b5-99a8-0aacd7f5165e",
   "metadata": {
    "tags": []
   },
   "outputs": [
    {
     "data": {
      "image/png": "[encoded data removed]",
      "text/plain": [
       "<Figure size 640x480 with 2 Axes>"
      ]
     },
     "metadata": {},
     "output_type": "display_data"
    }
   ],
   "source": [
    "# heatmap\n",
    "heatmap_data = pivot\n",
    "sns.heatmap(heatmap_data, annot=True, cmap='coolwarm', fmt='d')\n",
    "plt.title('Relationship Between Gender, SeniorCitizen, and Subscribed')\n",
    "plt.show()"
   ]
  },
  {
   "cell_type": "code",
   "execution_count": 87,
   "id": "f3f73b9f-198b-4ca4-b718-25f51757cdd6",
   "metadata": {
    "tags": []
   },
   "outputs": [
    {
     "name": "stdout",
     "output_type": "stream",
     "text": [
      "Chi2 Statistic: 160.86914869550947\n",
      "P-value: 1.1900346099307884e-34\n",
      "There is a significant relationship between Gender, SeniorCitizen, and Subscribed.\n"
     ]
    }
   ],
   "source": [
    "# Create a contingency table\n",
    "contingency_table = pd.crosstab([df['gender'], df['SeniorCitizen']], df['Churn'])\n",
    "\n",
    "# Perform Chi-Square test\n",
    "chi2, p, dof, expected = chi2_contingency(contingency_table)\n",
    "\n",
    "print(f\"Chi2 Statistic: {chi2}\")\n",
    "print(f\"P-value: {p}\")\n",
    "\n",
    "if p < 0.05:\n",
    "    print(\"There is a significant relationship between Gender, SeniorCitizen, and Subscribed.\")\n",
    "else:\n",
    "    print(\"No significant relationship between these variables.\")"
   ]
  },
  {
   "cell_type": "markdown",
   "id": "5c0e2a3c-d5ff-4919-84bb-a49e998df58f",
   "metadata": {},
   "source": [
    "relationship between Gender, SeniorCitizen (1 for Yes, 0 for No), and Subscribed (Yes/No)\n",
    "\n",
    "### Insights:\n",
    "\n",
    "#### 1\\. Senior Citizens Have Higher Churn Rates:\n",
    "\n",
    "-   Senior citizens (coded as 1) show significantly higher churn rates compared to non-senior citizens (0):\n",
    "\n",
    "-   Female Senior Citizens: 6.88% churn.\n",
    "\n",
    "-   Male Senior Citizens: 6.64% churn.\n",
    "\n",
    "-   Though the percentage is smaller in absolute terms, the churn rate for senior citizens relative to their population size is substantial.\n",
    "\n",
    "#### 2\\. Non-Senior Citizens Are More Likely to Stay:\n",
    "\n",
    "-   Non-senior citizens (0) have much lower churn rates:\n",
    "\n",
    "-   Female Non-Senior Citizens: 63.68% do not churn, 20.04% churn.\n",
    "\n",
    "-   Male Non-Senior Citizens: 64.33% do not churn, 19.52% churn.\n",
    "\n",
    "-   This suggests that age plays a significant role in determining customer loyalty.\n",
    "\n",
    "#### 3\\. Minimal Gender Differences:\n",
    "\n",
    "-   The churn rates between males and females in both senior and non-senior groups are very similar:\n",
    "\n",
    "-   Non-Senior Citizens:\n",
    "\n",
    "-   Female: 20.04% churn.\n",
    "\n",
    "-   Male: 19.52% churn.\n",
    "\n",
    "-   Senior Citizens:\n",
    "\n",
    "-   Female: 6.88% churn.\n",
    "\n",
    "-   Male: 6.64% churn.\n",
    "\n",
    "-   Gender does not appear to be a major factor influencing churn when compared to senior citizen status.\n",
    "\n",
    "### Recommendations:\n",
    "\n",
    "#### 1\\. Focus on Retaining Senior Citizens:\n",
    "\n",
    "-   Senior citizens are at higher risk of churn and may require tailored retention strategies:\n",
    "\n",
    "-   Provide customized plans or discounts targeted at older customers.\n",
    "\n",
    "-   Offer dedicated customer support to address their specific concerns or challenges.\n",
    "\n",
    "-   Highlight user-friendly features to make services more accessible and appealing.\n",
    "\n",
    "#### 2\\. Enhance Engagement for Non-Senior Citizens:\n",
    "\n",
    "-   While non-senior citizens are less likely to churn, they form the majority of the customer base. Ensure continued engagement through:\n",
    "\n",
    "-   Loyalty programs and rewards for long-term customers.\n",
    "\n",
    "-   Personalization to cater to their needs and preferences.\n",
    "\n",
    "#### 3\\. Gender-Neutral Strategies:\n",
    "\n",
    "-   Since gender differences are negligible, focus efforts on senior citizen status rather than gender-specific initiatives."
   ]
  },
  {
   "cell_type": "code",
   "execution_count": null,
   "id": "13118702-2579-48e2-8ade-6e07513ecd6f",
   "metadata": {},
   "outputs": [],
   "source": []
  },
  {
   "cell_type": "markdown",
   "id": "39620601-e461-4f9e-8b7d-733068551037",
   "metadata": {},
   "source": [
    "### Using logistic regression to model the relationships and predict Subscribed based on Gender and SeniorCitizen."
   ]
  },
  {
   "cell_type": "code",
   "execution_count": 90,
   "id": "4460c09f-35d7-483c-8c07-e432b1990a77",
   "metadata": {
    "tags": []
   },
   "outputs": [
    {
     "name": "stdout",
     "output_type": "stream",
     "text": [
      "Intercept: [-1.15426481]\n",
      "Coefficients: [[-0.03849068  0.83470447]]\n"
     ]
    }
   ],
   "source": [
    "from sklearn.linear_model import LogisticRegression\n",
    "from sklearn.preprocessing import LabelEncoder\n",
    "\n",
    "# Encode categorical variables\n",
    "df_encoded = df.apply(LabelEncoder().fit_transform)\n",
    "\n",
    "# Prepare features and target\n",
    "X = df_encoded[['gender', 'SeniorCitizen']]\n",
    "y = df_encoded['Churn']\n",
    "\n",
    "# Train logistic regression model\n",
    "model = LogisticRegression()\n",
    "model.fit(X, y)\n",
    "\n",
    "# Display coefficients\n",
    "print(f\"Intercept: {model.intercept_}\")\n",
    "print(f\"Coefficients: {model.coef_}\")"
   ]
  },
  {
   "cell_type": "markdown",
   "id": "01cc0f95-c099-4caf-b712-f4f3e0779a56",
   "metadata": {},
   "source": [
    "The intercept shows the baseline subscription probability for males who are not senior citizens.\n",
    "The gender coefficient suggests that gender has negligible influence on subscription likelihood.\n",
    "The senior citizen coefficient suggests a strong positive relationship between being a senior citizen and subscribing. Senior citizens are significantly more likely to subscribe compared to non-senior citizens."
   ]
  },
  {
   "cell_type": "code",
   "execution_count": 93,
   "id": "827a61b7-62af-40e7-b233-a42e45333dd6",
   "metadata": {
    "tags": []
   },
   "outputs": [
    {
     "data": {
      "text/html": [
       "<div>\n",
       "<style scoped>\n",
       "    .dataframe tbody tr th:only-of-type {\n",
       "        vertical-align: middle;\n",
       "    }\n",
       "\n",
       "    .dataframe tbody tr th {\n",
       "        vertical-align: top;\n",
       "    }\n",
       "\n",
       "    .dataframe thead th {\n",
       "        text-align: right;\n",
       "    }\n",
       "</style>\n",
       "<table border=\"1\" class=\"dataframe\">\n",
       "  <thead>\n",
       "    <tr style=\"text-align: right;\">\n",
       "      <th></th>\n",
       "      <th>customerID</th>\n",
       "      <th>gender</th>\n",
       "      <th>SeniorCitizen</th>\n",
       "      <th>Partner</th>\n",
       "      <th>Dependents</th>\n",
       "      <th>tenure</th>\n",
       "      <th>PhoneService</th>\n",
       "      <th>MultipleLines</th>\n",
       "      <th>InternetService</th>\n",
       "      <th>OnlineSecurity</th>\n",
       "      <th>...</th>\n",
       "      <th>DeviceProtection</th>\n",
       "      <th>TechSupport</th>\n",
       "      <th>StreamingTV</th>\n",
       "      <th>StreamingMovies</th>\n",
       "      <th>Contract</th>\n",
       "      <th>PaperlessBilling</th>\n",
       "      <th>PaymentMethod</th>\n",
       "      <th>MonthlyCharges</th>\n",
       "      <th>TotalCharges</th>\n",
       "      <th>Churn</th>\n",
       "    </tr>\n",
       "  </thead>\n",
       "  <tbody>\n",
       "    <tr>\n",
       "      <th>0</th>\n",
       "      <td>7590-VHVEG</td>\n",
       "      <td>Female</td>\n",
       "      <td>0</td>\n",
       "      <td>Yes</td>\n",
       "      <td>No</td>\n",
       "      <td>1</td>\n",
       "      <td>No</td>\n",
       "      <td>No phone service</td>\n",
       "      <td>DSL</td>\n",
       "      <td>No</td>\n",
       "      <td>...</td>\n",
       "      <td>No</td>\n",
       "      <td>No</td>\n",
       "      <td>No</td>\n",
       "      <td>No</td>\n",
       "      <td>Month-to-month</td>\n",
       "      <td>Yes</td>\n",
       "      <td>Electronic check</td>\n",
       "      <td>29.85</td>\n",
       "      <td>29.85</td>\n",
       "      <td>No</td>\n",
       "    </tr>\n",
       "    <tr>\n",
       "      <th>1</th>\n",
       "      <td>5575-GNVDE</td>\n",
       "      <td>Male</td>\n",
       "      <td>0</td>\n",
       "      <td>No</td>\n",
       "      <td>No</td>\n",
       "      <td>34</td>\n",
       "      <td>Yes</td>\n",
       "      <td>No</td>\n",
       "      <td>DSL</td>\n",
       "      <td>Yes</td>\n",
       "      <td>...</td>\n",
       "      <td>Yes</td>\n",
       "      <td>No</td>\n",
       "      <td>No</td>\n",
       "      <td>No</td>\n",
       "      <td>One year</td>\n",
       "      <td>No</td>\n",
       "      <td>Mailed check</td>\n",
       "      <td>56.95</td>\n",
       "      <td>1889.5</td>\n",
       "      <td>No</td>\n",
       "    </tr>\n",
       "    <tr>\n",
       "      <th>2</th>\n",
       "      <td>3668-QPYBK</td>\n",
       "      <td>Male</td>\n",
       "      <td>0</td>\n",
       "      <td>No</td>\n",
       "      <td>No</td>\n",
       "      <td>2</td>\n",
       "      <td>Yes</td>\n",
       "      <td>No</td>\n",
       "      <td>DSL</td>\n",
       "      <td>Yes</td>\n",
       "      <td>...</td>\n",
       "      <td>No</td>\n",
       "      <td>No</td>\n",
       "      <td>No</td>\n",
       "      <td>No</td>\n",
       "      <td>Month-to-month</td>\n",
       "      <td>Yes</td>\n",
       "      <td>Mailed check</td>\n",
       "      <td>53.85</td>\n",
       "      <td>108.15</td>\n",
       "      <td>Yes</td>\n",
       "    </tr>\n",
       "    <tr>\n",
       "      <th>3</th>\n",
       "      <td>7795-CFOCW</td>\n",
       "      <td>Male</td>\n",
       "      <td>0</td>\n",
       "      <td>No</td>\n",
       "      <td>No</td>\n",
       "      <td>45</td>\n",
       "      <td>No</td>\n",
       "      <td>No phone service</td>\n",
       "      <td>DSL</td>\n",
       "      <td>Yes</td>\n",
       "      <td>...</td>\n",
       "      <td>Yes</td>\n",
       "      <td>Yes</td>\n",
       "      <td>No</td>\n",
       "      <td>No</td>\n",
       "      <td>One year</td>\n",
       "      <td>No</td>\n",
       "      <td>Bank transfer (automatic)</td>\n",
       "      <td>42.30</td>\n",
       "      <td>1840.75</td>\n",
       "      <td>No</td>\n",
       "    </tr>\n",
       "    <tr>\n",
       "      <th>4</th>\n",
       "      <td>9237-HQITU</td>\n",
       "      <td>Female</td>\n",
       "      <td>0</td>\n",
       "      <td>No</td>\n",
       "      <td>No</td>\n",
       "      <td>2</td>\n",
       "      <td>Yes</td>\n",
       "      <td>No</td>\n",
       "      <td>Fiber optic</td>\n",
       "      <td>No</td>\n",
       "      <td>...</td>\n",
       "      <td>No</td>\n",
       "      <td>No</td>\n",
       "      <td>No</td>\n",
       "      <td>No</td>\n",
       "      <td>Month-to-month</td>\n",
       "      <td>Yes</td>\n",
       "      <td>Electronic check</td>\n",
       "      <td>70.70</td>\n",
       "      <td>151.65</td>\n",
       "      <td>Yes</td>\n",
       "    </tr>\n",
       "  </tbody>\n",
       "</table>\n",
       "<p>5 rows × 21 columns</p>\n",
       "</div>"
      ],
      "text/plain": [
       "   customerID  gender  SeniorCitizen Partner Dependents  tenure PhoneService  \\\n",
       "0  7590-VHVEG  Female              0     Yes         No       1           No   \n",
       "1  5575-GNVDE    Male              0      No         No      34          Yes   \n",
       "2  3668-QPYBK    Male              0      No         No       2          Yes   \n",
       "3  7795-CFOCW    Male              0      No         No      45           No   \n",
       "4  9237-HQITU  Female              0      No         No       2          Yes   \n",
       "\n",
       "      MultipleLines InternetService OnlineSecurity  ... DeviceProtection  \\\n",
       "0  No phone service             DSL             No  ...               No   \n",
       "1                No             DSL            Yes  ...              Yes   \n",
       "2                No             DSL            Yes  ...               No   \n",
       "3  No phone service             DSL            Yes  ...              Yes   \n",
       "4                No     Fiber optic             No  ...               No   \n",
       "\n",
       "  TechSupport StreamingTV StreamingMovies        Contract PaperlessBilling  \\\n",
       "0          No          No              No  Month-to-month              Yes   \n",
       "1          No          No              No        One year               No   \n",
       "2          No          No              No  Month-to-month              Yes   \n",
       "3         Yes          No              No        One year               No   \n",
       "4          No          No              No  Month-to-month              Yes   \n",
       "\n",
       "               PaymentMethod MonthlyCharges  TotalCharges Churn  \n",
       "0           Electronic check          29.85         29.85    No  \n",
       "1               Mailed check          56.95        1889.5    No  \n",
       "2               Mailed check          53.85        108.15   Yes  \n",
       "3  Bank transfer (automatic)          42.30       1840.75    No  \n",
       "4           Electronic check          70.70        151.65   Yes  \n",
       "\n",
       "[5 rows x 21 columns]"
      ]
     },
     "execution_count": 93,
     "metadata": {},
     "output_type": "execute_result"
    }
   ],
   "source": [
    "df.head(5)"
   ]
  },
  {
   "cell_type": "markdown",
   "id": "0ec7ab37-ef64-4e2a-bd36-f4b76d61281b",
   "metadata": {
    "tags": []
   },
   "source": [
    "## check what type of InternetService does the gender(male/female) use where the churn column value = yes"
   ]
  },
  {
   "cell_type": "code",
   "execution_count": 96,
   "id": "0dad1bd6-4c89-48df-93ec-68b2f0fe3fa9",
   "metadata": {
    "tags": []
   },
   "outputs": [
    {
     "name": "stdout",
     "output_type": "stream",
     "text": [
      "InternetService  DSL  Fiber optic  No\n",
      "gender                               \n",
      "Female           219          664  56\n",
      "Male             240          633  57\n"
     ]
    }
   ],
   "source": [
    "# filter rows where churn = yes\n",
    "churned_data = df[df['Churn'] == 'Yes']\n",
    "\n",
    "# cross tabulate Gender and internetService\n",
    "internet_service_by_gender = pd.crosstab(churned_data[\"gender\"],churned_data[\"InternetService\"])\n",
    "print(internet_service_by_gender)"
   ]
  },
  {
   "cell_type": "markdown",
   "id": "3594acd8-0bb8-4eb2-9ec0-9840922beb22",
   "metadata": {},
   "source": []
  },
  {
   "cell_type": "code",
   "execution_count": 99,
   "id": "617a81c6-bd7f-4f2b-aea4-cb62cb4688ed",
   "metadata": {
    "tags": []
   },
   "outputs": [
    {
     "name": "stdout",
     "output_type": "stream",
     "text": [
      "InternetService       DSL  Fiber optic        No\n",
      "gender                                          \n",
      "Female           0.233227     0.707135  0.059638\n",
      "Male             0.258065     0.680645  0.061290\n"
     ]
    }
   ],
   "source": [
    "#normalise for proportions\n",
    "internet_service_by_gender_normalized = pd.crosstab(churned_data['gender'], churned_data['InternetService'], normalize='index')\n",
    "print(internet_service_by_gender_normalized)"
   ]
  },
  {
   "cell_type": "code",
   "execution_count": null,
   "id": "dc75c813-6f0b-4529-a3a6-d6d2e5ae612c",
   "metadata": {
    "tags": []
   },
   "outputs": [],
   "source": []
  },
  {
   "cell_type": "markdown",
   "id": "e3ef3dfa-5ee6-4c99-80cc-69a4bc2159d9",
   "metadata": {
    "tags": []
   },
   "source": [
    "### check what type of InternetService does the gender(male/female) use where the churn column value = no"
   ]
  },
  {
   "cell_type": "code",
   "execution_count": 103,
   "id": "6216bd53-7fa8-4247-8395-21651fdddd0f",
   "metadata": {
    "tags": []
   },
   "outputs": [
    {
     "name": "stdout",
     "output_type": "stream",
     "text": [
      "InternetService  DSL  Fiber optic   No\n",
      "gender                                \n",
      "Female           969          889  691\n",
      "Male             993          910  722\n"
     ]
    }
   ],
   "source": [
    "# filter rows where churn = yes\n",
    "churned_data_for_no = df[df['Churn'] == 'No']\n",
    "\n",
    "# cross tabulate Gender and internetService\n",
    "internet_service_disconnected_by_gender = pd.crosstab(churned_data_for_no[\"gender\"],churned_data_for_no[\"InternetService\"])\n",
    "print(internet_service_disconnected_by_gender)"
   ]
  },
  {
   "cell_type": "markdown",
   "id": "9386f107-afb5-40c4-8049-32ee6b41739e",
   "metadata": {},
   "source": [
    "### Key Insights:\n",
    "\n",
    "1.  Fiber Optic is Linked to Higher Churn:\n",
    "\n",
    "-   While Fiber Optic is a dominant choice among churned customers, it is also used heavily by non-churned customers.\n",
    "\n",
    "-   The churn rates for Fiber Optic users suggest that retention strategies should prioritize addressing potential issues with this service (e.g., reliability, cost).\n",
    "\n",
    "3.  DSL Users Have Lower Churn Rates:\n",
    "\n",
    "-   DSL usage shows a smaller proportion among churned customers, implying it may have better customer satisfaction or cost-effectiveness compared to Fiber Optic.\n",
    "\n",
    "5.  Gender Differences Are Minimal:\n",
    "\n",
    "-   Both males and females exhibit similar patterns in InternetService usage for churned and non-churned groups, with no significant gender-based discrepancies.\n",
    "\n",
    "7.  No Internet Service Users Have the Least Churn:\n",
    "\n",
    "-   Customers without InternetService have the smallest churn proportion, possibly indicating they are less engaged or reliant on telecom services.\n",
    "\n",
    "### Recommendations:\n",
    "\n",
    "1.  Investigate Fiber Optic Retention:\n",
    "\n",
    "-   Conduct surveys or analysis on Fiber Optic customers to pinpoint dissatisfaction causes (e.g., pricing, speed, support).\n",
    "\n",
    "-   Offer targeted promotions, loyalty rewards, or bundled services to Fiber Optic users at risk of churn.\n",
    "\n",
    "3.  Promote DSL as a Stable Option:\n",
    "\n",
    "-   Highlight DSL reliability and cost-effectiveness in marketing campaigns.\n",
    "\n",
    "-   Position DSL as a viable alternative for customers seeking lower costs or improved stability.\n",
    "\n",
    "5.  Leverage Non-Internet Customers:\n",
    "\n",
    "-   Explore upselling opportunities to customers currently not using Internet services, particularly if they have no history of churn."
   ]
  },
  {
   "cell_type": "code",
   "execution_count": null,
   "id": "364c4c71-0622-4259-9328-a1130ae72591",
   "metadata": {},
   "outputs": [],
   "source": []
  },
  {
   "cell_type": "code",
   "execution_count": 106,
   "id": "390bf7b3-3819-4c72-b8f0-2d8a3bf0d48b",
   "metadata": {
    "tags": []
   },
   "outputs": [
    {
     "data": {
      "text/plain": [
       "array(['Electronic check', 'Mailed check', 'Bank transfer (automatic)',\n",
       "       'Credit card (automatic)'], dtype=object)"
      ]
     },
     "execution_count": 106,
     "metadata": {},
     "output_type": "execute_result"
    }
   ],
   "source": [
    "df['PaymentMethod'].unique()"
   ]
  },
  {
   "cell_type": "code",
   "execution_count": 108,
   "id": "34c01d1a-091a-4899-8345-44e794e99f23",
   "metadata": {
    "tags": []
   },
   "outputs": [
    {
     "data": {
      "text/html": [
       "<div>\n",
       "<style scoped>\n",
       "    .dataframe tbody tr th:only-of-type {\n",
       "        vertical-align: middle;\n",
       "    }\n",
       "\n",
       "    .dataframe tbody tr th {\n",
       "        vertical-align: top;\n",
       "    }\n",
       "\n",
       "    .dataframe thead th {\n",
       "        text-align: right;\n",
       "    }\n",
       "</style>\n",
       "<table border=\"1\" class=\"dataframe\">\n",
       "  <thead>\n",
       "    <tr style=\"text-align: right;\">\n",
       "      <th></th>\n",
       "      <th>customerID</th>\n",
       "      <th>gender</th>\n",
       "      <th>SeniorCitizen</th>\n",
       "      <th>Partner</th>\n",
       "      <th>Dependents</th>\n",
       "      <th>tenure</th>\n",
       "      <th>PhoneService</th>\n",
       "      <th>MultipleLines</th>\n",
       "      <th>InternetService</th>\n",
       "      <th>OnlineSecurity</th>\n",
       "      <th>...</th>\n",
       "      <th>DeviceProtection</th>\n",
       "      <th>TechSupport</th>\n",
       "      <th>StreamingTV</th>\n",
       "      <th>StreamingMovies</th>\n",
       "      <th>Contract</th>\n",
       "      <th>PaperlessBilling</th>\n",
       "      <th>PaymentMethod</th>\n",
       "      <th>MonthlyCharges</th>\n",
       "      <th>TotalCharges</th>\n",
       "      <th>Churn</th>\n",
       "    </tr>\n",
       "  </thead>\n",
       "  <tbody>\n",
       "    <tr>\n",
       "      <th>0</th>\n",
       "      <td>7590-VHVEG</td>\n",
       "      <td>Female</td>\n",
       "      <td>0</td>\n",
       "      <td>Yes</td>\n",
       "      <td>No</td>\n",
       "      <td>1</td>\n",
       "      <td>No</td>\n",
       "      <td>No phone service</td>\n",
       "      <td>DSL</td>\n",
       "      <td>No</td>\n",
       "      <td>...</td>\n",
       "      <td>No</td>\n",
       "      <td>No</td>\n",
       "      <td>No</td>\n",
       "      <td>No</td>\n",
       "      <td>Month-to-month</td>\n",
       "      <td>Yes</td>\n",
       "      <td>Electronic check</td>\n",
       "      <td>29.85</td>\n",
       "      <td>29.85</td>\n",
       "      <td>No</td>\n",
       "    </tr>\n",
       "  </tbody>\n",
       "</table>\n",
       "<p>1 rows × 21 columns</p>\n",
       "</div>"
      ],
      "text/plain": [
       "   customerID  gender  SeniorCitizen Partner Dependents  tenure PhoneService  \\\n",
       "0  7590-VHVEG  Female              0     Yes         No       1           No   \n",
       "\n",
       "      MultipleLines InternetService OnlineSecurity  ... DeviceProtection  \\\n",
       "0  No phone service             DSL             No  ...               No   \n",
       "\n",
       "  TechSupport StreamingTV StreamingMovies        Contract PaperlessBilling  \\\n",
       "0          No          No              No  Month-to-month              Yes   \n",
       "\n",
       "      PaymentMethod MonthlyCharges  TotalCharges Churn  \n",
       "0  Electronic check          29.85         29.85    No  \n",
       "\n",
       "[1 rows x 21 columns]"
      ]
     },
     "execution_count": 108,
     "metadata": {},
     "output_type": "execute_result"
    }
   ],
   "source": [
    "df.head(1)"
   ]
  },
  {
   "cell_type": "markdown",
   "id": "09c395fb-c55c-4098-a95d-eb30b31b3e3d",
   "metadata": {},
   "source": [
    "### which payment method does people prefer where churn is yes ?\n"
   ]
  },
  {
   "cell_type": "code",
   "execution_count": 110,
   "id": "42966e1e-b878-49fb-9f5f-bd84d2f23a44",
   "metadata": {
    "tags": []
   },
   "outputs": [
    {
     "name": "stdout",
     "output_type": "stream",
     "text": [
      "Electronic check             1071\n",
      "Mailed check                  308\n",
      "Bank transfer (automatic)     258\n",
      "Credit card (automatic)       232\n",
      "Name: PaymentMethod, dtype: int64\n"
     ]
    }
   ],
   "source": [
    "payment_method_analysis = churned_data['PaymentMethod'].value_counts()\n",
    "print(payment_method_analysis)"
   ]
  },
  {
   "cell_type": "code",
   "execution_count": 112,
   "id": "6ad9b38f-8af0-46bc-b9d1-a190cf55f00f",
   "metadata": {
    "tags": []
   },
   "outputs": [
    {
     "data": {
      "image/png": "[encoded data removed]",
      "text/plain": [
       "<Figure size 640x480 with 1 Axes>"
      ]
     },
     "metadata": {},
     "output_type": "display_data"
    }
   ],
   "source": [
    "# Plot the results\n",
    "payment_method_analysis.plot(kind='bar', color='skyblue', title='Payment Methods Used by Churned Customers')\n",
    "plt.xlabel('Payment Method')\n",
    "plt.ylabel('Count')\n",
    "plt.xticks(rotation=45)\n",
    "plt.show()"
   ]
  },
  {
   "cell_type": "markdown",
   "id": "82da28ec-35eb-41b2-a48c-cb7e2f0d611c",
   "metadata": {},
   "source": [
    "Insights into Payment Method Preference for Churned Customers:\n",
    "\n",
    "### Key Insights:\n",
    "\n",
    "1.  Electronic Check Shows High Churn:\n",
    "\n",
    "-   Electronic Check is the most common payment method among churned customers. This suggests that issues related to payment delays, failures, or administrative problems with electronic payments might be contributing to churn.\n",
    "\n",
    "-   Consider investigating possible delays or technical issues in the electronic check processing system.\n",
    "\n",
    "3.  Mailed Check Customers Are Also Vulnerable:\n",
    "\n",
    "-   A significant portion of churned customers still use Mailed Check, which could be due to logistical issues like slow payment processing or inconvenience. This method may be particularly appealing to less tech-savvy customers but is prone to delays and errors that could contribute to churn.\n",
    "\n",
    "5.  Automatic Payments May Lower Churn Risk:\n",
    "\n",
    "-   Customers using Bank Transfers (automatic) and Credit Card (automatic) have lower churn rates, which suggests that automated payment methods may reduce friction in the payment process and improve retention.\n",
    "\n",
    "-   To reduce churn, promoting automated payments could be beneficial, especially for customers currently using Electronic Checks or Mailed Checks.\n",
    "\n",
    "7.  Payment Method Conversion Could Help:\n",
    "\n",
    "-   To decrease churn, you could encourage customers who use Electronic Checks or Mailed Checks to transition to automatic payments, which might offer a smoother and more reliable payment experience.\n",
    "\n",
    "### Recommendations:\n",
    "\n",
    "1.  Improve Electronic Check Payment Systems:\n",
    "\n",
    "-   Investigate and optimize the electronic check payment processing system to reduce delays and improve user experience. This could include ensuring faster processing or providing better customer support for any payment issues.\n",
    "\n",
    "3.  Target Mailed Check Users:\n",
    "\n",
    "-   Reach out to customers using Mailed Checks to suggest transitioning to more efficient, electronic methods like automatic bank transfers or credit card payments. This could help reduce the friction and delays associated with mailed checks.\n",
    "\n",
    "5.  Promote Automatic Payments:\n",
    "\n",
    "-   Promote the convenience and security of automatic payments (via Bank Transfers or Credit Cards) to reduce the likelihood of churn. Offering incentives or discounts for automatic payments could also encourage customers to switch."
   ]
  },
  {
   "cell_type": "code",
   "execution_count": 119,
   "id": "754b16ef-10e8-4ecb-906a-70d032f1bf29",
   "metadata": {
    "tags": []
   },
   "outputs": [
    {
     "name": "stdout",
     "output_type": "stream",
     "text": [
      "InternetService  DSL  Fiber optic   No\n",
      "SeniorCitizen                         \n",
      "0                381          904  108\n",
      "1                 78          393    5\n"
     ]
    }
   ],
   "source": [
    "# filter rows where churn = yes\n",
    "churned_data = df[df['Churn'] == 'Yes']\n",
    "\n",
    "# cross tabulate Gender and internetService\n",
    "internet_service_by_senior_citizen = pd.crosstab(churned_data[\"SeniorCitizen\"],churned_data[\"InternetService\"])\n",
    "print(internet_service_by_senior_citizen)"
   ]
  },
  {
   "cell_type": "markdown",
   "id": "7d357fe4-1578-47d5-a4e0-03ca8cff0498",
   "metadata": {},
   "source": [
    "### which payment method does old people prefer where churn is yes ?\n"
   ]
  },
  {
   "cell_type": "code",
   "execution_count": 121,
   "id": "df30a7bb-0511-4e83-92fe-c254544fe480",
   "metadata": {
    "tags": []
   },
   "outputs": [
    {
     "name": "stdout",
     "output_type": "stream",
     "text": [
      "Electronic check             1071\n",
      "Mailed check                  308\n",
      "Bank transfer (automatic)     258\n",
      "Credit card (automatic)       232\n",
      "Name: PaymentMethod, dtype: int64\n"
     ]
    }
   ],
   "source": [
    "### which payment method does old people prefer where churn is yes ?\n",
    "payment_method_analysis = churned_data['PaymentMethod'].value_counts()\n",
    "print(payment_method_analysis)"
   ]
  },
  {
   "cell_type": "code",
   "execution_count": 123,
   "id": "91b3fbef-ba30-4e8c-9556-c7e8a080571f",
   "metadata": {
    "tags": []
   },
   "outputs": [
    {
     "name": "stdout",
     "output_type": "stream",
     "text": [
      "Electronic check             594\n",
      "Bank transfer (automatic)    233\n",
      "Credit card (automatic)      221\n",
      "Mailed check                  94\n",
      "Name: PaymentMethod, dtype: int64\n"
     ]
    }
   ],
   "source": [
    "old_people_data = df[df['SeniorCitizen'] == 1]\n",
    "\n",
    "old_people_payment_method = old_people_data[\"PaymentMethod\"].value_counts()\n",
    "print(old_people_payment_method)"
   ]
  },
  {
   "cell_type": "markdown",
   "id": "91a43039-4069-40eb-8820-ee8a6c1820ff",
   "metadata": {},
   "source": []
  },
  {
   "cell_type": "code",
   "execution_count": 126,
   "id": "472bfda6-073d-4444-be9c-f057d51b534b",
   "metadata": {
    "tags": []
   },
   "outputs": [],
   "source": [
    "# combining data for mostly gender and senior citizen\n",
    "combined_analysis = pd.DataFrame({\n",
    "    'Churned Customers': payment_method_analysis,\n",
    "    'Older Customers': old_people_payment_method\n",
    "}).fillna(0)"
   ]
  },
  {
   "cell_type": "code",
   "execution_count": 128,
   "id": "fe97660d-0acb-4e9e-aa6b-b5242b61f902",
   "metadata": {
    "tags": []
   },
   "outputs": [
    {
     "data": {
      "text/html": [
       "<div>\n",
       "<style scoped>\n",
       "    .dataframe tbody tr th:only-of-type {\n",
       "        vertical-align: middle;\n",
       "    }\n",
       "\n",
       "    .dataframe tbody tr th {\n",
       "        vertical-align: top;\n",
       "    }\n",
       "\n",
       "    .dataframe thead th {\n",
       "        text-align: right;\n",
       "    }\n",
       "</style>\n",
       "<table border=\"1\" class=\"dataframe\">\n",
       "  <thead>\n",
       "    <tr style=\"text-align: right;\">\n",
       "      <th></th>\n",
       "      <th>Churned Customers</th>\n",
       "      <th>Older Customers</th>\n",
       "    </tr>\n",
       "  </thead>\n",
       "  <tbody>\n",
       "    <tr>\n",
       "      <th>Bank transfer (automatic)</th>\n",
       "      <td>258</td>\n",
       "      <td>233</td>\n",
       "    </tr>\n",
       "    <tr>\n",
       "      <th>Credit card (automatic)</th>\n",
       "      <td>232</td>\n",
       "      <td>221</td>\n",
       "    </tr>\n",
       "    <tr>\n",
       "      <th>Electronic check</th>\n",
       "      <td>1071</td>\n",
       "      <td>594</td>\n",
       "    </tr>\n",
       "    <tr>\n",
       "      <th>Mailed check</th>\n",
       "      <td>308</td>\n",
       "      <td>94</td>\n",
       "    </tr>\n",
       "  </tbody>\n",
       "</table>\n",
       "</div>"
      ],
      "text/plain": [
       "                           Churned Customers  Older Customers\n",
       "Bank transfer (automatic)                258              233\n",
       "Credit card (automatic)                  232              221\n",
       "Electronic check                        1071              594\n",
       "Mailed check                             308               94"
      ]
     },
     "execution_count": 128,
     "metadata": {},
     "output_type": "execute_result"
    }
   ],
   "source": [
    "combined_analysis"
   ]
  },
  {
   "cell_type": "code",
   "execution_count": 130,
   "id": "21248760-c3b6-4750-aa48-93618429f943",
   "metadata": {
    "tags": []
   },
   "outputs": [
    {
     "data": {
      "image/png": "[encoded data removed]",
      "text/plain": [
       "<Figure size 1000x600 with 1 Axes>"
      ]
     },
     "metadata": {},
     "output_type": "display_data"
    }
   ],
   "source": [
    "# Optional: Visualize using a bar plot\n",
    "combined_analysis.plot(kind='bar', figsize=(10, 6), title='Payment Methods by Churned and Older Customers')\n",
    "plt.xlabel('Payment Method')\n",
    "plt.ylabel('Count')\n",
    "plt.xticks(rotation=45)\n",
    "plt.show()"
   ]
  },
  {
   "cell_type": "markdown",
   "id": "9e0cf460-0093-410a-93fb-4db53338ae17",
   "metadata": {},
   "source": [
    "\n",
    "### Overall Insights:\n",
    "\n",
    "1.  High Preference for Fiber Optic Among Senior Citizens:\n",
    "\n",
    "-   Senior citizens who have churned appear to prefer Fiber optic over DSL, which suggests that this group might be more sensitive to service disruptions, connectivity issues, or performance problems with slower internet connections.\n",
    "\n",
    "-   Potential Action: If service quality issues with Fiber optic are driving churn, improvements in customer service or network reliability could help retain senior customers.\n",
    "\n",
    "3.  Electronic Check Dominates Payment Method Among Seniors:\n",
    "\n",
    "-   The most common payment method for churned senior citizens is Electronic check, which could indicate issues such as payment delays or processing errors. This method is prone to manual errors and might be more difficult for senior customers to manage effectively.\n",
    "\n",
    "-   Potential Action: Encouraging senior customers to switch to automatic payments, either via Bank Transfer (automatic) or Credit card (automatic), could reduce churn. Offering assistance or incentives to switch could improve retention.\n",
    "\n",
    "5.  Mailed Checks Are a Problematic Payment Method:\n",
    "\n",
    "-   Mailed checks are the least common payment method for churned senior citizens, suggesting that the delayed payment process may be particularly frustrating for this group.\n",
    "\n",
    "-   Potential Action: Offering alternative payment methods like automatic bank transfers could improve customer retention, especially for senior citizens."
   ]
  },
  {
   "cell_type": "code",
   "execution_count": null,
   "id": "1f156711-a3b7-44c8-85bc-6b9873056d15",
   "metadata": {},
   "outputs": [],
   "source": []
  },
  {
   "cell_type": "code",
   "execution_count": 138,
   "id": "fc09582f-648f-454e-af5e-4ca5efd80559",
   "metadata": {
    "tags": []
   },
   "outputs": [
    {
     "data": {
      "text/html": [
       "<div>\n",
       "<style scoped>\n",
       "    .dataframe tbody tr th:only-of-type {\n",
       "        vertical-align: middle;\n",
       "    }\n",
       "\n",
       "    .dataframe tbody tr th {\n",
       "        vertical-align: top;\n",
       "    }\n",
       "\n",
       "    .dataframe thead th {\n",
       "        text-align: right;\n",
       "    }\n",
       "</style>\n",
       "<table border=\"1\" class=\"dataframe\">\n",
       "  <thead>\n",
       "    <tr style=\"text-align: right;\">\n",
       "      <th></th>\n",
       "      <th>customerID</th>\n",
       "      <th>gender</th>\n",
       "      <th>SeniorCitizen</th>\n",
       "      <th>Partner</th>\n",
       "      <th>Dependents</th>\n",
       "      <th>tenure</th>\n",
       "      <th>PhoneService</th>\n",
       "      <th>MultipleLines</th>\n",
       "      <th>InternetService</th>\n",
       "      <th>OnlineSecurity</th>\n",
       "      <th>...</th>\n",
       "      <th>TechSupport</th>\n",
       "      <th>StreamingTV</th>\n",
       "      <th>StreamingMovies</th>\n",
       "      <th>Contract</th>\n",
       "      <th>PaperlessBilling</th>\n",
       "      <th>PaymentMethod</th>\n",
       "      <th>MonthlyCharges</th>\n",
       "      <th>TotalCharges</th>\n",
       "      <th>Churn</th>\n",
       "      <th>months</th>\n",
       "    </tr>\n",
       "  </thead>\n",
       "  <tbody>\n",
       "    <tr>\n",
       "      <th>0</th>\n",
       "      <td>7590-VHVEG</td>\n",
       "      <td>Female</td>\n",
       "      <td>0</td>\n",
       "      <td>Yes</td>\n",
       "      <td>No</td>\n",
       "      <td>1</td>\n",
       "      <td>No</td>\n",
       "      <td>No phone service</td>\n",
       "      <td>DSL</td>\n",
       "      <td>No</td>\n",
       "      <td>...</td>\n",
       "      <td>No</td>\n",
       "      <td>No</td>\n",
       "      <td>No</td>\n",
       "      <td>Month-to-month</td>\n",
       "      <td>Yes</td>\n",
       "      <td>Electronic check</td>\n",
       "      <td>29.85</td>\n",
       "      <td>29.85</td>\n",
       "      <td>No</td>\n",
       "      <td>1.000000</td>\n",
       "    </tr>\n",
       "    <tr>\n",
       "      <th>1</th>\n",
       "      <td>5575-GNVDE</td>\n",
       "      <td>Male</td>\n",
       "      <td>0</td>\n",
       "      <td>No</td>\n",
       "      <td>No</td>\n",
       "      <td>34</td>\n",
       "      <td>Yes</td>\n",
       "      <td>No</td>\n",
       "      <td>DSL</td>\n",
       "      <td>Yes</td>\n",
       "      <td>...</td>\n",
       "      <td>No</td>\n",
       "      <td>No</td>\n",
       "      <td>No</td>\n",
       "      <td>One year</td>\n",
       "      <td>No</td>\n",
       "      <td>Mailed check</td>\n",
       "      <td>56.95</td>\n",
       "      <td>1889.50</td>\n",
       "      <td>No</td>\n",
       "      <td>33.178227</td>\n",
       "    </tr>\n",
       "    <tr>\n",
       "      <th>2</th>\n",
       "      <td>3668-QPYBK</td>\n",
       "      <td>Male</td>\n",
       "      <td>0</td>\n",
       "      <td>No</td>\n",
       "      <td>No</td>\n",
       "      <td>2</td>\n",
       "      <td>Yes</td>\n",
       "      <td>No</td>\n",
       "      <td>DSL</td>\n",
       "      <td>Yes</td>\n",
       "      <td>...</td>\n",
       "      <td>No</td>\n",
       "      <td>No</td>\n",
       "      <td>No</td>\n",
       "      <td>Month-to-month</td>\n",
       "      <td>Yes</td>\n",
       "      <td>Mailed check</td>\n",
       "      <td>53.85</td>\n",
       "      <td>108.15</td>\n",
       "      <td>Yes</td>\n",
       "      <td>2.008357</td>\n",
       "    </tr>\n",
       "    <tr>\n",
       "      <th>3</th>\n",
       "      <td>7795-CFOCW</td>\n",
       "      <td>Male</td>\n",
       "      <td>0</td>\n",
       "      <td>No</td>\n",
       "      <td>No</td>\n",
       "      <td>45</td>\n",
       "      <td>No</td>\n",
       "      <td>No phone service</td>\n",
       "      <td>DSL</td>\n",
       "      <td>Yes</td>\n",
       "      <td>...</td>\n",
       "      <td>Yes</td>\n",
       "      <td>No</td>\n",
       "      <td>No</td>\n",
       "      <td>One year</td>\n",
       "      <td>No</td>\n",
       "      <td>Bank transfer (automatic)</td>\n",
       "      <td>42.30</td>\n",
       "      <td>1840.75</td>\n",
       "      <td>No</td>\n",
       "      <td>43.516548</td>\n",
       "    </tr>\n",
       "    <tr>\n",
       "      <th>4</th>\n",
       "      <td>9237-HQITU</td>\n",
       "      <td>Female</td>\n",
       "      <td>0</td>\n",
       "      <td>No</td>\n",
       "      <td>No</td>\n",
       "      <td>2</td>\n",
       "      <td>Yes</td>\n",
       "      <td>No</td>\n",
       "      <td>Fiber optic</td>\n",
       "      <td>No</td>\n",
       "      <td>...</td>\n",
       "      <td>No</td>\n",
       "      <td>No</td>\n",
       "      <td>No</td>\n",
       "      <td>Month-to-month</td>\n",
       "      <td>Yes</td>\n",
       "      <td>Electronic check</td>\n",
       "      <td>70.70</td>\n",
       "      <td>151.65</td>\n",
       "      <td>Yes</td>\n",
       "      <td>2.144979</td>\n",
       "    </tr>\n",
       "  </tbody>\n",
       "</table>\n",
       "<p>5 rows × 22 columns</p>\n",
       "</div>"
      ],
      "text/plain": [
       "   customerID  gender  SeniorCitizen Partner Dependents  tenure PhoneService  \\\n",
       "0  7590-VHVEG  Female              0     Yes         No       1           No   \n",
       "1  5575-GNVDE    Male              0      No         No      34          Yes   \n",
       "2  3668-QPYBK    Male              0      No         No       2          Yes   \n",
       "3  7795-CFOCW    Male              0      No         No      45           No   \n",
       "4  9237-HQITU  Female              0      No         No       2          Yes   \n",
       "\n",
       "      MultipleLines InternetService OnlineSecurity  ... TechSupport  \\\n",
       "0  No phone service             DSL             No  ...          No   \n",
       "1                No             DSL            Yes  ...          No   \n",
       "2                No             DSL            Yes  ...          No   \n",
       "3  No phone service             DSL            Yes  ...         Yes   \n",
       "4                No     Fiber optic             No  ...          No   \n",
       "\n",
       "  StreamingTV StreamingMovies        Contract PaperlessBilling  \\\n",
       "0          No              No  Month-to-month              Yes   \n",
       "1          No              No        One year               No   \n",
       "2          No              No  Month-to-month              Yes   \n",
       "3          No              No        One year               No   \n",
       "4          No              No  Month-to-month              Yes   \n",
       "\n",
       "               PaymentMethod MonthlyCharges TotalCharges  Churn     months  \n",
       "0           Electronic check          29.85        29.85     No   1.000000  \n",
       "1               Mailed check          56.95      1889.50     No  33.178227  \n",
       "2               Mailed check          53.85       108.15    Yes   2.008357  \n",
       "3  Bank transfer (automatic)          42.30      1840.75     No  43.516548  \n",
       "4           Electronic check          70.70       151.65    Yes   2.144979  \n",
       "\n",
       "[5 rows x 22 columns]"
      ]
     },
     "execution_count": 138,
     "metadata": {},
     "output_type": "execute_result"
    }
   ],
   "source": [
    "df.head(5)"
   ]
  },
  {
   "cell_type": "code",
   "execution_count": 146,
   "id": "5cb15fcd-7c1f-44df-99de-194f95ede8a0",
   "metadata": {},
   "outputs": [
    {
     "data": {
      "text/plain": [
       "Index(['customerID', 'gender', 'SeniorCitizen', 'Partner', 'Dependents',\n",
       "       'tenure', 'PhoneService', 'MultipleLines', 'InternetService',\n",
       "       'OnlineSecurity', 'OnlineBackup', 'DeviceProtection', 'TechSupport',\n",
       "       'StreamingTV', 'StreamingMovies', 'Contract', 'PaperlessBilling',\n",
       "       'PaymentMethod', 'MonthlyCharges', 'TotalCharges', 'Churn', 'months'],\n",
       "      dtype='object')"
      ]
     },
     "execution_count": 146,
     "metadata": {},
     "output_type": "execute_result"
    }
   ],
   "source": [
    "df.columns"
   ]
  },
  {
   "cell_type": "code",
   "execution_count": null,
   "id": "e8f5ca35-1adf-4e58-8c55-005e73435e9c",
   "metadata": {},
   "outputs": [],
   "source": [
    "# lets inspect data so that we can group the data in particular ways and make plans out of it and do some feature engineering and some statistical analysis like hypothesis testing(t-test)"
   ]
  },
  {
   "cell_type": "code",
   "execution_count": 164,
   "id": "e69cd14a-e371-462b-a842-1abe9b360867",
   "metadata": {
    "tags": []
   },
   "outputs": [
    {
     "data": {
      "text/html": [
       "<div>\n",
       "<style scoped>\n",
       "    .dataframe tbody tr th:only-of-type {\n",
       "        vertical-align: middle;\n",
       "    }\n",
       "\n",
       "    .dataframe tbody tr th {\n",
       "        vertical-align: top;\n",
       "    }\n",
       "\n",
       "    .dataframe thead th {\n",
       "        text-align: right;\n",
       "    }\n",
       "</style>\n",
       "<table border=\"1\" class=\"dataframe\">\n",
       "  <thead>\n",
       "    <tr style=\"text-align: right;\">\n",
       "      <th></th>\n",
       "      <th>tenure</th>\n",
       "      <th>PhoneService</th>\n",
       "      <th>InternetService</th>\n",
       "      <th>OnlineSecurity</th>\n",
       "      <th>OnlineBackup</th>\n",
       "      <th>DeviceProtection</th>\n",
       "      <th>TechSupport</th>\n",
       "      <th>StreamingTV</th>\n",
       "      <th>StreamingMovies</th>\n",
       "      <th>Contract</th>\n",
       "      <th>MonthlyCharges</th>\n",
       "      <th>Churn</th>\n",
       "    </tr>\n",
       "  </thead>\n",
       "  <tbody>\n",
       "    <tr>\n",
       "      <th>0</th>\n",
       "      <td>1</td>\n",
       "      <td>No</td>\n",
       "      <td>DSL</td>\n",
       "      <td>No</td>\n",
       "      <td>Yes</td>\n",
       "      <td>No</td>\n",
       "      <td>No</td>\n",
       "      <td>No</td>\n",
       "      <td>No</td>\n",
       "      <td>Month-to-month</td>\n",
       "      <td>29.85</td>\n",
       "      <td>No</td>\n",
       "    </tr>\n",
       "    <tr>\n",
       "      <th>1</th>\n",
       "      <td>34</td>\n",
       "      <td>Yes</td>\n",
       "      <td>DSL</td>\n",
       "      <td>Yes</td>\n",
       "      <td>No</td>\n",
       "      <td>Yes</td>\n",
       "      <td>No</td>\n",
       "      <td>No</td>\n",
       "      <td>No</td>\n",
       "      <td>One year</td>\n",
       "      <td>56.95</td>\n",
       "      <td>No</td>\n",
       "    </tr>\n",
       "    <tr>\n",
       "      <th>2</th>\n",
       "      <td>2</td>\n",
       "      <td>Yes</td>\n",
       "      <td>DSL</td>\n",
       "      <td>Yes</td>\n",
       "      <td>Yes</td>\n",
       "      <td>No</td>\n",
       "      <td>No</td>\n",
       "      <td>No</td>\n",
       "      <td>No</td>\n",
       "      <td>Month-to-month</td>\n",
       "      <td>53.85</td>\n",
       "      <td>Yes</td>\n",
       "    </tr>\n",
       "    <tr>\n",
       "      <th>3</th>\n",
       "      <td>45</td>\n",
       "      <td>No</td>\n",
       "      <td>DSL</td>\n",
       "      <td>Yes</td>\n",
       "      <td>No</td>\n",
       "      <td>Yes</td>\n",
       "      <td>Yes</td>\n",
       "      <td>No</td>\n",
       "      <td>No</td>\n",
       "      <td>One year</td>\n",
       "      <td>42.30</td>\n",
       "      <td>No</td>\n",
       "    </tr>\n",
       "    <tr>\n",
       "      <th>4</th>\n",
       "      <td>2</td>\n",
       "      <td>Yes</td>\n",
       "      <td>Fiber optic</td>\n",
       "      <td>No</td>\n",
       "      <td>No</td>\n",
       "      <td>No</td>\n",
       "      <td>No</td>\n",
       "      <td>No</td>\n",
       "      <td>No</td>\n",
       "      <td>Month-to-month</td>\n",
       "      <td>70.70</td>\n",
       "      <td>Yes</td>\n",
       "    </tr>\n",
       "    <tr>\n",
       "      <th>...</th>\n",
       "      <td>...</td>\n",
       "      <td>...</td>\n",
       "      <td>...</td>\n",
       "      <td>...</td>\n",
       "      <td>...</td>\n",
       "      <td>...</td>\n",
       "      <td>...</td>\n",
       "      <td>...</td>\n",
       "      <td>...</td>\n",
       "      <td>...</td>\n",
       "      <td>...</td>\n",
       "      <td>...</td>\n",
       "    </tr>\n",
       "    <tr>\n",
       "      <th>7038</th>\n",
       "      <td>24</td>\n",
       "      <td>Yes</td>\n",
       "      <td>DSL</td>\n",
       "      <td>Yes</td>\n",
       "      <td>No</td>\n",
       "      <td>Yes</td>\n",
       "      <td>Yes</td>\n",
       "      <td>Yes</td>\n",
       "      <td>Yes</td>\n",
       "      <td>One year</td>\n",
       "      <td>84.80</td>\n",
       "      <td>No</td>\n",
       "    </tr>\n",
       "    <tr>\n",
       "      <th>7039</th>\n",
       "      <td>72</td>\n",
       "      <td>Yes</td>\n",
       "      <td>Fiber optic</td>\n",
       "      <td>No</td>\n",
       "      <td>Yes</td>\n",
       "      <td>Yes</td>\n",
       "      <td>No</td>\n",
       "      <td>Yes</td>\n",
       "      <td>Yes</td>\n",
       "      <td>One year</td>\n",
       "      <td>103.20</td>\n",
       "      <td>No</td>\n",
       "    </tr>\n",
       "    <tr>\n",
       "      <th>7040</th>\n",
       "      <td>11</td>\n",
       "      <td>No</td>\n",
       "      <td>DSL</td>\n",
       "      <td>Yes</td>\n",
       "      <td>No</td>\n",
       "      <td>No</td>\n",
       "      <td>No</td>\n",
       "      <td>No</td>\n",
       "      <td>No</td>\n",
       "      <td>Month-to-month</td>\n",
       "      <td>29.60</td>\n",
       "      <td>No</td>\n",
       "    </tr>\n",
       "    <tr>\n",
       "      <th>7041</th>\n",
       "      <td>4</td>\n",
       "      <td>Yes</td>\n",
       "      <td>Fiber optic</td>\n",
       "      <td>No</td>\n",
       "      <td>No</td>\n",
       "      <td>No</td>\n",
       "      <td>No</td>\n",
       "      <td>No</td>\n",
       "      <td>No</td>\n",
       "      <td>Month-to-month</td>\n",
       "      <td>74.40</td>\n",
       "      <td>Yes</td>\n",
       "    </tr>\n",
       "    <tr>\n",
       "      <th>7042</th>\n",
       "      <td>66</td>\n",
       "      <td>Yes</td>\n",
       "      <td>Fiber optic</td>\n",
       "      <td>Yes</td>\n",
       "      <td>No</td>\n",
       "      <td>Yes</td>\n",
       "      <td>Yes</td>\n",
       "      <td>Yes</td>\n",
       "      <td>Yes</td>\n",
       "      <td>Two year</td>\n",
       "      <td>105.65</td>\n",
       "      <td>No</td>\n",
       "    </tr>\n",
       "  </tbody>\n",
       "</table>\n",
       "<p>7043 rows × 12 columns</p>\n",
       "</div>"
      ],
      "text/plain": [
       "      tenure PhoneService InternetService OnlineSecurity OnlineBackup  \\\n",
       "0          1           No             DSL             No          Yes   \n",
       "1         34          Yes             DSL            Yes           No   \n",
       "2          2          Yes             DSL            Yes          Yes   \n",
       "3         45           No             DSL            Yes           No   \n",
       "4          2          Yes     Fiber optic             No           No   \n",
       "...      ...          ...             ...            ...          ...   \n",
       "7038      24          Yes             DSL            Yes           No   \n",
       "7039      72          Yes     Fiber optic             No          Yes   \n",
       "7040      11           No             DSL            Yes           No   \n",
       "7041       4          Yes     Fiber optic             No           No   \n",
       "7042      66          Yes     Fiber optic            Yes           No   \n",
       "\n",
       "     DeviceProtection TechSupport StreamingTV StreamingMovies        Contract  \\\n",
       "0                  No          No          No              No  Month-to-month   \n",
       "1                 Yes          No          No              No        One year   \n",
       "2                  No          No          No              No  Month-to-month   \n",
       "3                 Yes         Yes          No              No        One year   \n",
       "4                  No          No          No              No  Month-to-month   \n",
       "...               ...         ...         ...             ...             ...   \n",
       "7038              Yes         Yes         Yes             Yes        One year   \n",
       "7039              Yes          No         Yes             Yes        One year   \n",
       "7040               No          No          No              No  Month-to-month   \n",
       "7041               No          No          No              No  Month-to-month   \n",
       "7042              Yes         Yes         Yes             Yes        Two year   \n",
       "\n",
       "      MonthlyCharges Churn  \n",
       "0              29.85    No  \n",
       "1              56.95    No  \n",
       "2              53.85   Yes  \n",
       "3              42.30    No  \n",
       "4              70.70   Yes  \n",
       "...              ...   ...  \n",
       "7038           84.80    No  \n",
       "7039          103.20    No  \n",
       "7040           29.60    No  \n",
       "7041           74.40   Yes  \n",
       "7042          105.65    No  \n",
       "\n",
       "[7043 rows x 12 columns]"
      ]
     },
     "execution_count": 164,
     "metadata": {},
     "output_type": "execute_result"
    }
   ],
   "source": [
    "df[[ 'tenure', 'PhoneService', 'InternetService',\n",
    "       'OnlineSecurity', 'OnlineBackup', 'DeviceProtection', 'TechSupport',\n",
    "       'StreamingTV', 'StreamingMovies', 'Contract', \n",
    "       'MonthlyCharges', 'Churn']]"
   ]
  },
  {
   "cell_type": "markdown",
   "id": "4601d43c-2f02-4de8-9a9b-6b5723726e96",
   "metadata": {
    "tags": []
   },
   "source": [
    "so after inspecting the data, i will try to find corelation between the internet-service and online security, determing whether people who opt for particular internet service, use online security or not, and will do this with another related columns, this will help me to make different plans for different segments of services and target desired audiance accordingly."
   ]
  },
  {
   "cell_type": "markdown",
   "id": "485adf1b-a67d-40ba-aa69-2c04c2b38cd3",
   "metadata": {},
   "source": [
    "### Determine if people using DSL or Fiber Optic internet are more likely to opt for Online Security"
   ]
  },
  {
   "cell_type": "code",
   "execution_count": 193,
   "id": "ea9d8901-2362-48a5-a8cd-f329adf1c462",
   "metadata": {
    "tags": []
   },
   "outputs": [
    {
     "name": "stdout",
     "output_type": "stream",
     "text": [
      "DSL Online Security Proportions:\n",
      "No     0.512598\n",
      "Yes    0.487402\n",
      "Name: OnlineSecurity, dtype: float64\n",
      "\n",
      "Fiber Optic Online Security Proportions:\n",
      "No     0.729005\n",
      "Yes    0.270995\n",
      "Name: OnlineSecurity, dtype: float64\n",
      "\n",
      "\n",
      "DSL - Opting for Online Security: 48.74%\n",
      "Fiber Optic - Opting for Online Security: 27.10%\n"
     ]
    }
   ],
   "source": [
    "# filter dsl data and fiber optic data from Internet Service column\n",
    "dsl_data = df[df['InternetService'] == 'DSL']\n",
    "fiber_data = df[df['InternetService'] == 'Fiber optic']\n",
    "\n",
    "#calculate prop for dsl \n",
    "dsl_security = dsl_data[\"OnlineSecurity\"].value_counts(normalize = True)\n",
    "print(\"DSL Online Security Proportions:\")\n",
    "print(dsl_security)\n",
    "\n",
    "fiber_security = fiber_data['OnlineSecurity'].value_counts(normalize=True)\n",
    "print(\"\\nFiber Optic Online Security Proportions:\")\n",
    "print(fiber_security)\n",
    "print(\"\\n\")\n",
    "print(f\"DSL - Opting for Online Security: {dsl_security.get('Yes', 0) * 100:.2f}%\")\n",
    "print(f\"Fiber Optic - Opting for Online Security: {fiber_security.get('Yes', 0) * 100:.2f}%\")"
   ]
  },
  {
   "cell_type": "code",
   "execution_count": 197,
   "id": "ee078af5-6329-4810-8462-132b2bf9e9ea",
   "metadata": {
    "tags": []
   },
   "outputs": [
    {
     "name": "stdout",
     "output_type": "stream",
     "text": [
      "Contingency Table:\n",
      "OnlineSecurity     No  No internet service   Yes\n",
      "InternetService                                 \n",
      "DSL              1241                    0  1180\n",
      "Fiber optic      2257                    0   839\n",
      "No                  0                 1526     0\n",
      "\n",
      "Chi-Square Test Results:\n",
      "Chi-Square Statistic: 7393.058145571624\n",
      "P-Value: 0.0\n",
      "Degrees of Freedom: 4\n",
      "\n",
      "Expected Frequencies:\n",
      "[[1202.42197927  524.55572909  694.02229164]\n",
      " [1537.66974301  670.80732642  887.52293057]\n",
      " [ 757.90827772  330.63694448  437.45477779]]\n",
      "\n",
      "Conclusion: There is a significant association between Internet Service and Online Security.\n"
     ]
    }
   ],
   "source": [
    "#statistical analysis\n",
    "contingency_table = pd.crosstab(df[\"InternetService\"], df[\"OnlineSecurity\"])\n",
    "print(\"Contingency Table:\")\n",
    "print(contingency_table)\n",
    "\n",
    "#perform chi square test\n",
    "chi2, p, dof, expected = chi2_contingency(contingency_table)\n",
    "\n",
    "print(\"\\nChi-Square Test Results:\")\n",
    "print(f\"Chi-Square Statistic: {chi2}\")\n",
    "print(f\"P-Value: {p}\")\n",
    "print(f\"Degrees of Freedom: {dof}\")\n",
    "print(\"\\nExpected Frequencies:\")\n",
    "print(expected)\n",
    "\n",
    "if p < 0.05:\n",
    "    print(\"\\nConclusion: There is a significant association between Internet Service and Online Security.\")\n",
    "else:\n",
    "    print(\"\\nConclusion: There is no significant association between Internet Service and Online Security.\")"
   ]
  },
  {
   "cell_type": "markdown",
   "id": "35dd6464-047a-44d5-b3b4-7a1f088db63e",
   "metadata": {},
   "source": [
    "Insights from the Analysis of Online Security by Internet Service (DSL vs. Fiber Optic):\n",
    "\n",
    "Key Insight:\n",
    "\n",
    "-   DSL users are more likely to opt for Online Security than Fiber optic users. The proportion of DSL users opting for Online Security is significantly higher (48.74%) compared to Fiber optic users (27.10%).\n",
    "\n",
    "### Insights Based on Statistical Analysis:\n",
    "\n",
    "1.  Proportions Insight:\n",
    "\n",
    "-   DSL customers are more inclined to opt for Online Security, with almost half of them opting for this feature.\n",
    "\n",
    "-   On the other hand, Fiber optic customers are less likely to opt for Online Security, with only about a quarter of them choosing to subscribe to it.\n",
    "\n",
    "3.  Statistical Conclusion:\n",
    "\n",
    "-   If the p-value is small (< 0.05), the chi-square test result will confirm that there is a significant association between the type of internet service (DSL or Fiber optic) and the likelihood of opting for Online Security. This means that the type of internet service could be influencing customers' decisions to opt for security.\n",
    "\n",
    "-   If the p-value is large (> 0.05), there would be no significant association between internet service type and opting for online security, suggesting that factors other than internet service type might be driving the decision to opt for security.\n",
    "\n",
    "### Potential Actions/Recommendations:\n",
    "\n",
    "-   If the chi-square test indicates statistical significance, this suggests that internet service type could be a factor in determining the uptake of Online Security. You could explore:\n",
    "\n",
    "-   Improving Online Security options for Fiber optic users to encourage more of them to opt for it.\n",
    "\n",
    "-   Offering tailored marketing or support to Fiber optic customers to educate them on the importance of Online Security.\n",
    "\n",
    "-   If the result is not statistically significant, further analysis is needed to identify other factors that may influence the decision to opt for online security (e.g., age, device usage, or customer service interactions)."
   ]
  },
  {
   "cell_type": "code",
   "execution_count": null,
   "id": "80b1fc7b-c34e-46e1-b1a5-0a0579d9c17e",
   "metadata": {},
   "outputs": [],
   "source": []
  },
  {
   "cell_type": "markdown",
   "id": "946cb440-b36b-4756-acf6-25a51c97488c",
   "metadata": {},
   "source": [
    "### Determine if people using DSL or Fiber Optic internet are more likely to opt for Online backup"
   ]
  },
  {
   "cell_type": "code",
   "execution_count": 195,
   "id": "baf87fd9-96ad-4695-86c5-729124e1dac6",
   "metadata": {
    "tags": []
   },
   "outputs": [
    {
     "name": "stdout",
     "output_type": "stream",
     "text": [
      "DSL OlineBackup Proportions:\n",
      "No     0.551425\n",
      "Yes    0.448575\n",
      "Name: OnlineBackup, dtype: float64\n",
      "\n",
      "Fiber Optic Online Backup Proportions:\n",
      "No     0.566214\n",
      "Yes    0.433786\n",
      "Name: OnlineBackup, dtype: float64\n",
      "\n",
      "\n",
      "DSL - Opting for Online Backup: 44.86%\n",
      "Fiber Optic - Opting for Online Backup: 43.38%\n"
     ]
    }
   ],
   "source": [
    "#calculate prop for dsl \n",
    "dsl_backup = dsl_data[\"OnlineBackup\"].value_counts(normalize = True)\n",
    "print(\"DSL OlineBackup Proportions:\")\n",
    "print(dsl_backup)\n",
    "\n",
    "fiber_backup = fiber_data['OnlineBackup'].value_counts(normalize=True)\n",
    "print(\"\\nFiber Optic Online Backup Proportions:\")\n",
    "print(fiber_backup)\n",
    "print(\"\\n\")\n",
    "\n",
    "print(f\"DSL - Opting for Online Backup: {dsl_backup.get('Yes', 0) * 100:.2f}%\")\n",
    "print(f\"Fiber Optic - Opting for Online Backup: {fiber_backup.get('Yes', 0) * 100:.2f}%\")"
   ]
  },
  {
   "cell_type": "code",
   "execution_count": 199,
   "id": "46348f04-9a30-4504-b7d8-43783cb59284",
   "metadata": {
    "tags": []
   },
   "outputs": [
    {
     "name": "stdout",
     "output_type": "stream",
     "text": [
      "Contingency Table:\n",
      "OnlineBackup       No  No internet service   Yes\n",
      "InternetService                                 \n",
      "DSL              1335                    0  1086\n",
      "Fiber optic      1753                    0  1343\n",
      "No                  0                 1526     0\n",
      "\n",
      "Chi-Square Test Results:\n",
      "Chi-Square Statistic: 7044.539401984885\n",
      "P-Value: 0.0\n",
      "Degrees of Freedom: 4\n",
      "\n",
      "Expected Frequencies:\n",
      "[[1061.48629845  524.55572909  834.95797245]\n",
      " [1357.43972739  670.80732642 1067.75294619]\n",
      " [ 669.07397416  330.63694448  526.28908136]]\n",
      "\n",
      "Conclusion: There is a significant association between Internet Service and Online Backup.\n"
     ]
    }
   ],
   "source": [
    "#statistical analysis\n",
    "contingency_table = pd.crosstab(df[\"InternetService\"], df[\"OnlineBackup\"])\n",
    "print(\"Contingency Table:\")\n",
    "print(contingency_table)\n",
    "\n",
    "#perform chi square test\n",
    "chi2, p, dof, expected = chi2_contingency(contingency_table)\n",
    "\n",
    "print(\"\\nChi-Square Test Results:\")\n",
    "print(f\"Chi-Square Statistic: {chi2}\")\n",
    "print(f\"P-Value: {p}\")\n",
    "print(f\"Degrees of Freedom: {dof}\")\n",
    "print(\"\\nExpected Frequencies:\")\n",
    "print(expected)\n",
    "\n",
    "if p < 0.05:\n",
    "    print(\"\\nConclusion: There is a significant association between Internet Service and Online Backup.\")\n",
    "else:\n",
    "    print(\"\\nConclusion: There is no significant association between Internet Service and Online Backup.\")"
   ]
  },
  {
   "cell_type": "markdown",
   "id": "cf134e3c-7426-4d75-8f33-d6c2d7ac712e",
   "metadata": {},
   "source": [
    "### Insights from the Analysis of Online Backup Adoption by Internet Service Type (DSL vs. Fiber Optic):\n",
    "\n",
    "Key Insight:\n",
    "\n",
    "-   DSL and Fiber Optic users have almost identical proportions of opting for Online Backup. The difference in adoption rates is very small, with DSL users slightly more likely to opt for it.\n",
    "\n",
    "### Conclusion from Chi-Square Test:\n",
    "\n",
    "-   Since the p-value is 0.0, which is much less than 0.05, we can conclude that there is a significant association between Internet Service (DSL vs. Fiber optic) and the decision to opt for Online Backup. This suggests that the type of internet service does influence whether a customer subscribes to Online Backup.\n",
    "\n",
    "### Further Insights:\n",
    "\n",
    "1.  Proportions Comparison:\n",
    "\n",
    "-   DSL users are slightly more likely to opt for Online Backup compared to Fiber optic users, but the difference is minimal (44.86% vs. 43.38%).\n",
    "\n",
    "3.  Chi-Square Test Result:\n",
    "\n",
    "-   The significant p-value (< 0.05) indicates that Internet Service Type (DSL, Fiber optic, No internet service) is associated with whether a customer opts for Online Backup.\n",
    "\n",
    "-   The expected and observed frequencies suggest that both DSL and Fiber optic users follow a similar pattern of opting for or against Online Backup, with no stark differences in their choices.\n",
    "\n",
    "### Potential Actions/Recommendations:\n",
    "\n",
    "-   Focus on the similarity in adoption: Since both DSL and Fiber optic users have similar proportions of opting for Online Backup, marketing or support efforts could be equally focused on both groups.\n",
    "\n",
    "-   Improving options for \"No\" users: A considerable proportion of customers in both categories have not opted for Online Backup. Targeted campaigns could be created to highlight the benefits of Online Backup and incentivize users, especially those in the \"No\" category."
   ]
  },
  {
   "cell_type": "markdown",
   "id": "95b422bb-f91e-4138-8aee-6e6e8cafbf9c",
   "metadata": {},
   "source": [
    "## corr between internet service and device protection\n"
   ]
  },
  {
   "cell_type": "code",
   "execution_count": 201,
   "id": "a1e4bd1a-eea3-42f6-b546-9c70ae251f3e",
   "metadata": {
    "tags": []
   },
   "outputs": [
    {
     "name": "stdout",
     "output_type": "stream",
     "text": [
      "Contingency Table:\n",
      "DeviceProtection    No  No internet service   Yes\n",
      "InternetService                                  \n",
      "DSL               1356                    0  1065\n",
      "Fiber optic       1739                    0  1357\n",
      "No                   0                 1526     0\n",
      "\n",
      "Chi-Square Test Results:\n",
      "Chi-Square Statistic: 7043.017879444413\n",
      "P-Value: 0.0\n",
      "Degrees of Freedom: 4\n",
      "\n",
      "Expected Frequencies:\n",
      "[[1063.89251739  524.55572909  832.55175351]\n",
      " [1360.51682522  670.80732642 1064.67584836]\n",
      " [ 670.59065739  330.63694448  524.77239813]]\n",
      "\n",
      "Conclusion: There is a significant association between Internet Service and Device Protection.\n"
     ]
    }
   ],
   "source": [
    "\n",
    "contingency_table = pd.crosstab(df[\"InternetService\"], df[\"DeviceProtection\"])\n",
    "print(\"Contingency Table:\")\n",
    "print(contingency_table)\n",
    "\n",
    "#perform chi square test\n",
    "chi2, p, dof, expected = chi2_contingency(contingency_table)\n",
    "\n",
    "print(\"\\nChi-Square Test Results:\")\n",
    "print(f\"Chi-Square Statistic: {chi2}\")\n",
    "print(f\"P-Value: {p}\")\n",
    "print(f\"Degrees of Freedom: {dof}\")\n",
    "print(\"\\nExpected Frequencies:\")\n",
    "print(expected)\n",
    "\n",
    "if p < 0.05:\n",
    "    print(\"\\nConclusion: There is a significant association between Internet Service and Device Protection.\")\n",
    "else:\n",
    "    print(\"\\nConclusion: There is no significant association between Internet Service and Device Protection.\")"
   ]
  },
  {
   "cell_type": "markdown",
   "id": "29d3c06d-785c-47ae-af20-d387231cfb28",
   "metadata": {},
   "source": [
    "### Key Insights from the Analysis of Device Protection and Internet Service Type (DSL vs. Fiber Optic):\n",
    "\n",
    "### Conclusion from Chi-Square Test:\n",
    "\n",
    "-   Since the p-value is 0.0, which is much less than 0.05, we can conclude that there is a significant association between Internet Service Type (DSL, Fiber optic) and the decision to opt for Device Protection. This suggests that the type of internet service does have an influence on whether customers subscribe to Device Protection.\n",
    "\n",
    "### Further Insights:\n",
    "\n",
    "1.  Proportions Comparison:\n",
    "\n",
    "-   DSL and Fiber optic users have nearly identical proportions of opting for Device Protection (44.06% vs. 43.99%).\n",
    "\n",
    "-   The minor difference suggests that the internet service type does not significantly alter the likelihood of opting for Device Protection.\n",
    "\n",
    "3.  Chi-Square Test Result:\n",
    "\n",
    "-   The significant p-value (< 0.05) indicates a statistically significant association between Internet Service Type and Device Protection.\n",
    "\n",
    "-   However, the observed and expected frequencies suggest that both DSL and Fiber optic users behave similarly when it comes to opting for Device Protection, with no major differences in their choices.\n",
    "\n",
    "### Potential Actions/Recommendations:\n",
    "\n",
    "-   Targeted Campaigns: Since the proportion of customers opting for Device Protection is similar across both DSL and Fiber optic users, marketing efforts can target both groups equally.\n",
    "\n",
    "-   Focus on Conversion: Given that a significant proportion of both DSL and Fiber optic users do not opt for Device Protection, creating campaigns that emphasize the benefits of Device Protection could help increase adoption across both groups."
   ]
  },
  {
   "cell_type": "markdown",
   "id": "64de5a96-8e97-4574-89fa-645fd54a900d",
   "metadata": {},
   "source": [
    "## corr between internet service and tech support\n"
   ]
  },
  {
   "cell_type": "code",
   "execution_count": 209,
   "id": "2b490d9d-a82a-4f91-ab9f-0a4751435cd6",
   "metadata": {
    "tags": []
   },
   "outputs": [
    {
     "name": "stdout",
     "output_type": "stream",
     "text": [
      "Contingency Table:\n",
      "TechSupport        No  No internet service   Yes\n",
      "InternetService                                 \n",
      "DSL              1243                    0  1178\n",
      "Fiber optic      2230                    0   866\n",
      "No                  0                 1526     0\n",
      "\n",
      "Chi-Square Test Results:\n",
      "Chi-Square Statistic: 7361.215209681672\n",
      "P-Value: 0.0\n",
      "Degrees of Freedom: 4\n",
      "\n",
      "Expected Frequencies:\n",
      "[[1193.8283402   524.55572909  702.61593071]\n",
      " [1526.68010791  670.80732642  898.51256567]\n",
      " [ 752.4915519   330.63694448  442.87150362]]\n",
      "\n",
      "Conclusion: There is a significant association between Internet Service and Device Protection.\n"
     ]
    }
   ],
   "source": [
    "# corr between internet service and tech support\n",
    "\n",
    "contingency_table = pd.crosstab(df[\"InternetService\"], df[\"TechSupport\"])\n",
    "print(\"Contingency Table:\")\n",
    "print(contingency_table)\n",
    "\n",
    "#perform chi square test\n",
    "chi2, p, dof, expected = chi2_contingency(contingency_table)\n",
    "\n",
    "print(\"\\nChi-Square Test Results:\")\n",
    "print(f\"Chi-Square Statistic: {chi2}\")\n",
    "print(f\"P-Value: {p}\")\n",
    "print(f\"Degrees of Freedom: {dof}\")\n",
    "print(\"\\nExpected Frequencies:\")\n",
    "print(expected)\n",
    "\n",
    "if p < 0.05:\n",
    "    print(\"\\nConclusion: There is a significant association between Internet Service and Device Protection.\")\n",
    "else:\n",
    "    print(\"\\nConclusion: There is no significant association between Internet Service and Device Protection.\")"
   ]
  },
  {
   "cell_type": "markdown",
   "id": "f1c27e98-1024-43af-af82-0642caed1155",
   "metadata": {},
   "source": [
    "## Key Insights from the Analysis of Tech Support and Internet Service Type (DSL vs. Fiber Optic):\n",
    "\n",
    "Key Insight:\n",
    "\n",
    "-   DSL users are more likely to have Tech Support compared to Fiber optic users. Almost half of DSL users have opted for Tech Support, whereas only about a quarter of Fiber optic users have Tech Support.\n",
    "\n",
    "### Conclusion from Chi-Square Test:\n",
    "\n",
    "-   Since the p-value is 0.0, which is much less than 0.05, we can conclude that there is a significant association between Internet Service Type (DSL, Fiber optic) and the decision to opt for Tech Support. This indicates that the type of internet service significantly influences whether or not customers choose Tech Support.\n",
    "\n",
    "### Further Insights:\n",
    "\n",
    "1.  Proportions Comparison:\n",
    "\n",
    "-   DSL users are significantly more likely to opt for Tech Support than Fiber optic users. Around 48.77% of DSL users have Tech Support, compared to only 27.89% of Fiber optic users.\n",
    "\n",
    "3.  Chi-Square Test Result:\n",
    "\n",
    "-   The significant p-value (< 0.05) indicates a statistically significant association between Internet Service Type and Tech Support.\n",
    "\n",
    "-   This suggests that DSL and Fiber optic users behave differently when it comes to subscribing to Tech Support, with DSL users showing higher adoption of this service.\n",
    "\n",
    "### Key Takeaways and Recommendations:\n",
    "\n",
    "-   DSL users show higher interest in Tech Support, which may be due to a perception of more potential technical issues with DSL connections or more aggressive marketing or support initiatives for this group.\n",
    "\n",
    "-   Fiber optic users, on the other hand, may feel that their Fiber optic service is more reliable and hence feel less of a need for Tech Support.\n",
    "\n",
    "### Potential Actions/Recommendations:\n",
    "\n",
    "-   Targeted Campaigns: Since DSL users are more likely to opt for Tech Support, providers could focus on Fiber optic users with campaigns promoting Tech Support to increase adoption.\n",
    "\n",
    "-   Service Reliability Messaging: Fiber optic providers might want to reassure customers about the reliability of their service and highlight the benefits of Tech Support, even for customers who feel confident in the quality of their service."
   ]
  },
  {
   "cell_type": "code",
   "execution_count": null,
   "id": "e5d4bec6-6e14-4486-845c-28a0590e5a22",
   "metadata": {
    "tags": []
   },
   "outputs": [],
   "source": [
    "#  finding how many DSL and Fiber Optic users have a tenure greater than 12 months"
   ]
  },
  {
   "cell_type": "code",
   "execution_count": 226,
   "id": "01b211ad-4674-4291-b27d-3063c1ed7918",
   "metadata": {
    "tags": []
   },
   "outputs": [
    {
     "name": "stdout",
     "output_type": "stream",
     "text": [
      "Number of DSL users with tenure > 12 months: 1671\n",
      "Number of Fiber Optic users with tenure > 12 months: 2173\n"
     ]
    }
   ],
   "source": [
    "dsl_tenure = df[(df['InternetService'] == 'DSL') & (df['tenure'] > 12)]\n",
    "fiber_tenure = df[(df['InternetService'] == 'Fiber optic') & (df['tenure'] > 12)]\n",
    "\n",
    "dsl_count = len(dsl_tenure)\n",
    "fiber_count = len(fiber_tenure)\n",
    "\n",
    "print(f\"Number of DSL users with tenure > 12 months: {dsl_count}\")\n",
    "print(f\"Number of Fiber Optic users with tenure > 12 months: {fiber_count}\")"
   ]
  },
  {
   "cell_type": "code",
   "execution_count": 240,
   "id": "d2dd28d5-4a3e-41ed-b9eb-0a33aa4a90a4",
   "metadata": {
    "tags": []
   },
   "outputs": [
    {
     "data": {
      "image/png": "[encoded data removed]",
      "text/plain": [
       "<Figure size 640x480 with 1 Axes>"
      ]
     },
     "metadata": {},
     "output_type": "display_data"
    }
   ],
   "source": [
    "counts = {'DSL': dsl_count, 'Fiber Optic': fiber_count}\n",
    "\n",
    "# Plot\n",
    "plt.bar(counts.keys(), counts.values(), color=['blue', 'orange'])\n",
    "plt.title('Users with Tenure > 12 Months')\n",
    "plt.xlabel('Internet Service')\n",
    "plt.ylabel('Number of Users')\n",
    "plt.show()"
   ]
  },
  {
   "cell_type": "markdown",
   "id": "0910e113-3e25-4f07-beb0-706ca1fc3e28",
   "metadata": {
    "tags": []
   },
   "source": [
    "## Key Insights from Tenure Analysis for DSL and Fiber Optic Users:\n",
    "\n",
    "### Key Observations:\n",
    "\n",
    "1.  Fiber Optic Users Have Longer Tenure:\n",
    "\n",
    "-   The number of Fiber Optic users with a tenure greater than 12 months (2173) is higher than the number of DSL users with the same tenure (1671).\n",
    "\n",
    "-   This suggests that Fiber Optic users may be more likely to stay with the service for a longer period compared to DSL users.\n",
    "\n",
    "3.  Retention Insight:\n",
    "\n",
    "-   The higher number of Fiber Optic users with tenure > 12 months could indicate that Fiber Optic service may offer higher satisfaction or better quality, leading to longer retention times.\n",
    "\n",
    "-   DSL users, in comparison, might experience lower satisfaction or face more technical issues that cause them to leave sooner than Fiber Optic users.\n",
    "\n",
    "5.  Potential Action Points for Service Providers:\n",
    "\n",
    "-   Retention Strategies: If Fiber Optic users are indeed more loyal, providers may want to focus on retaining DSL users by improving the quality of service, customer support, or offering incentives for longer tenure.\n",
    "\n",
    "-   Customer Segmentation: It could be valuable to segment customers based on tenure and tailor loyalty programs for users with longer tenures, particularly those on Fiber Optic plans."
   ]
  },
  {
   "cell_type": "code",
   "execution_count": 232,
   "id": "474ba19c-2e92-472a-8181-574ab225f863",
   "metadata": {
    "tags": []
   },
   "outputs": [
    {
     "name": "stdout",
     "output_type": "stream",
     "text": [
      "Number of DSL users with phone service > 12 months: 1739\n",
      "Number of Fiber Optic users with phone service > 12 months: 3096\n"
     ]
    }
   ],
   "source": [
    "dsl_phone = df[(df['InternetService'] == 'DSL') & (df['PhoneService'] == \"Yes\")]\n",
    "fiber_phone = df[(df['InternetService'] == 'Fiber optic') & (df['PhoneService'] == \"Yes\")]\n",
    "\n",
    "dsl_phone_count = len(dsl_phone)\n",
    "fiber_phone_count = len(fiber_phone)\n",
    "\n",
    "print(f\"Number of DSL users with phone service > 12 months: {dsl_phone_count}\")\n",
    "print(f\"Number of Fiber Optic users with phone service > 12 months: {fiber_phone_count}\")"
   ]
  },
  {
   "cell_type": "code",
   "execution_count": null,
   "id": "7c1ddce2-4d3d-4b36-bbf5-b730e4eb62c2",
   "metadata": {},
   "outputs": [],
   "source": [
    "internetService_phoneService_count = {'DSL': dsl_phone, 'Fiber Optic': fiber_phone}\n",
    "\n",
    "#plot\n",
    "plt.bar(internetService_phoneService_count.key(), internetService_phoneService_count.values(), color = ['blue', 'orange'])\n",
    "plt.title('Users with tenure > 12 ')"
   ]
  },
  {
   "cell_type": "code",
   "execution_count": 238,
   "id": "6d4f1417-49c0-46c1-99e4-703c3d84c471",
   "metadata": {
    "tags": []
   },
   "outputs": [
    {
     "name": "stdout",
     "output_type": "stream",
     "text": [
      "Number of DSL users with phone service and tenure > 12 months: 92\n",
      "Number of Fiber Optic users with phone service and tenure  > 12 months: 652\n"
     ]
    }
   ],
   "source": [
    "# and one final query\n",
    "dsl_tenure_phone_churned = df[(df['InternetService'] == 'DSL') & (df['tenure'] > 12) & (df['PhoneService'] == \"Yes\") & (df['Churn'] == \"Yes\") ]\n",
    "fiber_tenure_phone_churned = df[(df['InternetService'] == 'Fiber optic') & (df['tenure'] > 12) & (df['PhoneService'] == \"Yes\") & (df['Churn'] == \"Yes\") ]\n",
    "\n",
    "\n",
    "dsl_tenure_phone_churned_count = len(dsl_tenure_phone_churned)\n",
    "fiber_tenure_phone_churned_count = len(fiber_tenure_phone_churned)\n",
    "\n",
    "print(f\"Number of DSL users with phone service and tenure > 12 months: {dsl_tenure_phone_churned_count}\")\n",
    "print(f\"Number of Fiber Optic users with phone service and tenure  > 12 months: {fiber_tenure_phone_churned_count}\")"
   ]
  },
  {
   "cell_type": "markdown",
   "id": "8c1961c6-b982-4997-8f5a-373815a6e4b0",
   "metadata": {},
   "source": [
    "Key Insights from DSL and Fiber Optic Users with Phone Service and Tenure > 12 Months Who Churned:\n",
    "\n",
    "### Key Observations:\n",
    "\n",
    "1.  High Churn Among Fiber Optic Users:\n",
    "\n",
    "-   The number of Fiber Optic users who have churned after having phone service and being with the company for more than 12 months (652) is significantly higher than the 92 DSL users in the same category.\n",
    "\n",
    "-   This indicates that Fiber Optic users with phone service may have a higher likelihood of leaving the service, despite being long-term customers (tenure > 12 months).\n",
    "\n",
    "3.  Churn Rate Insight:\n",
    "\n",
    "-   The relatively low churn rate for DSL users in this segment suggests that DSL customers with phone service and long tenure are potentially more loyal or less likely to churn compared to Fiber Optic users under similar circumstances.\n",
    "\n",
    "5.  Customer Satisfaction and Service Improvement:\n",
    "\n",
    "-   Fiber Optic users could be experiencing issues related to phone service or other factors contributing to their churn. Investigating the reasons for churn could provide more actionable insights (e.g., dissatisfaction with phone service quality, pricing, or customer support).\n",
    "\n",
    "-   DSL users may not face the same issues and could potentially represent a more stable customer segment, though further analysis is needed to understand the reasons behind their lower churn.\n",
    "\n",
    "### Potential Action Points:\n",
    "\n",
    "-   Investigate Churn Reasons: Understanding why Fiber Optic users are churning at such a high rate despite having phone service could help identify areas for improvement.\n",
    "\n",
    "-   Targeted Retention Strategies: Service providers may want to develop retention campaigns specifically targeting long-tenured Fiber Optic users who also use phone service to prevent churn.\n",
    "\n",
    "-   Improve Phone Service: As phone service is a common factor among both groups, addressing any issues related to phone service quality might reduce churn, especially for Fiber Optic users."
   ]
  },
  {
   "cell_type": "markdown",
   "id": "5fe537a6-f57b-4d9d-bfd1-080909c7aa69",
   "metadata": {},
   "source": [
    "# INSIGHTS AND RECOMMENADATIONS CONCLUDED:"
   ]
  },
  {
   "cell_type": "markdown",
   "id": "ce6a39b4-6732-4ed6-b6b5-bb19c95f6bd3",
   "metadata": {},
   "source": [
    "**Key Findings:**\n",
    "\n",
    "-   **No Direct Gender Impact on Churn:** While initially it seemed women churned more, statistically, gender alone does *not* significantly influence churn. Focus should be on other factors.\n",
    "-   **Service Features Significantly Impact Churn:** Online Security, Device Protection, and Tech Support all demonstrably reduce churn. Customers *without* these features churn at higher rates.\n",
    "-   **Contract Length Matters:** Month-to-month contracts have the highest churn, while longer-term contracts (1-2 years) have significantly lower churn.\n",
    "-   **Senior Citizens are a Vulnerable Group:** Senior citizens exhibit higher churn rates than non-senior citizens.\n",
    "-   **Internet Service Type Interacts with Other Factors:**\n",
    "    -   **Online Security:** DSL users are more likely to opt for Online Security than Fiber Optic users.\n",
    "    -   **Tech Support:** Similar to Online Security, DSL users are more likely to have Tech Support.\n",
    "    -   **Tenure:** Fiber Optic users tend to have longer tenures than DSL users.\n",
    "    -   **Churn (with Phone Service & Long Tenure):** Despite longer tenures, Fiber Optic users with phone service churn at a *much* higher rate than comparable DSL users. This is a critical finding.\n",
    "-   **Payment Method Impacts Churn:** Electronic Checks and Mailed Checks are associated with higher churn, while automatic payments (Bank Transfer and Credit Card) correlate with lower churn.\n",
    "-   **Fiber Optic & Churn:** While Fiber Optic is popular, it's also associated with higher churn rates, especially when combined with phone service and longer tenure. This suggests potential service quality or support issues for this specific segment.\n",
    "\n",
    "**Key Recommendations for Minimizing Churn:**\n",
    "\n",
    "1.  **Promote Service Add-ons (Online Security, Device Protection, Tech Support):**\n",
    "\n",
    "    -   Emphasize the value proposition of these services in marketing campaigns.\n",
    "    -   Offer bundled packages or discounts to incentivize adoption, particularly targeting customers who don't currently have these features.\n",
    "    -   Specifically target Fiber Optic users for Online Security and Tech Support, as their adoption rates are lower than DSL users.\n",
    "2.  **Incentivize Longer-Term Contracts:**\n",
    "\n",
    "    -   Offer discounts or exclusive benefits for customers who commit to 1-2 year contracts.\n",
    "    -   Clearly communicate the cost savings and stability advantages of longer-term agreements.\n",
    "3.  **Targeted Retention Strategies for Senior Citizens:**\n",
    "\n",
    "    -   Develop customized plans or discounts tailored to the needs and budgets of senior citizens.\n",
    "    -   Provide dedicated customer support channels and resources to address their specific concerns.\n",
    "    -   Ensure services and interfaces are user-friendly and accessible for this demographic.\n",
    "4.  **Address Fiber Optic Churn, Especially with Phone Service:**\n",
    "\n",
    "    -   *Investigate the root causes of high churn among long-tenured Fiber Optic users with phone service.* This is the most critical action. Conduct surveys, analyze support tickets, and examine network performance to pinpoint issues.\n",
    "    -   Improve service reliability, phone service quality, and customer support for Fiber Optic users.\n",
    "    -   Consider targeted retention campaigns for this specific segment.\n",
    "5.  **Encourage Automatic Payments:**\n",
    "\n",
    "    -   Promote the convenience and reliability of automatic payments (Bank Transfer/Credit Card).\n",
    "    -   Offer incentives (e.g., discounts, bonus features) to encourage customers using Electronic or Mailed Checks to switch.\n",
    "6.  **Investigate and Improve Electronic Check Processing:**\n",
    "\n",
    "    -   Identify and resolve any delays, technical issues, or administrative problems associated with electronic check processing.\n",
    "7.  **Monitor \"No Internet Service\" Customers:**\n",
    "\n",
    "    -   While churn is low in this segment, proactively engage with these customers to understand their needs and explore potential upselling opportunities.\n",
    "8.  **Continue Monitoring and Analysis:** Regularly review churn data and the effectiveness of implemented strategies. Conduct A/B testing on different retention tactics to optimize their impact.\n",
    "\n",
    "**Prioritization:**\n",
    "\n",
    "The most urgent action is to investigate the high churn rate among long-tenured Fiber Optic users with phone service. This segment represents a significant loss of valuable customers. Addressing this issue should be the top priority. Following that, promoting service add-ons and incentivizing longer-term contracts will have the broadest impact on overall churn reduction.\n",
    "\n",
    "By implementing these recommendations, you can significantly reduce churn, improve customer retention, and increase overall business profitability."
   ]
  },
  {
   "cell_type": "code",
   "execution_count": null,
   "id": "5e9c9890-3bdf-4ab8-8883-733779870c36",
   "metadata": {},
   "outputs": [],
   "source": []
  }
 ],
 "metadata": {
  "kernelspec": {
   "display_name": "Python 3 (ipykernel)",
   "language": "python",
   "name": "python3"
  },
  "language_info": {
   "codemirror_mode": {
    "name": "ipython",
    "version": 3
   },
   "file_extension": ".py",
   "mimetype": "text/x-python",
   "name": "python",
   "nbconvert_exporter": "python",
   "pygments_lexer": "ipython3",
   "version": "3.11.5"
  }
 },
 "nbformat": 4,
 "nbformat_minor": 5
}
