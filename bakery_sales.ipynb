{
 "cells": [
  {
   "cell_type": "markdown",
   "id": "ddc97f9c-1fa2-4790-a485-f02fdb9b8805",
   "metadata": {},
   "source": [
    "# Bakery Dataset\n",
    "In this project, I performed an in-depth analysis of a bakery’s sales data, focusing on data cleaning, exploratory analysis, clustering, and building a recommendation system. My approach utilized a range of data manipulation, visualization, and machine learning techniques, highlighting my skills in data wrangling, feature engineering, and clustering analysis."
   ]
  },
  {
   "cell_type": "code",
   "execution_count": 3,
   "id": "61affee4-c72e-4965-ae00-e74381c1afe3",
   "metadata": {
    "tags": []
   },
   "outputs": [],
   "source": [
    "import pandas as pd\n",
    "import seaborn as sns\n",
    "import matplotlib.pyplot as plt\n",
    "import numpy as np\n",
    "from sklearn.cluster import KMeans\n",
    "from sklearn.preprocessing import StandardScaler\n",
    "from sklearn.neighbors import NearestNeighbors"
   ]
  },
  {
   "cell_type": "code",
   "execution_count": 5,
   "id": "1502f06c-1fcb-46a3-9009-2d58df35e347",
   "metadata": {
    "tags": []
   },
   "outputs": [],
   "source": [
    "bakery_df = pd.read_csv(\"/Users/saqib/Downloads/archive 2/Bakery.csv\")"
   ]
  },
  {
   "cell_type": "code",
   "execution_count": 7,
   "id": "f880e0ff-a481-4bb1-be1d-3bcf1b31daa1",
   "metadata": {
    "tags": []
   },
   "outputs": [
    {
     "data": {
      "text/html": [
       "<div>\n",
       "<style scoped>\n",
       "    .dataframe tbody tr th:only-of-type {\n",
       "        vertical-align: middle;\n",
       "    }\n",
       "\n",
       "    .dataframe tbody tr th {\n",
       "        vertical-align: top;\n",
       "    }\n",
       "\n",
       "    .dataframe thead th {\n",
       "        text-align: right;\n",
       "    }\n",
       "</style>\n",
       "<table border=\"1\" class=\"dataframe\">\n",
       "  <thead>\n",
       "    <tr style=\"text-align: right;\">\n",
       "      <th></th>\n",
       "      <th>TransactionNo</th>\n",
       "      <th>Items</th>\n",
       "      <th>DateTime</th>\n",
       "      <th>Daypart</th>\n",
       "      <th>DayType</th>\n",
       "    </tr>\n",
       "  </thead>\n",
       "  <tbody>\n",
       "    <tr>\n",
       "      <th>0</th>\n",
       "      <td>1</td>\n",
       "      <td>Bread</td>\n",
       "      <td>2016-10-30 09:58:11</td>\n",
       "      <td>Morning</td>\n",
       "      <td>Weekend</td>\n",
       "    </tr>\n",
       "    <tr>\n",
       "      <th>1</th>\n",
       "      <td>2</td>\n",
       "      <td>Scandinavian</td>\n",
       "      <td>2016-10-30 10:05:34</td>\n",
       "      <td>Morning</td>\n",
       "      <td>Weekend</td>\n",
       "    </tr>\n",
       "    <tr>\n",
       "      <th>2</th>\n",
       "      <td>2</td>\n",
       "      <td>Scandinavian</td>\n",
       "      <td>2016-10-30 10:05:34</td>\n",
       "      <td>Morning</td>\n",
       "      <td>Weekend</td>\n",
       "    </tr>\n",
       "    <tr>\n",
       "      <th>3</th>\n",
       "      <td>3</td>\n",
       "      <td>Hot chocolate</td>\n",
       "      <td>2016-10-30 10:07:57</td>\n",
       "      <td>Morning</td>\n",
       "      <td>Weekend</td>\n",
       "    </tr>\n",
       "    <tr>\n",
       "      <th>4</th>\n",
       "      <td>3</td>\n",
       "      <td>Jam</td>\n",
       "      <td>2016-10-30 10:07:57</td>\n",
       "      <td>Morning</td>\n",
       "      <td>Weekend</td>\n",
       "    </tr>\n",
       "  </tbody>\n",
       "</table>\n",
       "</div>"
      ],
      "text/plain": [
       "   TransactionNo          Items             DateTime  Daypart  DayType\n",
       "0              1          Bread  2016-10-30 09:58:11  Morning  Weekend\n",
       "1              2   Scandinavian  2016-10-30 10:05:34  Morning  Weekend\n",
       "2              2   Scandinavian  2016-10-30 10:05:34  Morning  Weekend\n",
       "3              3  Hot chocolate  2016-10-30 10:07:57  Morning  Weekend\n",
       "4              3            Jam  2016-10-30 10:07:57  Morning  Weekend"
      ]
     },
     "execution_count": 7,
     "metadata": {},
     "output_type": "execute_result"
    }
   ],
   "source": [
    "bakery_df.head()\n"
   ]
  },
  {
   "cell_type": "markdown",
   "id": "34d035f7-fd1d-45e9-b95a-1bd5b1361467",
   "metadata": {},
   "source": [
    "## Cleaned the column names to make them more accesable and readable\n"
   ]
  },
  {
   "cell_type": "code",
   "execution_count": 180,
   "id": "8bf20b83-bfa5-4575-b33f-be14e4bf5627",
   "metadata": {
    "tags": []
   },
   "outputs": [],
   "source": [
    "bakery_df= bakery_df.rename(columns={\"Items\": \"Item\", \"TransactionNo\": \"Transaction\", \"DateTime\": \"date_time\", \"Daypart\":  \"period_day\", \"DayType\": \"weekday_weekend\"})"
   ]
  },
  {
   "cell_type": "code",
   "execution_count": 11,
   "id": "d41cfba0-d2fe-4dbd-937b-e0b68a3c98cb",
   "metadata": {
    "tags": []
   },
   "outputs": [
    {
     "data": {
      "text/html": [
       "<div>\n",
       "<style scoped>\n",
       "    .dataframe tbody tr th:only-of-type {\n",
       "        vertical-align: middle;\n",
       "    }\n",
       "\n",
       "    .dataframe tbody tr th {\n",
       "        vertical-align: top;\n",
       "    }\n",
       "\n",
       "    .dataframe thead th {\n",
       "        text-align: right;\n",
       "    }\n",
       "</style>\n",
       "<table border=\"1\" class=\"dataframe\">\n",
       "  <thead>\n",
       "    <tr style=\"text-align: right;\">\n",
       "      <th></th>\n",
       "      <th>Transaction</th>\n",
       "      <th>Item</th>\n",
       "      <th>date_time</th>\n",
       "      <th>period_day</th>\n",
       "      <th>weekday_weekend</th>\n",
       "    </tr>\n",
       "  </thead>\n",
       "  <tbody>\n",
       "    <tr>\n",
       "      <th>0</th>\n",
       "      <td>1</td>\n",
       "      <td>Bread</td>\n",
       "      <td>2016-10-30 09:58:11</td>\n",
       "      <td>Morning</td>\n",
       "      <td>Weekend</td>\n",
       "    </tr>\n",
       "    <tr>\n",
       "      <th>1</th>\n",
       "      <td>2</td>\n",
       "      <td>Scandinavian</td>\n",
       "      <td>2016-10-30 10:05:34</td>\n",
       "      <td>Morning</td>\n",
       "      <td>Weekend</td>\n",
       "    </tr>\n",
       "    <tr>\n",
       "      <th>2</th>\n",
       "      <td>2</td>\n",
       "      <td>Scandinavian</td>\n",
       "      <td>2016-10-30 10:05:34</td>\n",
       "      <td>Morning</td>\n",
       "      <td>Weekend</td>\n",
       "    </tr>\n",
       "    <tr>\n",
       "      <th>3</th>\n",
       "      <td>3</td>\n",
       "      <td>Hot chocolate</td>\n",
       "      <td>2016-10-30 10:07:57</td>\n",
       "      <td>Morning</td>\n",
       "      <td>Weekend</td>\n",
       "    </tr>\n",
       "    <tr>\n",
       "      <th>4</th>\n",
       "      <td>3</td>\n",
       "      <td>Jam</td>\n",
       "      <td>2016-10-30 10:07:57</td>\n",
       "      <td>Morning</td>\n",
       "      <td>Weekend</td>\n",
       "    </tr>\n",
       "    <tr>\n",
       "      <th>...</th>\n",
       "      <td>...</td>\n",
       "      <td>...</td>\n",
       "      <td>...</td>\n",
       "      <td>...</td>\n",
       "      <td>...</td>\n",
       "    </tr>\n",
       "    <tr>\n",
       "      <th>20502</th>\n",
       "      <td>9682</td>\n",
       "      <td>Coffee</td>\n",
       "      <td>2017-09-04 14:32:58</td>\n",
       "      <td>Afternoon</td>\n",
       "      <td>Weekend</td>\n",
       "    </tr>\n",
       "    <tr>\n",
       "      <th>20503</th>\n",
       "      <td>9682</td>\n",
       "      <td>Tea</td>\n",
       "      <td>2017-09-04 14:32:58</td>\n",
       "      <td>Afternoon</td>\n",
       "      <td>Weekend</td>\n",
       "    </tr>\n",
       "    <tr>\n",
       "      <th>20504</th>\n",
       "      <td>9683</td>\n",
       "      <td>Coffee</td>\n",
       "      <td>2017-09-04 14:57:06</td>\n",
       "      <td>Afternoon</td>\n",
       "      <td>Weekend</td>\n",
       "    </tr>\n",
       "    <tr>\n",
       "      <th>20505</th>\n",
       "      <td>9683</td>\n",
       "      <td>Pastry</td>\n",
       "      <td>2017-09-04 14:57:06</td>\n",
       "      <td>Afternoon</td>\n",
       "      <td>Weekend</td>\n",
       "    </tr>\n",
       "    <tr>\n",
       "      <th>20506</th>\n",
       "      <td>9684</td>\n",
       "      <td>Smoothies</td>\n",
       "      <td>2017-09-04 15:04:24</td>\n",
       "      <td>Afternoon</td>\n",
       "      <td>Weekend</td>\n",
       "    </tr>\n",
       "  </tbody>\n",
       "</table>\n",
       "<p>20507 rows × 5 columns</p>\n",
       "</div>"
      ],
      "text/plain": [
       "       Transaction           Item            date_time period_day  \\\n",
       "0                1          Bread  2016-10-30 09:58:11    Morning   \n",
       "1                2   Scandinavian  2016-10-30 10:05:34    Morning   \n",
       "2                2   Scandinavian  2016-10-30 10:05:34    Morning   \n",
       "3                3  Hot chocolate  2016-10-30 10:07:57    Morning   \n",
       "4                3            Jam  2016-10-30 10:07:57    Morning   \n",
       "...            ...            ...                  ...        ...   \n",
       "20502         9682         Coffee  2017-09-04 14:32:58  Afternoon   \n",
       "20503         9682            Tea  2017-09-04 14:32:58  Afternoon   \n",
       "20504         9683         Coffee  2017-09-04 14:57:06  Afternoon   \n",
       "20505         9683         Pastry  2017-09-04 14:57:06  Afternoon   \n",
       "20506         9684      Smoothies  2017-09-04 15:04:24  Afternoon   \n",
       "\n",
       "      weekday_weekend  \n",
       "0             Weekend  \n",
       "1             Weekend  \n",
       "2             Weekend  \n",
       "3             Weekend  \n",
       "4             Weekend  \n",
       "...               ...  \n",
       "20502         Weekend  \n",
       "20503         Weekend  \n",
       "20504         Weekend  \n",
       "20505         Weekend  \n",
       "20506         Weekend  \n",
       "\n",
       "[20507 rows x 5 columns]"
      ]
     },
     "execution_count": 11,
     "metadata": {},
     "output_type": "execute_result"
    }
   ],
   "source": [
    "bakery_df"
   ]
  },
  {
   "cell_type": "markdown",
   "id": "ae6bb793-7661-4fee-8047-e3aa4d81f23d",
   "metadata": {},
   "source": [
    "## Lower cased  the column values to make them more accesable and readable"
   ]
  },
  {
   "cell_type": "code",
   "execution_count": 13,
   "id": "bd44296d-4bc8-4159-a145-9e823c175c0e",
   "metadata": {
    "tags": []
   },
   "outputs": [],
   "source": [
    "bakery_df[\"period_day\"] = bakery_df[\"period_day\"].str.lower()"
   ]
  },
  {
   "cell_type": "code",
   "execution_count": 15,
   "id": "28b426be-620f-4f6e-8442-a444f847bd3b",
   "metadata": {
    "tags": []
   },
   "outputs": [],
   "source": [
    "bakery_df[\"weekday_weekend\"] = bakery_df[\"weekday_weekend\"].str.lower()"
   ]
  },
  {
   "cell_type": "code",
   "execution_count": 17,
   "id": "31bbff9b-3a24-4659-8fd9-0e237589f80a",
   "metadata": {
    "tags": []
   },
   "outputs": [
    {
     "data": {
      "text/html": [
       "<div>\n",
       "<style scoped>\n",
       "    .dataframe tbody tr th:only-of-type {\n",
       "        vertical-align: middle;\n",
       "    }\n",
       "\n",
       "    .dataframe tbody tr th {\n",
       "        vertical-align: top;\n",
       "    }\n",
       "\n",
       "    .dataframe thead th {\n",
       "        text-align: right;\n",
       "    }\n",
       "</style>\n",
       "<table border=\"1\" class=\"dataframe\">\n",
       "  <thead>\n",
       "    <tr style=\"text-align: right;\">\n",
       "      <th></th>\n",
       "      <th>Transaction</th>\n",
       "      <th>Item</th>\n",
       "      <th>date_time</th>\n",
       "      <th>period_day</th>\n",
       "      <th>weekday_weekend</th>\n",
       "    </tr>\n",
       "  </thead>\n",
       "  <tbody>\n",
       "    <tr>\n",
       "      <th>0</th>\n",
       "      <td>1</td>\n",
       "      <td>Bread</td>\n",
       "      <td>2016-10-30 09:58:11</td>\n",
       "      <td>morning</td>\n",
       "      <td>weekend</td>\n",
       "    </tr>\n",
       "    <tr>\n",
       "      <th>1</th>\n",
       "      <td>2</td>\n",
       "      <td>Scandinavian</td>\n",
       "      <td>2016-10-30 10:05:34</td>\n",
       "      <td>morning</td>\n",
       "      <td>weekend</td>\n",
       "    </tr>\n",
       "    <tr>\n",
       "      <th>2</th>\n",
       "      <td>2</td>\n",
       "      <td>Scandinavian</td>\n",
       "      <td>2016-10-30 10:05:34</td>\n",
       "      <td>morning</td>\n",
       "      <td>weekend</td>\n",
       "    </tr>\n",
       "    <tr>\n",
       "      <th>3</th>\n",
       "      <td>3</td>\n",
       "      <td>Hot chocolate</td>\n",
       "      <td>2016-10-30 10:07:57</td>\n",
       "      <td>morning</td>\n",
       "      <td>weekend</td>\n",
       "    </tr>\n",
       "    <tr>\n",
       "      <th>4</th>\n",
       "      <td>3</td>\n",
       "      <td>Jam</td>\n",
       "      <td>2016-10-30 10:07:57</td>\n",
       "      <td>morning</td>\n",
       "      <td>weekend</td>\n",
       "    </tr>\n",
       "  </tbody>\n",
       "</table>\n",
       "</div>"
      ],
      "text/plain": [
       "   Transaction           Item            date_time period_day weekday_weekend\n",
       "0            1          Bread  2016-10-30 09:58:11    morning         weekend\n",
       "1            2   Scandinavian  2016-10-30 10:05:34    morning         weekend\n",
       "2            2   Scandinavian  2016-10-30 10:05:34    morning         weekend\n",
       "3            3  Hot chocolate  2016-10-30 10:07:57    morning         weekend\n",
       "4            3            Jam  2016-10-30 10:07:57    morning         weekend"
      ]
     },
     "execution_count": 17,
     "metadata": {},
     "output_type": "execute_result"
    }
   ],
   "source": [
    "bakery_df.head()"
   ]
  },
  {
   "cell_type": "markdown",
   "id": "be667e8c-2d1a-412e-bac9-922f96763674",
   "metadata": {},
   "source": [
    "### changed the date time format \n"
   ]
  },
  {
   "cell_type": "code",
   "execution_count": 182,
   "id": "e6286926-7275-410e-93ca-3b528adf5d73",
   "metadata": {
    "tags": []
   },
   "outputs": [],
   "source": [
    "bakery_df[\"date_time\"] = pd.to_datetime(bakery_df[\"date_time\"]).dt.strftime('%m/%d/%Y %-I:%M')"
   ]
  },
  {
   "cell_type": "markdown",
   "id": "27a29023-7a17-4086-865d-5bc1817fbbf2",
   "metadata": {},
   "source": [
    "### Checking for the null values if any.\n"
   ]
  },
  {
   "cell_type": "code",
   "execution_count": 21,
   "id": "55bd8f5d-b2d0-43e0-b3cc-f00a09a1f7c9",
   "metadata": {
    "tags": []
   },
   "outputs": [
    {
     "data": {
      "text/plain": [
       "Transaction        0\n",
       "Item               0\n",
       "date_time          0\n",
       "period_day         0\n",
       "weekday_weekend    0\n",
       "dtype: int64"
      ]
     },
     "execution_count": 21,
     "metadata": {},
     "output_type": "execute_result"
    }
   ],
   "source": [
    "bakery_df.isna().sum()"
   ]
  },
  {
   "cell_type": "markdown",
   "id": "99b99a93-1f39-4c8c-8201-c896969b078a",
   "metadata": {},
   "source": [
    "### Checked for duplicates and removed them if found.\n"
   ]
  },
  {
   "cell_type": "code",
   "execution_count": 23,
   "id": "0dfe1f05-7084-4dea-895c-442b4b8c4f57",
   "metadata": {
    "tags": []
   },
   "outputs": [
    {
     "data": {
      "text/plain": [
       "1620"
      ]
     },
     "execution_count": 23,
     "metadata": {},
     "output_type": "execute_result"
    }
   ],
   "source": [
    "bakery_df.duplicated().sum()"
   ]
  },
  {
   "cell_type": "code",
   "execution_count": 25,
   "id": "9c624193-a674-4eec-a669-c77012fcfb82",
   "metadata": {
    "tags": []
   },
   "outputs": [],
   "source": [
    "duplicated_rows = bakery_df[bakery_df.duplicated(keep=False)]"
   ]
  },
  {
   "cell_type": "code",
   "execution_count": 27,
   "id": "bde5c429-4df8-43d8-951b-eb2bcc6a16e2",
   "metadata": {
    "tags": []
   },
   "outputs": [
    {
     "data": {
      "text/html": [
       "<div>\n",
       "<style scoped>\n",
       "    .dataframe tbody tr th:only-of-type {\n",
       "        vertical-align: middle;\n",
       "    }\n",
       "\n",
       "    .dataframe tbody tr th {\n",
       "        vertical-align: top;\n",
       "    }\n",
       "\n",
       "    .dataframe thead th {\n",
       "        text-align: right;\n",
       "    }\n",
       "</style>\n",
       "<table border=\"1\" class=\"dataframe\">\n",
       "  <thead>\n",
       "    <tr style=\"text-align: right;\">\n",
       "      <th></th>\n",
       "      <th>Transaction</th>\n",
       "      <th>Item</th>\n",
       "      <th>date_time</th>\n",
       "      <th>period_day</th>\n",
       "      <th>weekday_weekend</th>\n",
       "    </tr>\n",
       "  </thead>\n",
       "  <tbody>\n",
       "    <tr>\n",
       "      <th>1</th>\n",
       "      <td>2</td>\n",
       "      <td>Scandinavian</td>\n",
       "      <td>10/30/2016 10:05</td>\n",
       "      <td>morning</td>\n",
       "      <td>weekend</td>\n",
       "    </tr>\n",
       "    <tr>\n",
       "      <th>2</th>\n",
       "      <td>2</td>\n",
       "      <td>Scandinavian</td>\n",
       "      <td>10/30/2016 10:05</td>\n",
       "      <td>morning</td>\n",
       "      <td>weekend</td>\n",
       "    </tr>\n",
       "    <tr>\n",
       "      <th>23</th>\n",
       "      <td>11</td>\n",
       "      <td>Bread</td>\n",
       "      <td>10/30/2016 10:27</td>\n",
       "      <td>morning</td>\n",
       "      <td>weekend</td>\n",
       "    </tr>\n",
       "    <tr>\n",
       "      <th>25</th>\n",
       "      <td>11</td>\n",
       "      <td>Bread</td>\n",
       "      <td>10/30/2016 10:27</td>\n",
       "      <td>morning</td>\n",
       "      <td>weekend</td>\n",
       "    </tr>\n",
       "    <tr>\n",
       "      <th>48</th>\n",
       "      <td>21</td>\n",
       "      <td>Coffee</td>\n",
       "      <td>10/30/2016 10:49</td>\n",
       "      <td>morning</td>\n",
       "      <td>weekend</td>\n",
       "    </tr>\n",
       "    <tr>\n",
       "      <th>...</th>\n",
       "      <td>...</td>\n",
       "      <td>...</td>\n",
       "      <td>...</td>\n",
       "      <td>...</td>\n",
       "      <td>...</td>\n",
       "    </tr>\n",
       "    <tr>\n",
       "      <th>20423</th>\n",
       "      <td>9634</td>\n",
       "      <td>Coffee</td>\n",
       "      <td>08/04/2017 4:30</td>\n",
       "      <td>afternoon</td>\n",
       "      <td>weekend</td>\n",
       "    </tr>\n",
       "    <tr>\n",
       "      <th>20464</th>\n",
       "      <td>9664</td>\n",
       "      <td>Coffee</td>\n",
       "      <td>09/04/2017 11:40</td>\n",
       "      <td>morning</td>\n",
       "      <td>weekend</td>\n",
       "    </tr>\n",
       "    <tr>\n",
       "      <th>20465</th>\n",
       "      <td>9664</td>\n",
       "      <td>Coffee</td>\n",
       "      <td>09/04/2017 11:40</td>\n",
       "      <td>morning</td>\n",
       "      <td>weekend</td>\n",
       "    </tr>\n",
       "    <tr>\n",
       "      <th>20472</th>\n",
       "      <td>9667</td>\n",
       "      <td>Sandwich</td>\n",
       "      <td>09/04/2017 12:04</td>\n",
       "      <td>afternoon</td>\n",
       "      <td>weekend</td>\n",
       "    </tr>\n",
       "    <tr>\n",
       "      <th>20473</th>\n",
       "      <td>9667</td>\n",
       "      <td>Sandwich</td>\n",
       "      <td>09/04/2017 12:04</td>\n",
       "      <td>afternoon</td>\n",
       "      <td>weekend</td>\n",
       "    </tr>\n",
       "  </tbody>\n",
       "</table>\n",
       "<p>3140 rows × 5 columns</p>\n",
       "</div>"
      ],
      "text/plain": [
       "       Transaction          Item         date_time period_day weekday_weekend\n",
       "1                2  Scandinavian  10/30/2016 10:05    morning         weekend\n",
       "2                2  Scandinavian  10/30/2016 10:05    morning         weekend\n",
       "23              11         Bread  10/30/2016 10:27    morning         weekend\n",
       "25              11         Bread  10/30/2016 10:27    morning         weekend\n",
       "48              21        Coffee  10/30/2016 10:49    morning         weekend\n",
       "...            ...           ...               ...        ...             ...\n",
       "20423         9634        Coffee   08/04/2017 4:30  afternoon         weekend\n",
       "20464         9664        Coffee  09/04/2017 11:40    morning         weekend\n",
       "20465         9664        Coffee  09/04/2017 11:40    morning         weekend\n",
       "20472         9667      Sandwich  09/04/2017 12:04  afternoon         weekend\n",
       "20473         9667      Sandwich  09/04/2017 12:04  afternoon         weekend\n",
       "\n",
       "[3140 rows x 5 columns]"
      ]
     },
     "execution_count": 27,
     "metadata": {},
     "output_type": "execute_result"
    }
   ],
   "source": [
    "duplicated_rows"
   ]
  },
  {
   "cell_type": "code",
   "execution_count": 29,
   "id": "e1dc3585-5316-4840-a61d-6fe9e1103e80",
   "metadata": {
    "tags": []
   },
   "outputs": [],
   "source": [
    "bakery_df_cleaned = bakery_df.drop_duplicates()"
   ]
  },
  {
   "cell_type": "code",
   "execution_count": 31,
   "id": "ea2858b7-fa4e-441a-aa21-5c5d8b6669e8",
   "metadata": {
    "tags": []
   },
   "outputs": [
    {
     "data": {
      "text/plain": [
       "0"
      ]
     },
     "execution_count": 31,
     "metadata": {},
     "output_type": "execute_result"
    }
   ],
   "source": [
    "bakery_df_cleaned.duplicated().sum()"
   ]
  },
  {
   "cell_type": "code",
   "execution_count": 33,
   "id": "00a38989-aa59-430f-910e-326b199109ac",
   "metadata": {
    "tags": []
   },
   "outputs": [
    {
     "data": {
      "text/html": [
       "<div>\n",
       "<style scoped>\n",
       "    .dataframe tbody tr th:only-of-type {\n",
       "        vertical-align: middle;\n",
       "    }\n",
       "\n",
       "    .dataframe tbody tr th {\n",
       "        vertical-align: top;\n",
       "    }\n",
       "\n",
       "    .dataframe thead th {\n",
       "        text-align: right;\n",
       "    }\n",
       "</style>\n",
       "<table border=\"1\" class=\"dataframe\">\n",
       "  <thead>\n",
       "    <tr style=\"text-align: right;\">\n",
       "      <th></th>\n",
       "      <th>Transaction</th>\n",
       "      <th>Item</th>\n",
       "      <th>date_time</th>\n",
       "      <th>period_day</th>\n",
       "      <th>weekday_weekend</th>\n",
       "    </tr>\n",
       "  </thead>\n",
       "  <tbody>\n",
       "    <tr>\n",
       "      <th>0</th>\n",
       "      <td>1</td>\n",
       "      <td>Bread</td>\n",
       "      <td>10/30/2016 9:58</td>\n",
       "      <td>morning</td>\n",
       "      <td>weekend</td>\n",
       "    </tr>\n",
       "    <tr>\n",
       "      <th>1</th>\n",
       "      <td>2</td>\n",
       "      <td>Scandinavian</td>\n",
       "      <td>10/30/2016 10:05</td>\n",
       "      <td>morning</td>\n",
       "      <td>weekend</td>\n",
       "    </tr>\n",
       "    <tr>\n",
       "      <th>3</th>\n",
       "      <td>3</td>\n",
       "      <td>Hot chocolate</td>\n",
       "      <td>10/30/2016 10:07</td>\n",
       "      <td>morning</td>\n",
       "      <td>weekend</td>\n",
       "    </tr>\n",
       "    <tr>\n",
       "      <th>4</th>\n",
       "      <td>3</td>\n",
       "      <td>Jam</td>\n",
       "      <td>10/30/2016 10:07</td>\n",
       "      <td>morning</td>\n",
       "      <td>weekend</td>\n",
       "    </tr>\n",
       "    <tr>\n",
       "      <th>5</th>\n",
       "      <td>3</td>\n",
       "      <td>Cookies</td>\n",
       "      <td>10/30/2016 10:07</td>\n",
       "      <td>morning</td>\n",
       "      <td>weekend</td>\n",
       "    </tr>\n",
       "  </tbody>\n",
       "</table>\n",
       "</div>"
      ],
      "text/plain": [
       "   Transaction           Item         date_time period_day weekday_weekend\n",
       "0            1          Bread   10/30/2016 9:58    morning         weekend\n",
       "1            2   Scandinavian  10/30/2016 10:05    morning         weekend\n",
       "3            3  Hot chocolate  10/30/2016 10:07    morning         weekend\n",
       "4            3            Jam  10/30/2016 10:07    morning         weekend\n",
       "5            3        Cookies  10/30/2016 10:07    morning         weekend"
      ]
     },
     "execution_count": 33,
     "metadata": {},
     "output_type": "execute_result"
    }
   ],
   "source": [
    "bakery_df_cleaned.head()"
   ]
  },
  {
   "cell_type": "markdown",
   "id": "4e4903e5-0a75-4d25-91d2-51d785030b25",
   "metadata": {},
   "source": [
    "### Reseting the index to make dataframe uniform and accesable\n"
   ]
  },
  {
   "cell_type": "code",
   "execution_count": 35,
   "id": "2402afb5-37d3-48a1-bcf0-b31d932243b0",
   "metadata": {
    "tags": []
   },
   "outputs": [],
   "source": [
    "bakery_df_cleaned= bakery_df_cleaned.reset_index(drop=True)"
   ]
  },
  {
   "cell_type": "code",
   "execution_count": 37,
   "id": "0b595a57-d161-4907-a69c-0396fc1dd008",
   "metadata": {
    "tags": []
   },
   "outputs": [
    {
     "data": {
      "text/html": [
       "<div>\n",
       "<style scoped>\n",
       "    .dataframe tbody tr th:only-of-type {\n",
       "        vertical-align: middle;\n",
       "    }\n",
       "\n",
       "    .dataframe tbody tr th {\n",
       "        vertical-align: top;\n",
       "    }\n",
       "\n",
       "    .dataframe thead th {\n",
       "        text-align: right;\n",
       "    }\n",
       "</style>\n",
       "<table border=\"1\" class=\"dataframe\">\n",
       "  <thead>\n",
       "    <tr style=\"text-align: right;\">\n",
       "      <th></th>\n",
       "      <th>Transaction</th>\n",
       "      <th>Item</th>\n",
       "      <th>date_time</th>\n",
       "      <th>period_day</th>\n",
       "      <th>weekday_weekend</th>\n",
       "    </tr>\n",
       "  </thead>\n",
       "  <tbody>\n",
       "    <tr>\n",
       "      <th>0</th>\n",
       "      <td>1</td>\n",
       "      <td>Bread</td>\n",
       "      <td>10/30/2016 9:58</td>\n",
       "      <td>morning</td>\n",
       "      <td>weekend</td>\n",
       "    </tr>\n",
       "    <tr>\n",
       "      <th>1</th>\n",
       "      <td>2</td>\n",
       "      <td>Scandinavian</td>\n",
       "      <td>10/30/2016 10:05</td>\n",
       "      <td>morning</td>\n",
       "      <td>weekend</td>\n",
       "    </tr>\n",
       "    <tr>\n",
       "      <th>2</th>\n",
       "      <td>3</td>\n",
       "      <td>Hot chocolate</td>\n",
       "      <td>10/30/2016 10:07</td>\n",
       "      <td>morning</td>\n",
       "      <td>weekend</td>\n",
       "    </tr>\n",
       "    <tr>\n",
       "      <th>3</th>\n",
       "      <td>3</td>\n",
       "      <td>Jam</td>\n",
       "      <td>10/30/2016 10:07</td>\n",
       "      <td>morning</td>\n",
       "      <td>weekend</td>\n",
       "    </tr>\n",
       "    <tr>\n",
       "      <th>4</th>\n",
       "      <td>3</td>\n",
       "      <td>Cookies</td>\n",
       "      <td>10/30/2016 10:07</td>\n",
       "      <td>morning</td>\n",
       "      <td>weekend</td>\n",
       "    </tr>\n",
       "  </tbody>\n",
       "</table>\n",
       "</div>"
      ],
      "text/plain": [
       "   Transaction           Item         date_time period_day weekday_weekend\n",
       "0            1          Bread   10/30/2016 9:58    morning         weekend\n",
       "1            2   Scandinavian  10/30/2016 10:05    morning         weekend\n",
       "2            3  Hot chocolate  10/30/2016 10:07    morning         weekend\n",
       "3            3            Jam  10/30/2016 10:07    morning         weekend\n",
       "4            3        Cookies  10/30/2016 10:07    morning         weekend"
      ]
     },
     "execution_count": 37,
     "metadata": {},
     "output_type": "execute_result"
    }
   ],
   "source": [
    "bakery_df_cleaned.head()"
   ]
  },
  {
   "cell_type": "markdown",
   "id": "a0cea16f-d94c-4ba1-adb9-531e565acd69",
   "metadata": {},
   "source": [
    "### Analyzing the time of day to determine which period was the busiest for the restaurant in terms of sales\n"
   ]
  },
  {
   "cell_type": "code",
   "execution_count": 39,
   "id": "6e6d3582-c1f8-4fe6-9c1b-d8f30db89f76",
   "metadata": {
    "tags": []
   },
   "outputs": [
    {
     "data": {
      "text/plain": [
       "afternoon    10687\n",
       "morning       7697\n",
       "evening        490\n",
       "night           13\n",
       "Name: period_day, dtype: int64"
      ]
     },
     "execution_count": 39,
     "metadata": {},
     "output_type": "execute_result"
    }
   ],
   "source": [
    "bakery_df_cleaned[\"period_day\"].value_counts()"
   ]
  },
  {
   "cell_type": "markdown",
   "id": "7528c6b9-0501-4252-8997-c7ebfd78aa45",
   "metadata": {},
   "source": [
    "### Analyzing the weekend / weekday to determine whether the weekend or weekday  was the busiest for the restaurant in terms of sales\n"
   ]
  },
  {
   "cell_type": "code",
   "execution_count": 41,
   "id": "631a5452-21ae-4d50-96cb-35efbb1555ac",
   "metadata": {
    "tags": []
   },
   "outputs": [
    {
     "data": {
      "text/plain": [
       "weekday    11830\n",
       "weekend     7057\n",
       "Name: weekday_weekend, dtype: int64"
      ]
     },
     "execution_count": 41,
     "metadata": {},
     "output_type": "execute_result"
    }
   ],
   "source": [
    "bakery_df_cleaned[\"weekday_weekend\"].value_counts()"
   ]
  },
  {
   "cell_type": "markdown",
   "id": "a45f0640-75a3-4fe0-9a82-d9458a62ede4",
   "metadata": {},
   "source": [
    "### Which items were sold most in terms of quantity.\n"
   ]
  },
  {
   "cell_type": "code",
   "execution_count": 43,
   "id": "a5886d08-38b6-47dc-ab0c-cb4621fe348e",
   "metadata": {
    "tags": []
   },
   "outputs": [
    {
     "data": {
      "text/plain": [
       "Coffee            4528\n",
       "Bread             3097\n",
       "Tea               1350\n",
       "Cake               983\n",
       "Pastry             815\n",
       "                  ... \n",
       "Bacon                1\n",
       "Gift voucher         1\n",
       "Olum & polenta       1\n",
       "Raw bars             1\n",
       "Polenta              1\n",
       "Name: Item, Length: 94, dtype: int64"
      ]
     },
     "execution_count": 43,
     "metadata": {},
     "output_type": "execute_result"
    }
   ],
   "source": [
    "bakery_df_cleaned[\"Item\"].value_counts()"
   ]
  },
  {
   "cell_type": "markdown",
   "id": "1b7526a5-3c50-4f54-b0e1-15a8a9e8b62d",
   "metadata": {},
   "source": [
    "## Normalize products and get a dataframe with products and product_id \n"
   ]
  },
  {
   "cell_type": "code",
   "execution_count": 45,
   "id": "1dc8274a-d716-44a4-a1fc-d8bc0de0451c",
   "metadata": {
    "tags": []
   },
   "outputs": [],
   "source": [
    "products = pd.DataFrame({\"product_id\": range(1, len(bakery_df_cleaned[\"Item\"].unique()) + 1),\n",
    "                                            \"product_name\": bakery_df_cleaned[\"Item\"].unique()})"
   ]
  },
  {
   "cell_type": "code",
   "execution_count": 47,
   "id": "292d2d7d-d70c-4a5c-a4c8-941dab2a8cc4",
   "metadata": {
    "tags": []
   },
   "outputs": [
    {
     "data": {
      "text/html": [
       "<div>\n",
       "<style scoped>\n",
       "    .dataframe tbody tr th:only-of-type {\n",
       "        vertical-align: middle;\n",
       "    }\n",
       "\n",
       "    .dataframe tbody tr th {\n",
       "        vertical-align: top;\n",
       "    }\n",
       "\n",
       "    .dataframe thead th {\n",
       "        text-align: right;\n",
       "    }\n",
       "</style>\n",
       "<table border=\"1\" class=\"dataframe\">\n",
       "  <thead>\n",
       "    <tr style=\"text-align: right;\">\n",
       "      <th></th>\n",
       "      <th>product_id</th>\n",
       "      <th>product_name</th>\n",
       "    </tr>\n",
       "  </thead>\n",
       "  <tbody>\n",
       "    <tr>\n",
       "      <th>0</th>\n",
       "      <td>1</td>\n",
       "      <td>Bread</td>\n",
       "    </tr>\n",
       "    <tr>\n",
       "      <th>1</th>\n",
       "      <td>2</td>\n",
       "      <td>Scandinavian</td>\n",
       "    </tr>\n",
       "    <tr>\n",
       "      <th>2</th>\n",
       "      <td>3</td>\n",
       "      <td>Hot chocolate</td>\n",
       "    </tr>\n",
       "    <tr>\n",
       "      <th>3</th>\n",
       "      <td>4</td>\n",
       "      <td>Jam</td>\n",
       "    </tr>\n",
       "    <tr>\n",
       "      <th>4</th>\n",
       "      <td>5</td>\n",
       "      <td>Cookies</td>\n",
       "    </tr>\n",
       "  </tbody>\n",
       "</table>\n",
       "</div>"
      ],
      "text/plain": [
       "   product_id   product_name\n",
       "0           1          Bread\n",
       "1           2   Scandinavian\n",
       "2           3  Hot chocolate\n",
       "3           4            Jam\n",
       "4           5        Cookies"
      ]
     },
     "execution_count": 47,
     "metadata": {},
     "output_type": "execute_result"
    }
   ],
   "source": [
    "products.head()"
   ]
  },
  {
   "cell_type": "code",
   "execution_count": 49,
   "id": "26337503-0d95-47f5-8b85-42591f6bbe24",
   "metadata": {
    "tags": []
   },
   "outputs": [],
   "source": [
    "bakery_df_cleaned = bakery_df_cleaned.merge(products, left_on=\"Item\", right_on=\"product_name\", how=\"left\")"
   ]
  },
  {
   "cell_type": "code",
   "execution_count": 51,
   "id": "3f9c472a-c6e2-420f-8b03-b8ef2bec636b",
   "metadata": {
    "tags": []
   },
   "outputs": [],
   "source": [
    "bakery_df_cleaned = bakery_df_cleaned[[\"Transaction\", \"product_id\", \"date_time\", \"period_day\", \"weekday_weekend\"]]"
   ]
  },
  {
   "cell_type": "code",
   "execution_count": 53,
   "id": "c239595c-76de-4bc9-9f08-57433c6f7d21",
   "metadata": {
    "tags": []
   },
   "outputs": [
    {
     "data": {
      "text/html": [
       "<div>\n",
       "<style scoped>\n",
       "    .dataframe tbody tr th:only-of-type {\n",
       "        vertical-align: middle;\n",
       "    }\n",
       "\n",
       "    .dataframe tbody tr th {\n",
       "        vertical-align: top;\n",
       "    }\n",
       "\n",
       "    .dataframe thead th {\n",
       "        text-align: right;\n",
       "    }\n",
       "</style>\n",
       "<table border=\"1\" class=\"dataframe\">\n",
       "  <thead>\n",
       "    <tr style=\"text-align: right;\">\n",
       "      <th></th>\n",
       "      <th>Transaction</th>\n",
       "      <th>product_id</th>\n",
       "      <th>date_time</th>\n",
       "      <th>period_day</th>\n",
       "      <th>weekday_weekend</th>\n",
       "    </tr>\n",
       "  </thead>\n",
       "  <tbody>\n",
       "    <tr>\n",
       "      <th>0</th>\n",
       "      <td>1</td>\n",
       "      <td>1</td>\n",
       "      <td>10/30/2016 9:58</td>\n",
       "      <td>morning</td>\n",
       "      <td>weekend</td>\n",
       "    </tr>\n",
       "    <tr>\n",
       "      <th>1</th>\n",
       "      <td>2</td>\n",
       "      <td>2</td>\n",
       "      <td>10/30/2016 10:05</td>\n",
       "      <td>morning</td>\n",
       "      <td>weekend</td>\n",
       "    </tr>\n",
       "    <tr>\n",
       "      <th>2</th>\n",
       "      <td>3</td>\n",
       "      <td>3</td>\n",
       "      <td>10/30/2016 10:07</td>\n",
       "      <td>morning</td>\n",
       "      <td>weekend</td>\n",
       "    </tr>\n",
       "    <tr>\n",
       "      <th>3</th>\n",
       "      <td>3</td>\n",
       "      <td>4</td>\n",
       "      <td>10/30/2016 10:07</td>\n",
       "      <td>morning</td>\n",
       "      <td>weekend</td>\n",
       "    </tr>\n",
       "    <tr>\n",
       "      <th>4</th>\n",
       "      <td>3</td>\n",
       "      <td>5</td>\n",
       "      <td>10/30/2016 10:07</td>\n",
       "      <td>morning</td>\n",
       "      <td>weekend</td>\n",
       "    </tr>\n",
       "    <tr>\n",
       "      <th>...</th>\n",
       "      <td>...</td>\n",
       "      <td>...</td>\n",
       "      <td>...</td>\n",
       "      <td>...</td>\n",
       "      <td>...</td>\n",
       "    </tr>\n",
       "    <tr>\n",
       "      <th>18882</th>\n",
       "      <td>9682</td>\n",
       "      <td>7</td>\n",
       "      <td>09/04/2017 2:32</td>\n",
       "      <td>afternoon</td>\n",
       "      <td>weekend</td>\n",
       "    </tr>\n",
       "    <tr>\n",
       "      <th>18883</th>\n",
       "      <td>9682</td>\n",
       "      <td>10</td>\n",
       "      <td>09/04/2017 2:32</td>\n",
       "      <td>afternoon</td>\n",
       "      <td>weekend</td>\n",
       "    </tr>\n",
       "    <tr>\n",
       "      <th>18884</th>\n",
       "      <td>9683</td>\n",
       "      <td>7</td>\n",
       "      <td>09/04/2017 2:57</td>\n",
       "      <td>afternoon</td>\n",
       "      <td>weekend</td>\n",
       "    </tr>\n",
       "    <tr>\n",
       "      <th>18885</th>\n",
       "      <td>9683</td>\n",
       "      <td>8</td>\n",
       "      <td>09/04/2017 2:57</td>\n",
       "      <td>afternoon</td>\n",
       "      <td>weekend</td>\n",
       "    </tr>\n",
       "    <tr>\n",
       "      <th>18886</th>\n",
       "      <td>9684</td>\n",
       "      <td>23</td>\n",
       "      <td>09/04/2017 3:04</td>\n",
       "      <td>afternoon</td>\n",
       "      <td>weekend</td>\n",
       "    </tr>\n",
       "  </tbody>\n",
       "</table>\n",
       "<p>18887 rows × 5 columns</p>\n",
       "</div>"
      ],
      "text/plain": [
       "       Transaction  product_id         date_time period_day weekday_weekend\n",
       "0                1           1   10/30/2016 9:58    morning         weekend\n",
       "1                2           2  10/30/2016 10:05    morning         weekend\n",
       "2                3           3  10/30/2016 10:07    morning         weekend\n",
       "3                3           4  10/30/2016 10:07    morning         weekend\n",
       "4                3           5  10/30/2016 10:07    morning         weekend\n",
       "...            ...         ...               ...        ...             ...\n",
       "18882         9682           7   09/04/2017 2:32  afternoon         weekend\n",
       "18883         9682          10   09/04/2017 2:32  afternoon         weekend\n",
       "18884         9683           7   09/04/2017 2:57  afternoon         weekend\n",
       "18885         9683           8   09/04/2017 2:57  afternoon         weekend\n",
       "18886         9684          23   09/04/2017 3:04  afternoon         weekend\n",
       "\n",
       "[18887 rows x 5 columns]"
      ]
     },
     "execution_count": 53,
     "metadata": {},
     "output_type": "execute_result"
    }
   ],
   "source": [
    "bakery_df_cleaned"
   ]
  },
  {
   "cell_type": "markdown",
   "id": "73d6836e-fcb1-4e91-b179-726a6dd19717",
   "metadata": {},
   "source": [
    "## Label Encoding our dataframe to check for any corelations among the columns.\n"
   ]
  },
  {
   "cell_type": "code",
   "execution_count": 55,
   "id": "9700e1bc-9fc7-4a9b-9faf-554ea13688ca",
   "metadata": {
    "tags": []
   },
   "outputs": [],
   "source": [
    "bakery_df_copy = bakery_df_cleaned.copy()\n"
   ]
  },
  {
   "cell_type": "code",
   "execution_count": 57,
   "id": "94df948a-3fd6-49ae-a80b-72bc8de54a7c",
   "metadata": {
    "tags": []
   },
   "outputs": [],
   "source": [
    "bakery_df_copy[\"period_encoded\"] = bakery_df_copy[\"period_day\"].astype(\"category\").cat.codes\n",
    "bakery_df_copy[\"weekend_weekday_encoded\"] = bakery_df_copy[\"weekday_weekend\"].astype(\"category\").cat.codes"
   ]
  },
  {
   "cell_type": "code",
   "execution_count": 59,
   "id": "4a4fa45b-d6dc-4345-b023-8c75ebc191bb",
   "metadata": {
    "tags": []
   },
   "outputs": [],
   "source": [
    "bakery_encoded = pd.get_dummies(bakery_df_copy, columns=[\"period_day\", \"weekday_weekend\"])"
   ]
  },
  {
   "cell_type": "code",
   "execution_count": 61,
   "id": "7f64b393-dba0-47ad-85db-4f95d64bfbea",
   "metadata": {
    "tags": []
   },
   "outputs": [
    {
     "data": {
      "text/html": [
       "<div>\n",
       "<style scoped>\n",
       "    .dataframe tbody tr th:only-of-type {\n",
       "        vertical-align: middle;\n",
       "    }\n",
       "\n",
       "    .dataframe tbody tr th {\n",
       "        vertical-align: top;\n",
       "    }\n",
       "\n",
       "    .dataframe thead th {\n",
       "        text-align: right;\n",
       "    }\n",
       "</style>\n",
       "<table border=\"1\" class=\"dataframe\">\n",
       "  <thead>\n",
       "    <tr style=\"text-align: right;\">\n",
       "      <th></th>\n",
       "      <th>Transaction</th>\n",
       "      <th>product_id</th>\n",
       "      <th>date_time</th>\n",
       "      <th>period_day</th>\n",
       "      <th>weekday_weekend</th>\n",
       "      <th>period_encoded</th>\n",
       "      <th>weekend_weekday_encoded</th>\n",
       "    </tr>\n",
       "  </thead>\n",
       "  <tbody>\n",
       "    <tr>\n",
       "      <th>0</th>\n",
       "      <td>1</td>\n",
       "      <td>1</td>\n",
       "      <td>10/30/2016 9:58</td>\n",
       "      <td>morning</td>\n",
       "      <td>weekend</td>\n",
       "      <td>2</td>\n",
       "      <td>1</td>\n",
       "    </tr>\n",
       "    <tr>\n",
       "      <th>1</th>\n",
       "      <td>2</td>\n",
       "      <td>2</td>\n",
       "      <td>10/30/2016 10:05</td>\n",
       "      <td>morning</td>\n",
       "      <td>weekend</td>\n",
       "      <td>2</td>\n",
       "      <td>1</td>\n",
       "    </tr>\n",
       "    <tr>\n",
       "      <th>2</th>\n",
       "      <td>3</td>\n",
       "      <td>3</td>\n",
       "      <td>10/30/2016 10:07</td>\n",
       "      <td>morning</td>\n",
       "      <td>weekend</td>\n",
       "      <td>2</td>\n",
       "      <td>1</td>\n",
       "    </tr>\n",
       "    <tr>\n",
       "      <th>3</th>\n",
       "      <td>3</td>\n",
       "      <td>4</td>\n",
       "      <td>10/30/2016 10:07</td>\n",
       "      <td>morning</td>\n",
       "      <td>weekend</td>\n",
       "      <td>2</td>\n",
       "      <td>1</td>\n",
       "    </tr>\n",
       "    <tr>\n",
       "      <th>4</th>\n",
       "      <td>3</td>\n",
       "      <td>5</td>\n",
       "      <td>10/30/2016 10:07</td>\n",
       "      <td>morning</td>\n",
       "      <td>weekend</td>\n",
       "      <td>2</td>\n",
       "      <td>1</td>\n",
       "    </tr>\n",
       "  </tbody>\n",
       "</table>\n",
       "</div>"
      ],
      "text/plain": [
       "   Transaction  product_id         date_time period_day weekday_weekend  \\\n",
       "0            1           1   10/30/2016 9:58    morning         weekend   \n",
       "1            2           2  10/30/2016 10:05    morning         weekend   \n",
       "2            3           3  10/30/2016 10:07    morning         weekend   \n",
       "3            3           4  10/30/2016 10:07    morning         weekend   \n",
       "4            3           5  10/30/2016 10:07    morning         weekend   \n",
       "\n",
       "   period_encoded  weekend_weekday_encoded  \n",
       "0               2                        1  \n",
       "1               2                        1  \n",
       "2               2                        1  \n",
       "3               2                        1  \n",
       "4               2                        1  "
      ]
     },
     "execution_count": 61,
     "metadata": {},
     "output_type": "execute_result"
    }
   ],
   "source": [
    "bakery_df_copy.head()"
   ]
  },
  {
   "cell_type": "code",
   "execution_count": 63,
   "id": "7b78c2bb-6ccd-4542-8234-20e730d694b8",
   "metadata": {
    "tags": []
   },
   "outputs": [
    {
     "data": {
      "text/html": [
       "<div>\n",
       "<style scoped>\n",
       "    .dataframe tbody tr th:only-of-type {\n",
       "        vertical-align: middle;\n",
       "    }\n",
       "\n",
       "    .dataframe tbody tr th {\n",
       "        vertical-align: top;\n",
       "    }\n",
       "\n",
       "    .dataframe thead th {\n",
       "        text-align: right;\n",
       "    }\n",
       "</style>\n",
       "<table border=\"1\" class=\"dataframe\">\n",
       "  <thead>\n",
       "    <tr style=\"text-align: right;\">\n",
       "      <th></th>\n",
       "      <th>Transaction</th>\n",
       "      <th>product_id</th>\n",
       "      <th>date_time</th>\n",
       "      <th>period_encoded</th>\n",
       "      <th>weekend_weekday_encoded</th>\n",
       "      <th>period_day_afternoon</th>\n",
       "      <th>period_day_evening</th>\n",
       "      <th>period_day_morning</th>\n",
       "      <th>period_day_night</th>\n",
       "      <th>weekday_weekend_weekday</th>\n",
       "      <th>weekday_weekend_weekend</th>\n",
       "    </tr>\n",
       "  </thead>\n",
       "  <tbody>\n",
       "    <tr>\n",
       "      <th>0</th>\n",
       "      <td>1</td>\n",
       "      <td>1</td>\n",
       "      <td>10/30/2016 9:58</td>\n",
       "      <td>2</td>\n",
       "      <td>1</td>\n",
       "      <td>0</td>\n",
       "      <td>0</td>\n",
       "      <td>1</td>\n",
       "      <td>0</td>\n",
       "      <td>0</td>\n",
       "      <td>1</td>\n",
       "    </tr>\n",
       "    <tr>\n",
       "      <th>1</th>\n",
       "      <td>2</td>\n",
       "      <td>2</td>\n",
       "      <td>10/30/2016 10:05</td>\n",
       "      <td>2</td>\n",
       "      <td>1</td>\n",
       "      <td>0</td>\n",
       "      <td>0</td>\n",
       "      <td>1</td>\n",
       "      <td>0</td>\n",
       "      <td>0</td>\n",
       "      <td>1</td>\n",
       "    </tr>\n",
       "    <tr>\n",
       "      <th>2</th>\n",
       "      <td>3</td>\n",
       "      <td>3</td>\n",
       "      <td>10/30/2016 10:07</td>\n",
       "      <td>2</td>\n",
       "      <td>1</td>\n",
       "      <td>0</td>\n",
       "      <td>0</td>\n",
       "      <td>1</td>\n",
       "      <td>0</td>\n",
       "      <td>0</td>\n",
       "      <td>1</td>\n",
       "    </tr>\n",
       "    <tr>\n",
       "      <th>3</th>\n",
       "      <td>3</td>\n",
       "      <td>4</td>\n",
       "      <td>10/30/2016 10:07</td>\n",
       "      <td>2</td>\n",
       "      <td>1</td>\n",
       "      <td>0</td>\n",
       "      <td>0</td>\n",
       "      <td>1</td>\n",
       "      <td>0</td>\n",
       "      <td>0</td>\n",
       "      <td>1</td>\n",
       "    </tr>\n",
       "    <tr>\n",
       "      <th>4</th>\n",
       "      <td>3</td>\n",
       "      <td>5</td>\n",
       "      <td>10/30/2016 10:07</td>\n",
       "      <td>2</td>\n",
       "      <td>1</td>\n",
       "      <td>0</td>\n",
       "      <td>0</td>\n",
       "      <td>1</td>\n",
       "      <td>0</td>\n",
       "      <td>0</td>\n",
       "      <td>1</td>\n",
       "    </tr>\n",
       "  </tbody>\n",
       "</table>\n",
       "</div>"
      ],
      "text/plain": [
       "   Transaction  product_id         date_time  period_encoded  \\\n",
       "0            1           1   10/30/2016 9:58               2   \n",
       "1            2           2  10/30/2016 10:05               2   \n",
       "2            3           3  10/30/2016 10:07               2   \n",
       "3            3           4  10/30/2016 10:07               2   \n",
       "4            3           5  10/30/2016 10:07               2   \n",
       "\n",
       "   weekend_weekday_encoded  period_day_afternoon  period_day_evening  \\\n",
       "0                        1                     0                   0   \n",
       "1                        1                     0                   0   \n",
       "2                        1                     0                   0   \n",
       "3                        1                     0                   0   \n",
       "4                        1                     0                   0   \n",
       "\n",
       "   period_day_morning  period_day_night  weekday_weekend_weekday  \\\n",
       "0                   1                 0                        0   \n",
       "1                   1                 0                        0   \n",
       "2                   1                 0                        0   \n",
       "3                   1                 0                        0   \n",
       "4                   1                 0                        0   \n",
       "\n",
       "   weekday_weekend_weekend  \n",
       "0                        1  \n",
       "1                        1  \n",
       "2                        1  \n",
       "3                        1  \n",
       "4                        1  "
      ]
     },
     "execution_count": 63,
     "metadata": {},
     "output_type": "execute_result"
    }
   ],
   "source": [
    "bakery_encoded.head()"
   ]
  },
  {
   "cell_type": "code",
   "execution_count": 65,
   "id": "4883b846-e597-4e70-ac96-b0f42cab9c54",
   "metadata": {
    "tags": []
   },
   "outputs": [
    {
     "data": {
      "text/plain": [
       "Transaction                4951.051517\n",
       "product_id                   16.610049\n",
       "period_encoded                0.843067\n",
       "weekend_weekday_encoded       0.373643\n",
       "dtype: float64"
      ]
     },
     "execution_count": 65,
     "metadata": {},
     "output_type": "execute_result"
    }
   ],
   "source": [
    "bakery_df_copy.mean(numeric_only=True)"
   ]
  },
  {
   "cell_type": "code",
   "execution_count": 67,
   "id": "36a41ce5-80e5-4041-aea3-e88e1715f619",
   "metadata": {
    "tags": []
   },
   "outputs": [
    {
     "data": {
      "text/plain": [
       "Transaction                4951.051517\n",
       "product_id                   16.610049\n",
       "period_encoded                0.843067\n",
       "weekend_weekday_encoded       0.373643\n",
       "period_day_afternoon          0.565839\n",
       "period_day_evening            0.025944\n",
       "period_day_morning            0.407529\n",
       "period_day_night              0.000688\n",
       "weekday_weekend_weekday       0.626357\n",
       "weekday_weekend_weekend       0.373643\n",
       "dtype: float64"
      ]
     },
     "execution_count": 67,
     "metadata": {},
     "output_type": "execute_result"
    }
   ],
   "source": [
    "bakery_encoded.mean(numeric_only=True)"
   ]
  },
  {
   "cell_type": "code",
   "execution_count": 69,
   "id": "1db6cba8-1d4c-4151-9805-79ed2fdea386",
   "metadata": {
    "tags": []
   },
   "outputs": [
    {
     "name": "stdout",
     "output_type": "stream",
     "text": [
      "Mean:\n",
      " Transaction                4951.051517\n",
      "product_id                   16.610049\n",
      "period_encoded                0.843067\n",
      "weekend_weekday_encoded       0.373643\n",
      "period_day_afternoon          0.565839\n",
      "period_day_evening            0.025944\n",
      "period_day_morning            0.407529\n",
      "period_day_night              0.000688\n",
      "weekday_weekend_weekday       0.626357\n",
      "weekday_weekend_weekend       0.373643\n",
      "dtype: float64\n",
      "Median:\n",
      " Transaction                5082.0\n",
      "product_id                    7.0\n",
      "period_encoded                0.0\n",
      "weekend_weekday_encoded       0.0\n",
      "period_day_afternoon          1.0\n",
      "period_day_evening            0.0\n",
      "period_day_morning            0.0\n",
      "period_day_night              0.0\n",
      "weekday_weekend_weekday       1.0\n",
      "weekday_weekend_weekend       0.0\n",
      "dtype: float64\n",
      "Mode:\n",
      "    Transaction  product_id  period_encoded  weekend_weekday_encoded  \\\n",
      "0         9447           7               0                        0   \n",
      "\n",
      "   period_day_afternoon  period_day_evening  period_day_morning  \\\n",
      "0                     1                   0                   0   \n",
      "\n",
      "   period_day_night  weekday_weekend_weekday  weekday_weekend_weekend  \n",
      "0                 0                        1                        0  \n"
     ]
    }
   ],
   "source": [
    "mean_values = bakery_encoded.mean(numeric_only=True)\n",
    "median_values = bakery_encoded.median(numeric_only=True)\n",
    "mode_values = bakery_encoded.mode(numeric_only=True)\n",
    "\n",
    "#print the results:\n",
    "print(\"Mean:\\n\", mean_values)\n",
    "print(\"Median:\\n\", median_values)\n",
    "print(\"Mode:\\n\", mode_values)"
   ]
  },
  {
   "cell_type": "markdown",
   "id": "999ba85e-f66d-4280-981d-723a6d64ca4d",
   "metadata": {},
   "source": [
    "## Dispersion of data\n"
   ]
  },
  {
   "cell_type": "code",
   "execution_count": 71,
   "id": "b193bec0-8fe7-4c31-b0b6-481dde3fbfa2",
   "metadata": {
    "tags": []
   },
   "outputs": [
    {
     "data": {
      "text/plain": [
       "Transaction                7.905203e+06\n",
       "product_id                 3.760899e+02\n",
       "period_encoded             9.515434e-01\n",
       "weekend_weekday_encoded    2.340464e-01\n",
       "period_day_afternoon       2.456782e-01\n",
       "period_day_evening         2.527203e-02\n",
       "period_day_morning         2.414619e-01\n",
       "period_day_night           6.878668e-04\n",
       "weekday_weekend_weekday    2.340464e-01\n",
       "weekday_weekend_weekend    2.340464e-01\n",
       "dtype: float64"
      ]
     },
     "execution_count": 71,
     "metadata": {},
     "output_type": "execute_result"
    }
   ],
   "source": [
    "variance = bakery_encoded.var(numeric_only=True)\n",
    "variance"
   ]
  },
  {
   "cell_type": "code",
   "execution_count": 73,
   "id": "d7cd6665-4be9-4853-b40a-3ed28390f40d",
   "metadata": {
    "tags": []
   },
   "outputs": [
    {
     "data": {
      "text/plain": [
       "Transaction                2811.619306\n",
       "product_id                   19.393036\n",
       "period_encoded                0.975471\n",
       "weekend_weekday_encoded       0.483783\n",
       "period_day_afternoon          0.495659\n",
       "period_day_evening            0.158972\n",
       "period_day_morning            0.491388\n",
       "period_day_night              0.026227\n",
       "weekday_weekend_weekday       0.483783\n",
       "weekday_weekend_weekend       0.483783\n",
       "dtype: float64"
      ]
     },
     "execution_count": 73,
     "metadata": {},
     "output_type": "execute_result"
    }
   ],
   "source": [
    "std_deviation = bakery_encoded.std(numeric_only=True)\n",
    "std_deviation"
   ]
  },
  {
   "cell_type": "code",
   "execution_count": 75,
   "id": "8d278f1c-1e24-48c0-8664-bf2bb3d61498",
   "metadata": {
    "tags": []
   },
   "outputs": [
    {
     "data": {
      "text/html": [
       "<div>\n",
       "<style scoped>\n",
       "    .dataframe tbody tr th:only-of-type {\n",
       "        vertical-align: middle;\n",
       "    }\n",
       "\n",
       "    .dataframe tbody tr th {\n",
       "        vertical-align: top;\n",
       "    }\n",
       "\n",
       "    .dataframe thead th {\n",
       "        text-align: right;\n",
       "    }\n",
       "</style>\n",
       "<table border=\"1\" class=\"dataframe\">\n",
       "  <thead>\n",
       "    <tr style=\"text-align: right;\">\n",
       "      <th></th>\n",
       "      <th>Transaction</th>\n",
       "      <th>product_id</th>\n",
       "      <th>period_encoded</th>\n",
       "      <th>weekend_weekday_encoded</th>\n",
       "      <th>period_day_afternoon</th>\n",
       "      <th>period_day_evening</th>\n",
       "      <th>period_day_morning</th>\n",
       "      <th>period_day_night</th>\n",
       "      <th>weekday_weekend_weekday</th>\n",
       "      <th>weekday_weekend_weekend</th>\n",
       "    </tr>\n",
       "  </thead>\n",
       "  <tbody>\n",
       "    <tr>\n",
       "      <th>count</th>\n",
       "      <td>18887.000000</td>\n",
       "      <td>18887.000000</td>\n",
       "      <td>18887.000000</td>\n",
       "      <td>18887.000000</td>\n",
       "      <td>18887.000000</td>\n",
       "      <td>18887.000000</td>\n",
       "      <td>18887.000000</td>\n",
       "      <td>18887.000000</td>\n",
       "      <td>18887.000000</td>\n",
       "      <td>18887.000000</td>\n",
       "    </tr>\n",
       "    <tr>\n",
       "      <th>mean</th>\n",
       "      <td>4951.051517</td>\n",
       "      <td>16.610049</td>\n",
       "      <td>0.843067</td>\n",
       "      <td>0.373643</td>\n",
       "      <td>0.565839</td>\n",
       "      <td>0.025944</td>\n",
       "      <td>0.407529</td>\n",
       "      <td>0.000688</td>\n",
       "      <td>0.626357</td>\n",
       "      <td>0.373643</td>\n",
       "    </tr>\n",
       "    <tr>\n",
       "      <th>std</th>\n",
       "      <td>2811.619306</td>\n",
       "      <td>19.393036</td>\n",
       "      <td>0.975471</td>\n",
       "      <td>0.483783</td>\n",
       "      <td>0.495659</td>\n",
       "      <td>0.158972</td>\n",
       "      <td>0.491388</td>\n",
       "      <td>0.026227</td>\n",
       "      <td>0.483783</td>\n",
       "      <td>0.483783</td>\n",
       "    </tr>\n",
       "    <tr>\n",
       "      <th>min</th>\n",
       "      <td>1.000000</td>\n",
       "      <td>1.000000</td>\n",
       "      <td>0.000000</td>\n",
       "      <td>0.000000</td>\n",
       "      <td>0.000000</td>\n",
       "      <td>0.000000</td>\n",
       "      <td>0.000000</td>\n",
       "      <td>0.000000</td>\n",
       "      <td>0.000000</td>\n",
       "      <td>0.000000</td>\n",
       "    </tr>\n",
       "    <tr>\n",
       "      <th>25%</th>\n",
       "      <td>2496.500000</td>\n",
       "      <td>6.000000</td>\n",
       "      <td>0.000000</td>\n",
       "      <td>0.000000</td>\n",
       "      <td>0.000000</td>\n",
       "      <td>0.000000</td>\n",
       "      <td>0.000000</td>\n",
       "      <td>0.000000</td>\n",
       "      <td>0.000000</td>\n",
       "      <td>0.000000</td>\n",
       "    </tr>\n",
       "    <tr>\n",
       "      <th>50%</th>\n",
       "      <td>5082.000000</td>\n",
       "      <td>7.000000</td>\n",
       "      <td>0.000000</td>\n",
       "      <td>0.000000</td>\n",
       "      <td>1.000000</td>\n",
       "      <td>0.000000</td>\n",
       "      <td>0.000000</td>\n",
       "      <td>0.000000</td>\n",
       "      <td>1.000000</td>\n",
       "      <td>0.000000</td>\n",
       "    </tr>\n",
       "    <tr>\n",
       "      <th>75%</th>\n",
       "      <td>7378.500000</td>\n",
       "      <td>24.000000</td>\n",
       "      <td>2.000000</td>\n",
       "      <td>1.000000</td>\n",
       "      <td>1.000000</td>\n",
       "      <td>0.000000</td>\n",
       "      <td>1.000000</td>\n",
       "      <td>0.000000</td>\n",
       "      <td>1.000000</td>\n",
       "      <td>1.000000</td>\n",
       "    </tr>\n",
       "    <tr>\n",
       "      <th>max</th>\n",
       "      <td>9684.000000</td>\n",
       "      <td>94.000000</td>\n",
       "      <td>3.000000</td>\n",
       "      <td>1.000000</td>\n",
       "      <td>1.000000</td>\n",
       "      <td>1.000000</td>\n",
       "      <td>1.000000</td>\n",
       "      <td>1.000000</td>\n",
       "      <td>1.000000</td>\n",
       "      <td>1.000000</td>\n",
       "    </tr>\n",
       "  </tbody>\n",
       "</table>\n",
       "</div>"
      ],
      "text/plain": [
       "        Transaction    product_id  period_encoded  weekend_weekday_encoded  \\\n",
       "count  18887.000000  18887.000000    18887.000000             18887.000000   \n",
       "mean    4951.051517     16.610049        0.843067                 0.373643   \n",
       "std     2811.619306     19.393036        0.975471                 0.483783   \n",
       "min        1.000000      1.000000        0.000000                 0.000000   \n",
       "25%     2496.500000      6.000000        0.000000                 0.000000   \n",
       "50%     5082.000000      7.000000        0.000000                 0.000000   \n",
       "75%     7378.500000     24.000000        2.000000                 1.000000   \n",
       "max     9684.000000     94.000000        3.000000                 1.000000   \n",
       "\n",
       "       period_day_afternoon  period_day_evening  period_day_morning  \\\n",
       "count          18887.000000        18887.000000        18887.000000   \n",
       "mean               0.565839            0.025944            0.407529   \n",
       "std                0.495659            0.158972            0.491388   \n",
       "min                0.000000            0.000000            0.000000   \n",
       "25%                0.000000            0.000000            0.000000   \n",
       "50%                1.000000            0.000000            0.000000   \n",
       "75%                1.000000            0.000000            1.000000   \n",
       "max                1.000000            1.000000            1.000000   \n",
       "\n",
       "       period_day_night  weekday_weekend_weekday  weekday_weekend_weekend  \n",
       "count      18887.000000             18887.000000             18887.000000  \n",
       "mean           0.000688                 0.626357                 0.373643  \n",
       "std            0.026227                 0.483783                 0.483783  \n",
       "min            0.000000                 0.000000                 0.000000  \n",
       "25%            0.000000                 0.000000                 0.000000  \n",
       "50%            0.000000                 1.000000                 0.000000  \n",
       "75%            0.000000                 1.000000                 1.000000  \n",
       "max            1.000000                 1.000000                 1.000000  "
      ]
     },
     "execution_count": 75,
     "metadata": {},
     "output_type": "execute_result"
    }
   ],
   "source": [
    "bakery_encoded.describe()"
   ]
  },
  {
   "cell_type": "markdown",
   "id": "45ad0fd8-7596-4aed-82af-f5288126e39a",
   "metadata": {},
   "source": [
    " ## Visualising the period of day in which most items were sold."
   ]
  },
  {
   "cell_type": "code",
   "execution_count": 77,
   "id": "1fd5c952-d9cf-4758-bf4d-51df38bed050",
   "metadata": {
    "tags": []
   },
   "outputs": [
    {
     "data": {
      "image/png": "[encoded data removed]",
      "text/plain": [
       "<Figure size 640x480 with 1 Axes>"
      ]
     },
     "metadata": {},
     "output_type": "display_data"
    }
   ],
   "source": [
    "sns.countplot(x='period_day', hue='weekday_weekend', data=bakery_df_cleaned)\n",
    "\n",
    "plt.title('Count Plot between Two Categories')\n",
    "plt.show()"
   ]
  },
  {
   "cell_type": "markdown",
   "id": "0bffddd9-3683-4bc5-954a-d5e22163990c",
   "metadata": {},
   "source": [
    "## Box-Plotting the period of day over week-day/ week-end to find the outliers"
   ]
  },
  {
   "cell_type": "code",
   "execution_count": 79,
   "id": "aa8ea651-bd9b-428a-ac65-5121985636a7",
   "metadata": {
    "tags": []
   },
   "outputs": [
    {
     "data": {
      "image/png": "[encoded data removed]",
      "text/plain": [
       "<Figure size 640x480 with 1 Axes>"
      ]
     },
     "metadata": {},
     "output_type": "display_data"
    }
   ],
   "source": [
    "\n",
    "sns.boxplot(x='period_day', hue='weekday_weekend', data=bakery_df_cleaned)\n",
    "\n",
    "plt.title('box Plot between Two Categories')\n",
    "plt.show()"
   ]
  },
  {
   "cell_type": "code",
   "execution_count": 81,
   "id": "46068c91-03c0-47e5-a1e1-0e678fd956b8",
   "metadata": {
    "tags": []
   },
   "outputs": [
    {
     "name": "stdout",
     "output_type": "stream",
     "text": [
      "<class 'pandas.core.frame.DataFrame'>\n",
      "Int64Index: 18887 entries, 0 to 18886\n",
      "Data columns (total 5 columns):\n",
      " #   Column           Non-Null Count  Dtype \n",
      "---  ------           --------------  ----- \n",
      " 0   Transaction      18887 non-null  int64 \n",
      " 1   product_id       18887 non-null  int64 \n",
      " 2   date_time        18887 non-null  object\n",
      " 3   period_day       18887 non-null  object\n",
      " 4   weekday_weekend  18887 non-null  object\n",
      "dtypes: int64(2), object(3)\n",
      "memory usage: 885.3+ KB\n"
     ]
    }
   ],
   "source": [
    "bakery_df_cleaned.info()"
   ]
  },
  {
   "cell_type": "markdown",
   "id": "40b6d446-7b36-44d6-98ba-ec4caa08abb8",
   "metadata": {},
   "source": [
    " ## changing the datatype of some columns,  so that they wouldn't raise any error while plotting them"
   ]
  },
  {
   "cell_type": "code",
   "execution_count": 85,
   "id": "7e51623b-3d49-4cda-8209-fe17a45d944f",
   "metadata": {
    "tags": []
   },
   "outputs": [],
   "source": [
    "bakery_df_cleaned[\"period_day\"] = bakery_df_cleaned[\"period_day\"].astype(str)"
   ]
  },
  {
   "cell_type": "code",
   "execution_count": 87,
   "id": "e842a4eb-ddc4-4365-80a0-899a44080e88",
   "metadata": {
    "tags": []
   },
   "outputs": [],
   "source": [
    "bakery_df_cleaned[\"weekday_weekend\"] = bakery_df_cleaned[\"weekday_weekend\"].astype(str)"
   ]
  },
  {
   "cell_type": "code",
   "execution_count": 89,
   "id": "d2b31deb-54fd-49dd-8e67-1adb696026dc",
   "metadata": {
    "tags": []
   },
   "outputs": [
    {
     "name": "stdout",
     "output_type": "stream",
     "text": [
      "<class 'pandas.core.frame.DataFrame'>\n",
      "Int64Index: 18887 entries, 0 to 18886\n",
      "Data columns (total 5 columns):\n",
      " #   Column           Non-Null Count  Dtype \n",
      "---  ------           --------------  ----- \n",
      " 0   Transaction      18887 non-null  int64 \n",
      " 1   product_id       18887 non-null  int64 \n",
      " 2   date_time        18887 non-null  object\n",
      " 3   period_day       18887 non-null  object\n",
      " 4   weekday_weekend  18887 non-null  object\n",
      "dtypes: int64(2), object(3)\n",
      "memory usage: 885.3+ KB\n"
     ]
    }
   ],
   "source": [
    "bakery_df_cleaned.info()"
   ]
  },
  {
   "cell_type": "markdown",
   "id": "658b8b49-209e-4a11-94dd-6742a14f006c",
   "metadata": {},
   "source": [
    "## checking for any visual correlation between period_day and weekday_weekend"
   ]
  },
  {
   "cell_type": "code",
   "execution_count": 91,
   "id": "bf1f0a85-faf8-4d16-a6c6-c783bc07a795",
   "metadata": {
    "tags": []
   },
   "outputs": [
    {
     "data": {
      "image/png": "[encoded data removed]",
      "text/plain": [
       "<Figure size 640x480 with 1 Axes>"
      ]
     },
     "metadata": {},
     "output_type": "display_data"
    }
   ],
   "source": [
    "x = bakery_df_cleaned['period_day']  \n",
    "y = bakery_df_cleaned['weekday_weekend']  \n",
    "\n",
    "plt.scatter(x, y)\n",
    "plt.title('Scatter Plot')\n",
    "plt.xlabel('period_day')\n",
    "plt.ylabel('Weekday - Weekend')\n",
    "plt.show()"
   ]
  },
  {
   "cell_type": "code",
   "execution_count": 174,
   "id": "0fae2b13-0ff0-43aa-b958-ff9c624a43b9",
   "metadata": {
    "tags": []
   },
   "outputs": [
    {
     "name": "stdout",
     "output_type": "stream",
     "text": [
      "Pearson correlation between weekday_weekend and period of day: 0.014527560509050437\n"
     ]
    }
   ],
   "source": [
    "pearson_corr = np.corrcoef(bakery_encoded['weekend_weekday_encoded'], bakery_encoded['period_encoded'])[0, 1]\n",
    "print(f'Pearson correlation between weekday_weekend and period of day: {pearson_corr}')"
   ]
  },
  {
   "cell_type": "markdown",
   "id": "3374e93b-c1b0-43b8-af7b-f4de50990606",
   "metadata": {},
   "source": [
    "## That means there is Weak positive correlation between weekend/weekday and period"
   ]
  },
  {
   "cell_type": "code",
   "execution_count": 96,
   "id": "80ddc4c6-4595-42df-a35d-2053ace94206",
   "metadata": {
    "tags": []
   },
   "outputs": [
    {
     "data": {
      "text/html": [
       "<div>\n",
       "<style scoped>\n",
       "    .dataframe tbody tr th:only-of-type {\n",
       "        vertical-align: middle;\n",
       "    }\n",
       "\n",
       "    .dataframe tbody tr th {\n",
       "        vertical-align: top;\n",
       "    }\n",
       "\n",
       "    .dataframe thead th {\n",
       "        text-align: right;\n",
       "    }\n",
       "</style>\n",
       "<table border=\"1\" class=\"dataframe\">\n",
       "  <thead>\n",
       "    <tr style=\"text-align: right;\">\n",
       "      <th></th>\n",
       "      <th>Transaction</th>\n",
       "      <th>product_id</th>\n",
       "      <th>date_time</th>\n",
       "      <th>period_encoded</th>\n",
       "      <th>weekend_weekday_encoded</th>\n",
       "      <th>period_day_afternoon</th>\n",
       "      <th>period_day_evening</th>\n",
       "      <th>period_day_morning</th>\n",
       "      <th>period_day_night</th>\n",
       "      <th>weekday_weekend_weekday</th>\n",
       "      <th>weekday_weekend_weekend</th>\n",
       "    </tr>\n",
       "  </thead>\n",
       "  <tbody>\n",
       "    <tr>\n",
       "      <th>0</th>\n",
       "      <td>1</td>\n",
       "      <td>1</td>\n",
       "      <td>10/30/2016 9:58</td>\n",
       "      <td>2</td>\n",
       "      <td>1</td>\n",
       "      <td>0</td>\n",
       "      <td>0</td>\n",
       "      <td>1</td>\n",
       "      <td>0</td>\n",
       "      <td>0</td>\n",
       "      <td>1</td>\n",
       "    </tr>\n",
       "    <tr>\n",
       "      <th>1</th>\n",
       "      <td>2</td>\n",
       "      <td>2</td>\n",
       "      <td>10/30/2016 10:05</td>\n",
       "      <td>2</td>\n",
       "      <td>1</td>\n",
       "      <td>0</td>\n",
       "      <td>0</td>\n",
       "      <td>1</td>\n",
       "      <td>0</td>\n",
       "      <td>0</td>\n",
       "      <td>1</td>\n",
       "    </tr>\n",
       "    <tr>\n",
       "      <th>2</th>\n",
       "      <td>3</td>\n",
       "      <td>3</td>\n",
       "      <td>10/30/2016 10:07</td>\n",
       "      <td>2</td>\n",
       "      <td>1</td>\n",
       "      <td>0</td>\n",
       "      <td>0</td>\n",
       "      <td>1</td>\n",
       "      <td>0</td>\n",
       "      <td>0</td>\n",
       "      <td>1</td>\n",
       "    </tr>\n",
       "    <tr>\n",
       "      <th>3</th>\n",
       "      <td>3</td>\n",
       "      <td>4</td>\n",
       "      <td>10/30/2016 10:07</td>\n",
       "      <td>2</td>\n",
       "      <td>1</td>\n",
       "      <td>0</td>\n",
       "      <td>0</td>\n",
       "      <td>1</td>\n",
       "      <td>0</td>\n",
       "      <td>0</td>\n",
       "      <td>1</td>\n",
       "    </tr>\n",
       "    <tr>\n",
       "      <th>4</th>\n",
       "      <td>3</td>\n",
       "      <td>5</td>\n",
       "      <td>10/30/2016 10:07</td>\n",
       "      <td>2</td>\n",
       "      <td>1</td>\n",
       "      <td>0</td>\n",
       "      <td>0</td>\n",
       "      <td>1</td>\n",
       "      <td>0</td>\n",
       "      <td>0</td>\n",
       "      <td>1</td>\n",
       "    </tr>\n",
       "  </tbody>\n",
       "</table>\n",
       "</div>"
      ],
      "text/plain": [
       "   Transaction  product_id         date_time  period_encoded  \\\n",
       "0            1           1   10/30/2016 9:58               2   \n",
       "1            2           2  10/30/2016 10:05               2   \n",
       "2            3           3  10/30/2016 10:07               2   \n",
       "3            3           4  10/30/2016 10:07               2   \n",
       "4            3           5  10/30/2016 10:07               2   \n",
       "\n",
       "   weekend_weekday_encoded  period_day_afternoon  period_day_evening  \\\n",
       "0                        1                     0                   0   \n",
       "1                        1                     0                   0   \n",
       "2                        1                     0                   0   \n",
       "3                        1                     0                   0   \n",
       "4                        1                     0                   0   \n",
       "\n",
       "   period_day_morning  period_day_night  weekday_weekend_weekday  \\\n",
       "0                   1                 0                        0   \n",
       "1                   1                 0                        0   \n",
       "2                   1                 0                        0   \n",
       "3                   1                 0                        0   \n",
       "4                   1                 0                        0   \n",
       "\n",
       "   weekday_weekend_weekend  \n",
       "0                        1  \n",
       "1                        1  \n",
       "2                        1  \n",
       "3                        1  \n",
       "4                        1  "
      ]
     },
     "execution_count": 96,
     "metadata": {},
     "output_type": "execute_result"
    }
   ],
   "source": [
    "bakery_encoded.head()"
   ]
  },
  {
   "cell_type": "code",
   "execution_count": 98,
   "id": "19356e5f-a4a6-478d-8286-8b20c21b9f0a",
   "metadata": {
    "tags": []
   },
   "outputs": [
    {
     "data": {
      "text/html": [
       "<div>\n",
       "<style scoped>\n",
       "    .dataframe tbody tr th:only-of-type {\n",
       "        vertical-align: middle;\n",
       "    }\n",
       "\n",
       "    .dataframe tbody tr th {\n",
       "        vertical-align: top;\n",
       "    }\n",
       "\n",
       "    .dataframe thead th {\n",
       "        text-align: right;\n",
       "    }\n",
       "</style>\n",
       "<table border=\"1\" class=\"dataframe\">\n",
       "  <thead>\n",
       "    <tr style=\"text-align: right;\">\n",
       "      <th></th>\n",
       "      <th>Transaction</th>\n",
       "      <th>Item</th>\n",
       "      <th>date_time</th>\n",
       "      <th>period_day</th>\n",
       "      <th>weekday_weekend</th>\n",
       "    </tr>\n",
       "  </thead>\n",
       "  <tbody>\n",
       "    <tr>\n",
       "      <th>0</th>\n",
       "      <td>1</td>\n",
       "      <td>Bread</td>\n",
       "      <td>10/30/2016 9:58</td>\n",
       "      <td>morning</td>\n",
       "      <td>weekend</td>\n",
       "    </tr>\n",
       "    <tr>\n",
       "      <th>1</th>\n",
       "      <td>2</td>\n",
       "      <td>Scandinavian</td>\n",
       "      <td>10/30/2016 10:05</td>\n",
       "      <td>morning</td>\n",
       "      <td>weekend</td>\n",
       "    </tr>\n",
       "    <tr>\n",
       "      <th>2</th>\n",
       "      <td>2</td>\n",
       "      <td>Scandinavian</td>\n",
       "      <td>10/30/2016 10:05</td>\n",
       "      <td>morning</td>\n",
       "      <td>weekend</td>\n",
       "    </tr>\n",
       "    <tr>\n",
       "      <th>3</th>\n",
       "      <td>3</td>\n",
       "      <td>Hot chocolate</td>\n",
       "      <td>10/30/2016 10:07</td>\n",
       "      <td>morning</td>\n",
       "      <td>weekend</td>\n",
       "    </tr>\n",
       "    <tr>\n",
       "      <th>4</th>\n",
       "      <td>3</td>\n",
       "      <td>Jam</td>\n",
       "      <td>10/30/2016 10:07</td>\n",
       "      <td>morning</td>\n",
       "      <td>weekend</td>\n",
       "    </tr>\n",
       "    <tr>\n",
       "      <th>...</th>\n",
       "      <td>...</td>\n",
       "      <td>...</td>\n",
       "      <td>...</td>\n",
       "      <td>...</td>\n",
       "      <td>...</td>\n",
       "    </tr>\n",
       "    <tr>\n",
       "      <th>20502</th>\n",
       "      <td>9682</td>\n",
       "      <td>Coffee</td>\n",
       "      <td>09/04/2017 2:32</td>\n",
       "      <td>afternoon</td>\n",
       "      <td>weekend</td>\n",
       "    </tr>\n",
       "    <tr>\n",
       "      <th>20503</th>\n",
       "      <td>9682</td>\n",
       "      <td>Tea</td>\n",
       "      <td>09/04/2017 2:32</td>\n",
       "      <td>afternoon</td>\n",
       "      <td>weekend</td>\n",
       "    </tr>\n",
       "    <tr>\n",
       "      <th>20504</th>\n",
       "      <td>9683</td>\n",
       "      <td>Coffee</td>\n",
       "      <td>09/04/2017 2:57</td>\n",
       "      <td>afternoon</td>\n",
       "      <td>weekend</td>\n",
       "    </tr>\n",
       "    <tr>\n",
       "      <th>20505</th>\n",
       "      <td>9683</td>\n",
       "      <td>Pastry</td>\n",
       "      <td>09/04/2017 2:57</td>\n",
       "      <td>afternoon</td>\n",
       "      <td>weekend</td>\n",
       "    </tr>\n",
       "    <tr>\n",
       "      <th>20506</th>\n",
       "      <td>9684</td>\n",
       "      <td>Smoothies</td>\n",
       "      <td>09/04/2017 3:04</td>\n",
       "      <td>afternoon</td>\n",
       "      <td>weekend</td>\n",
       "    </tr>\n",
       "  </tbody>\n",
       "</table>\n",
       "<p>20507 rows × 5 columns</p>\n",
       "</div>"
      ],
      "text/plain": [
       "       Transaction           Item         date_time period_day weekday_weekend\n",
       "0                1          Bread   10/30/2016 9:58    morning         weekend\n",
       "1                2   Scandinavian  10/30/2016 10:05    morning         weekend\n",
       "2                2   Scandinavian  10/30/2016 10:05    morning         weekend\n",
       "3                3  Hot chocolate  10/30/2016 10:07    morning         weekend\n",
       "4                3            Jam  10/30/2016 10:07    morning         weekend\n",
       "...            ...            ...               ...        ...             ...\n",
       "20502         9682         Coffee   09/04/2017 2:32  afternoon         weekend\n",
       "20503         9682            Tea   09/04/2017 2:32  afternoon         weekend\n",
       "20504         9683         Coffee   09/04/2017 2:57  afternoon         weekend\n",
       "20505         9683         Pastry   09/04/2017 2:57  afternoon         weekend\n",
       "20506         9684      Smoothies   09/04/2017 3:04  afternoon         weekend\n",
       "\n",
       "[20507 rows x 5 columns]"
      ]
     },
     "execution_count": 98,
     "metadata": {},
     "output_type": "execute_result"
    }
   ],
   "source": [
    "bakery_df"
   ]
  },
  {
   "cell_type": "markdown",
   "id": "268c9245-e55c-423b-b249-479999e0c560",
   "metadata": {},
   "source": [
    "## Checking for the purchase frequency of products."
   ]
  },
  {
   "cell_type": "code",
   "execution_count": 100,
   "id": "f0a2a40b-9f79-4bf2-a63f-7dea2d99a063",
   "metadata": {
    "tags": []
   },
   "outputs": [
    {
     "name": "stdout",
     "output_type": "stream",
     "text": [
      "      Transaction  purchase_count\n",
      "0               1               1\n",
      "1               2               2\n",
      "2               3               3\n",
      "3               4               1\n",
      "4               5               3\n",
      "...           ...             ...\n",
      "9460         9680               1\n",
      "9461         9681               4\n",
      "9462         9682               4\n",
      "9463         9683               2\n",
      "9464         9684               1\n",
      "\n",
      "[9465 rows x 2 columns]\n"
     ]
    }
   ],
   "source": [
    "purchase_frequency= bakery_df.groupby([\"Transaction\"]).size().reset_index(name=\"purchase_count\")\n",
    "print(purchase_frequency)"
   ]
  },
  {
   "cell_type": "code",
   "execution_count": 102,
   "id": "b9bce00b-da69-4475-b341-c356121389ff",
   "metadata": {
    "tags": []
   },
   "outputs": [],
   "source": [
    "purchase_counts = bakery_df[\"Item\"].value_counts()\n",
    "top_20_purchases = purchase_counts.head(30)"
   ]
  },
  {
   "cell_type": "markdown",
   "id": "a746dbd9-72a2-49ae-958f-11881d49bf9c",
   "metadata": {},
   "source": [
    "## Visualizing the purchase frequency to see the bigger picture"
   ]
  },
  {
   "cell_type": "code",
   "execution_count": 106,
   "id": "888d4ebf-5366-447d-9cc8-7728693fe922",
   "metadata": {
    "tags": []
   },
   "outputs": [
    {
     "name": "stderr",
     "output_type": "stream",
     "text": [
      "/var/folders/2c/hpk9j8md6h71406dzkc5_w1m0000gn/T/ipykernel_54743/1934954801.py:2: FutureWarning: \n",
      "\n",
      "Passing `palette` without assigning `hue` is deprecated and will be removed in v0.14.0. Assign the `y` variable to `hue` and set `legend=False` for the same effect.\n",
      "\n",
      "  sns.barplot(x=top_20_purchases.values, y=top_20_purchases.index, palette='viridis')\n"
     ]
    },
    {
     "data": {
      "image/png": "[encoded data removed]",
      "text/plain": [
       "<Figure size 1000x600 with 1 Axes>"
      ]
     },
     "metadata": {},
     "output_type": "display_data"
    }
   ],
   "source": [
    "plt.figure(figsize=(10,6))\n",
    "sns.barplot(x=top_20_purchases.values, y=top_20_purchases.index, palette='viridis')\n",
    "plt.title('Top 20 Most Frequent Purchases')\n",
    "plt.xlabel('Number of Purchases')\n",
    "plt.ylabel('Products')\n",
    "plt.show()"
   ]
  },
  {
   "cell_type": "code",
   "execution_count": 104,
   "id": "e091dc4b-3758-4fe2-b2d8-7966306632ee",
   "metadata": {
    "tags": []
   },
   "outputs": [
    {
     "data": {
      "text/plain": [
       "Coffee               5471\n",
       "Bread                3325\n",
       "Tea                  1435\n",
       "Cake                 1025\n",
       "Pastry                856\n",
       "Sandwich              771\n",
       "Medialuna             616\n",
       "Hot chocolate         590\n",
       "Cookies               540\n",
       "Brownie               379\n",
       "Farm House            374\n",
       "Muffin                370\n",
       "Alfajores             369\n",
       "Juice                 369\n",
       "Soup                  342\n",
       "Scone                 327\n",
       "Toast                 318\n",
       "Scandinavian          277\n",
       "Truffles              193\n",
       "Coke                  185\n",
       "Spanish Brunch        172\n",
       "Fudge                 159\n",
       "Baguette              152\n",
       "Jam                   149\n",
       "Tiffin                146\n",
       "Mineral water         136\n",
       "Jammie Dodgers        125\n",
       "Chicken Stew          123\n",
       "Hearty & Seasonal     107\n",
       "Salad                  99\n",
       "Name: Item, dtype: int64"
      ]
     },
     "execution_count": 104,
     "metadata": {},
     "output_type": "execute_result"
    }
   ],
   "source": [
    "top_20_purchases"
   ]
  },
  {
   "cell_type": "code",
   "execution_count": 108,
   "id": "1bc85b14-dbea-4bab-9c5d-5e6d196f5b85",
   "metadata": {
    "tags": []
   },
   "outputs": [
    {
     "data": {
      "text/html": [
       "<div>\n",
       "<style scoped>\n",
       "    .dataframe tbody tr th:only-of-type {\n",
       "        vertical-align: middle;\n",
       "    }\n",
       "\n",
       "    .dataframe tbody tr th {\n",
       "        vertical-align: top;\n",
       "    }\n",
       "\n",
       "    .dataframe thead th {\n",
       "        text-align: right;\n",
       "    }\n",
       "</style>\n",
       "<table border=\"1\" class=\"dataframe\">\n",
       "  <thead>\n",
       "    <tr style=\"text-align: right;\">\n",
       "      <th></th>\n",
       "      <th>Transaction</th>\n",
       "      <th>Item</th>\n",
       "      <th>date_time</th>\n",
       "      <th>period_day</th>\n",
       "      <th>weekday_weekend</th>\n",
       "    </tr>\n",
       "  </thead>\n",
       "  <tbody>\n",
       "    <tr>\n",
       "      <th>0</th>\n",
       "      <td>1</td>\n",
       "      <td>Bread</td>\n",
       "      <td>10/30/2016 9:58</td>\n",
       "      <td>morning</td>\n",
       "      <td>weekend</td>\n",
       "    </tr>\n",
       "    <tr>\n",
       "      <th>1</th>\n",
       "      <td>2</td>\n",
       "      <td>Scandinavian</td>\n",
       "      <td>10/30/2016 10:05</td>\n",
       "      <td>morning</td>\n",
       "      <td>weekend</td>\n",
       "    </tr>\n",
       "    <tr>\n",
       "      <th>2</th>\n",
       "      <td>2</td>\n",
       "      <td>Scandinavian</td>\n",
       "      <td>10/30/2016 10:05</td>\n",
       "      <td>morning</td>\n",
       "      <td>weekend</td>\n",
       "    </tr>\n",
       "    <tr>\n",
       "      <th>3</th>\n",
       "      <td>3</td>\n",
       "      <td>Hot chocolate</td>\n",
       "      <td>10/30/2016 10:07</td>\n",
       "      <td>morning</td>\n",
       "      <td>weekend</td>\n",
       "    </tr>\n",
       "    <tr>\n",
       "      <th>4</th>\n",
       "      <td>3</td>\n",
       "      <td>Jam</td>\n",
       "      <td>10/30/2016 10:07</td>\n",
       "      <td>morning</td>\n",
       "      <td>weekend</td>\n",
       "    </tr>\n",
       "    <tr>\n",
       "      <th>...</th>\n",
       "      <td>...</td>\n",
       "      <td>...</td>\n",
       "      <td>...</td>\n",
       "      <td>...</td>\n",
       "      <td>...</td>\n",
       "    </tr>\n",
       "    <tr>\n",
       "      <th>20502</th>\n",
       "      <td>9682</td>\n",
       "      <td>Coffee</td>\n",
       "      <td>09/04/2017 2:32</td>\n",
       "      <td>afternoon</td>\n",
       "      <td>weekend</td>\n",
       "    </tr>\n",
       "    <tr>\n",
       "      <th>20503</th>\n",
       "      <td>9682</td>\n",
       "      <td>Tea</td>\n",
       "      <td>09/04/2017 2:32</td>\n",
       "      <td>afternoon</td>\n",
       "      <td>weekend</td>\n",
       "    </tr>\n",
       "    <tr>\n",
       "      <th>20504</th>\n",
       "      <td>9683</td>\n",
       "      <td>Coffee</td>\n",
       "      <td>09/04/2017 2:57</td>\n",
       "      <td>afternoon</td>\n",
       "      <td>weekend</td>\n",
       "    </tr>\n",
       "    <tr>\n",
       "      <th>20505</th>\n",
       "      <td>9683</td>\n",
       "      <td>Pastry</td>\n",
       "      <td>09/04/2017 2:57</td>\n",
       "      <td>afternoon</td>\n",
       "      <td>weekend</td>\n",
       "    </tr>\n",
       "    <tr>\n",
       "      <th>20506</th>\n",
       "      <td>9684</td>\n",
       "      <td>Smoothies</td>\n",
       "      <td>09/04/2017 3:04</td>\n",
       "      <td>afternoon</td>\n",
       "      <td>weekend</td>\n",
       "    </tr>\n",
       "  </tbody>\n",
       "</table>\n",
       "<p>20507 rows × 5 columns</p>\n",
       "</div>"
      ],
      "text/plain": [
       "       Transaction           Item         date_time period_day weekday_weekend\n",
       "0                1          Bread   10/30/2016 9:58    morning         weekend\n",
       "1                2   Scandinavian  10/30/2016 10:05    morning         weekend\n",
       "2                2   Scandinavian  10/30/2016 10:05    morning         weekend\n",
       "3                3  Hot chocolate  10/30/2016 10:07    morning         weekend\n",
       "4                3            Jam  10/30/2016 10:07    morning         weekend\n",
       "...            ...            ...               ...        ...             ...\n",
       "20502         9682         Coffee   09/04/2017 2:32  afternoon         weekend\n",
       "20503         9682            Tea   09/04/2017 2:32  afternoon         weekend\n",
       "20504         9683         Coffee   09/04/2017 2:57  afternoon         weekend\n",
       "20505         9683         Pastry   09/04/2017 2:57  afternoon         weekend\n",
       "20506         9684      Smoothies   09/04/2017 3:04  afternoon         weekend\n",
       "\n",
       "[20507 rows x 5 columns]"
      ]
     },
     "execution_count": 108,
     "metadata": {},
     "output_type": "execute_result"
    }
   ],
   "source": [
    "bakery_df"
   ]
  },
  {
   "cell_type": "markdown",
   "id": "d9b1b398-fa59-48c6-8a90-4cb7e1496179",
   "metadata": {},
   "source": [
    "## Grouping dataframe by item and daytime to see which item was sold during which period of day and how may items(count) were sold."
   ]
  },
  {
   "cell_type": "code",
   "execution_count": 110,
   "id": "ad7f692a-51a3-42d2-abf0-39c17d34f41f",
   "metadata": {
    "tags": []
   },
   "outputs": [],
   "source": [
    "grouped_by_item_daytime = bakery_df.groupby([\"Item\", \"period_day\"]).size().reset_index(name=\"count\")\n",
    "grouped_by_item_daytime = grouped_by_item_daytime.sort_values(by='count', ascending=False)\n"
   ]
  },
  {
   "cell_type": "code",
   "execution_count": 112,
   "id": "c4581b01-06c8-4221-9411-7a29e738ad12",
   "metadata": {
    "tags": []
   },
   "outputs": [
    {
     "data": {
      "text/html": [
       "<div>\n",
       "<style scoped>\n",
       "    .dataframe tbody tr th:only-of-type {\n",
       "        vertical-align: middle;\n",
       "    }\n",
       "\n",
       "    .dataframe tbody tr th {\n",
       "        vertical-align: top;\n",
       "    }\n",
       "\n",
       "    .dataframe thead th {\n",
       "        text-align: right;\n",
       "    }\n",
       "</style>\n",
       "<table border=\"1\" class=\"dataframe\">\n",
       "  <thead>\n",
       "    <tr style=\"text-align: right;\">\n",
       "      <th></th>\n",
       "      <th>Item</th>\n",
       "      <th>period_day</th>\n",
       "      <th>count</th>\n",
       "    </tr>\n",
       "  </thead>\n",
       "  <tbody>\n",
       "    <tr>\n",
       "      <th>48</th>\n",
       "      <td>Coffee</td>\n",
       "      <td>afternoon</td>\n",
       "      <td>2823</td>\n",
       "    </tr>\n",
       "    <tr>\n",
       "      <th>50</th>\n",
       "      <td>Coffee</td>\n",
       "      <td>morning</td>\n",
       "      <td>2561</td>\n",
       "    </tr>\n",
       "    <tr>\n",
       "      <th>22</th>\n",
       "      <td>Bread</td>\n",
       "      <td>afternoon</td>\n",
       "      <td>1661</td>\n",
       "    </tr>\n",
       "    <tr>\n",
       "      <th>24</th>\n",
       "      <td>Bread</td>\n",
       "      <td>morning</td>\n",
       "      <td>1610</td>\n",
       "    </tr>\n",
       "    <tr>\n",
       "      <th>194</th>\n",
       "      <td>Tea</td>\n",
       "      <td>afternoon</td>\n",
       "      <td>930</td>\n",
       "    </tr>\n",
       "  </tbody>\n",
       "</table>\n",
       "</div>"
      ],
      "text/plain": [
       "       Item period_day  count\n",
       "48   Coffee  afternoon   2823\n",
       "50   Coffee    morning   2561\n",
       "22    Bread  afternoon   1661\n",
       "24    Bread    morning   1610\n",
       "194     Tea  afternoon    930"
      ]
     },
     "execution_count": 112,
     "metadata": {},
     "output_type": "execute_result"
    }
   ],
   "source": [
    "grouped_by_item_daytime.head()"
   ]
  },
  {
   "cell_type": "markdown",
   "id": "a8c9e52a-6ad6-457f-abe5-d0b2a7f82778",
   "metadata": {},
   "source": [
    "## Creating a stacked barplot to see the bigger picture of items sold over the period of day, and how many otems were sold"
   ]
  },
  {
   "cell_type": "code",
   "execution_count": 196,
   "id": "9290e7f5-0617-4dce-84c7-3024313c60f8",
   "metadata": {
    "tags": []
   },
   "outputs": [
    {
     "data": {
      "image/png": "[encoded data removed]",
      "text/plain": [
       "<Figure size 1500x1000 with 1 Axes>"
      ]
     },
     "metadata": {},
     "output_type": "display_data"
    }
   ],
   "source": [
    "grouped = grouped_by_item_daytime.groupby(['Item', 'period_day']).sum().reset_index()\n",
    "pivot = grouped.pivot(index='Item', columns='period_day', values='count').fillna(0)\n",
    "\n",
    "fig, ax = plt.subplots(figsize=(15, 10))\n",
    "bottom = np.zeros(len(pivot))\n",
    "\n",
    "for value in pivot.columns:\n",
    "    ax.bar(pivot.index, pivot[value], label=value, bottom=bottom)\n",
    "    bottom += pivot[value]\n",
    "\n",
    "\n",
    "\n",
    "plt.title('Stacked Barplot: Linking Item and Period of day for the number of sold items')\n",
    "plt.xlabel('Item')\n",
    "plt.ylabel('number of Items Sold')\n",
    "plt.xticks(rotation=90)\n",
    "plt.legend(title='Period of Day', bbox_to_anchor=(1, 1), loc='upper left')\n",
    "plt.tight_layout()\n",
    "plt.show()"
   ]
  },
  {
   "cell_type": "code",
   "execution_count": 115,
   "id": "ffc0e1f9-d7e3-4454-a987-7874bdd4cb5a",
   "metadata": {
    "tags": []
   },
   "outputs": [],
   "source": [
    "grouped_by_item_daytime = grouped_by_item_daytime.sort_values(by='count', ascending=False)"
   ]
  },
  {
   "cell_type": "code",
   "execution_count": 151,
   "id": "e2915f4c-9860-46aa-8a14-d94ad51ca684",
   "metadata": {
    "tags": []
   },
   "outputs": [
    {
     "data": {
      "image/png": "[encoded data removed]",
      "text/plain": [
       "<Figure size 1500x1000 with 1 Axes>"
      ]
     },
     "metadata": {},
     "output_type": "display_data"
    }
   ],
   "source": [
    "sns.set(style=\"whitegrid\")\n",
    "plt.figure(figsize=(15,10))\n",
    "\n",
    "# Create a barplot with 'item' on x-axis, 'count' on y-axis, and 'category' as hue\n",
    "sns.barplot(x='Item', y='count', hue='period_day', data=grouped_by_item_daytime)\n",
    "\n",
    "# Display the plot\n",
    "plt.xticks(rotation=90)\n",
    "plt.tight_layout()\n",
    "plt.show()"
   ]
  },
  {
   "cell_type": "markdown",
   "id": "12de2a81-7a2a-4fe5-92b6-58cf319efd40",
   "metadata": {},
   "source": [
    "## Implement K-Means clustering for customer segmentation based on purchasing behavior"
   ]
  },
  {
   "cell_type": "code",
   "execution_count": 123,
   "id": "5aad2859-9bf4-4820-9cc0-4bf439e97d42",
   "metadata": {
    "tags": []
   },
   "outputs": [
    {
     "data": {
      "text/html": [
       "<div>\n",
       "<style scoped>\n",
       "    .dataframe tbody tr th:only-of-type {\n",
       "        vertical-align: middle;\n",
       "    }\n",
       "\n",
       "    .dataframe tbody tr th {\n",
       "        vertical-align: top;\n",
       "    }\n",
       "\n",
       "    .dataframe thead th {\n",
       "        text-align: right;\n",
       "    }\n",
       "</style>\n",
       "<table border=\"1\" class=\"dataframe\">\n",
       "  <thead>\n",
       "    <tr style=\"text-align: right;\">\n",
       "      <th></th>\n",
       "      <th>Transaction</th>\n",
       "      <th>Item</th>\n",
       "      <th>date_time</th>\n",
       "      <th>period_day</th>\n",
       "      <th>weekday_weekend</th>\n",
       "    </tr>\n",
       "  </thead>\n",
       "  <tbody>\n",
       "    <tr>\n",
       "      <th>0</th>\n",
       "      <td>1</td>\n",
       "      <td>Bread</td>\n",
       "      <td>10/30/2016 9:58</td>\n",
       "      <td>morning</td>\n",
       "      <td>weekend</td>\n",
       "    </tr>\n",
       "    <tr>\n",
       "      <th>1</th>\n",
       "      <td>2</td>\n",
       "      <td>Scandinavian</td>\n",
       "      <td>10/30/2016 10:05</td>\n",
       "      <td>morning</td>\n",
       "      <td>weekend</td>\n",
       "    </tr>\n",
       "    <tr>\n",
       "      <th>2</th>\n",
       "      <td>2</td>\n",
       "      <td>Scandinavian</td>\n",
       "      <td>10/30/2016 10:05</td>\n",
       "      <td>morning</td>\n",
       "      <td>weekend</td>\n",
       "    </tr>\n",
       "    <tr>\n",
       "      <th>3</th>\n",
       "      <td>3</td>\n",
       "      <td>Hot chocolate</td>\n",
       "      <td>10/30/2016 10:07</td>\n",
       "      <td>morning</td>\n",
       "      <td>weekend</td>\n",
       "    </tr>\n",
       "    <tr>\n",
       "      <th>4</th>\n",
       "      <td>3</td>\n",
       "      <td>Jam</td>\n",
       "      <td>10/30/2016 10:07</td>\n",
       "      <td>morning</td>\n",
       "      <td>weekend</td>\n",
       "    </tr>\n",
       "  </tbody>\n",
       "</table>\n",
       "</div>"
      ],
      "text/plain": [
       "   Transaction           Item         date_time period_day weekday_weekend\n",
       "0            1          Bread   10/30/2016 9:58    morning         weekend\n",
       "1            2   Scandinavian  10/30/2016 10:05    morning         weekend\n",
       "2            2   Scandinavian  10/30/2016 10:05    morning         weekend\n",
       "3            3  Hot chocolate  10/30/2016 10:07    morning         weekend\n",
       "4            3            Jam  10/30/2016 10:07    morning         weekend"
      ]
     },
     "execution_count": 123,
     "metadata": {},
     "output_type": "execute_result"
    }
   ],
   "source": [
    "bakery_df.head()"
   ]
  },
  {
   "cell_type": "code",
   "execution_count": 125,
   "id": "4eba02fe-0162-4e62-8f38-9e7c510e49c1",
   "metadata": {
    "tags": []
   },
   "outputs": [],
   "source": [
    "customer_df = bakery_df.groupby(\"Transaction\").agg({\n",
    "    \"Item\": \"nunique\",      #Item Variety\n",
    "    \"date_time\": \"count\",   #Total_Purchases\n",
    "    \"period_day\": lambda x: x.value_counts().to_dict(),\n",
    "    \"weekday_weekend\": lambda x: x.value_counts().to_dict()\n",
    "}).reset_index()\n",
    "\n",
    "customer_df.columns = ['Transaction', 'Item_Variety', 'Total_Purchases', 'Period_Counts', 'Weekday_Weekend_Counts']\n",
    "\n"
   ]
  },
  {
   "cell_type": "code",
   "execution_count": 126,
   "id": "1395631b-4ccc-4edc-9553-c4cfcd5c3ebc",
   "metadata": {
    "tags": []
   },
   "outputs": [
    {
     "data": {
      "text/html": [
       "<div>\n",
       "<style scoped>\n",
       "    .dataframe tbody tr th:only-of-type {\n",
       "        vertical-align: middle;\n",
       "    }\n",
       "\n",
       "    .dataframe tbody tr th {\n",
       "        vertical-align: top;\n",
       "    }\n",
       "\n",
       "    .dataframe thead th {\n",
       "        text-align: right;\n",
       "    }\n",
       "</style>\n",
       "<table border=\"1\" class=\"dataframe\">\n",
       "  <thead>\n",
       "    <tr style=\"text-align: right;\">\n",
       "      <th></th>\n",
       "      <th>Transaction</th>\n",
       "      <th>Item_Variety</th>\n",
       "      <th>Total_Purchases</th>\n",
       "      <th>Period_Counts</th>\n",
       "      <th>Weekday_Weekend_Counts</th>\n",
       "    </tr>\n",
       "  </thead>\n",
       "  <tbody>\n",
       "    <tr>\n",
       "      <th>0</th>\n",
       "      <td>1</td>\n",
       "      <td>1</td>\n",
       "      <td>1</td>\n",
       "      <td>{'morning': 1}</td>\n",
       "      <td>{'weekend': 1}</td>\n",
       "    </tr>\n",
       "    <tr>\n",
       "      <th>1</th>\n",
       "      <td>2</td>\n",
       "      <td>1</td>\n",
       "      <td>2</td>\n",
       "      <td>{'morning': 2}</td>\n",
       "      <td>{'weekend': 2}</td>\n",
       "    </tr>\n",
       "    <tr>\n",
       "      <th>2</th>\n",
       "      <td>3</td>\n",
       "      <td>3</td>\n",
       "      <td>3</td>\n",
       "      <td>{'morning': 3}</td>\n",
       "      <td>{'weekend': 3}</td>\n",
       "    </tr>\n",
       "    <tr>\n",
       "      <th>3</th>\n",
       "      <td>4</td>\n",
       "      <td>1</td>\n",
       "      <td>1</td>\n",
       "      <td>{'morning': 1}</td>\n",
       "      <td>{'weekend': 1}</td>\n",
       "    </tr>\n",
       "    <tr>\n",
       "      <th>4</th>\n",
       "      <td>5</td>\n",
       "      <td>3</td>\n",
       "      <td>3</td>\n",
       "      <td>{'morning': 3}</td>\n",
       "      <td>{'weekend': 3}</td>\n",
       "    </tr>\n",
       "  </tbody>\n",
       "</table>\n",
       "</div>"
      ],
      "text/plain": [
       "   Transaction  Item_Variety  Total_Purchases   Period_Counts  \\\n",
       "0            1             1                1  {'morning': 1}   \n",
       "1            2             1                2  {'morning': 2}   \n",
       "2            3             3                3  {'morning': 3}   \n",
       "3            4             1                1  {'morning': 1}   \n",
       "4            5             3                3  {'morning': 3}   \n",
       "\n",
       "  Weekday_Weekend_Counts  \n",
       "0         {'weekend': 1}  \n",
       "1         {'weekend': 2}  \n",
       "2         {'weekend': 3}  \n",
       "3         {'weekend': 1}  \n",
       "4         {'weekend': 3}  "
      ]
     },
     "execution_count": 126,
     "metadata": {},
     "output_type": "execute_result"
    }
   ],
   "source": [
    "customer_df.head()"
   ]
  },
  {
   "cell_type": "code",
   "execution_count": 127,
   "id": "e6ff87d9-3fb7-4c02-b09a-9d27de7a730e",
   "metadata": {
    "tags": []
   },
   "outputs": [],
   "source": [
    "customer_df = pd.concat([customer_df.drop([\"Period_Counts\", \"Weekday_Weekend_Counts\"], axis= 1),\n",
    "                        customer_df[\"Period_Counts\"].apply(pd.Series),\n",
    "                        customer_df[\"Weekday_Weekend_Counts\"].apply(pd.Series)], axis=1)\n",
    "customer_df.fillna(0, inplace=True)"
   ]
  },
  {
   "cell_type": "code",
   "execution_count": 128,
   "id": "01f9d9e3-1547-431e-a907-9297b0c50138",
   "metadata": {
    "tags": []
   },
   "outputs": [
    {
     "data": {
      "text/html": [
       "<div>\n",
       "<style scoped>\n",
       "    .dataframe tbody tr th:only-of-type {\n",
       "        vertical-align: middle;\n",
       "    }\n",
       "\n",
       "    .dataframe tbody tr th {\n",
       "        vertical-align: top;\n",
       "    }\n",
       "\n",
       "    .dataframe thead th {\n",
       "        text-align: right;\n",
       "    }\n",
       "</style>\n",
       "<table border=\"1\" class=\"dataframe\">\n",
       "  <thead>\n",
       "    <tr style=\"text-align: right;\">\n",
       "      <th></th>\n",
       "      <th>Transaction</th>\n",
       "      <th>Item_Variety</th>\n",
       "      <th>Total_Purchases</th>\n",
       "      <th>morning</th>\n",
       "      <th>afternoon</th>\n",
       "      <th>evening</th>\n",
       "      <th>night</th>\n",
       "      <th>weekend</th>\n",
       "      <th>weekday</th>\n",
       "    </tr>\n",
       "  </thead>\n",
       "  <tbody>\n",
       "    <tr>\n",
       "      <th>0</th>\n",
       "      <td>1</td>\n",
       "      <td>1</td>\n",
       "      <td>1</td>\n",
       "      <td>1.0</td>\n",
       "      <td>0.0</td>\n",
       "      <td>0.0</td>\n",
       "      <td>0.0</td>\n",
       "      <td>1.0</td>\n",
       "      <td>0.0</td>\n",
       "    </tr>\n",
       "    <tr>\n",
       "      <th>1</th>\n",
       "      <td>2</td>\n",
       "      <td>1</td>\n",
       "      <td>2</td>\n",
       "      <td>2.0</td>\n",
       "      <td>0.0</td>\n",
       "      <td>0.0</td>\n",
       "      <td>0.0</td>\n",
       "      <td>2.0</td>\n",
       "      <td>0.0</td>\n",
       "    </tr>\n",
       "    <tr>\n",
       "      <th>2</th>\n",
       "      <td>3</td>\n",
       "      <td>3</td>\n",
       "      <td>3</td>\n",
       "      <td>3.0</td>\n",
       "      <td>0.0</td>\n",
       "      <td>0.0</td>\n",
       "      <td>0.0</td>\n",
       "      <td>3.0</td>\n",
       "      <td>0.0</td>\n",
       "    </tr>\n",
       "    <tr>\n",
       "      <th>3</th>\n",
       "      <td>4</td>\n",
       "      <td>1</td>\n",
       "      <td>1</td>\n",
       "      <td>1.0</td>\n",
       "      <td>0.0</td>\n",
       "      <td>0.0</td>\n",
       "      <td>0.0</td>\n",
       "      <td>1.0</td>\n",
       "      <td>0.0</td>\n",
       "    </tr>\n",
       "    <tr>\n",
       "      <th>4</th>\n",
       "      <td>5</td>\n",
       "      <td>3</td>\n",
       "      <td>3</td>\n",
       "      <td>3.0</td>\n",
       "      <td>0.0</td>\n",
       "      <td>0.0</td>\n",
       "      <td>0.0</td>\n",
       "      <td>3.0</td>\n",
       "      <td>0.0</td>\n",
       "    </tr>\n",
       "  </tbody>\n",
       "</table>\n",
       "</div>"
      ],
      "text/plain": [
       "   Transaction  Item_Variety  Total_Purchases  morning  afternoon  evening  \\\n",
       "0            1             1                1      1.0        0.0      0.0   \n",
       "1            2             1                2      2.0        0.0      0.0   \n",
       "2            3             3                3      3.0        0.0      0.0   \n",
       "3            4             1                1      1.0        0.0      0.0   \n",
       "4            5             3                3      3.0        0.0      0.0   \n",
       "\n",
       "   night  weekend  weekday  \n",
       "0    0.0      1.0      0.0  \n",
       "1    0.0      2.0      0.0  \n",
       "2    0.0      3.0      0.0  \n",
       "3    0.0      1.0      0.0  \n",
       "4    0.0      3.0      0.0  "
      ]
     },
     "execution_count": 128,
     "metadata": {},
     "output_type": "execute_result"
    }
   ],
   "source": [
    "customer_df.head()"
   ]
  },
  {
   "cell_type": "markdown",
   "id": "7f9d07a0-90fb-4d75-a48c-d151925c267a",
   "metadata": {},
   "source": [
    "### Scaling the feature\n"
   ]
  },
  {
   "cell_type": "code",
   "execution_count": 129,
   "id": "9c8af34e-ecb5-436f-9915-81b9b3f6f775",
   "metadata": {
    "tags": []
   },
   "outputs": [],
   "source": [
    "scaler = StandardScaler()\n",
    "X = scaler.fit_transform(customer_df.drop('Transaction', axis=1))"
   ]
  },
  {
   "cell_type": "markdown",
   "id": "bc41dba5-7fff-4a22-adda-883d98499a3b",
   "metadata": {},
   "source": [
    "### Determine optimal number of clusters\n"
   ]
  },
  {
   "cell_type": "code",
   "execution_count": 132,
   "id": "aaf31511-69df-4121-b310-ca234a411057",
   "metadata": {
    "tags": []
   },
   "outputs": [
    {
     "data": {
      "image/png": "[encoded data removed]",
      "text/plain": [
       "<Figure size 800x500 with 1 Axes>"
      ]
     },
     "metadata": {},
     "output_type": "display_data"
    }
   ],
   "source": [
    "inertia = []\n",
    "K = range(1, 10)\n",
    "\n",
    "for k in K:\n",
    "    kmeans = KMeans(n_clusters=k, random_state=42)\n",
    "    kmeans.fit(X)\n",
    "    inertia.append(kmeans.inertia_)\n",
    "    \n",
    "# Plot the Elbow Method\n",
    "plt.figure(figsize=(8, 5))\n",
    "plt.plot(K, inertia, marker='o')\n",
    "plt.xlabel('Number of Clusters (k)')\n",
    "plt.ylabel('Inertia')\n",
    "plt.title('Elbow Method for Optimal k')\n",
    "plt.show()"
   ]
  },
  {
   "cell_type": "code",
   "execution_count": 133,
   "id": "dca29964-18e4-4bd2-9e1b-196b018808ba",
   "metadata": {
    "tags": []
   },
   "outputs": [
    {
     "data": {
      "text/plain": [
       "[75720.0000000004,\n",
       " 57560.873891613526,\n",
       " 47113.39795886654,\n",
       " 39745.38127110113,\n",
       " 32768.58711221031,\n",
       " 26285.257794100547,\n",
       " 22520.91710524427,\n",
       " 18395.98279414598,\n",
       " 15282.063822416814]"
      ]
     },
     "execution_count": 133,
     "metadata": {},
     "output_type": "execute_result"
    }
   ],
   "source": [
    "inertia"
   ]
  },
  {
   "cell_type": "markdown",
   "id": "c1392a68-5cdb-484d-9214-aef7ae58f6bb",
   "metadata": {},
   "source": [
    "## Apply k_means clustering\n"
   ]
  },
  {
   "cell_type": "code",
   "execution_count": 134,
   "id": "f35f7cfa-3575-45a3-825f-d3e2d45f4f15",
   "metadata": {
    "tags": []
   },
   "outputs": [],
   "source": [
    "optimal_k = 3\n",
    "kmeans = KMeans(n_clusters=optimal_k, random_state=42)\n",
    "customer_df[\"Cluster\"] = kmeans.fit_predict(X)"
   ]
  },
  {
   "cell_type": "code",
   "execution_count": 135,
   "id": "7ec4a461-2561-4294-b781-d55902215385",
   "metadata": {
    "tags": []
   },
   "outputs": [
    {
     "data": {
      "text/html": [
       "<div>\n",
       "<style scoped>\n",
       "    .dataframe tbody tr th:only-of-type {\n",
       "        vertical-align: middle;\n",
       "    }\n",
       "\n",
       "    .dataframe tbody tr th {\n",
       "        vertical-align: top;\n",
       "    }\n",
       "\n",
       "    .dataframe thead th {\n",
       "        text-align: right;\n",
       "    }\n",
       "</style>\n",
       "<table border=\"1\" class=\"dataframe\">\n",
       "  <thead>\n",
       "    <tr style=\"text-align: right;\">\n",
       "      <th></th>\n",
       "      <th>Transaction</th>\n",
       "      <th>Item_Variety</th>\n",
       "      <th>Total_Purchases</th>\n",
       "      <th>morning</th>\n",
       "      <th>afternoon</th>\n",
       "      <th>evening</th>\n",
       "      <th>night</th>\n",
       "      <th>weekend</th>\n",
       "      <th>weekday</th>\n",
       "      <th>Cluster</th>\n",
       "    </tr>\n",
       "  </thead>\n",
       "  <tbody>\n",
       "    <tr>\n",
       "      <th>0</th>\n",
       "      <td>1</td>\n",
       "      <td>1</td>\n",
       "      <td>1</td>\n",
       "      <td>1.0</td>\n",
       "      <td>0.0</td>\n",
       "      <td>0.0</td>\n",
       "      <td>0.0</td>\n",
       "      <td>1.0</td>\n",
       "      <td>0.0</td>\n",
       "      <td>0</td>\n",
       "    </tr>\n",
       "    <tr>\n",
       "      <th>1</th>\n",
       "      <td>2</td>\n",
       "      <td>1</td>\n",
       "      <td>2</td>\n",
       "      <td>2.0</td>\n",
       "      <td>0.0</td>\n",
       "      <td>0.0</td>\n",
       "      <td>0.0</td>\n",
       "      <td>2.0</td>\n",
       "      <td>0.0</td>\n",
       "      <td>0</td>\n",
       "    </tr>\n",
       "    <tr>\n",
       "      <th>2</th>\n",
       "      <td>3</td>\n",
       "      <td>3</td>\n",
       "      <td>3</td>\n",
       "      <td>3.0</td>\n",
       "      <td>0.0</td>\n",
       "      <td>0.0</td>\n",
       "      <td>0.0</td>\n",
       "      <td>3.0</td>\n",
       "      <td>0.0</td>\n",
       "      <td>1</td>\n",
       "    </tr>\n",
       "    <tr>\n",
       "      <th>3</th>\n",
       "      <td>4</td>\n",
       "      <td>1</td>\n",
       "      <td>1</td>\n",
       "      <td>1.0</td>\n",
       "      <td>0.0</td>\n",
       "      <td>0.0</td>\n",
       "      <td>0.0</td>\n",
       "      <td>1.0</td>\n",
       "      <td>0.0</td>\n",
       "      <td>0</td>\n",
       "    </tr>\n",
       "    <tr>\n",
       "      <th>4</th>\n",
       "      <td>5</td>\n",
       "      <td>3</td>\n",
       "      <td>3</td>\n",
       "      <td>3.0</td>\n",
       "      <td>0.0</td>\n",
       "      <td>0.0</td>\n",
       "      <td>0.0</td>\n",
       "      <td>3.0</td>\n",
       "      <td>0.0</td>\n",
       "      <td>1</td>\n",
       "    </tr>\n",
       "  </tbody>\n",
       "</table>\n",
       "</div>"
      ],
      "text/plain": [
       "   Transaction  Item_Variety  Total_Purchases  morning  afternoon  evening  \\\n",
       "0            1             1                1      1.0        0.0      0.0   \n",
       "1            2             1                2      2.0        0.0      0.0   \n",
       "2            3             3                3      3.0        0.0      0.0   \n",
       "3            4             1                1      1.0        0.0      0.0   \n",
       "4            5             3                3      3.0        0.0      0.0   \n",
       "\n",
       "   night  weekend  weekday  Cluster  \n",
       "0    0.0      1.0      0.0        0  \n",
       "1    0.0      2.0      0.0        0  \n",
       "2    0.0      3.0      0.0        1  \n",
       "3    0.0      1.0      0.0        0  \n",
       "4    0.0      3.0      0.0        1  "
      ]
     },
     "execution_count": 135,
     "metadata": {},
     "output_type": "execute_result"
    }
   ],
   "source": [
    "customer_df.head()"
   ]
  },
  {
   "cell_type": "markdown",
   "id": "4f069fb6-7882-4774-a098-b828723d17c3",
   "metadata": {},
   "source": [
    "## Summary of clusters\n"
   ]
  },
  {
   "cell_type": "code",
   "execution_count": 136,
   "id": "600bdb18-2f46-41f3-88d0-5a3a54a826e9",
   "metadata": {
    "tags": []
   },
   "outputs": [
    {
     "name": "stdout",
     "output_type": "stream",
     "text": [
      "         Transaction  Item_Variety  Total_Purchases   morning  afternoon  \\\n",
      "Cluster                                                                    \n",
      "0        4748.571581      1.397708         1.446142  0.653476   0.749427   \n",
      "1        5185.293245      3.410214         3.855848  1.536244   2.266063   \n",
      "2        4995.930832      3.281946         3.728605  1.325909   2.293669   \n",
      "\n",
      "          evening     night   weekend   weekday  \n",
      "Cluster                                          \n",
      "0        0.041100  0.002139  0.461268  0.984874  \n",
      "1        0.053542  0.000000  3.855848  0.000000  \n",
      "2        0.109027  0.000000  0.000000  3.728605  \n"
     ]
    }
   ],
   "source": [
    "print(customer_df.groupby('Cluster').mean())\n",
    "\n"
   ]
  },
  {
   "cell_type": "markdown",
   "id": "ee627a6e-07d5-4d90-a70a-84faee794e01",
   "metadata": {},
   "source": [
    "## Plot clusters to visualize customer segments\n"
   ]
  },
  {
   "cell_type": "code",
   "execution_count": 137,
   "id": "b1a1b190-273d-4be2-8e50-b38e31d4133d",
   "metadata": {
    "tags": []
   },
   "outputs": [
    {
     "data": {
      "image/png": "[encoded data removed]",
      "text/plain": [
       "<Figure size 1000x600 with 1 Axes>"
      ]
     },
     "metadata": {},
     "output_type": "display_data"
    }
   ],
   "source": [
    "plt.figure(figsize=(10, 6))\n",
    "sns.scatterplot(x='Item_Variety', y='Total_Purchases', hue='Cluster', data=customer_df, palette='viridis')\n",
    "plt.title('Customer Segments Based on Purchasing Behavior')\n",
    "plt.xlabel('Item Variety')\n",
    "plt.ylabel('Total Purchases')\n",
    "plt.show()"
   ]
  },
  {
   "cell_type": "markdown",
   "id": "a6ac7684-1f73-43a4-bf99-3eb3722a29d4",
   "metadata": {},
   "source": [
    "Cluster 0: Customers in this cluster show low overall activity and a limited variety of items purchased. They tend to buy mainly in the afternoon and slightly more on weekdays."
   ]
  },
  {
   "cell_type": "markdown",
   "id": "5054fdcd-38c2-4c71-a311-584ee6b39dda",
   "metadata": {},
   "source": [
    "Cluster 1: This group has the highest item variety and total purchases, buying mostly in the afternoon and spreading their purchases across both weekends and weekdays."
   ]
  },
  {
   "cell_type": "markdown",
   "id": "432b1528-7d80-48b4-a19d-df8e9c2018a2",
   "metadata": {},
   "source": [
    "Cluster 2: Customers in this segment make their purchases exclusively in the morning and slightly favor weekdays over weekends.\n"
   ]
  },
  {
   "cell_type": "markdown",
   "id": "640c6683-6b58-4f1a-a657-fce81bf092ca",
   "metadata": {},
   "source": [
    "These insights can help identify target customer groups for marketing strategies or operational adjustments based on the time of day or day of the week when they’re most active."
   ]
  },
  {
   "cell_type": "code",
   "execution_count": 246,
   "id": "bd776f98-a76c-4c3b-b224-81d2e49910f7",
   "metadata": {
    "tags": []
   },
   "outputs": [
    {
     "data": {
      "text/html": [
       "<div>\n",
       "<style scoped>\n",
       "    .dataframe tbody tr th:only-of-type {\n",
       "        vertical-align: middle;\n",
       "    }\n",
       "\n",
       "    .dataframe tbody tr th {\n",
       "        vertical-align: top;\n",
       "    }\n",
       "\n",
       "    .dataframe thead th {\n",
       "        text-align: right;\n",
       "    }\n",
       "</style>\n",
       "<table border=\"1\" class=\"dataframe\">\n",
       "  <thead>\n",
       "    <tr style=\"text-align: right;\">\n",
       "      <th></th>\n",
       "      <th>Transaction</th>\n",
       "      <th>Item</th>\n",
       "      <th>date_time</th>\n",
       "      <th>period_day</th>\n",
       "      <th>weekday_weekend</th>\n",
       "    </tr>\n",
       "  </thead>\n",
       "  <tbody>\n",
       "    <tr>\n",
       "      <th>0</th>\n",
       "      <td>1</td>\n",
       "      <td>Bread</td>\n",
       "      <td>10/30/2016 9:58</td>\n",
       "      <td>morning</td>\n",
       "      <td>weekend</td>\n",
       "    </tr>\n",
       "    <tr>\n",
       "      <th>1</th>\n",
       "      <td>2</td>\n",
       "      <td>Scandinavian</td>\n",
       "      <td>10/30/2016 10:05</td>\n",
       "      <td>morning</td>\n",
       "      <td>weekend</td>\n",
       "    </tr>\n",
       "  </tbody>\n",
       "</table>\n",
       "</div>"
      ],
      "text/plain": [
       "   Transaction          Item         date_time period_day weekday_weekend\n",
       "0            1         Bread   10/30/2016 9:58    morning         weekend\n",
       "1            2  Scandinavian  10/30/2016 10:05    morning         weekend"
      ]
     },
     "execution_count": 246,
     "metadata": {},
     "output_type": "execute_result"
    }
   ],
   "source": [
    "bakery_df.head(2)"
   ]
  },
  {
   "cell_type": "markdown",
   "id": "33f3b912-9639-4457-9106-2ed09cef1318",
   "metadata": {},
   "source": [
    "## Creating a Recommendation system, I clustered customers into three distinct groups to target our advertising based on their purchasing behavior."
   ]
  },
  {
   "cell_type": "code",
   "execution_count": 163,
   "id": "66e77fe2-11b8-4b12-a190-4fc8d71122b6",
   "metadata": {
    "tags": []
   },
   "outputs": [
    {
     "name": "stdout",
     "output_type": "stream",
     "text": [
      "Recommended items for customer 4806: ['Coffee']\n",
      "      Transaction  Cluster                                 Marketing_Strategy\n",
      "0               1        0  Promote weekday afternoon bundles with low-ite...\n",
      "1               2        2  Target with weekday morning offers on high-fre...\n",
      "2               3        2  Target with weekday morning offers on high-fre...\n",
      "3               4        2  Target with weekday morning offers on high-fre...\n",
      "4               5        0  Promote weekday afternoon bundles with low-ite...\n",
      "...           ...      ...                                                ...\n",
      "9460         9680        0  Promote weekday afternoon bundles with low-ite...\n",
      "9461         9681        2  Target with weekday morning offers on high-fre...\n",
      "9462         9682        1  Offer personalized discounts on high-variety p...\n",
      "9463         9683        1  Offer personalized discounts on high-variety p...\n",
      "9464         9684        2  Target with weekday morning offers on high-fre...\n",
      "\n",
      "[9465 rows x 3 columns]\n"
     ]
    }
   ],
   "source": [
    "# Creating a user-item matrix for Collaborative Filtering\n",
    "user_item_matrix = bakery_df.pivot_table(index='Transaction', columns='Item', aggfunc='size', fill_value=0)\n",
    "\n",
    "# Running a clustering model, KMeans\n",
    "kmeans = KMeans(n_clusters=3, random_state=42)\n",
    "customer_clusters = kmeans.fit_predict(user_item_matrix)\n",
    "\n",
    "# Creating customer_features DataFrame\n",
    "customer_features = pd.DataFrame({\n",
    "    'Transaction': user_item_matrix.index,\n",
    "    'Cluster': customer_clusters\n",
    "})\n",
    "\n",
    "# Function for recommending items using Collaborative Filtering\n",
    "def get_recommendations(transaction_id, num_recommendations=5):\n",
    "    # Customer's cluster\n",
    "    customer_cluster = customer_features[customer_features['Transaction'] == transaction_id]['Cluster'].values[0]\n",
    "\n",
    "    # Filtering customers within the same cluster\n",
    "    same_cluster_customers = customer_features[customer_features['Cluster'] == customer_cluster]['Transaction']\n",
    "    cluster_matrix = user_item_matrix.loc[same_cluster_customers]\n",
    "\n",
    "    # Fit Nearest Neighbors model for Collaborative Filtering\n",
    "    knn = NearestNeighbors(metric='cosine', algorithm='brute')\n",
    "    knn.fit(cluster_matrix)\n",
    "\n",
    "    # Find nearest neighbors for the specific customer\n",
    "    distances, indices = knn.kneighbors(cluster_matrix.loc[[transaction_id]], n_neighbors=num_recommendations+1)\n",
    "    recommended_items = []\n",
    "\n",
    "    for i in range(1, len(distances.flatten())):  # Skip first index (itself)\n",
    "        similar_customer = cluster_matrix.index[indices.flatten()[i]]\n",
    "        recommended_items.extend(cluster_matrix.loc[similar_customer][cluster_matrix.loc[similar_customer] > 0].index)\n",
    "\n",
    "    # Return unique recommendations\n",
    "    return list(set(recommended_items))\n",
    "\n",
    "# Example of getting recommendations for a specific customer\n",
    "transaction_id = 4806  # Example transaction ID\n",
    "recommendations = get_recommendations(transaction_id, num_recommendations=5)\n",
    "print(f\"Recommended items for customer {transaction_id}: {recommendations}\")\n",
    "\n",
    "# Marketing Strategy Development Based on Segments\n",
    "def marketing_strategy(cluster_id):\n",
    "    if cluster_id == 0:\n",
    "        return \"Promote weekday afternoon bundles with low-item variety\"\n",
    "    elif cluster_id == 1:\n",
    "        return \"Offer personalized discounts on high-variety products on weekends and weekdays\"\n",
    "    elif cluster_id == 2:\n",
    "        return \"Target with weekday morning offers on high-frequency items\"\n",
    "\n",
    "# Assign a marketing strategy to each cluster\n",
    "customer_features['Marketing_Strategy'] = customer_features['Cluster'].apply(marketing_strategy)\n",
    "\n",
    "# Display marketing strategies per cluster\n",
    "print(customer_features[['Transaction', 'Cluster', 'Marketing_Strategy']])"
   ]
  },
  {
   "cell_type": "markdown",
   "id": "6eb64ecf-4179-412c-962f-42db5d247dce",
   "metadata": {},
   "source": [
    "Project Summary: Bakery Sales and Customer Segmentation Analysis\n",
    "\n",
    "In this project, I performed an in-depth analysis of a bakery’s sales data, focusing on data cleaning, exploratory analysis, clustering, and building a recommendation system. My approach utilized a range of data manipulation, visualization, and machine learning techniques, highlighting my skills in data wrangling, feature engineering, and clustering analysis. Here is a summary of the key steps:\n",
    "\n",
    "\t1.\tData Cleaning and Preprocessing:\n",
    "\t•\tLoaded the dataset using pandas and cleaned column names for accessibility.\n",
    "\t•\tStandardized text data by converting column values to lowercase, making them uniform and easier to read.\n",
    "\t•\tFormatted the date_time column to a desired date format and handled missing values and duplicates, ensuring a clean dataset.\n",
    "\t•\tReset the index for improved data accessibility and readability.\n",
    "\t2.\tExploratory Data Analysis (EDA):\n",
    "\t•\tAnalyzed the busiest and most profitable periods of the day, using sales data to identify peak hours for the bakery.\n",
    "\t•\tConducted an analysis on weekday vs. weekend performance to understand customer behavior based on the day of the week.\n",
    "\t•\tUsed item frequency analysis to identify the most popular products.\n",
    "\t•\tCreated a product_id column from product_name for better handling of product references in calculations.\n",
    "\t•\tApplied label encoding to explore potential correlations between columns and checked for variance to understand data dispersion.\n",
    "\t•\tVisualized insights using seaborn and matplotlib, including bar charts for item sales by time period and box plots to detect outliers.\n",
    "\t3.\tCustomer Segmentation Using K-Means Clustering:\n",
    "\t•\tGrouped data by item and daytime to analyze item sales patterns across different periods of the day.\n",
    "\t•\tCreated a stacked bar plot to visualize item sales distribution across different periods.\n",
    "\t•\tImplemented the K-Means algorithm for customer segmentation, applying the elbow method to determine the optimal number of clusters.\n",
    "\t•\tSegmented customers into three clusters based on purchasing behavior, enabling targeted marketing strategies.\n",
    "\t4.\tRecommendation System:\n",
    "\t•\tDeveloped a recommendation system using collaborative filtering, clustering customers to offer personalized recommendations based on purchasing patterns.\n",
    "\t•\tSegmented customers into three groups to enable targeted advertising based on their specific purchasing behaviors.\n",
    "\t5.\tLibraries and Tools:\n",
    "\t•\tUtilized a diverse set of Python libraries, including:\n",
    "\t•\tpandas for data manipulation,\n",
    "\t•\tseaborn and matplotlib for data visualization,\n",
    "\t•\tnumpy for numerical operations,\n",
    "\t•\tsklearn for clustering (K-Means) and recommendation modeling (Nearest Neighbors).\n",
    "\n",
    "This project demonstrates my ability to handle the end-to-end data analysis process, from data cleaning and exploration to advanced analytics, including customer segmentation and recommendation systems. By leveraging these techniques, I provided actionable insights that could help the bakery optimize sales strategies and enhance customer engagement through targeted marketing."
   ]
  },
  {
   "cell_type": "code",
   "execution_count": null,
   "id": "9901ee7f-7f22-453a-9286-8cc69f9960e4",
   "metadata": {},
   "outputs": [],
   "source": []
  }
 ],
 "metadata": {
  "kernelspec": {
   "display_name": "Python 3 (ipykernel)",
   "language": "python",
   "name": "python3"
  },
  "language_info": {
   "codemirror_mode": {
    "name": "ipython",
    "version": 3
   },
   "file_extension": ".py",
   "mimetype": "text/x-python",
   "name": "python",
   "nbconvert_exporter": "python",
   "pygments_lexer": "ipython3",
   "version": "3.11.5"
  }
 },
 "nbformat": 4,
 "nbformat_minor": 5
}
